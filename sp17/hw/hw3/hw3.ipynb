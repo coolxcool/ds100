{
 "cells": [
  {
   "cell_type": "markdown",
   "metadata": {},
   "source": [
    "# Homework 3: Data Wrangling and Exploratory Data Analysis"
   ]
  },
  {
   "cell_type": "markdown",
   "metadata": {},
   "source": [
    "Ta-Feng is a retail warehouse in Taiwan that mainly sells food-products though it stocks some office and home products.  Like Costco and Sam's Club, it operates on a club structure wherein people buy a membership to gain access to the store.  As a result, purchases can be traced to specific customers.  In this homework, we will use this database to practice data wrangling, exploratory data analysis, and visualization.\n",
    "\n",
    "Throughout the assignment, make sure that each plot has meaningful labels that characterize the variable represented and its units."
   ]
  },
  {
   "cell_type": "markdown",
   "metadata": {},
   "source": [
    "# Setup"
   ]
  },
  {
   "cell_type": "code",
   "execution_count": 7,
   "metadata": {
    "collapsed": false
   },
   "outputs": [
    {
     "name": "stdout",
     "output_type": "stream",
     "text": [
      "=====================================================================\n",
      "Assignment: Homework 3\n",
      "OK, version v1.11.1\n",
      "=====================================================================\n",
      "\n"
     ]
    }
   ],
   "source": [
    "# Run this cell to set up the notebook, but please don't change it.\n",
    "\n",
    "# These lines import the Numpy, Datascience, pandas modules.\n",
    "import numpy as np\n",
    "import pandas as pd\n",
    "import seaborn as sns\n",
    "\n",
    "# These lines do some fancy plotting magic.\n",
    "import matplotlib\n",
    "%matplotlib inline\n",
    "import matplotlib.pyplot as plt\n",
    "plt.style.use('fivethirtyeight')\n",
    "import warnings\n",
    "warnings.simplefilter('ignore', FutureWarning)\n",
    "\n",
    "# These lines load the tests.\n",
    "from client.api.notebook import Notebook\n",
    "ok = Notebook('hw3.ok')"
   ]
  },
  {
   "cell_type": "markdown",
   "metadata": {},
   "source": [
    "# Importing Data\n",
    "\n",
    "In this section, we run through some problems that you might face as you go through the innocuous-sounding process of \"importing data.\"  We also have you process some variables that aren't in the most user-friendly form."
   ]
  },
  {
   "cell_type": "markdown",
   "metadata": {},
   "source": [
    "### Age Classes\n",
    "We'll start by looking at `age_classes.txt`, which is a lookup table for our main Ta Feng table."
   ]
  },
  {
   "cell_type": "code",
   "execution_count": 8,
   "metadata": {
    "collapsed": false
   },
   "outputs": [
    {
     "name": "stdout",
     "output_type": "stream",
     "text": [
      "A 0-25\r\n",
      "B 25-29\r\n",
      "C 30-34\r\n",
      "D 35-39\r\n",
      "E 40-44\r\n",
      "F 45-49\r\n",
      "G 50-54\r\n",
      "H 55-59\r\n",
      "I 60-64\r\n",
      "J 65-120"
     ]
    }
   ],
   "source": [
    "!head \"age_classes.txt\""
   ]
  },
  {
   "cell_type": "code",
   "execution_count": 9,
   "metadata": {},
   "outputs": [
    {
     "name": "stdout",
     "output_type": "stream",
     "text": [
      "b'A 0-25\\nB 2'\n"
     ]
    }
   ],
   "source": [
    "with open(\"age_classes.txt\", \"rb\") as f:\n",
    "    print(f.read(10))"
   ]
  },
  {
   "cell_type": "markdown",
   "metadata": {},
   "source": [
    "#### Question 1\n",
    "What is the delimiter used in this file?"
   ]
  },
  {
   "cell_type": "markdown",
   "metadata": {},
   "source": [
    "space is used for fields and newline is used between lines"
   ]
  },
  {
   "cell_type": "markdown",
   "metadata": {},
   "source": [
    "Let's read in `age_classes.txt` as a data frame called `age_classes`.  Use the column names provided below."
   ]
  },
  {
   "cell_type": "code",
   "execution_count": 10,
   "metadata": {
    "collapsed": false,
    "for_assignment_type": "student"
   },
   "outputs": [
    {
     "data": {
      "text/html": [
       "<div>\n",
       "<style>\n",
       "    .dataframe thead tr:only-child th {\n",
       "        text-align: right;\n",
       "    }\n",
       "\n",
       "    .dataframe thead th {\n",
       "        text-align: left;\n",
       "    }\n",
       "\n",
       "    .dataframe tbody tr th {\n",
       "        vertical-align: top;\n",
       "    }\n",
       "</style>\n",
       "<table border=\"1\" class=\"dataframe\">\n",
       "  <thead>\n",
       "    <tr style=\"text-align: right;\">\n",
       "      <th></th>\n",
       "      <th>code</th>\n",
       "      <th>age_range</th>\n",
       "    </tr>\n",
       "  </thead>\n",
       "  <tbody>\n",
       "    <tr>\n",
       "      <th>0</th>\n",
       "      <td>A</td>\n",
       "      <td>0-25</td>\n",
       "    </tr>\n",
       "    <tr>\n",
       "      <th>1</th>\n",
       "      <td>B</td>\n",
       "      <td>25-29</td>\n",
       "    </tr>\n",
       "    <tr>\n",
       "      <th>2</th>\n",
       "      <td>C</td>\n",
       "      <td>30-34</td>\n",
       "    </tr>\n",
       "    <tr>\n",
       "      <th>3</th>\n",
       "      <td>D</td>\n",
       "      <td>35-39</td>\n",
       "    </tr>\n",
       "    <tr>\n",
       "      <th>4</th>\n",
       "      <td>E</td>\n",
       "      <td>40-44</td>\n",
       "    </tr>\n",
       "    <tr>\n",
       "      <th>5</th>\n",
       "      <td>F</td>\n",
       "      <td>45-49</td>\n",
       "    </tr>\n",
       "    <tr>\n",
       "      <th>6</th>\n",
       "      <td>G</td>\n",
       "      <td>50-54</td>\n",
       "    </tr>\n",
       "    <tr>\n",
       "      <th>7</th>\n",
       "      <td>H</td>\n",
       "      <td>55-59</td>\n",
       "    </tr>\n",
       "    <tr>\n",
       "      <th>8</th>\n",
       "      <td>I</td>\n",
       "      <td>60-64</td>\n",
       "    </tr>\n",
       "    <tr>\n",
       "      <th>9</th>\n",
       "      <td>J</td>\n",
       "      <td>65-120</td>\n",
       "    </tr>\n",
       "  </tbody>\n",
       "</table>\n",
       "</div>"
      ],
      "text/plain": [
       "  code age_range\n",
       "0    A      0-25\n",
       "1    B     25-29\n",
       "2    C     30-34\n",
       "3    D     35-39\n",
       "4    E     40-44\n",
       "5    F     45-49\n",
       "6    G     50-54\n",
       "7    H     55-59\n",
       "8    I     60-64\n",
       "9    J    65-120"
      ]
     },
     "execution_count": 10,
     "metadata": {},
     "output_type": "execute_result"
    }
   ],
   "source": [
    "age_class_columns = ['code', 'age_range']\n",
    "age_classes = pd.read_csv('age_classes.txt',  sep=\" \",\n",
    "                          header=None, names=age_class_columns)\n",
    "age_classes"
   ]
  },
  {
   "cell_type": "markdown",
   "metadata": {},
   "source": [
    "#### Question 2\n",
    "What type of variable is `age_range`? Continuous, discrete, nominal, ordinal or other?  Make sure the type of `age_range` in the data frame `age_classes` matches your answer."
   ]
  },
  {
   "cell_type": "markdown",
   "metadata": {},
   "source": [
    "It's an ordinal variable stored in string"
   ]
  },
  {
   "cell_type": "code",
   "execution_count": 11,
   "metadata": {
    "collapsed": false
   },
   "outputs": [
    {
     "data": {
      "text/plain": [
       "code           object\n",
       "age_range    category\n",
       "dtype: object"
      ]
     },
     "execution_count": 11,
     "metadata": {},
     "output_type": "execute_result"
    }
   ],
   "source": [
    "age_classes.age_range = age_classes.age_range.astype(\"category\")\n",
    "age_classes.dtypes"
   ]
  },
  {
   "cell_type": "code",
   "execution_count": 12,
   "metadata": {
    "collapsed": false
   },
   "outputs": [
    {
     "name": "stdout",
     "output_type": "stream",
     "text": [
      "~~~~~~~~~~~~~~~~~~~~~~~~~~~~~~~~~~~~~~~~~~~~~~~~~~~~~~~~~~~~~~~~~~~~~\n",
      "Running tests\n",
      "\n",
      "---------------------------------------------------------------------\n",
      "Test summary\n",
      "    Passed: 1\n",
      "    Failed: 0\n",
      "[ooooooooook] 100.0% passed\n",
      "\n"
     ]
    },
    {
     "data": {
      "application/javascript": [
       "IPython.notebook.save_checkpoint();"
      ],
      "text/plain": [
       "<IPython.core.display.Javascript object>"
      ]
     },
     "metadata": {},
     "output_type": "display_data"
    },
    {
     "data": {
      "application/javascript": [
       "IPython.notebook.save_notebook();"
      ],
      "text/plain": [
       "<IPython.core.display.Javascript object>"
      ]
     },
     "metadata": {},
     "output_type": "display_data"
    },
    {
     "name": "stdout",
     "output_type": "stream",
     "text": [
      "Saving notebook... Could not save your notebook. Make sure your notebook is saved before sending it to OK!\n",
      "Backup... 0.0% complete\r",
      "Backup... 100% complete\n",
      "Backup successful for user: doomsplayer@gmail.com\n",
      "\n"
     ]
    }
   ],
   "source": [
    "_ = ok.grade('q02')\n",
    "_ = ok.backup()"
   ]
  },
  {
   "cell_type": "markdown",
   "metadata": {},
   "source": [
    "#### Question 3\n",
    "\n",
    "Perhaps at some point we would like to work with the age data numerically.  Derive two numerical columns from `age_range` called `age_min` and `age_max`, which contain the left and right endpoints of `age_range`, respectively."
   ]
  },
  {
   "cell_type": "code",
   "execution_count": 13,
   "metadata": {},
   "outputs": [],
   "source": [
    "splited = age_classes.age_range.str.split(\"-\")"
   ]
  },
  {
   "cell_type": "code",
   "execution_count": 14,
   "metadata": {},
   "outputs": [],
   "source": [
    "age_classes[\"age_min\"] = splited.map(lambda x: int(x[0]))\n",
    "age_classes[\"age_max\"] = splited.map(lambda x: int(x[1]))"
   ]
  },
  {
   "cell_type": "code",
   "execution_count": 15,
   "metadata": {},
   "outputs": [
    {
     "data": {
      "text/html": [
       "<div>\n",
       "<style>\n",
       "    .dataframe thead tr:only-child th {\n",
       "        text-align: right;\n",
       "    }\n",
       "\n",
       "    .dataframe thead th {\n",
       "        text-align: left;\n",
       "    }\n",
       "\n",
       "    .dataframe tbody tr th {\n",
       "        vertical-align: top;\n",
       "    }\n",
       "</style>\n",
       "<table border=\"1\" class=\"dataframe\">\n",
       "  <thead>\n",
       "    <tr style=\"text-align: right;\">\n",
       "      <th></th>\n",
       "      <th>code</th>\n",
       "      <th>age_range</th>\n",
       "      <th>age_min</th>\n",
       "      <th>age_max</th>\n",
       "    </tr>\n",
       "  </thead>\n",
       "  <tbody>\n",
       "    <tr>\n",
       "      <th>0</th>\n",
       "      <td>A</td>\n",
       "      <td>0-25</td>\n",
       "      <td>0</td>\n",
       "      <td>25</td>\n",
       "    </tr>\n",
       "    <tr>\n",
       "      <th>1</th>\n",
       "      <td>B</td>\n",
       "      <td>25-29</td>\n",
       "      <td>25</td>\n",
       "      <td>29</td>\n",
       "    </tr>\n",
       "    <tr>\n",
       "      <th>2</th>\n",
       "      <td>C</td>\n",
       "      <td>30-34</td>\n",
       "      <td>30</td>\n",
       "      <td>34</td>\n",
       "    </tr>\n",
       "    <tr>\n",
       "      <th>3</th>\n",
       "      <td>D</td>\n",
       "      <td>35-39</td>\n",
       "      <td>35</td>\n",
       "      <td>39</td>\n",
       "    </tr>\n",
       "    <tr>\n",
       "      <th>4</th>\n",
       "      <td>E</td>\n",
       "      <td>40-44</td>\n",
       "      <td>40</td>\n",
       "      <td>44</td>\n",
       "    </tr>\n",
       "    <tr>\n",
       "      <th>5</th>\n",
       "      <td>F</td>\n",
       "      <td>45-49</td>\n",
       "      <td>45</td>\n",
       "      <td>49</td>\n",
       "    </tr>\n",
       "    <tr>\n",
       "      <th>6</th>\n",
       "      <td>G</td>\n",
       "      <td>50-54</td>\n",
       "      <td>50</td>\n",
       "      <td>54</td>\n",
       "    </tr>\n",
       "    <tr>\n",
       "      <th>7</th>\n",
       "      <td>H</td>\n",
       "      <td>55-59</td>\n",
       "      <td>55</td>\n",
       "      <td>59</td>\n",
       "    </tr>\n",
       "    <tr>\n",
       "      <th>8</th>\n",
       "      <td>I</td>\n",
       "      <td>60-64</td>\n",
       "      <td>60</td>\n",
       "      <td>64</td>\n",
       "    </tr>\n",
       "    <tr>\n",
       "      <th>9</th>\n",
       "      <td>J</td>\n",
       "      <td>65-120</td>\n",
       "      <td>65</td>\n",
       "      <td>120</td>\n",
       "    </tr>\n",
       "  </tbody>\n",
       "</table>\n",
       "</div>"
      ],
      "text/plain": [
       "  code age_range  age_min  age_max\n",
       "0    A      0-25        0       25\n",
       "1    B     25-29       25       29\n",
       "2    C     30-34       30       34\n",
       "3    D     35-39       35       39\n",
       "4    E     40-44       40       44\n",
       "5    F     45-49       45       49\n",
       "6    G     50-54       50       54\n",
       "7    H     55-59       55       59\n",
       "8    I     60-64       60       64\n",
       "9    J    65-120       65      120"
      ]
     },
     "execution_count": 15,
     "metadata": {},
     "output_type": "execute_result"
    }
   ],
   "source": [
    "age_classes"
   ]
  },
  {
   "cell_type": "code",
   "execution_count": 16,
   "metadata": {
    "collapsed": false
   },
   "outputs": [
    {
     "name": "stdout",
     "output_type": "stream",
     "text": [
      "~~~~~~~~~~~~~~~~~~~~~~~~~~~~~~~~~~~~~~~~~~~~~~~~~~~~~~~~~~~~~~~~~~~~~\n",
      "Running tests\n",
      "\n",
      "---------------------------------------------------------------------\n",
      "Test summary\n",
      "    Passed: 2\n",
      "    Failed: 0\n",
      "[ooooooooook] 100.0% passed\n",
      "\n"
     ]
    },
    {
     "data": {
      "application/javascript": [
       "IPython.notebook.save_checkpoint();"
      ],
      "text/plain": [
       "<IPython.core.display.Javascript object>"
      ]
     },
     "metadata": {},
     "output_type": "display_data"
    },
    {
     "data": {
      "application/javascript": [
       "IPython.notebook.save_notebook();"
      ],
      "text/plain": [
       "<IPython.core.display.Javascript object>"
      ]
     },
     "metadata": {},
     "output_type": "display_data"
    },
    {
     "name": "stdout",
     "output_type": "stream",
     "text": [
      "Saving notebook... Could not save your notebook. Make sure your notebook is saved before sending it to OK!\n",
      "Backup... 0.0% complete\r",
      "Backup... 100% complete\n",
      "Backup successful for user: doomsplayer@gmail.com\n",
      "\n"
     ]
    }
   ],
   "source": [
    "_ = ok.grade('q03')\n",
    "_ = ok.backup()"
   ]
  },
  {
   "cell_type": "markdown",
   "metadata": {},
   "source": [
    "#### Question 4\n",
    "To have a single column representing age, we could reduce the two endpoints to a single number.  Compute an additional `age_center` attribute that is equal to the midpoint of `age_range`."
   ]
  },
  {
   "cell_type": "code",
   "execution_count": null,
   "metadata": {},
   "outputs": [],
   "source": []
  },
  {
   "cell_type": "code",
   "execution_count": 17,
   "metadata": {},
   "outputs": [
    {
     "data": {
      "text/plain": [
       "0     25\n",
       "1     54\n",
       "2     64\n",
       "3     74\n",
       "4     84\n",
       "5     94\n",
       "6    104\n",
       "7    114\n",
       "8    124\n",
       "9    185\n",
       "Name: age_max, dtype: int64"
      ]
     },
     "execution_count": 17,
     "metadata": {},
     "output_type": "execute_result"
    }
   ],
   "source": [
    "(age_classes.age_min.data + age_classes.age_max)"
   ]
  },
  {
   "cell_type": "code",
   "execution_count": 18,
   "metadata": {
    "collapsed": false
   },
   "outputs": [
    {
     "data": {
      "text/html": [
       "<div>\n",
       "<style>\n",
       "    .dataframe thead tr:only-child th {\n",
       "        text-align: right;\n",
       "    }\n",
       "\n",
       "    .dataframe thead th {\n",
       "        text-align: left;\n",
       "    }\n",
       "\n",
       "    .dataframe tbody tr th {\n",
       "        vertical-align: top;\n",
       "    }\n",
       "</style>\n",
       "<table border=\"1\" class=\"dataframe\">\n",
       "  <thead>\n",
       "    <tr style=\"text-align: right;\">\n",
       "      <th></th>\n",
       "      <th>code</th>\n",
       "      <th>age_range</th>\n",
       "      <th>age_min</th>\n",
       "      <th>age_max</th>\n",
       "      <th>age_center</th>\n",
       "    </tr>\n",
       "  </thead>\n",
       "  <tbody>\n",
       "    <tr>\n",
       "      <th>0</th>\n",
       "      <td>A</td>\n",
       "      <td>0-25</td>\n",
       "      <td>0</td>\n",
       "      <td>25</td>\n",
       "      <td>12.5</td>\n",
       "    </tr>\n",
       "    <tr>\n",
       "      <th>1</th>\n",
       "      <td>B</td>\n",
       "      <td>25-29</td>\n",
       "      <td>25</td>\n",
       "      <td>29</td>\n",
       "      <td>27.0</td>\n",
       "    </tr>\n",
       "    <tr>\n",
       "      <th>2</th>\n",
       "      <td>C</td>\n",
       "      <td>30-34</td>\n",
       "      <td>30</td>\n",
       "      <td>34</td>\n",
       "      <td>32.0</td>\n",
       "    </tr>\n",
       "    <tr>\n",
       "      <th>3</th>\n",
       "      <td>D</td>\n",
       "      <td>35-39</td>\n",
       "      <td>35</td>\n",
       "      <td>39</td>\n",
       "      <td>37.0</td>\n",
       "    </tr>\n",
       "    <tr>\n",
       "      <th>4</th>\n",
       "      <td>E</td>\n",
       "      <td>40-44</td>\n",
       "      <td>40</td>\n",
       "      <td>44</td>\n",
       "      <td>42.0</td>\n",
       "    </tr>\n",
       "    <tr>\n",
       "      <th>5</th>\n",
       "      <td>F</td>\n",
       "      <td>45-49</td>\n",
       "      <td>45</td>\n",
       "      <td>49</td>\n",
       "      <td>47.0</td>\n",
       "    </tr>\n",
       "    <tr>\n",
       "      <th>6</th>\n",
       "      <td>G</td>\n",
       "      <td>50-54</td>\n",
       "      <td>50</td>\n",
       "      <td>54</td>\n",
       "      <td>52.0</td>\n",
       "    </tr>\n",
       "    <tr>\n",
       "      <th>7</th>\n",
       "      <td>H</td>\n",
       "      <td>55-59</td>\n",
       "      <td>55</td>\n",
       "      <td>59</td>\n",
       "      <td>57.0</td>\n",
       "    </tr>\n",
       "    <tr>\n",
       "      <th>8</th>\n",
       "      <td>I</td>\n",
       "      <td>60-64</td>\n",
       "      <td>60</td>\n",
       "      <td>64</td>\n",
       "      <td>62.0</td>\n",
       "    </tr>\n",
       "    <tr>\n",
       "      <th>9</th>\n",
       "      <td>J</td>\n",
       "      <td>65-120</td>\n",
       "      <td>65</td>\n",
       "      <td>120</td>\n",
       "      <td>92.5</td>\n",
       "    </tr>\n",
       "  </tbody>\n",
       "</table>\n",
       "</div>"
      ],
      "text/plain": [
       "  code age_range  age_min  age_max  age_center\n",
       "0    A      0-25        0       25        12.5\n",
       "1    B     25-29       25       29        27.0\n",
       "2    C     30-34       30       34        32.0\n",
       "3    D     35-39       35       39        37.0\n",
       "4    E     40-44       40       44        42.0\n",
       "5    F     45-49       45       49        47.0\n",
       "6    G     50-54       50       54        52.0\n",
       "7    H     55-59       55       59        57.0\n",
       "8    I     60-64       60       64        62.0\n",
       "9    J    65-120       65      120        92.5"
      ]
     },
     "execution_count": 18,
     "metadata": {},
     "output_type": "execute_result"
    }
   ],
   "source": [
    "age_classes[\"age_center\"] = (age_classes[\"age_min\"] + age_classes[\"age_max\"]).astype(\"int\")/2\n",
    "age_classes"
   ]
  },
  {
   "cell_type": "code",
   "execution_count": 19,
   "metadata": {
    "collapsed": false
   },
   "outputs": [
    {
     "name": "stdout",
     "output_type": "stream",
     "text": [
      "~~~~~~~~~~~~~~~~~~~~~~~~~~~~~~~~~~~~~~~~~~~~~~~~~~~~~~~~~~~~~~~~~~~~~\n",
      "Running tests\n",
      "\n",
      "---------------------------------------------------------------------\n",
      "Test summary\n",
      "    Passed: 1\n",
      "    Failed: 0\n",
      "[ooooooooook] 100.0% passed\n",
      "\n"
     ]
    },
    {
     "data": {
      "application/javascript": [
       "IPython.notebook.save_checkpoint();"
      ],
      "text/plain": [
       "<IPython.core.display.Javascript object>"
      ]
     },
     "metadata": {},
     "output_type": "display_data"
    },
    {
     "data": {
      "application/javascript": [
       "IPython.notebook.save_notebook();"
      ],
      "text/plain": [
       "<IPython.core.display.Javascript object>"
      ]
     },
     "metadata": {},
     "output_type": "display_data"
    },
    {
     "name": "stdout",
     "output_type": "stream",
     "text": [
      "Saving notebook... Could not save your notebook. Make sure your notebook is saved before sending it to OK!\n",
      "Backup... 0.0% complete\r",
      "Backup... 100% complete\n",
      "Backup successful for user: doomsplayer@gmail.com\n",
      "\n"
     ]
    }
   ],
   "source": [
    "_ = ok.grade('q04')\n",
    "_ = ok.backup()"
   ]
  },
  {
   "cell_type": "markdown",
   "metadata": {},
   "source": [
    "### Residence Area"
   ]
  },
  {
   "cell_type": "markdown",
   "metadata": {},
   "source": [
    "Now inspect `residence_area.txt` in your terminal window.  We'll read in the data in the next cell."
   ]
  },
  {
   "cell_type": "code",
   "execution_count": 20,
   "metadata": {
    "collapsed": false
   },
   "outputs": [
    {
     "name": "stdout",
     "output_type": "stream",
     "text": [
      "A: 105\r\n",
      "B: 106\r\n",
      "C: 110\r\n",
      "D: 114\r\n",
      "E: 115\r\n",
      "F: 221\r\n",
      "G: others\r\n",
      "H: unknown\r\n"
     ]
    }
   ],
   "source": [
    "!head \"residence_area.txt\""
   ]
  },
  {
   "cell_type": "code",
   "execution_count": 21,
   "metadata": {
    "collapsed": false
   },
   "outputs": [],
   "source": [
    "# If you use a single character delimiter, it uses the faster engine ... \n",
    "residence_areas = pd.read_csv('residence_area.txt', \n",
    "                              delimiter=':',\n",
    "                              header=None, \n",
    "                              names=['code','area'])\n",
    "# Need to remove the leading whitespace\n",
    "residence_areas['area'] = residence_areas['area'].str.strip()"
   ]
  },
  {
   "cell_type": "code",
   "execution_count": 22,
   "metadata": {},
   "outputs": [
    {
     "data": {
      "text/html": [
       "<div>\n",
       "<style>\n",
       "    .dataframe thead tr:only-child th {\n",
       "        text-align: right;\n",
       "    }\n",
       "\n",
       "    .dataframe thead th {\n",
       "        text-align: left;\n",
       "    }\n",
       "\n",
       "    .dataframe tbody tr th {\n",
       "        vertical-align: top;\n",
       "    }\n",
       "</style>\n",
       "<table border=\"1\" class=\"dataframe\">\n",
       "  <thead>\n",
       "    <tr style=\"text-align: right;\">\n",
       "      <th></th>\n",
       "      <th>code</th>\n",
       "      <th>area</th>\n",
       "    </tr>\n",
       "  </thead>\n",
       "  <tbody>\n",
       "    <tr>\n",
       "      <th>0</th>\n",
       "      <td>A</td>\n",
       "      <td>105</td>\n",
       "    </tr>\n",
       "    <tr>\n",
       "      <th>1</th>\n",
       "      <td>B</td>\n",
       "      <td>106</td>\n",
       "    </tr>\n",
       "    <tr>\n",
       "      <th>2</th>\n",
       "      <td>C</td>\n",
       "      <td>110</td>\n",
       "    </tr>\n",
       "    <tr>\n",
       "      <th>3</th>\n",
       "      <td>D</td>\n",
       "      <td>114</td>\n",
       "    </tr>\n",
       "    <tr>\n",
       "      <th>4</th>\n",
       "      <td>E</td>\n",
       "      <td>115</td>\n",
       "    </tr>\n",
       "    <tr>\n",
       "      <th>5</th>\n",
       "      <td>F</td>\n",
       "      <td>221</td>\n",
       "    </tr>\n",
       "    <tr>\n",
       "      <th>6</th>\n",
       "      <td>G</td>\n",
       "      <td>others</td>\n",
       "    </tr>\n",
       "    <tr>\n",
       "      <th>7</th>\n",
       "      <td>H</td>\n",
       "      <td>unknown</td>\n",
       "    </tr>\n",
       "  </tbody>\n",
       "</table>\n",
       "</div>"
      ],
      "text/plain": [
       "  code     area\n",
       "0    A      105\n",
       "1    B      106\n",
       "2    C      110\n",
       "3    D      114\n",
       "4    E      115\n",
       "5    F      221\n",
       "6    G   others\n",
       "7    H  unknown"
      ]
     },
     "execution_count": 22,
     "metadata": {},
     "output_type": "execute_result"
    }
   ],
   "source": [
    "residence_areas"
   ]
  },
  {
   "cell_type": "markdown",
   "metadata": {},
   "source": [
    "#### Question 5\n",
    "The `README.TXT` file contains more information about the postal codes that is not immediately obvious if you just look at `residence area.txt`.  Now that we have information that adds context to our data, we might want to add it to the lookup table.  Create a new column `dist_rank` that encodes the information as ranks.  Code missing values as `np.nan`."
   ]
  },
  {
   "cell_type": "code",
   "execution_count": 23,
   "metadata": {
    "collapsed": false
   },
   "outputs": [],
   "source": [
    "residence_areas[\"dist_rank\"] = [4, 5, 6, 3, 1, 2, np.nan, np.nan]"
   ]
  },
  {
   "cell_type": "code",
   "execution_count": 24,
   "metadata": {
    "collapsed": false
   },
   "outputs": [
    {
     "name": "stdout",
     "output_type": "stream",
     "text": [
      "~~~~~~~~~~~~~~~~~~~~~~~~~~~~~~~~~~~~~~~~~~~~~~~~~~~~~~~~~~~~~~~~~~~~~\n",
      "Running tests\n",
      "\n",
      "---------------------------------------------------------------------\n",
      "Test summary\n",
      "    Passed: 2\n",
      "    Failed: 0\n",
      "[ooooooooook] 100.0% passed\n",
      "\n"
     ]
    },
    {
     "data": {
      "application/javascript": [
       "IPython.notebook.save_checkpoint();"
      ],
      "text/plain": [
       "<IPython.core.display.Javascript object>"
      ]
     },
     "metadata": {},
     "output_type": "display_data"
    },
    {
     "data": {
      "application/javascript": [
       "IPython.notebook.save_notebook();"
      ],
      "text/plain": [
       "<IPython.core.display.Javascript object>"
      ]
     },
     "metadata": {},
     "output_type": "display_data"
    },
    {
     "name": "stdout",
     "output_type": "stream",
     "text": [
      "Saving notebook... Could not save your notebook. Make sure your notebook is saved before sending it to OK!\n",
      "Backup... 0.0% complete\r",
      "Backup... 100% complete\n",
      "Backup successful for user: doomsplayer@gmail.com\n",
      "\n"
     ]
    }
   ],
   "source": [
    "_ = ok.grade('q05')\n",
    "_ = ok.backup()"
   ]
  },
  {
   "cell_type": "markdown",
   "metadata": {},
   "source": [
    "#### Run this cell: Reading in `Ta Feng`\n",
    "The cell below reads in the Ta Feng data and concatenates the four months into a single data frame.  `gzip` deals with the fact that the files are compressed (hence the `gz` at the ends of their names).  `Big5` refers to a character encoding for Chinese characters."
   ]
  },
  {
   "cell_type": "code",
   "execution_count": 25,
   "metadata": {
    "collapsed": false
   },
   "outputs": [
    {
     "data": {
      "text/html": [
       "<div>\n",
       "<style>\n",
       "    .dataframe thead tr:only-child th {\n",
       "        text-align: right;\n",
       "    }\n",
       "\n",
       "    .dataframe thead th {\n",
       "        text-align: left;\n",
       "    }\n",
       "\n",
       "    .dataframe tbody tr th {\n",
       "        vertical-align: top;\n",
       "    }\n",
       "</style>\n",
       "<table border=\"1\" class=\"dataframe\">\n",
       "  <thead>\n",
       "    <tr style=\"text-align: right;\">\n",
       "      <th></th>\n",
       "      <th>transaction_time</th>\n",
       "      <th>customer_id</th>\n",
       "      <th>age_class</th>\n",
       "      <th>residence_area</th>\n",
       "      <th>product_subclass</th>\n",
       "      <th>product_id</th>\n",
       "      <th>amount</th>\n",
       "      <th>asset</th>\n",
       "      <th>sales_price</th>\n",
       "    </tr>\n",
       "  </thead>\n",
       "  <tbody>\n",
       "    <tr>\n",
       "      <th>0</th>\n",
       "      <td>2001-01-01 00:00:00</td>\n",
       "      <td>141833</td>\n",
       "      <td>F</td>\n",
       "      <td>F</td>\n",
       "      <td>130207</td>\n",
       "      <td>4710105011011</td>\n",
       "      <td>2</td>\n",
       "      <td>44</td>\n",
       "      <td>52</td>\n",
       "    </tr>\n",
       "    <tr>\n",
       "      <th>1</th>\n",
       "      <td>2001-01-01 00:00:00</td>\n",
       "      <td>1376753</td>\n",
       "      <td>E</td>\n",
       "      <td>E</td>\n",
       "      <td>110217</td>\n",
       "      <td>4710265849066</td>\n",
       "      <td>1</td>\n",
       "      <td>150</td>\n",
       "      <td>129</td>\n",
       "    </tr>\n",
       "    <tr>\n",
       "      <th>2</th>\n",
       "      <td>2001-01-01 00:00:00</td>\n",
       "      <td>1603071</td>\n",
       "      <td>E</td>\n",
       "      <td>G</td>\n",
       "      <td>100201</td>\n",
       "      <td>4712019100607</td>\n",
       "      <td>1</td>\n",
       "      <td>35</td>\n",
       "      <td>39</td>\n",
       "    </tr>\n",
       "    <tr>\n",
       "      <th>3</th>\n",
       "      <td>2001-01-01 00:00:00</td>\n",
       "      <td>1738667</td>\n",
       "      <td>E</td>\n",
       "      <td>F</td>\n",
       "      <td>530105</td>\n",
       "      <td>4710168702901</td>\n",
       "      <td>1</td>\n",
       "      <td>94</td>\n",
       "      <td>119</td>\n",
       "    </tr>\n",
       "    <tr>\n",
       "      <th>4</th>\n",
       "      <td>2001-01-01 00:00:00</td>\n",
       "      <td>2141497</td>\n",
       "      <td>A</td>\n",
       "      <td>B</td>\n",
       "      <td>320407</td>\n",
       "      <td>4710431339148</td>\n",
       "      <td>1</td>\n",
       "      <td>100</td>\n",
       "      <td>159</td>\n",
       "    </tr>\n",
       "  </tbody>\n",
       "</table>\n",
       "</div>"
      ],
      "text/plain": [
       "      transaction_time  customer_id age_class residence_area  \\\n",
       "0  2001-01-01 00:00:00       141833         F              F   \n",
       "1  2001-01-01 00:00:00      1376753         E              E   \n",
       "2  2001-01-01 00:00:00      1603071         E              G   \n",
       "3  2001-01-01 00:00:00      1738667         E              F   \n",
       "4  2001-01-01 00:00:00      2141497         A              B   \n",
       "\n",
       "   product_subclass     product_id  amount  asset  sales_price  \n",
       "0            130207  4710105011011       2     44           52  \n",
       "1            110217  4710265849066       1    150          129  \n",
       "2            100201  4712019100607       1     35           39  \n",
       "3            530105  4710168702901       1     94          119  \n",
       "4            320407  4710431339148       1    100          159  "
      ]
     },
     "execution_count": 25,
     "metadata": {},
     "output_type": "execute_result"
    }
   ],
   "source": [
    "data_column_names = [\n",
    "    'transaction_time',\n",
    "    'customer_id',\n",
    "    'age_class', \n",
    "    'residence_area', \n",
    "    'product_subclass', \n",
    "    'product_id', \n",
    "    'amount', \n",
    "    'asset', \n",
    "    'sales_price'\n",
    "]\n",
    "\n",
    "files = [\n",
    "    'D01.gz',\n",
    "    'D02.gz',\n",
    "    'D11.gz',\n",
    "    'D12.gz'\n",
    "]\n",
    "\n",
    "frames = []\n",
    "\n",
    "for f in files:\n",
    "    df = pd.read_csv(f, compression='gzip', encoding='Big5', delimiter=';', \n",
    "                     skipinitialspace=True, header=0, names=data_column_names)\n",
    "    frames.append(df)\n",
    "\n",
    "taFeng = pd.concat(frames)\n",
    "\n",
    "# These two columns have hard-to-detect whitespace that cause issues\n",
    "taFeng['age_class'] = taFeng['age_class'].str.strip()\n",
    "taFeng['residence_area'] = taFeng['residence_area'].str.strip()\n",
    "taFeng.head()"
   ]
  },
  {
   "cell_type": "markdown",
   "metadata": {},
   "source": [
    "#### Run this cell: Joining the tables\n",
    "The code below combines the data in the `taFeng` table with the information found in the lookup tables `age_classes` and `residence_areas`."
   ]
  },
  {
   "cell_type": "code",
   "execution_count": 26,
   "metadata": {
    "collapsed": false
   },
   "outputs": [],
   "source": [
    "taFengFull = pd.merge(taFeng, age_classes,\n",
    "                      how='left', left_on='age_class', right_on='code')\n",
    "taFengFull = pd.merge(taFengFull, residence_areas, suffixes=['_age', '_residence'], \n",
    "                      how='left', left_on = 'residence_area', right_on = 'code')"
   ]
  },
  {
   "cell_type": "code",
   "execution_count": 27,
   "metadata": {
    "collapsed": false
   },
   "outputs": [
    {
     "data": {
      "text/html": [
       "<div>\n",
       "<style>\n",
       "    .dataframe thead tr:only-child th {\n",
       "        text-align: right;\n",
       "    }\n",
       "\n",
       "    .dataframe thead th {\n",
       "        text-align: left;\n",
       "    }\n",
       "\n",
       "    .dataframe tbody tr th {\n",
       "        vertical-align: top;\n",
       "    }\n",
       "</style>\n",
       "<table border=\"1\" class=\"dataframe\">\n",
       "  <thead>\n",
       "    <tr style=\"text-align: right;\">\n",
       "      <th></th>\n",
       "      <th>transaction_time</th>\n",
       "      <th>customer_id</th>\n",
       "      <th>age_class</th>\n",
       "      <th>residence_area</th>\n",
       "      <th>product_subclass</th>\n",
       "      <th>product_id</th>\n",
       "      <th>amount</th>\n",
       "      <th>asset</th>\n",
       "      <th>sales_price</th>\n",
       "      <th>code_age</th>\n",
       "      <th>age_range</th>\n",
       "      <th>age_min</th>\n",
       "      <th>age_max</th>\n",
       "      <th>age_center</th>\n",
       "      <th>code_residence</th>\n",
       "      <th>area</th>\n",
       "      <th>dist_rank</th>\n",
       "    </tr>\n",
       "  </thead>\n",
       "  <tbody>\n",
       "    <tr>\n",
       "      <th>0</th>\n",
       "      <td>2001-01-01 00:00:00</td>\n",
       "      <td>141833</td>\n",
       "      <td>F</td>\n",
       "      <td>F</td>\n",
       "      <td>130207</td>\n",
       "      <td>4710105011011</td>\n",
       "      <td>2</td>\n",
       "      <td>44</td>\n",
       "      <td>52</td>\n",
       "      <td>F</td>\n",
       "      <td>45-49</td>\n",
       "      <td>45.0</td>\n",
       "      <td>49.0</td>\n",
       "      <td>47.0</td>\n",
       "      <td>F</td>\n",
       "      <td>221</td>\n",
       "      <td>2.0</td>\n",
       "    </tr>\n",
       "    <tr>\n",
       "      <th>1</th>\n",
       "      <td>2001-01-01 00:00:00</td>\n",
       "      <td>1376753</td>\n",
       "      <td>E</td>\n",
       "      <td>E</td>\n",
       "      <td>110217</td>\n",
       "      <td>4710265849066</td>\n",
       "      <td>1</td>\n",
       "      <td>150</td>\n",
       "      <td>129</td>\n",
       "      <td>E</td>\n",
       "      <td>40-44</td>\n",
       "      <td>40.0</td>\n",
       "      <td>44.0</td>\n",
       "      <td>42.0</td>\n",
       "      <td>E</td>\n",
       "      <td>115</td>\n",
       "      <td>1.0</td>\n",
       "    </tr>\n",
       "    <tr>\n",
       "      <th>2</th>\n",
       "      <td>2001-01-01 00:00:00</td>\n",
       "      <td>1603071</td>\n",
       "      <td>E</td>\n",
       "      <td>G</td>\n",
       "      <td>100201</td>\n",
       "      <td>4712019100607</td>\n",
       "      <td>1</td>\n",
       "      <td>35</td>\n",
       "      <td>39</td>\n",
       "      <td>E</td>\n",
       "      <td>40-44</td>\n",
       "      <td>40.0</td>\n",
       "      <td>44.0</td>\n",
       "      <td>42.0</td>\n",
       "      <td>G</td>\n",
       "      <td>others</td>\n",
       "      <td>NaN</td>\n",
       "    </tr>\n",
       "    <tr>\n",
       "      <th>3</th>\n",
       "      <td>2001-01-01 00:00:00</td>\n",
       "      <td>1738667</td>\n",
       "      <td>E</td>\n",
       "      <td>F</td>\n",
       "      <td>530105</td>\n",
       "      <td>4710168702901</td>\n",
       "      <td>1</td>\n",
       "      <td>94</td>\n",
       "      <td>119</td>\n",
       "      <td>E</td>\n",
       "      <td>40-44</td>\n",
       "      <td>40.0</td>\n",
       "      <td>44.0</td>\n",
       "      <td>42.0</td>\n",
       "      <td>F</td>\n",
       "      <td>221</td>\n",
       "      <td>2.0</td>\n",
       "    </tr>\n",
       "    <tr>\n",
       "      <th>4</th>\n",
       "      <td>2001-01-01 00:00:00</td>\n",
       "      <td>2141497</td>\n",
       "      <td>A</td>\n",
       "      <td>B</td>\n",
       "      <td>320407</td>\n",
       "      <td>4710431339148</td>\n",
       "      <td>1</td>\n",
       "      <td>100</td>\n",
       "      <td>159</td>\n",
       "      <td>A</td>\n",
       "      <td>0-25</td>\n",
       "      <td>0.0</td>\n",
       "      <td>25.0</td>\n",
       "      <td>12.5</td>\n",
       "      <td>B</td>\n",
       "      <td>106</td>\n",
       "      <td>5.0</td>\n",
       "    </tr>\n",
       "  </tbody>\n",
       "</table>\n",
       "</div>"
      ],
      "text/plain": [
       "      transaction_time  customer_id age_class residence_area  \\\n",
       "0  2001-01-01 00:00:00       141833         F              F   \n",
       "1  2001-01-01 00:00:00      1376753         E              E   \n",
       "2  2001-01-01 00:00:00      1603071         E              G   \n",
       "3  2001-01-01 00:00:00      1738667         E              F   \n",
       "4  2001-01-01 00:00:00      2141497         A              B   \n",
       "\n",
       "   product_subclass     product_id  amount  asset  sales_price code_age  \\\n",
       "0            130207  4710105011011       2     44           52        F   \n",
       "1            110217  4710265849066       1    150          129        E   \n",
       "2            100201  4712019100607       1     35           39        E   \n",
       "3            530105  4710168702901       1     94          119        E   \n",
       "4            320407  4710431339148       1    100          159        A   \n",
       "\n",
       "  age_range  age_min  age_max  age_center code_residence    area  dist_rank  \n",
       "0     45-49     45.0     49.0        47.0              F     221        2.0  \n",
       "1     40-44     40.0     44.0        42.0              E     115        1.0  \n",
       "2     40-44     40.0     44.0        42.0              G  others        NaN  \n",
       "3     40-44     40.0     44.0        42.0              F     221        2.0  \n",
       "4      0-25      0.0     25.0        12.5              B     106        5.0  "
      ]
     },
     "execution_count": 27,
     "metadata": {},
     "output_type": "execute_result"
    }
   ],
   "source": [
    "taFengFull.head()"
   ]
  },
  {
   "cell_type": "code",
   "execution_count": null,
   "metadata": {},
   "outputs": [],
   "source": []
  },
  {
   "cell_type": "markdown",
   "metadata": {},
   "source": [
    "#### Question 6\n",
    "Since we performed a left join and the `code` columns were keys in both `age classes.txt` and `residence areas.txt` were keys, we expect that the number of rows in `taFengFull` to be the same as in `taFeng`.  Write function a `have_same_nrows` that takes two data frames as its arguments and returns `True` if they have the same number of rows."
   ]
  },
  {
   "cell_type": "code",
   "execution_count": 28,
   "metadata": {
    "collapsed": false
   },
   "outputs": [],
   "source": [
    "def have_same_nrows(df1, df2):\n",
    "    return df1.shape[0] == df2.shape[0]"
   ]
  },
  {
   "cell_type": "code",
   "execution_count": 29,
   "metadata": {
    "collapsed": false
   },
   "outputs": [
    {
     "data": {
      "text/plain": [
       "True"
      ]
     },
     "execution_count": 29,
     "metadata": {},
     "output_type": "execute_result"
    }
   ],
   "source": [
    "same_after_join = have_same_nrows(taFeng, taFengFull)\n",
    "same_after_join"
   ]
  },
  {
   "cell_type": "code",
   "execution_count": 30,
   "metadata": {
    "collapsed": false
   },
   "outputs": [
    {
     "name": "stdout",
     "output_type": "stream",
     "text": [
      "~~~~~~~~~~~~~~~~~~~~~~~~~~~~~~~~~~~~~~~~~~~~~~~~~~~~~~~~~~~~~~~~~~~~~\n",
      "Running tests\n",
      "\n",
      "---------------------------------------------------------------------\n",
      "Test summary\n",
      "    Passed: 2\n",
      "    Failed: 0\n",
      "[ooooooooook] 100.0% passed\n",
      "\n"
     ]
    },
    {
     "data": {
      "application/javascript": [
       "IPython.notebook.save_checkpoint();"
      ],
      "text/plain": [
       "<IPython.core.display.Javascript object>"
      ]
     },
     "metadata": {},
     "output_type": "display_data"
    },
    {
     "data": {
      "application/javascript": [
       "IPython.notebook.save_notebook();"
      ],
      "text/plain": [
       "<IPython.core.display.Javascript object>"
      ]
     },
     "metadata": {},
     "output_type": "display_data"
    },
    {
     "name": "stdout",
     "output_type": "stream",
     "text": [
      "Saving notebook... Could not save your notebook. Make sure your notebook is saved before sending it to OK!\n",
      "Backup... 0.0% complete\r",
      "Backup... 100% complete\n",
      "Backup successful for user: doomsplayer@gmail.com\n",
      "\n"
     ]
    }
   ],
   "source": [
    "_ = ok.grade('q06')\n",
    "_ = ok.backup()"
   ]
  },
  {
   "cell_type": "markdown",
   "metadata": {},
   "source": [
    "#### Question 7\n",
    "It's a good habit to keep track of missing values.  Notice that `K` appears in the column `age_class`, but not in the age lookup table `age_classes`.  What happened when we joined the two tables?  i.e. Do the corresponding rows appear in our `taFengFull` table, and if so, how does the join deal with the fact that `K` doesn't exist in the lookup table?"
   ]
  },
  {
   "cell_type": "markdown",
   "metadata": {},
   "source": [
    "It depends on what kind of method we use to join. If it's inner join or left join (when the additional value is in right table), K won't appear in the result. But if it's right join or full join, the corresponding K will be NaN"
   ]
  },
  {
   "cell_type": "markdown",
   "metadata": {},
   "source": [
    "# Guided EDA"
   ]
  },
  {
   "cell_type": "markdown",
   "metadata": {},
   "source": [
    "As a business analyst, we may be interested in what the purchase data can tell us about TaFeng's business and the behavior of their customers. While there are many aspects of this data set that we could look into, we will only focus on two ideas in the interest of keeping this assignment reasonable.  The questions will guide you through the iterative process of data exploration---where one question flows into another.\n",
    "\n",
    "* Does the relationship between basket size and amount spent match our intuition?\n",
    "* Are there temporal trends in customer behavior?\n",
    "\n",
    "We start by exploring customer behavior at the product level to get a feel for the variables, data type, cleanliness, missingness, and distributions.  For the moment, assume that the data consists of all transactions in the four month period (i.e. no transactions are missing from this data set)."
   ]
  },
  {
   "cell_type": "markdown",
   "metadata": {},
   "source": [
    "### Note\n",
    "For each visualizations we display, please faithfully reproduce that plot to the best of your ability.  They represent our expections of exemplar work.  "
   ]
  },
  {
   "cell_type": "markdown",
   "metadata": {},
   "source": [
    "#### Question 8\n",
    "Calculate the number of shopping trips each customer made in the four-month period. Then make a histogram that summarizes the information. Assume that transactions occurring on the same day can be grouped together into one trip (e.g. All purchases on January 1 by the same customer should be lumped together). Hint: You will have to use a `groupby` to change the granularity of the data to the level of customers."
   ]
  },
  {
   "cell_type": "markdown",
   "metadata": {
    "for_assignment_type": "student"
   },
   "source": [
    "![](repeat_business.png)"
   ]
  },
  {
   "cell_type": "code",
   "execution_count": 31,
   "metadata": {
    "collapsed": true,
    "for_assignment_type": "student"
   },
   "outputs": [],
   "source": [
    "rpt_business = taFeng.groupby([\"customer_id\"])[\"transaction_time\"].nunique()"
   ]
  },
  {
   "cell_type": "code",
   "execution_count": 32,
   "metadata": {},
   "outputs": [
    {
     "data": {
      "text/plain": [
       "<matplotlib.text.Text at 0x1167b9630>"
      ]
     },
     "execution_count": 32,
     "metadata": {},
     "output_type": "execute_result"
    },
    {
     "data": {
      "image/png": "[encoded data removed]",
      "text/plain": [
       "<matplotlib.figure.Figure at 0x1115135f8>"
      ]
     },
     "metadata": {},
     "output_type": "display_data"
    }
   ],
   "source": [
    "rpt_business.hist(bins=rpt_business.max())\n",
    "plt.xlabel('Number of Transactions in 4 Months')\n",
    "plt.ylabel('Number of Customers')\n",
    "plt.title('Repeat Business')"
   ]
  },
  {
   "cell_type": "markdown",
   "metadata": {},
   "source": [
    "#### Question 9\n",
    "\n",
    "A customer that is on the left side of the distribution shops only sporadically at Ta Feng, and a customer on the right side of the distribution shops at Ta Feng very frequently. The distribution is skewed right with nearly all the customers shopping fewer than 20 times in the four month period.  Let's zoom in on the x-axis to better view the shape of the distribution of the bulk of the customers. To do this, remake the above plot as above, but set the limits of the x-axis to 0 and 20 to zoom in on the range where we find most of the customers.\n"
   ]
  },
  {
   "cell_type": "code",
   "execution_count": 33,
   "metadata": {
    "collapsed": false
   },
   "outputs": [
    {
     "data": {
      "text/plain": [
       "(0, 30)"
      ]
     },
     "execution_count": 33,
     "metadata": {},
     "output_type": "execute_result"
    },
    {
     "data": {
      "image/png": "[encoded data removed]",
      "text/plain": [
       "<matplotlib.figure.Figure at 0x1164bdd30>"
      ]
     },
     "metadata": {},
     "output_type": "display_data"
    }
   ],
   "source": [
    "rpt_business.hist(bins=rpt_business.max())\n",
    "plt.xlabel('Number of Transactions in 4 Months')\n",
    "plt.ylabel('Number of Customers')\n",
    "plt.title('Repeat Business')\n",
    "plt.xlim(0, 30)"
   ]
  },
  {
   "cell_type": "code",
   "execution_count": 34,
   "metadata": {
    "collapsed": false
   },
   "outputs": [
    {
     "data": {
      "text/plain": [
       "Ellipsis"
      ]
     },
     "execution_count": 34,
     "metadata": {},
     "output_type": "execute_result"
    }
   ],
   "source": [
    "..."
   ]
  },
  {
   "cell_type": "markdown",
   "metadata": {},
   "source": [
    "#### Question 10\n",
    "We have successfully filled the plotting region with our histogram, and we can more easily see how rapidly the number of shopping trips trails off.  We wonder just how much of our data is concentrated on the left side.  Use the `quantile` method to calculate the deciles (i.e., the 0th, 10th, 20th, ..., 90th, and 100th percentiles) of `rpt_business`."
   ]
  },
  {
   "cell_type": "code",
   "execution_count": 35,
   "metadata": {
    "collapsed": false
   },
   "outputs": [
    {
     "data": {
      "text/plain": [
       "0.0     1.0\n",
       "0.1     1.0\n",
       "0.2     1.0\n",
       "0.3     1.0\n",
       "0.4     2.0\n",
       "0.5     2.0\n",
       "0.6     3.0\n",
       "0.7     4.0\n",
       "0.8     5.0\n",
       "0.9     8.0\n",
       "1.0    86.0\n",
       "Name: transaction_time, dtype: float64"
      ]
     },
     "execution_count": 35,
     "metadata": {},
     "output_type": "execute_result"
    }
   ],
   "source": [
    "rpt_deciles = rpt_business.quantile(np.arange(0, 1.1, 0.1))\n",
    "rpt_deciles"
   ]
  },
  {
   "cell_type": "markdown",
   "metadata": {},
   "source": [
    "#### Question 11\n",
    "\n",
    "The percentiles tell us that 90% of customers shopped at Ta Feng 8 times or fewer in the four months spanning our data set and more than half went only 1 or 2 times! Perhaps we can bring in the large values and stretch the small values with a log transform.  Remake the histogram as before, except this time, rescale the x-axis with a log transformation. Hint: To make the tick marks appear, you may want to look into pyplot's `tick_params`."
   ]
  },
  {
   "cell_type": "code",
   "execution_count": 36,
   "metadata": {},
   "outputs": [
    {
     "data": {
      "text/plain": [
       "3.1622776601683795"
      ]
     },
     "execution_count": 36,
     "metadata": {},
     "output_type": "execute_result"
    }
   ],
   "source": [
    "np.sqrt(10)"
   ]
  },
  {
   "cell_type": "code",
   "execution_count": 37,
   "metadata": {
    "collapsed": true
   },
   "outputs": [
    {
     "data": {
      "image/png": "[encoded data removed]",
      "text/plain": [
       "<matplotlib.figure.Figure at 0x1176f2978>"
      ]
     },
     "metadata": {},
     "output_type": "display_data"
    }
   ],
   "source": [
    "rpt_business.hist(bins=np.logspace(0, 4, 41))\n",
    "plt.xlabel('Number of Transactions in 4 Months')\n",
    "plt.ylabel('Number of Customers')\n",
    "plt.xscale('log')\n",
    "plt.title('Repeat Business')\n",
    "plt.xlim(0, 3.16e1)\n",
    "plt.tick_params(axis='x', which='minor', length=4, top=False)\n",
    "plt.tick_params(axis='x', length=8, top=False)"
   ]
  },
  {
   "cell_type": "markdown",
   "metadata": {},
   "source": [
    "In this case, the log transformation does not help symmetrize the distribution. Since the vast bulk of the data take on only 8 distinct values with over half the data being either a 1 or a 2, the log transformation has little impact."
   ]
  },
  {
   "cell_type": "markdown",
   "metadata": {},
   "source": [
    "# Taking the data to another level\n",
    "\n",
    "Next, we investigate the shopping trips in greater detail.  For example, we might be interested in the total number of items purchased, the total amount spent, and the number of unique products purchased on the trip.  Since our data are at the level of items purchased, we need to aggregate our data to the shopping cart. Fortunately we have tools to do this; that is, we will change the granularity. For each shopping cart, we find:  \n",
    "\n",
    "* `num_items` - the total number of items purchased\n",
    "* `total` - the total value of the cart\n",
    "* `num_unique` - the number of unique products purchased"
   ]
  },
  {
   "cell_type": "markdown",
   "metadata": {},
   "source": [
    "#### Question 12\n",
    "\n",
    "Create a data frame called `carts` that contains the variables above, as well as `customer_id` and `transaction_time`.  Make sure you use the names specified."
   ]
  },
  {
   "cell_type": "code",
   "execution_count": 38,
   "metadata": {
    "collapsed": true,
    "for_assignment_type": "student"
   },
   "outputs": [
    {
     "data": {
      "text/html": [
       "<div>\n",
       "<style>\n",
       "    .dataframe thead tr:only-child th {\n",
       "        text-align: right;\n",
       "    }\n",
       "\n",
       "    .dataframe thead th {\n",
       "        text-align: left;\n",
       "    }\n",
       "\n",
       "    .dataframe tbody tr th {\n",
       "        vertical-align: top;\n",
       "    }\n",
       "</style>\n",
       "<table border=\"1\" class=\"dataframe\">\n",
       "  <thead>\n",
       "    <tr style=\"text-align: right;\">\n",
       "      <th></th>\n",
       "      <th></th>\n",
       "      <th>num_items</th>\n",
       "      <th>num_unique</th>\n",
       "      <th>total</th>\n",
       "    </tr>\n",
       "    <tr>\n",
       "      <th>customer_id</th>\n",
       "      <th>transaction_time</th>\n",
       "      <th></th>\n",
       "      <th></th>\n",
       "      <th></th>\n",
       "    </tr>\n",
       "  </thead>\n",
       "  <tbody>\n",
       "    <tr>\n",
       "      <th rowspan=\"4\" valign=\"top\">1069</th>\n",
       "      <th>2000-11-13 00:00:00</th>\n",
       "      <td>2</td>\n",
       "      <td>2</td>\n",
       "      <td>187</td>\n",
       "    </tr>\n",
       "    <tr>\n",
       "      <th>2001-01-21 00:00:00</th>\n",
       "      <td>3</td>\n",
       "      <td>3</td>\n",
       "      <td>971</td>\n",
       "    </tr>\n",
       "    <tr>\n",
       "      <th>2001-02-03 00:00:00</th>\n",
       "      <td>9</td>\n",
       "      <td>5</td>\n",
       "      <td>496</td>\n",
       "    </tr>\n",
       "    <tr>\n",
       "      <th>2001-02-10 00:00:00</th>\n",
       "      <td>2</td>\n",
       "      <td>1</td>\n",
       "      <td>290</td>\n",
       "    </tr>\n",
       "    <tr>\n",
       "      <th rowspan=\"4\" valign=\"top\">1113</th>\n",
       "      <th>2000-11-12 00:00:00</th>\n",
       "      <td>5</td>\n",
       "      <td>2</td>\n",
       "      <td>420</td>\n",
       "    </tr>\n",
       "    <tr>\n",
       "      <th>2000-11-26 00:00:00</th>\n",
       "      <td>3</td>\n",
       "      <td>3</td>\n",
       "      <td>558</td>\n",
       "    </tr>\n",
       "    <tr>\n",
       "      <th>2000-11-27 00:00:00</th>\n",
       "      <td>6</td>\n",
       "      <td>6</td>\n",
       "      <td>624</td>\n",
       "    </tr>\n",
       "    <tr>\n",
       "      <th>2001-01-06 00:00:00</th>\n",
       "      <td>9</td>\n",
       "      <td>7</td>\n",
       "      <td>628</td>\n",
       "    </tr>\n",
       "    <tr>\n",
       "      <th rowspan=\"2\" valign=\"top\">1250</th>\n",
       "      <th>2001-02-04 00:00:00</th>\n",
       "      <td>5</td>\n",
       "      <td>4</td>\n",
       "      <td>734</td>\n",
       "    </tr>\n",
       "    <tr>\n",
       "      <th>2001-02-10 00:00:00</th>\n",
       "      <td>13</td>\n",
       "      <td>10</td>\n",
       "      <td>849</td>\n",
       "    </tr>\n",
       "    <tr>\n",
       "      <th>1359</th>\n",
       "      <th>2000-12-04 00:00:00</th>\n",
       "      <td>4</td>\n",
       "      <td>3</td>\n",
       "      <td>364</td>\n",
       "    </tr>\n",
       "    <tr>\n",
       "      <th rowspan=\"3\" valign=\"top\">1823</th>\n",
       "      <th>2000-11-02 00:00:00</th>\n",
       "      <td>16</td>\n",
       "      <td>9</td>\n",
       "      <td>1256</td>\n",
       "    </tr>\n",
       "    <tr>\n",
       "      <th>2000-11-06 00:00:00</th>\n",
       "      <td>6</td>\n",
       "      <td>2</td>\n",
       "      <td>918</td>\n",
       "    </tr>\n",
       "    <tr>\n",
       "      <th>2001-01-24 00:00:00</th>\n",
       "      <td>3</td>\n",
       "      <td>3</td>\n",
       "      <td>433</td>\n",
       "    </tr>\n",
       "    <tr>\n",
       "      <th rowspan=\"2\" valign=\"top\">2189</th>\n",
       "      <th>2000-12-02 00:00:00</th>\n",
       "      <td>89</td>\n",
       "      <td>41</td>\n",
       "      <td>9078</td>\n",
       "    </tr>\n",
       "    <tr>\n",
       "      <th>2001-01-03 00:00:00</th>\n",
       "      <td>52</td>\n",
       "      <td>21</td>\n",
       "      <td>4978</td>\n",
       "    </tr>\n",
       "    <tr>\n",
       "      <th rowspan=\"4\" valign=\"top\">3667</th>\n",
       "      <th>2000-12-08 00:00:00</th>\n",
       "      <td>8</td>\n",
       "      <td>3</td>\n",
       "      <td>979</td>\n",
       "    </tr>\n",
       "    <tr>\n",
       "      <th>2000-12-26 00:00:00</th>\n",
       "      <td>4</td>\n",
       "      <td>2</td>\n",
       "      <td>8960</td>\n",
       "    </tr>\n",
       "    <tr>\n",
       "      <th>2001-02-01 00:00:00</th>\n",
       "      <td>11</td>\n",
       "      <td>6</td>\n",
       "      <td>1241</td>\n",
       "    </tr>\n",
       "    <tr>\n",
       "      <th>2001-02-08 00:00:00</th>\n",
       "      <td>3</td>\n",
       "      <td>2</td>\n",
       "      <td>329</td>\n",
       "    </tr>\n",
       "    <tr>\n",
       "      <th rowspan=\"2\" valign=\"top\">4282</th>\n",
       "      <th>2000-12-15 00:00:00</th>\n",
       "      <td>2</td>\n",
       "      <td>2</td>\n",
       "      <td>171</td>\n",
       "    </tr>\n",
       "    <tr>\n",
       "      <th>2001-01-13 00:00:00</th>\n",
       "      <td>7</td>\n",
       "      <td>7</td>\n",
       "      <td>796</td>\n",
       "    </tr>\n",
       "    <tr>\n",
       "      <th>4381</th>\n",
       "      <th>2000-11-18 00:00:00</th>\n",
       "      <td>13</td>\n",
       "      <td>11</td>\n",
       "      <td>701</td>\n",
       "    </tr>\n",
       "    <tr>\n",
       "      <th rowspan=\"2\" valign=\"top\">4947</th>\n",
       "      <th>2000-12-03 00:00:00</th>\n",
       "      <td>24</td>\n",
       "      <td>21</td>\n",
       "      <td>1875</td>\n",
       "    </tr>\n",
       "    <tr>\n",
       "      <th>2000-12-10 00:00:00</th>\n",
       "      <td>16</td>\n",
       "      <td>15</td>\n",
       "      <td>1488</td>\n",
       "    </tr>\n",
       "    <tr>\n",
       "      <th>4961</th>\n",
       "      <th>2001-02-05 00:00:00</th>\n",
       "      <td>8</td>\n",
       "      <td>6</td>\n",
       "      <td>553</td>\n",
       "    </tr>\n",
       "    <tr>\n",
       "      <th rowspan=\"2\" valign=\"top\">4978</th>\n",
       "      <th>2001-01-03 00:00:00</th>\n",
       "      <td>12</td>\n",
       "      <td>11</td>\n",
       "      <td>1251</td>\n",
       "    </tr>\n",
       "    <tr>\n",
       "      <th>2001-01-22 00:00:00</th>\n",
       "      <td>13</td>\n",
       "      <td>12</td>\n",
       "      <td>1194</td>\n",
       "    </tr>\n",
       "    <tr>\n",
       "      <th rowspan=\"2\" valign=\"top\">5241</th>\n",
       "      <th>2000-12-16 00:00:00</th>\n",
       "      <td>6</td>\n",
       "      <td>6</td>\n",
       "      <td>325</td>\n",
       "    </tr>\n",
       "    <tr>\n",
       "      <th>2001-01-07 00:00:00</th>\n",
       "      <td>19</td>\n",
       "      <td>10</td>\n",
       "      <td>931</td>\n",
       "    </tr>\n",
       "    <tr>\n",
       "      <th>...</th>\n",
       "      <th>...</th>\n",
       "      <td>...</td>\n",
       "      <td>...</td>\n",
       "      <td>...</td>\n",
       "    </tr>\n",
       "    <tr>\n",
       "      <th>2179568</th>\n",
       "      <th>2001-02-28 00:00:00</th>\n",
       "      <td>5</td>\n",
       "      <td>5</td>\n",
       "      <td>406</td>\n",
       "    </tr>\n",
       "    <tr>\n",
       "      <th>2179605</th>\n",
       "      <th>2001-02-28 00:00:00</th>\n",
       "      <td>70</td>\n",
       "      <td>52</td>\n",
       "      <td>6001</td>\n",
       "    </tr>\n",
       "    <tr>\n",
       "      <th>2179643</th>\n",
       "      <th>2001-02-28 00:00:00</th>\n",
       "      <td>28</td>\n",
       "      <td>7</td>\n",
       "      <td>887</td>\n",
       "    </tr>\n",
       "    <tr>\n",
       "      <th rowspan=\"27\" valign=\"top\">20002000</th>\n",
       "      <th>2000-11-08 00:00:00</th>\n",
       "      <td>3</td>\n",
       "      <td>3</td>\n",
       "      <td>48</td>\n",
       "    </tr>\n",
       "    <tr>\n",
       "      <th>2000-11-11 00:00:00</th>\n",
       "      <td>2</td>\n",
       "      <td>1</td>\n",
       "      <td>30</td>\n",
       "    </tr>\n",
       "    <tr>\n",
       "      <th>2000-11-12 00:00:00</th>\n",
       "      <td>2</td>\n",
       "      <td>1</td>\n",
       "      <td>400</td>\n",
       "    </tr>\n",
       "    <tr>\n",
       "      <th>2000-11-20 00:00:00</th>\n",
       "      <td>1</td>\n",
       "      <td>1</td>\n",
       "      <td>270</td>\n",
       "    </tr>\n",
       "    <tr>\n",
       "      <th>2000-11-25 00:00:00</th>\n",
       "      <td>123</td>\n",
       "      <td>100</td>\n",
       "      <td>10305</td>\n",
       "    </tr>\n",
       "    <tr>\n",
       "      <th>2000-11-26 00:00:00</th>\n",
       "      <td>111</td>\n",
       "      <td>77</td>\n",
       "      <td>9919</td>\n",
       "    </tr>\n",
       "    <tr>\n",
       "      <th>2000-11-27 00:00:00</th>\n",
       "      <td>4</td>\n",
       "      <td>4</td>\n",
       "      <td>153</td>\n",
       "    </tr>\n",
       "    <tr>\n",
       "      <th>2000-11-28 00:00:00</th>\n",
       "      <td>9</td>\n",
       "      <td>9</td>\n",
       "      <td>776</td>\n",
       "    </tr>\n",
       "    <tr>\n",
       "      <th>2000-11-29 00:00:00</th>\n",
       "      <td>4</td>\n",
       "      <td>1</td>\n",
       "      <td>236</td>\n",
       "    </tr>\n",
       "    <tr>\n",
       "      <th>2000-12-02 00:00:00</th>\n",
       "      <td>3</td>\n",
       "      <td>3</td>\n",
       "      <td>250</td>\n",
       "    </tr>\n",
       "    <tr>\n",
       "      <th>2000-12-03 00:00:00</th>\n",
       "      <td>99</td>\n",
       "      <td>64</td>\n",
       "      <td>9213</td>\n",
       "    </tr>\n",
       "    <tr>\n",
       "      <th>2000-12-04 00:00:00</th>\n",
       "      <td>20</td>\n",
       "      <td>17</td>\n",
       "      <td>965</td>\n",
       "    </tr>\n",
       "    <tr>\n",
       "      <th>2000-12-05 00:00:00</th>\n",
       "      <td>40</td>\n",
       "      <td>31</td>\n",
       "      <td>2970</td>\n",
       "    </tr>\n",
       "    <tr>\n",
       "      <th>2000-12-06 00:00:00</th>\n",
       "      <td>3</td>\n",
       "      <td>3</td>\n",
       "      <td>340</td>\n",
       "    </tr>\n",
       "    <tr>\n",
       "      <th>2000-12-07 00:00:00</th>\n",
       "      <td>13</td>\n",
       "      <td>8</td>\n",
       "      <td>439</td>\n",
       "    </tr>\n",
       "    <tr>\n",
       "      <th>2000-12-08 00:00:00</th>\n",
       "      <td>10</td>\n",
       "      <td>9</td>\n",
       "      <td>689</td>\n",
       "    </tr>\n",
       "    <tr>\n",
       "      <th>2000-12-10 00:00:00</th>\n",
       "      <td>10</td>\n",
       "      <td>9</td>\n",
       "      <td>807</td>\n",
       "    </tr>\n",
       "    <tr>\n",
       "      <th>2000-12-11 00:00:00</th>\n",
       "      <td>23</td>\n",
       "      <td>16</td>\n",
       "      <td>2110</td>\n",
       "    </tr>\n",
       "    <tr>\n",
       "      <th>2000-12-12 00:00:00</th>\n",
       "      <td>25</td>\n",
       "      <td>14</td>\n",
       "      <td>694</td>\n",
       "    </tr>\n",
       "    <tr>\n",
       "      <th>2000-12-13 00:00:00</th>\n",
       "      <td>1</td>\n",
       "      <td>1</td>\n",
       "      <td>100</td>\n",
       "    </tr>\n",
       "    <tr>\n",
       "      <th>2000-12-14 00:00:00</th>\n",
       "      <td>19</td>\n",
       "      <td>14</td>\n",
       "      <td>827</td>\n",
       "    </tr>\n",
       "    <tr>\n",
       "      <th>2000-12-15 00:00:00</th>\n",
       "      <td>17</td>\n",
       "      <td>15</td>\n",
       "      <td>2232</td>\n",
       "    </tr>\n",
       "    <tr>\n",
       "      <th>2000-12-16 00:00:00</th>\n",
       "      <td>28</td>\n",
       "      <td>23</td>\n",
       "      <td>2404</td>\n",
       "    </tr>\n",
       "    <tr>\n",
       "      <th>2000-12-17 00:00:00</th>\n",
       "      <td>16</td>\n",
       "      <td>9</td>\n",
       "      <td>760</td>\n",
       "    </tr>\n",
       "    <tr>\n",
       "      <th>2000-12-18 00:00:00</th>\n",
       "      <td>27</td>\n",
       "      <td>9</td>\n",
       "      <td>911</td>\n",
       "    </tr>\n",
       "    <tr>\n",
       "      <th>2001-01-20 00:00:00</th>\n",
       "      <td>9</td>\n",
       "      <td>8</td>\n",
       "      <td>1075</td>\n",
       "    </tr>\n",
       "    <tr>\n",
       "      <th>2001-02-05 00:00:00</th>\n",
       "      <td>6</td>\n",
       "      <td>2</td>\n",
       "      <td>72</td>\n",
       "    </tr>\n",
       "  </tbody>\n",
       "</table>\n",
       "<p>119578 rows × 3 columns</p>\n",
       "</div>"
      ],
      "text/plain": [
       "                                 num_items  num_unique  total\n",
       "customer_id transaction_time                                 \n",
       "1069        2000-11-13 00:00:00          2           2    187\n",
       "            2001-01-21 00:00:00          3           3    971\n",
       "            2001-02-03 00:00:00          9           5    496\n",
       "            2001-02-10 00:00:00          2           1    290\n",
       "1113        2000-11-12 00:00:00          5           2    420\n",
       "            2000-11-26 00:00:00          3           3    558\n",
       "            2000-11-27 00:00:00          6           6    624\n",
       "            2001-01-06 00:00:00          9           7    628\n",
       "1250        2001-02-04 00:00:00          5           4    734\n",
       "            2001-02-10 00:00:00         13          10    849\n",
       "1359        2000-12-04 00:00:00          4           3    364\n",
       "1823        2000-11-02 00:00:00         16           9   1256\n",
       "            2000-11-06 00:00:00          6           2    918\n",
       "            2001-01-24 00:00:00          3           3    433\n",
       "2189        2000-12-02 00:00:00         89          41   9078\n",
       "            2001-01-03 00:00:00         52          21   4978\n",
       "3667        2000-12-08 00:00:00          8           3    979\n",
       "            2000-12-26 00:00:00          4           2   8960\n",
       "            2001-02-01 00:00:00         11           6   1241\n",
       "            2001-02-08 00:00:00          3           2    329\n",
       "4282        2000-12-15 00:00:00          2           2    171\n",
       "            2001-01-13 00:00:00          7           7    796\n",
       "4381        2000-11-18 00:00:00         13          11    701\n",
       "4947        2000-12-03 00:00:00         24          21   1875\n",
       "            2000-12-10 00:00:00         16          15   1488\n",
       "4961        2001-02-05 00:00:00          8           6    553\n",
       "4978        2001-01-03 00:00:00         12          11   1251\n",
       "            2001-01-22 00:00:00         13          12   1194\n",
       "5241        2000-12-16 00:00:00          6           6    325\n",
       "            2001-01-07 00:00:00         19          10    931\n",
       "...                                    ...         ...    ...\n",
       "2179568     2001-02-28 00:00:00          5           5    406\n",
       "2179605     2001-02-28 00:00:00         70          52   6001\n",
       "2179643     2001-02-28 00:00:00         28           7    887\n",
       "20002000    2000-11-08 00:00:00          3           3     48\n",
       "            2000-11-11 00:00:00          2           1     30\n",
       "            2000-11-12 00:00:00          2           1    400\n",
       "            2000-11-20 00:00:00          1           1    270\n",
       "            2000-11-25 00:00:00        123         100  10305\n",
       "            2000-11-26 00:00:00        111          77   9919\n",
       "            2000-11-27 00:00:00          4           4    153\n",
       "            2000-11-28 00:00:00          9           9    776\n",
       "            2000-11-29 00:00:00          4           1    236\n",
       "            2000-12-02 00:00:00          3           3    250\n",
       "            2000-12-03 00:00:00         99          64   9213\n",
       "            2000-12-04 00:00:00         20          17    965\n",
       "            2000-12-05 00:00:00         40          31   2970\n",
       "            2000-12-06 00:00:00          3           3    340\n",
       "            2000-12-07 00:00:00         13           8    439\n",
       "            2000-12-08 00:00:00         10           9    689\n",
       "            2000-12-10 00:00:00         10           9    807\n",
       "            2000-12-11 00:00:00         23          16   2110\n",
       "            2000-12-12 00:00:00         25          14    694\n",
       "            2000-12-13 00:00:00          1           1    100\n",
       "            2000-12-14 00:00:00         19          14    827\n",
       "            2000-12-15 00:00:00         17          15   2232\n",
       "            2000-12-16 00:00:00         28          23   2404\n",
       "            2000-12-17 00:00:00         16           9    760\n",
       "            2000-12-18 00:00:00         27           9    911\n",
       "            2001-01-20 00:00:00          9           8   1075\n",
       "            2001-02-05 00:00:00          6           2     72\n",
       "\n",
       "[119578 rows x 3 columns]"
      ]
     },
     "execution_count": 38,
     "metadata": {},
     "output_type": "execute_result"
    }
   ],
   "source": [
    "dft = taFengFull.groupby(['customer_id', 'transaction_time'])\n",
    "carts = pd.DataFrame()\n",
    "carts['num_items'] = dft['amount'].sum()\n",
    "carts['num_unique'] = dft['amount'].count()\n",
    "carts['total'] = dft['sales_price'].sum()\n",
    "carts"
   ]
  },
  {
   "cell_type": "markdown",
   "metadata": {},
   "source": [
    "#### Question 13\n",
    "Let's take a look at the relationship between the number of items in a cart and the cart total.  Intuitively the two should be positively correlated, but why assume when we can verify?  Make a scatter plot that will help us inspect the relationship between these two variables. "
   ]
  },
  {
   "cell_type": "markdown",
   "metadata": {
    "for_assignment_type": "student"
   },
   "source": [
    "![](quantity_vs_value_raw.png)"
   ]
  },
  {
   "cell_type": "code",
   "execution_count": 39,
   "metadata": {
    "collapsed": true,
    "for_assignment_type": "student"
   },
   "outputs": [
    {
     "data": {
      "text/plain": [
       "<matplotlib.text.Text at 0x110a98e10>"
      ]
     },
     "execution_count": 39,
     "metadata": {},
     "output_type": "execute_result"
    },
    {
     "data": {
      "image/png": "[encoded data removed]",
      "text/plain": [
       "<matplotlib.figure.Figure at 0x117375f60>"
      ]
     },
     "metadata": {},
     "output_type": "display_data"
    }
   ],
   "source": [
    "carts.plot(kind='scatter', x='num_items', y='total', figsize=(12,8), title=\"Quantity Purchased vs Value\")\n",
    "plt.xlabel('Number of Items Purchased')\n",
    "plt.ylabel('Total Amount Spent')"
   ]
  },
  {
   "cell_type": "markdown",
   "metadata": {},
   "source": [
    "#### Question 14\n",
    "\n",
    "We might expect from the distribution of the number of trips that there would be a few very large values for the number of items and the total amount spent.  Indeed, a handful of observations make it difficult to see the shape of the bulk of the data.  As before take a log transformation of these two variables. Make another scatter plot, but this time, log-transform both the x and y axes."
   ]
  },
  {
   "cell_type": "code",
   "execution_count": 40,
   "metadata": {
    "collapsed": false,
    "for_assignment_type": "student"
   },
   "outputs": [
    {
     "data": {
      "image/png": "[encoded data removed]",
      "text/plain": [
       "<matplotlib.figure.Figure at 0x1167e8668>"
      ]
     },
     "metadata": {},
     "output_type": "display_data"
    }
   ],
   "source": [
    "carts.plot(kind='scatter', x='num_items', y='total', title=\"Quantity Purchased vs Value\", loglog=True)\n",
    "plt.xlabel(\"Number of Items Purchased\")\n",
    "plt.ylabel('Total Amount Spent')\n",
    "plt.xlim(0, 3.16e3)\n",
    "plt.ylim(0, 1e6)\n",
    "plt.tick_params(axis='x', which='minor', length=4, top=False)\n",
    "plt.tick_params(axis='x', length=8, top=False)\n",
    "plt.tick_params(axis='y', which='minor', length=4, right=False)\n",
    "plt.tick_params(axis='y', length=8, right=False)"
   ]
  },
  {
   "cell_type": "markdown",
   "metadata": {},
   "source": [
    "#### Question 15\n",
    "\n",
    "Notice the vertical bands in the scatter plot. These are from the discreteness of the number of items purchased.  We are better able to see these bands with the log transformed data.\n",
    "\n",
    "While there seems to be a positive correlation in the point cloud, the over plotting makes be deceiving us. We will make a few changes to the scatter plot to attempt to address the problem. First, we adjust the opacity of the plotting symbols by changing alpha values for the scatter plot portion of the plot. We also shrink the size of the plotting symbol to reduce the amount of over plotting.  Additionally, we add a line-of-best-fit through the data. Hint: Use seaborn's `lmplot` to simultaneously plot the points and the line-of-best-fit.\n"
   ]
  },
  {
   "cell_type": "code",
   "execution_count": 41,
   "metadata": {
    "collapsed": false,
    "for_assignment_type": "student"
   },
   "outputs": [
    {
     "data": {
      "image/png": "[encoded data removed]",
      "text/plain": [
       "<matplotlib.figure.Figure at 0x1176d4710>"
      ]
     },
     "metadata": {},
     "output_type": "display_data"
    }
   ],
   "source": [
    "sns.lmplot('num_items', 'total', data=carts)\n",
    "plt.title('Quantity Purchased vs Value')\n",
    "plt.xlabel('Number of Items Purchased')\n",
    "plt.ylabel('Total Amount Spent')\n",
    "plt.xscale('log')\n",
    "plt.yscale('log')\n",
    "plt.xlim(7e-1, 3.16e3)\n",
    "plt.ylim(7e-1, 1e6)\n",
    "plt.tick_params(axis='x', which='minor', length=4, top=False)\n",
    "plt.tick_params(axis='x', length=8, top=False)\n",
    "plt.tick_params(axis='y', which='minor', length=4, right=False)\n",
    "plt.tick_params(axis='y', length=8, right=False)"
   ]
  },
  {
   "cell_type": "markdown",
   "metadata": {},
   "source": [
    "From this scatter plot, we can make several observations about the relationship between the number of items purchased and the total amount spent. It appears that there is a linear association between the amount spent and number of items purchased on a log-log scale.  (A log-log scale implies that, say, a 10% increase in the number of items purchased is associated with b*10% increase in the amount spent, on average).  We also note that the spread in amount spent varies with the number of items spent; in particular, the spread is greater for smaller shopping baskets.  This might be due to shopping trips where one expensive item is purchased. "
   ]
  },
  {
   "cell_type": "markdown",
   "metadata": {},
   "source": [
    "# Time\n",
    "\n",
    "In this question, we will investigate temporal trends in shopping behavior.  We begin with the technical details of date-time data."
   ]
  },
  {
   "cell_type": "markdown",
   "metadata": {},
   "source": [
    "#### Run this cell: Parsing Time\n",
    "Currently, your computer understands the transaction times as strings.  The code below typecasts the transaction time column to the `datetime64`."
   ]
  },
  {
   "cell_type": "code",
   "execution_count": 42,
   "metadata": {
    "collapsed": false
   },
   "outputs": [],
   "source": [
    "time_format = \"%Y-%m-%d %H:%M:%S\"\n",
    "taFengFull['transaction_time'] = pd.to_datetime(taFengFull['transaction_time'], \n",
    "                                                format = time_format)"
   ]
  },
  {
   "cell_type": "markdown",
   "metadata": {},
   "source": [
    "#### Question 16\n",
    "Now that we have the time data in a usable format, we can start looking into customer trends over time.  Make a line plot of the number of unique customers per day against day.  Note that we have once again changed the granularity at which we are examining our data."
   ]
  },
  {
   "cell_type": "markdown",
   "metadata": {},
   "source": [
    "![](unique_per_day.png)"
   ]
  },
  {
   "cell_type": "code",
   "execution_count": 43,
   "metadata": {
    "collapsed": false,
    "for_assignment_type": "student"
   },
   "outputs": [
    {
     "data": {
      "text/plain": [
       "<matplotlib.text.Text at 0x11013d908>"
      ]
     },
     "execution_count": 43,
     "metadata": {},
     "output_type": "execute_result"
    },
    {
     "data": {
      "image/png": "[encoded data removed]",
      "text/plain": [
       "<matplotlib.figure.Figure at 0x11711cb70>"
      ]
     },
     "metadata": {},
     "output_type": "display_data"
    }
   ],
   "source": [
    "taFengFull.groupby('transaction_time')['customer_id'].nunique().plot(title=\"Unique Customers Per Day\")\n",
    "plt.xlabel('Day')\n",
    "plt.ylabel('Unique Customers')"
   ]
  },
  {
   "cell_type": "markdown",
   "metadata": {},
   "source": [
    "#### Question 17\n",
    "\n",
    "The data seems to exhibit some patterns.  It would seem plausible that people are more likely to shop on certain days of the week.  Make a box-and-whiskers plot that summarizes customer counts by day of the week.  Hint: For our solution, we created a new column called `day_of_week` that contains the name of, well, the day of the week."
   ]
  },
  {
   "cell_type": "markdown",
   "metadata": {},
   "source": [
    "![](number_by_dow.png)"
   ]
  },
  {
   "cell_type": "code",
   "execution_count": 44,
   "metadata": {},
   "outputs": [],
   "source": [
    "taFengFull['dow'] = \\\n",
    "    taFengFull['transaction_time'].dt.weekday_name \\\n",
    "    .astype('category', categories=['Monday', 'Tuesday', 'Wednesday', 'Thursday', 'Friday', 'Saturday', 'Sunday'], ordered=True)"
   ]
  },
  {
   "cell_type": "code",
   "execution_count": 45,
   "metadata": {},
   "outputs": [],
   "source": [
    "taFengFull['woy'] = taFengFull['transaction_time'].dt.week"
   ]
  },
  {
   "cell_type": "code",
   "execution_count": 46,
   "metadata": {
    "collapsed": true,
    "for_assignment_type": "student"
   },
   "outputs": [],
   "source": [
    "dfc = taFengFull[['woy', 'dow', 'customer_id', 'transaction_time']] \\\n",
    "    .drop_duplicates() \\\n",
    "    .groupby(['dow', 'woy']) \\\n",
    "    .size() \\\n",
    "    .reset_index(name='count')\n"
   ]
  },
  {
   "cell_type": "code",
   "execution_count": 47,
   "metadata": {},
   "outputs": [
    {
     "data": {
      "text/plain": [
       "<matplotlib.text.Text at 0x1171d7d30>"
      ]
     },
     "execution_count": 47,
     "metadata": {},
     "output_type": "execute_result"
    },
    {
     "data": {
      "image/png": "[encoded data removed]",
      "text/plain": [
       "<matplotlib.figure.Figure at 0x11e087978>"
      ]
     },
     "metadata": {},
     "output_type": "display_data"
    }
   ],
   "source": [
    "sns.boxplot('dow', 'count', data=dfc)\n",
    "plt.xlabel('Day of Week')\n",
    "plt.ylabel('Count')\n",
    "plt.title('Number of Customers by Day of Week')"
   ]
  },
  {
   "cell_type": "markdown",
   "metadata": {},
   "source": [
    "The boxplots confirm that typical Sundays have many more (~500) customers shopping in comparison to the week days.  Also, many customers visit Ta Feng on Saturday."
   ]
  },
  {
   "cell_type": "markdown",
   "metadata": {},
   "source": [
    "#### Question 18\n",
    "There seems to be three distinct times that the number of customers drops below \"normal\" counts.  Could these days be holidays?  Name three holidays that would most influence shopping behavior in this time period.  Hint: To answer this question, you will have to understand the temporal and geographical context of the data."
   ]
  },
  {
   "cell_type": "code",
   "execution_count": 48,
   "metadata": {},
   "outputs": [
    {
     "data": {
      "text/plain": [
       "<matplotlib.axes._subplots.AxesSubplot at 0x11e72b7f0>"
      ]
     },
     "execution_count": 48,
     "metadata": {},
     "output_type": "execute_result"
    },
    {
     "data": {
      "image/png": "[encoded data removed]",
      "text/plain": [
       "<matplotlib.figure.Figure at 0x117951860>"
      ]
     },
     "metadata": {},
     "output_type": "display_data"
    }
   ],
   "source": [
    "taFengFull.groupby('transaction_time')['customer_id'].nunique().loc[\"2000-12-15\":\"2000-12-28\"].plot()"
   ]
  },
  {
   "cell_type": "code",
   "execution_count": 49,
   "metadata": {},
   "outputs": [
    {
     "data": {
      "text/plain": [
       "<matplotlib.axes._subplots.AxesSubplot at 0x1171fa7f0>"
      ]
     },
     "execution_count": 49,
     "metadata": {},
     "output_type": "execute_result"
    },
    {
     "data": {
      "image/png": "[encoded data removed]",
      "text/plain": [
       "<matplotlib.figure.Figure at 0x11dc6bd68>"
      ]
     },
     "metadata": {},
     "output_type": "display_data"
    }
   ],
   "source": [
    "taFengFull.groupby('transaction_time')['customer_id'].nunique().loc[\"2001-01-01\":\"2001-01-15\"].plot()"
   ]
  },
  {
   "cell_type": "code",
   "execution_count": 50,
   "metadata": {},
   "outputs": [
    {
     "data": {
      "text/plain": [
       "<matplotlib.axes._subplots.AxesSubplot at 0x117168c50>"
      ]
     },
     "execution_count": 50,
     "metadata": {},
     "output_type": "execute_result"
    },
    {
     "data": {
      "image/png": "[encoded data removed]",
      "text/plain": [
       "<matplotlib.figure.Figure at 0x11ea669e8>"
      ]
     },
     "metadata": {},
     "output_type": "display_data"
    }
   ],
   "source": [
    "taFengFull.groupby('transaction_time')['customer_id'].nunique().loc[\"2001-01-20\":\"2001-02-01\"].plot()"
   ]
  },
  {
   "cell_type": "markdown",
   "metadata": {},
   "source": [
    "Christmas, New Year and Spring Festival"
   ]
  },
  {
   "cell_type": "markdown",
   "metadata": {},
   "source": [
    "#### Question 19\n",
    "\n",
    "Reproduce the line graph from above, but this time, add reference lines so that you can easily pick out which days are holidays."
   ]
  },
  {
   "cell_type": "markdown",
   "metadata": {},
   "source": [
    "![](number_by_holiday.png)"
   ]
  },
  {
   "cell_type": "markdown",
   "metadata": {},
   "source": [
    "It seems like holidays are indeed a plausible explanation for the lows and highs we see on our plot!  It looks like Ta Feng has a week of really slow business right before Christmas and after both New Year celebrations.  The most pronounced peak comes right before the celebration of the Lunar New Year."
   ]
  },
  {
   "cell_type": "markdown",
   "metadata": {},
   "source": [
    "# Self-Directed EDA\n",
    "The last two questions are intentionally more open-ended and will be graded on the completeness of the plot(s) produced and the insights you gain from them.  Be sure to consider transformations, subsets, correlations, reference markers, and lines/curves-of-best-fit to reveal the relationship that you are wanting to learn more about.  Also be sure to make plots that are appropriate for the variable types.  For completeness, be explicit about any assumptions you make in your analysis.  An exemplary plot will have:\n",
    "\n",
    "* A title\n",
    "* Labelled and appropriately scaled axes\n",
    "* A legend, if applicable\n",
    "* A carefully selected color scheme\n",
    "* A main point, accentuated through design choices"
   ]
  },
  {
   "cell_type": "markdown",
   "metadata": {},
   "source": [
    "#### Question 20\n",
    "\n",
    "Make a visualization of and interpret the distribution of one of the following quantitities:\n",
    "\n",
    "* Age distribution of the shoppers\n",
    "* Distribution of the number of trips each customer makes"
   ]
  },
  {
   "cell_type": "code",
   "execution_count": 60,
   "metadata": {
    "collapsed": false
   },
   "outputs": [
    {
     "data": {
      "text/plain": [
       "<matplotlib.text.Text at 0x13c08def0>"
      ]
     },
     "execution_count": 60,
     "metadata": {},
     "output_type": "execute_result"
    },
    {
     "data": {
      "image/png": "[encoded data removed]",
      "text/plain": [
       "<matplotlib.figure.Figure at 0x13bdcfe10>"
      ]
     },
     "metadata": {},
     "output_type": "display_data"
    }
   ],
   "source": [
    "dfage = taFengFull.groupby(\"age_center\")[\"customer_id\"].nunique()\n",
    "dfage.plot.barh(title=\"Age Distribution\")\n",
    "plt.xlabel(\"# of People\")\n",
    "plt.ylabel(\"Age\")"
   ]
  },
  {
   "cell_type": "markdown",
   "metadata": {},
   "source": [
    "### Your Observations"
   ]
  },
  {
   "cell_type": "markdown",
   "metadata": {},
   "source": [
    "#### Question 21\n",
    "\n",
    "Make a visualization of and interpret the relationship between one of the following pairs:\n",
    "\n",
    "* Amount spent on a shopping trip and the number of trips\n",
    "* Amount spent on a shopping trip and the customer's age. \n",
    "* Frequency of shopping and the customer's age "
   ]
  },
  {
   "cell_type": "code",
   "execution_count": 82,
   "metadata": {},
   "outputs": [],
   "source": [
    "dfsum = pd.DataFrame() \n",
    "dfsum[\"sales_price\"] = taFengFull.groupby(\"age_center\")[\"sales_price\"].sum()"
   ]
  },
  {
   "cell_type": "code",
   "execution_count": 87,
   "metadata": {},
   "outputs": [
    {
     "data": {
      "image/png": "[encoded data removed]",
      "text/plain": [
       "<matplotlib.figure.Figure at 0x126cfa278>"
      ]
     },
     "metadata": {},
     "output_type": "display_data"
    }
   ],
   "source": [
    "dfsum.plot(title=\"Age vs Money Spent\", logy=True)\n",
    "plt.ylabel('Money Spent')\n",
    "plt.xlabel('Age')\n",
    "plt.tick_params(axis='y', which='minor', length=4, right=False)\n",
    "plt.tick_params(axis='y', length=8, right=False)"
   ]
  },
  {
   "cell_type": "markdown",
   "metadata": {},
   "source": [
    "### Your Observations\n",
    "People in middle age are more willing to spend much money on shopping, while elder and youth spend less on shopping."
   ]
  },
  {
   "cell_type": "markdown",
   "metadata": {},
   "source": [
    "# Submitting your assignment\n",
    "First, run the next cell to run all the tests at once."
   ]
  },
  {
   "cell_type": "code",
   "execution_count": 88,
   "metadata": {
    "collapsed": false
   },
   "outputs": [
    {
     "name": "stdout",
     "output_type": "stream",
     "text": [
      "~~~~~~~~~~~~~~~~~~~~~~~~~~~~~~~~~~~~~~~~~~~~~~~~~~~~~~~~~~~~~~~~~~~~~\n",
      "Running tests\n",
      "\n",
      "---------------------------------------------------------------------\n",
      "Test summary\n",
      "    Passed: 1\n",
      "    Failed: 0\n",
      "[ooooooooook] 100.0% passed\n",
      "\n",
      "~~~~~~~~~~~~~~~~~~~~~~~~~~~~~~~~~~~~~~~~~~~~~~~~~~~~~~~~~~~~~~~~~~~~~\n",
      "Running tests\n",
      "\n",
      "---------------------------------------------------------------------\n",
      "Test summary\n",
      "    Passed: 2\n",
      "    Failed: 0\n",
      "[ooooooooook] 100.0% passed\n",
      "\n",
      "~~~~~~~~~~~~~~~~~~~~~~~~~~~~~~~~~~~~~~~~~~~~~~~~~~~~~~~~~~~~~~~~~~~~~\n",
      "Running tests\n",
      "\n",
      "---------------------------------------------------------------------\n",
      "Test summary\n",
      "    Passed: 1\n",
      "    Failed: 0\n",
      "[ooooooooook] 100.0% passed\n",
      "\n",
      "~~~~~~~~~~~~~~~~~~~~~~~~~~~~~~~~~~~~~~~~~~~~~~~~~~~~~~~~~~~~~~~~~~~~~\n",
      "Running tests\n",
      "\n",
      "---------------------------------------------------------------------\n",
      "Test summary\n",
      "    Passed: 2\n",
      "    Failed: 0\n",
      "[ooooooooook] 100.0% passed\n",
      "\n",
      "~~~~~~~~~~~~~~~~~~~~~~~~~~~~~~~~~~~~~~~~~~~~~~~~~~~~~~~~~~~~~~~~~~~~~\n",
      "Running tests\n",
      "\n",
      "---------------------------------------------------------------------\n",
      "Test summary\n",
      "    Passed: 2\n",
      "    Failed: 0\n",
      "[ooooooooook] 100.0% passed\n",
      "\n"
     ]
    }
   ],
   "source": [
    "_ = ok.grade_all()"
   ]
  },
  {
   "cell_type": "markdown",
   "metadata": {},
   "source": [
    "Then, we'll submit the assignment to OkPy so that the staff will know to grade it. You can submit as many times as you want, and you can choose which submission you want us to grade by going to https://okpy.org/cal/data100/sp17/.  After you've done that, make sure you've pushed your changes to Github as well!"
   ]
  },
  {
   "cell_type": "code",
   "execution_count": 89,
   "metadata": {
    "collapsed": false
   },
   "outputs": [
    {
     "data": {
      "application/javascript": [
       "IPython.notebook.save_checkpoint();"
      ],
      "text/plain": [
       "<IPython.core.display.Javascript object>"
      ]
     },
     "metadata": {},
     "output_type": "display_data"
    },
    {
     "data": {
      "application/javascript": [
       "IPython.notebook.save_notebook();"
      ],
      "text/plain": [
       "<IPython.core.display.Javascript object>"
      ]
     },
     "metadata": {},
     "output_type": "display_data"
    },
    {
     "name": "stdout",
     "output_type": "stream",
     "text": [
      "Saving notebook... Could not save your notebook. Make sure your notebook is saved before sending it to OK!\n",
      "Backup... 0.0% complete\r",
      "Backup... 100% complete\n",
      "Backup successful for user: doomsplayer@gmail.com\n",
      "\n"
     ]
    }
   ],
   "source": [
    "# Now, we'll submit to okpy\n",
    "_ = ok.submit()"
   ]
  },
  {
   "cell_type": "code",
   "execution_count": null,
   "metadata": {},
   "outputs": [],
   "source": []
  }
 ],
 "metadata": {
  "anaconda-cloud": {},
  "celltoolbar": "Edit Metadata",
  "kernelspec": {
   "display_name": "Python 3",
   "language": "python",
   "name": "python3"
  },
  "language_info": {
   "codemirror_mode": {
    "name": "ipython",
    "version": 3
   },
   "file_extension": ".py",
   "mimetype": "text/x-python",
   "name": "python",
   "nbconvert_exporter": "python",
   "pygments_lexer": "ipython3",
   "version": "3.6.1"
  }
 },
 "nbformat": 4,
 "nbformat_minor": 2
}
