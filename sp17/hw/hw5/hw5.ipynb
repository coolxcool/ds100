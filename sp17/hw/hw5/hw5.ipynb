{
 "cells": [
  {
   "cell_type": "markdown",
   "metadata": {
    "deletable": true,
    "editable": true
   },
   "source": [
    "## Homework 5"
   ]
  },
  {
   "cell_type": "code",
   "execution_count": 1,
   "metadata": {
    "collapsed": false,
    "deletable": true,
    "editable": true
   },
   "outputs": [
    {
     "name": "stdout",
     "output_type": "stream",
     "text": [
      "=====================================================================\n",
      "Assignment: Homework 5\n",
      "OK, version v1.11.1\n",
      "=====================================================================\n",
      "\n"
     ]
    },
    {
     "name": "stderr",
     "output_type": "stream",
     "text": [
      "/usr/local/lib/python3.6/site-packages/IPython/html.py:14: ShimWarning: The `IPython.html` package has been deprecated since IPython 4.0. You should import from `notebook` instead. `IPython.html.widgets` has moved to `ipywidgets`.\n",
      "  \"`IPython.html.widgets` has moved to `ipywidgets`.\", ShimWarning)\n"
     ]
    }
   ],
   "source": [
    "import numpy as np\n",
    "import pandas as pd\n",
    "%matplotlib inline\n",
    "import matplotlib.pyplot as plt\n",
    "import seaborn as sns\n",
    "from IPython.display import display, Latex, Markdown\n",
    "\n",
    "from client.api.notebook import Notebook\n",
    "ok = Notebook('hw5.ok')"
   ]
  },
  {
   "cell_type": "markdown",
   "metadata": {
    "deletable": true,
    "editable": true
   },
   "source": [
    "## This assignment\n",
    "\n",
    "In this assignment we will study a fundamental problem in crawling the web: *deciding when to re-index changing pages*.  \n",
    "\n",
    "Search engines like those deployed at Google and Microsoft periodically visit, or *crawl*, web pages to check their current status and record any changes to the page.  Some pages, such as news websites, are updated frequently while other pages, [like this one](http://youvegotmail.warnerbros.com/cmp/0frameset.html), are never updated. \n",
    "\n",
    "**Why not crawl the entire web all the time?**\n",
    "\n",
    "The web is **big** and even giant search engines don't have the resources to re-read the entire web continuously.  Fortunately, different sites change at different rates, so an intuitive strategy would be to visit sites more if they are changed more frequently.  But this requires us to know, or at least estimate, how often each web site is changed.  This is the main question you'll answer in this assignment.\n",
    "\n",
    "\n",
    "Along the way you will:\n",
    "\n",
    "* do some EDA to understand the site dataset.\n",
    "* build several *models* for the site changes.\n",
    "* use simulation to get a concrete understanding of your models.\n",
    "* compute maximum-likelihood estimates of model parameters.\n",
    "* use simulation and visualization to understand the accuracy of your estimates of site change frequencies."
   ]
  },
  {
   "cell_type": "markdown",
   "metadata": {
    "deletable": true,
    "editable": true
   },
   "source": [
    "## Examining the data\n",
    "Our dataset consists of observations for about 1000 pages over a 30-day period.  Every hour, each page was downloaded, and it was determined whether the page had been changed since the previous hour.  For the first hour, we can't tell whether it has changed, so there are 719 such \"checks\" for each page.\n",
    "\n",
    "**Important fact about the data:** Not every check succeeded.  Sometimes the page failed to load, or it was otherwise impossible to tell whether it had changed since the previous hour.  These hours are **omitted** from the dataset.  A field in the dataset indicates the number of successful checks for each page.\n",
    "\n",
    "The dataset is in JSON format in the file `crawl.json`.  For each page, we have: the URL, called `url`; the number of successful visits to the page, `number of checks`; and the checks when a change was detected, called `positive checks`.  Examine the `crawl.json` file.  You might find it convenient to load it into python using `json.load`.  The next cell two cells are provided for that."
   ]
  },
  {
   "cell_type": "code",
   "execution_count": 5,
   "metadata": {
    "collapsed": false,
    "deletable": true,
    "editable": true
   },
   "outputs": [
    {
     "name": "stdout",
     "output_type": "stream",
     "text": [
      "[\r\n",
      "    {\r\n",
      "        \"number of checks\": 378,\r\n",
      "        \"positive checks\": [\r\n",
      "            35,\r\n",
      "            134,\r\n",
      "            155,\r\n",
      "            157,\r\n",
      "            177,\r\n",
      "            204,\r\n",
      "            314,\r\n",
      "            315,\r\n",
      "            319,\r\n",
      "            350,\r\n",
      "            366,\r\n",
      "            369,\r\n",
      "            371\r\n",
      "        ],\r\n",
      "        \"url\": \"http://5eg.net/gallery/thumbnails.php?album=lastcom\"\r\n",
      "    },\r\n",
      "    {\r\n",
      "        \"number of checks\": 707,\r\n",
      "        \"positive checks\": [\r\n",
      "            552,\r\n",
      "            604,\r\n"
     ]
    }
   ],
   "source": [
    "# Use this cell to examine the dataset, if you like.\n",
    "!head -n 25 crawl.json"
   ]
  },
  {
   "cell_type": "code",
   "execution_count": 2,
   "metadata": {
    "collapsed": true,
    "deletable": true,
    "editable": true
   },
   "outputs": [],
   "source": [
    "# This cell loads the JSON data into Python.\n",
    "import json\n",
    "with open(\"crawl.json\", \"r\") as f:\n",
    "    crawl_json = json.load(f)"
   ]
  },
  {
   "cell_type": "markdown",
   "metadata": {
    "deletable": true,
    "editable": true
   },
   "source": [
    "\n",
    "---\n",
    "\n",
    "## Question 1"
   ]
  },
  {
   "cell_type": "markdown",
   "metadata": {
    "deletable": true,
    "editable": true
   },
   "source": [
    "Fill in the function `json_description` to determine:\n",
    "\n",
    "1. the number of records, and\n",
    "2. the set of possible top level *keys* (field names) in each record."
   ]
  },
  {
   "cell_type": "code",
   "execution_count": 7,
   "metadata": {
    "collapsed": true,
    "deletable": true,
    "editable": true,
    "for_assignment_type": "student"
   },
   "outputs": [],
   "source": [
    "def json_description(crawl_json_records):\n",
    "    \"\"\"Produces information about a JSON object containing crawl data.\n",
    "    \n",
    "    Args:\n",
    "      crawl_json_records (list): A list of JSON objects such as the\n",
    "                                 crawl_json variable above.\n",
    "    \n",
    "    Returns:\n",
    "      2-tuple: An (int, set) pair.  The integer is the number of records\n",
    "               in the given list.  The set is a set (constructed with\n",
    "               Python's set() function) of strings.  It contains all the\n",
    "               field top names that appear at the top level of any record\n",
    "               in crawl_json_records.\n",
    "    \"\"\"\n",
    "    num_records = len(crawl_json_records)\n",
    "    possible_fields = list(crawl_json_records[0].keys())\n",
    "    # Feel free to erase the next line.  It just demonstrates how\n",
    "    # to return a tuple.  You'll have to replace the variable names\n",
    "    # with whatever you define in this function.\n",
    "    return (num_records, possible_fields)"
   ]
  },
  {
   "cell_type": "code",
   "execution_count": 16,
   "metadata": {
    "collapsed": false,
    "deletable": true,
    "editable": true
   },
   "outputs": [
    {
     "name": "stdout",
     "output_type": "stream",
     "text": [
      "~~~~~~~~~~~~~~~~~~~~~~~~~~~~~~~~~~~~~~~~~~~~~~~~~~~~~~~~~~~~~~~~~~~~~\n",
      "Running tests\n",
      "\n",
      "---------------------------------------------------------------------\n",
      "Test summary\n",
      "    Passed: 1\n",
      "    Failed: 0\n",
      "[ooooooooook] 100.0% passed\n",
      "\n"
     ]
    },
    {
     "data": {
      "application/javascript": [
       "IPython.notebook.save_checkpoint();"
      ],
      "text/plain": [
       "<IPython.core.display.Javascript object>"
      ]
     },
     "metadata": {},
     "output_type": "display_data"
    },
    {
     "data": {
      "application/javascript": [
       "IPython.notebook.save_notebook();"
      ],
      "text/plain": [
       "<IPython.core.display.Javascript object>"
      ]
     },
     "metadata": {},
     "output_type": "display_data"
    },
    {
     "name": "stdout",
     "output_type": "stream",
     "text": [
      "Saving notebook... Could not save your notebook. Make sure your notebook is saved before sending it to OK!\n",
      "Performing authentication\n",
      "Please enter your bCourses email.\n",
      "Successfully logged in as doomsplayer@gmail.com\n",
      "Backup... 0.0% complete\r",
      "Backup... 100% complete\n",
      "Backup successful for user: doomsplayer@gmail.com\n",
      "\n"
     ]
    }
   ],
   "source": [
    "_ = ok.grade('q01')\n",
    "_ = ok.backup()"
   ]
  },
  {
   "cell_type": "code",
   "execution_count": 8,
   "metadata": {
    "collapsed": false,
    "deletable": true,
    "editable": true
   },
   "outputs": [
    {
     "name": "stdout",
     "output_type": "stream",
     "text": [
      "Number of records: 1000\n",
      "Keys in the records: ['number of checks', 'positive checks', 'url']\n"
     ]
    }
   ],
   "source": [
    "# Display results\n",
    "n, keys = json_description(crawl_json)\n",
    "print(\"Number of records:\", n)\n",
    "print(\"Keys in the records:\", keys)"
   ]
  },
  {
   "cell_type": "markdown",
   "metadata": {
    "deletable": true,
    "editable": true
   },
   "source": [
    "---\n",
    "\n",
    "## Question 2\n",
    "What is the granularity of the dataset as represented in `crawl.json`?  Write a one to two sentence description in the cell below:"
   ]
  },
  {
   "cell_type": "code",
   "execution_count": 9,
   "metadata": {
    "collapsed": false,
    "deletable": true,
    "editable": true,
    "for_assignment_type": "student"
   },
   "outputs": [
    {
     "data": {
      "text/markdown": [
       "\n",
       "\n",
       "the crawl.json consists of json objects that each describe crawls for a whole site.\n",
       "\n"
      ],
      "text/plain": [
       "<IPython.core.display.Markdown object>"
      ]
     },
     "metadata": {},
     "output_type": "display_data"
    }
   ],
   "source": [
    "# Use this cell for your explorations.\n",
    "q2_answer = r\"\"\"\n",
    "\n",
    "the crawl.json consists of json objects that each describe crawls for a whole site.\n",
    "\n",
    "\"\"\"\n",
    "\n",
    "display(Markdown(q2_answer))"
   ]
  },
  {
   "cell_type": "markdown",
   "metadata": {
    "deletable": true,
    "editable": true
   },
   "source": [
    "\n",
    "---\n",
    "\n",
    "## Question 3\n",
    "\n",
    "It will be more convenient to work with the data in Pandas DataFrame with a rectangular format.  Fill in the function `make_crawls_dataframe` in the cell below.  **Then** run the cell below that to create the table `crawls`."
   ]
  },
  {
   "cell_type": "code",
   "execution_count": 26,
   "metadata": {},
   "outputs": [
    {
     "data": {
      "text/html": [
       "<div>\n",
       "<style>\n",
       "    .dataframe thead tr:only-child th {\n",
       "        text-align: right;\n",
       "    }\n",
       "\n",
       "    .dataframe thead th {\n",
       "        text-align: left;\n",
       "    }\n",
       "\n",
       "    .dataframe tbody tr th {\n",
       "        vertical-align: top;\n",
       "    }\n",
       "</style>\n",
       "<table border=\"1\" class=\"dataframe\">\n",
       "  <thead>\n",
       "    <tr style=\"text-align: right;\">\n",
       "      <th></th>\n",
       "      <th>number of checks</th>\n",
       "      <th>positive checks</th>\n",
       "      <th>url</th>\n",
       "    </tr>\n",
       "  </thead>\n",
       "  <tbody>\n",
       "    <tr>\n",
       "      <th>0</th>\n",
       "      <td>378</td>\n",
       "      <td>[35, 134, 155, 157, 177, 204, 314, 315, 319, 3...</td>\n",
       "      <td>http://5eg.net/gallery/thumbnails.php?album=la...</td>\n",
       "    </tr>\n",
       "    <tr>\n",
       "      <th>1</th>\n",
       "      <td>707</td>\n",
       "      <td>[552, 604, 672]</td>\n",
       "      <td>http://a.hatena.ne.jp/yamagen2001/</td>\n",
       "    </tr>\n",
       "    <tr>\n",
       "      <th>2</th>\n",
       "      <td>418</td>\n",
       "      <td>[1, 2, 3, 4, 5, 6, 7, 8, 9, 10, 11, 12, 13, 14...</td>\n",
       "      <td>http://abclocal.go.com/wls/story?section=News&amp;...</td>\n",
       "    </tr>\n",
       "    <tr>\n",
       "      <th>3</th>\n",
       "      <td>369</td>\n",
       "      <td>[30, 36, 45, 65, 88, 154, 157, 166, 169, 197, ...</td>\n",
       "      <td>http://africa.oneworld.net/article/rssheadline...</td>\n",
       "    </tr>\n",
       "    <tr>\n",
       "      <th>4</th>\n",
       "      <td>719</td>\n",
       "      <td>[5, 6, 10, 12, 13, 15, 17, 18, 21, 30, 31, 32,...</td>\n",
       "      <td>http://barrie.kijiji.ca/c-buy-and-sell-sports-...</td>\n",
       "    </tr>\n",
       "    <tr>\n",
       "      <th>5</th>\n",
       "      <td>612</td>\n",
       "      <td>[4, 5, 28, 52, 76, 100, 116, 129, 155, 196, 22...</td>\n",
       "      <td>http://bayreuth.eins.de/category/list/communit...</td>\n",
       "    </tr>\n",
       "    <tr>\n",
       "      <th>6</th>\n",
       "      <td>366</td>\n",
       "      <td>[1, 4, 6, 14, 15, 21, 26, 38, 45, 54, 64, 78, ...</td>\n",
       "      <td>http://bbs.zksh.com/boardstat.asp?boardid=479</td>\n",
       "    </tr>\n",
       "    <tr>\n",
       "      <th>7</th>\n",
       "      <td>261</td>\n",
       "      <td>[4, 7, 9, 10, 13, 14, 33, 34, 79, 81, 100, 101...</td>\n",
       "      <td>http://bbs3.ustc.edu.cn/cgi/bbsqry?userid=neww...</td>\n",
       "    </tr>\n",
       "    <tr>\n",
       "      <th>8</th>\n",
       "      <td>719</td>\n",
       "      <td>[3, 4, 7, 8, 10, 11, 12, 13, 15, 16, 17, 20, 2...</td>\n",
       "      <td>http://bg.boincstats.com/stats/team_member_mov...</td>\n",
       "    </tr>\n",
       "    <tr>\n",
       "      <th>9</th>\n",
       "      <td>600</td>\n",
       "      <td>[51, 55, 61, 62, 67, 68, 70, 77, 81, 86, 91, 1...</td>\n",
       "      <td>http://big5.made-in-china.com/Agriculture-Food...</td>\n",
       "    </tr>\n",
       "    <tr>\n",
       "      <th>10</th>\n",
       "      <td>543</td>\n",
       "      <td>[13, 43, 44, 48, 58, 62, 97, 107, 108, 112, 11...</td>\n",
       "      <td>http://biosingularity.wordpress.com/2006/05/29...</td>\n",
       "    </tr>\n",
       "    <tr>\n",
       "      <th>11</th>\n",
       "      <td>129</td>\n",
       "      <td>[17, 118]</td>\n",
       "      <td>http://blog.struggle06.com/?eid=116602</td>\n",
       "    </tr>\n",
       "    <tr>\n",
       "      <th>12</th>\n",
       "      <td>117</td>\n",
       "      <td>[65]</td>\n",
       "      <td>http://blog.struggle06.com/?eid=353658</td>\n",
       "    </tr>\n",
       "    <tr>\n",
       "      <th>13</th>\n",
       "      <td>719</td>\n",
       "      <td>[1, 43, 91, 115, 173, 197, 221, 235, 308, 359,...</td>\n",
       "      <td>http://blogs.yahoo.co.jp/hoshineko_blog</td>\n",
       "    </tr>\n",
       "    <tr>\n",
       "      <th>14</th>\n",
       "      <td>719</td>\n",
       "      <td>[7, 15, 20, 23, 32, 38, 40, 42, 55, 63, 65, 67...</td>\n",
       "      <td>http://blogs.yahoo.co.jp/rion5230/40282203.html</td>\n",
       "    </tr>\n",
       "    <tr>\n",
       "      <th>15</th>\n",
       "      <td>68</td>\n",
       "      <td>[1, 2, 3, 4, 5, 6, 7, 8, 9, 10, 12, 13, 15, 16...</td>\n",
       "      <td>http://book.ndcnc.gov.cn/Dlib/preview.asp?lang...</td>\n",
       "    </tr>\n",
       "    <tr>\n",
       "      <th>16</th>\n",
       "      <td>28</td>\n",
       "      <td>[8]</td>\n",
       "      <td>http://bourgogne.moteurs-regionaux.com/pme-pmi...</td>\n",
       "    </tr>\n",
       "    <tr>\n",
       "      <th>17</th>\n",
       "      <td>719</td>\n",
       "      <td>[21, 45, 69, 93, 117, 141, 165, 189, 213, 237,...</td>\n",
       "      <td>http://camden.ces.ncsu.edu/index.php?page=even...</td>\n",
       "    </tr>\n",
       "    <tr>\n",
       "      <th>18</th>\n",
       "      <td>387</td>\n",
       "      <td>[12, 30, 32, 37, 43, 52, 81, 96, 104, 109, 131...</td>\n",
       "      <td>http://chn.pl/index.php?name=&amp;file=index&amp;req=v...</td>\n",
       "    </tr>\n",
       "    <tr>\n",
       "      <th>19</th>\n",
       "      <td>477</td>\n",
       "      <td>[6, 8, 10, 11, 17, 18, 20, 23, 24, 25, 30, 32,...</td>\n",
       "      <td>http://coherentdog.org/kwalikneepic01.htm</td>\n",
       "    </tr>\n",
       "    <tr>\n",
       "      <th>20</th>\n",
       "      <td>490</td>\n",
       "      <td>[17, 41, 65, 89, 113, 137, 161, 185, 209, 233,...</td>\n",
       "      <td>http://columbusbusinessportals.com/Home/tabid/...</td>\n",
       "    </tr>\n",
       "    <tr>\n",
       "      <th>21</th>\n",
       "      <td>719</td>\n",
       "      <td>[1, 2, 3, 9, 11, 12, 19, 24, 27, 33, 36, 37, 3...</td>\n",
       "      <td>http://community.walla.co.il/?w=///11515704//user</td>\n",
       "    </tr>\n",
       "    <tr>\n",
       "      <th>22</th>\n",
       "      <td>719</td>\n",
       "      <td>[9, 145, 171, 200, 210, 211, 249, 299, 323, 37...</td>\n",
       "      <td>http://dahuitech.cn.alibaba.com/</td>\n",
       "    </tr>\n",
       "    <tr>\n",
       "      <th>23</th>\n",
       "      <td>719</td>\n",
       "      <td>[1, 2, 3, 7, 9, 10, 11, 13, 14, 16, 17, 20, 21...</td>\n",
       "      <td>http://directory.rakuten.co.jp/rms/sd/director...</td>\n",
       "    </tr>\n",
       "    <tr>\n",
       "      <th>24</th>\n",
       "      <td>719</td>\n",
       "      <td>[2, 6, 7, 8, 18, 24, 25, 30, 32, 33, 37, 43, 4...</td>\n",
       "      <td>http://dpshow.163.com/opus_best.php?type_id=6</td>\n",
       "    </tr>\n",
       "    <tr>\n",
       "      <th>25</th>\n",
       "      <td>719</td>\n",
       "      <td>[27, 34, 53, 55, 98, 101, 105, 113, 116, 122, ...</td>\n",
       "      <td>http://drukarki.idg.pl/news/105903.html</td>\n",
       "    </tr>\n",
       "    <tr>\n",
       "      <th>26</th>\n",
       "      <td>719</td>\n",
       "      <td>[1, 3, 4, 5, 6, 9, 11, 25, 26, 28, 30, 31, 42,...</td>\n",
       "      <td>http://fakty.interia.pl/fakty_dnia/news/znane-...</td>\n",
       "    </tr>\n",
       "    <tr>\n",
       "      <th>27</th>\n",
       "      <td>652</td>\n",
       "      <td>[1, 14, 15, 16, 17, 21, 25, 39, 43, 44, 45, 62...</td>\n",
       "      <td>http://feeds.news.com.au/public/rss/2.0/news_b...</td>\n",
       "    </tr>\n",
       "    <tr>\n",
       "      <th>28</th>\n",
       "      <td>649</td>\n",
       "      <td>[2, 26, 43, 50, 74, 97, 98, 122, 146, 170, 194...</td>\n",
       "      <td>http://feeds.rhapsody.com/freehotlunch/discogr...</td>\n",
       "    </tr>\n",
       "    <tr>\n",
       "      <th>29</th>\n",
       "      <td>719</td>\n",
       "      <td>[1, 3, 4, 5, 6, 7, 8, 9, 19, 20, 22, 23, 24, 2...</td>\n",
       "      <td>http://fibi.bizportal.co.il/bizportalnew/bizco...</td>\n",
       "    </tr>\n",
       "    <tr>\n",
       "      <th>...</th>\n",
       "      <td>...</td>\n",
       "      <td>...</td>\n",
       "      <td>...</td>\n",
       "    </tr>\n",
       "    <tr>\n",
       "      <th>970</th>\n",
       "      <td>719</td>\n",
       "      <td>[4, 6, 8, 9, 10, 11, 12, 13, 14, 15, 17, 21, 2...</td>\n",
       "      <td>http://use.perl.org/comments.pl?cid=10047&amp;sid=...</td>\n",
       "    </tr>\n",
       "    <tr>\n",
       "      <th>971</th>\n",
       "      <td>382</td>\n",
       "      <td>[1, 2, 3, 4, 5, 6, 7, 8, 9, 10, 11, 12, 13, 14...</td>\n",
       "      <td>http://v.blog.sina.com.cn/b/1083558-1268906644...</td>\n",
       "    </tr>\n",
       "    <tr>\n",
       "      <th>972</th>\n",
       "      <td>556</td>\n",
       "      <td>[179, 180, 192, 193, 194, 195, 197, 198, 199, ...</td>\n",
       "      <td>http://v.blog.sina.com.cn/tag/%B1%CA%B1%CA</td>\n",
       "    </tr>\n",
       "    <tr>\n",
       "      <th>973</th>\n",
       "      <td>536</td>\n",
       "      <td>[2, 6, 8, 9, 10, 11, 13, 14, 19, 24, 26, 33, 3...</td>\n",
       "      <td>http://videos.orange.es/player/?csig=iLyROoaft...</td>\n",
       "    </tr>\n",
       "    <tr>\n",
       "      <th>974</th>\n",
       "      <td>536</td>\n",
       "      <td>[1, 2, 3, 5, 9, 10, 11, 12, 13, 14, 17, 18, 19...</td>\n",
       "      <td>http://videos.orange.es/search/?q=germany</td>\n",
       "    </tr>\n",
       "    <tr>\n",
       "      <th>975</th>\n",
       "      <td>59</td>\n",
       "      <td>[1, 2, 3, 4, 5, 6, 7, 8, 10, 11, 12, 13, 14, 1...</td>\n",
       "      <td>http://watchonlinevideos.com/index.php</td>\n",
       "    </tr>\n",
       "    <tr>\n",
       "      <th>976</th>\n",
       "      <td>719</td>\n",
       "      <td>[1, 2, 3, 4, 5, 6, 7, 8, 9, 10, 11, 12, 13, 14...</td>\n",
       "      <td>http://web2.radio-france.fr/thematiques/sport/...</td>\n",
       "    </tr>\n",
       "    <tr>\n",
       "      <th>977</th>\n",
       "      <td>499</td>\n",
       "      <td>[9, 35, 78, 170, 198, 199, 281, 328, 418]</td>\n",
       "      <td>http://webservices.sys-con.com/read/39649.htm</td>\n",
       "    </tr>\n",
       "    <tr>\n",
       "      <th>978</th>\n",
       "      <td>496</td>\n",
       "      <td>[1, 2, 3, 4, 5, 6, 7, 8, 9, 10, 11, 12, 13, 14...</td>\n",
       "      <td>http://www.17885.com.tw/Forum/topic.asp?topic_...</td>\n",
       "    </tr>\n",
       "    <tr>\n",
       "      <th>979</th>\n",
       "      <td>719</td>\n",
       "      <td>[3, 30, 32, 55, 60, 64, 79, 117, 126, 153, 172...</td>\n",
       "      <td>http://www.2devs.com/spip/forum.php3?id_articl...</td>\n",
       "    </tr>\n",
       "    <tr>\n",
       "      <th>980</th>\n",
       "      <td>433</td>\n",
       "      <td>[1, 2, 3, 4, 5, 6, 7, 8, 9, 10, 11, 12, 13, 14...</td>\n",
       "      <td>http://www.43things.com/people/progress/CCSing...</td>\n",
       "    </tr>\n",
       "    <tr>\n",
       "      <th>981</th>\n",
       "      <td>433</td>\n",
       "      <td>[1, 2, 3, 4, 5, 6, 7, 8, 9, 10, 11, 12, 13, 14...</td>\n",
       "      <td>http://www.43things.com/people/progress/CCSing...</td>\n",
       "    </tr>\n",
       "    <tr>\n",
       "      <th>982</th>\n",
       "      <td>433</td>\n",
       "      <td>[1, 2, 3, 4, 5, 6, 7, 8, 9, 10, 11, 12, 13, 14...</td>\n",
       "      <td>http://www.43things.com/people/progress/CCSing...</td>\n",
       "    </tr>\n",
       "    <tr>\n",
       "      <th>983</th>\n",
       "      <td>433</td>\n",
       "      <td>[1, 2, 3, 4, 5, 6, 7, 8, 9, 10, 11, 12, 13, 14...</td>\n",
       "      <td>http://www.43things.com/people/progress/KayakC...</td>\n",
       "    </tr>\n",
       "    <tr>\n",
       "      <th>984</th>\n",
       "      <td>433</td>\n",
       "      <td>[1, 2, 3, 4, 5, 6, 7, 8, 9, 10, 11, 12, 14, 15...</td>\n",
       "      <td>http://www.43things.com/person/MaggieRocks</td>\n",
       "    </tr>\n",
       "    <tr>\n",
       "      <th>985</th>\n",
       "      <td>51</td>\n",
       "      <td>[]</td>\n",
       "      <td>http://www.6startips.com/</td>\n",
       "    </tr>\n",
       "    <tr>\n",
       "      <th>986</th>\n",
       "      <td>719</td>\n",
       "      <td>[5, 24, 26, 49, 69, 71, 75, 77, 79, 94, 97, 99...</td>\n",
       "      <td>http://www.a1imoti.com/index.php?lang=en&amp;valut...</td>\n",
       "    </tr>\n",
       "    <tr>\n",
       "      <th>987</th>\n",
       "      <td>719</td>\n",
       "      <td>[2, 4, 10, 19, 28, 30, 32, 46, 50, 52, 53, 55,...</td>\n",
       "      <td>http://www.abendblatt.de/daten/2004/09/30/3469...</td>\n",
       "    </tr>\n",
       "    <tr>\n",
       "      <th>988</th>\n",
       "      <td>719</td>\n",
       "      <td>[1, 2, 4, 5, 6, 7, 9, 10, 11, 12, 13, 14, 15, ...</td>\n",
       "      <td>http://www.adictosalcine.com/nueva_descarga.ph...</td>\n",
       "    </tr>\n",
       "    <tr>\n",
       "      <th>989</th>\n",
       "      <td>510</td>\n",
       "      <td>[22, 157, 190, 214, 262, 334, 358, 382, 430, 454]</td>\n",
       "      <td>http://www.afrika-start.de/afrikanische-namen-...</td>\n",
       "    </tr>\n",
       "    <tr>\n",
       "      <th>990</th>\n",
       "      <td>436</td>\n",
       "      <td>[1, 2, 3, 4, 5, 6, 7, 8, 9, 10, 11, 12, 13, 14...</td>\n",
       "      <td>http://www.ajcshopping.com/hp/shopping/shoppin...</td>\n",
       "    </tr>\n",
       "    <tr>\n",
       "      <th>991</th>\n",
       "      <td>478</td>\n",
       "      <td>[5, 12, 14, 16, 19, 24, 26, 29, 30, 31, 32, 34...</td>\n",
       "      <td>http://www.allegro.pl/27434_jvc.html?order=t&amp;v...</td>\n",
       "    </tr>\n",
       "    <tr>\n",
       "      <th>992</th>\n",
       "      <td>719</td>\n",
       "      <td>[1, 2, 5, 7, 9, 10, 11, 12, 13, 14, 15, 17, 21...</td>\n",
       "      <td>http://www.allinform.ru/template.php?dept_id=1...</td>\n",
       "    </tr>\n",
       "    <tr>\n",
       "      <th>993</th>\n",
       "      <td>719</td>\n",
       "      <td>[1, 2, 3, 4, 7, 9, 10, 11, 15, 17, 21, 22, 23,...</td>\n",
       "      <td>http://www.allinform.ru/xp_change_region.php?d...</td>\n",
       "    </tr>\n",
       "    <tr>\n",
       "      <th>994</th>\n",
       "      <td>719</td>\n",
       "      <td>[12, 61, 85, 109, 133, 157, 180, 229, 253, 277...</td>\n",
       "      <td>http://www.almodovar.fr/fr/nosactivites/projec...</td>\n",
       "    </tr>\n",
       "    <tr>\n",
       "      <th>995</th>\n",
       "      <td>414</td>\n",
       "      <td>[1, 2, 3, 4, 5, 7, 8, 9, 11, 12, 14, 16, 17, 1...</td>\n",
       "      <td>http://www.ammanstock.net/vb/index.php/archive...</td>\n",
       "    </tr>\n",
       "    <tr>\n",
       "      <th>996</th>\n",
       "      <td>719</td>\n",
       "      <td>[7, 9, 11, 14, 15, 23, 26, 27, 34, 38, 40, 41,...</td>\n",
       "      <td>http://www.apotheker-schaefer.de/0560839/</td>\n",
       "    </tr>\n",
       "    <tr>\n",
       "      <th>997</th>\n",
       "      <td>719</td>\n",
       "      <td>[1, 2, 3, 4, 5, 6, 7, 8, 9, 10, 11, 12, 13, 14...</td>\n",
       "      <td>http://www.apotheker-schaefer.de/2094436/</td>\n",
       "    </tr>\n",
       "    <tr>\n",
       "      <th>998</th>\n",
       "      <td>284</td>\n",
       "      <td>[1, 2, 3, 4, 5, 6, 7, 8, 9, 10, 11, 12, 13, 14...</td>\n",
       "      <td>http://www.aquariumcastle.com/</td>\n",
       "    </tr>\n",
       "    <tr>\n",
       "      <th>999</th>\n",
       "      <td>166</td>\n",
       "      <td>[28, 30, 33, 36, 37, 39, 53, 54, 87, 92, 100, ...</td>\n",
       "      <td>http://www.artimpresia.com/index.php?option=co...</td>\n",
       "    </tr>\n",
       "  </tbody>\n",
       "</table>\n",
       "<p>1000 rows × 3 columns</p>\n",
       "</div>"
      ],
      "text/plain": [
       "     number of checks                                    positive checks  \\\n",
       "0                 378  [35, 134, 155, 157, 177, 204, 314, 315, 319, 3...   \n",
       "1                 707                                    [552, 604, 672]   \n",
       "2                 418  [1, 2, 3, 4, 5, 6, 7, 8, 9, 10, 11, 12, 13, 14...   \n",
       "3                 369  [30, 36, 45, 65, 88, 154, 157, 166, 169, 197, ...   \n",
       "4                 719  [5, 6, 10, 12, 13, 15, 17, 18, 21, 30, 31, 32,...   \n",
       "5                 612  [4, 5, 28, 52, 76, 100, 116, 129, 155, 196, 22...   \n",
       "6                 366  [1, 4, 6, 14, 15, 21, 26, 38, 45, 54, 64, 78, ...   \n",
       "7                 261  [4, 7, 9, 10, 13, 14, 33, 34, 79, 81, 100, 101...   \n",
       "8                 719  [3, 4, 7, 8, 10, 11, 12, 13, 15, 16, 17, 20, 2...   \n",
       "9                 600  [51, 55, 61, 62, 67, 68, 70, 77, 81, 86, 91, 1...   \n",
       "10                543  [13, 43, 44, 48, 58, 62, 97, 107, 108, 112, 11...   \n",
       "11                129                                          [17, 118]   \n",
       "12                117                                               [65]   \n",
       "13                719  [1, 43, 91, 115, 173, 197, 221, 235, 308, 359,...   \n",
       "14                719  [7, 15, 20, 23, 32, 38, 40, 42, 55, 63, 65, 67...   \n",
       "15                 68  [1, 2, 3, 4, 5, 6, 7, 8, 9, 10, 12, 13, 15, 16...   \n",
       "16                 28                                                [8]   \n",
       "17                719  [21, 45, 69, 93, 117, 141, 165, 189, 213, 237,...   \n",
       "18                387  [12, 30, 32, 37, 43, 52, 81, 96, 104, 109, 131...   \n",
       "19                477  [6, 8, 10, 11, 17, 18, 20, 23, 24, 25, 30, 32,...   \n",
       "20                490  [17, 41, 65, 89, 113, 137, 161, 185, 209, 233,...   \n",
       "21                719  [1, 2, 3, 9, 11, 12, 19, 24, 27, 33, 36, 37, 3...   \n",
       "22                719  [9, 145, 171, 200, 210, 211, 249, 299, 323, 37...   \n",
       "23                719  [1, 2, 3, 7, 9, 10, 11, 13, 14, 16, 17, 20, 21...   \n",
       "24                719  [2, 6, 7, 8, 18, 24, 25, 30, 32, 33, 37, 43, 4...   \n",
       "25                719  [27, 34, 53, 55, 98, 101, 105, 113, 116, 122, ...   \n",
       "26                719  [1, 3, 4, 5, 6, 9, 11, 25, 26, 28, 30, 31, 42,...   \n",
       "27                652  [1, 14, 15, 16, 17, 21, 25, 39, 43, 44, 45, 62...   \n",
       "28                649  [2, 26, 43, 50, 74, 97, 98, 122, 146, 170, 194...   \n",
       "29                719  [1, 3, 4, 5, 6, 7, 8, 9, 19, 20, 22, 23, 24, 2...   \n",
       "..                ...                                                ...   \n",
       "970               719  [4, 6, 8, 9, 10, 11, 12, 13, 14, 15, 17, 21, 2...   \n",
       "971               382  [1, 2, 3, 4, 5, 6, 7, 8, 9, 10, 11, 12, 13, 14...   \n",
       "972               556  [179, 180, 192, 193, 194, 195, 197, 198, 199, ...   \n",
       "973               536  [2, 6, 8, 9, 10, 11, 13, 14, 19, 24, 26, 33, 3...   \n",
       "974               536  [1, 2, 3, 5, 9, 10, 11, 12, 13, 14, 17, 18, 19...   \n",
       "975                59  [1, 2, 3, 4, 5, 6, 7, 8, 10, 11, 12, 13, 14, 1...   \n",
       "976               719  [1, 2, 3, 4, 5, 6, 7, 8, 9, 10, 11, 12, 13, 14...   \n",
       "977               499          [9, 35, 78, 170, 198, 199, 281, 328, 418]   \n",
       "978               496  [1, 2, 3, 4, 5, 6, 7, 8, 9, 10, 11, 12, 13, 14...   \n",
       "979               719  [3, 30, 32, 55, 60, 64, 79, 117, 126, 153, 172...   \n",
       "980               433  [1, 2, 3, 4, 5, 6, 7, 8, 9, 10, 11, 12, 13, 14...   \n",
       "981               433  [1, 2, 3, 4, 5, 6, 7, 8, 9, 10, 11, 12, 13, 14...   \n",
       "982               433  [1, 2, 3, 4, 5, 6, 7, 8, 9, 10, 11, 12, 13, 14...   \n",
       "983               433  [1, 2, 3, 4, 5, 6, 7, 8, 9, 10, 11, 12, 13, 14...   \n",
       "984               433  [1, 2, 3, 4, 5, 6, 7, 8, 9, 10, 11, 12, 14, 15...   \n",
       "985                51                                                 []   \n",
       "986               719  [5, 24, 26, 49, 69, 71, 75, 77, 79, 94, 97, 99...   \n",
       "987               719  [2, 4, 10, 19, 28, 30, 32, 46, 50, 52, 53, 55,...   \n",
       "988               719  [1, 2, 4, 5, 6, 7, 9, 10, 11, 12, 13, 14, 15, ...   \n",
       "989               510  [22, 157, 190, 214, 262, 334, 358, 382, 430, 454]   \n",
       "990               436  [1, 2, 3, 4, 5, 6, 7, 8, 9, 10, 11, 12, 13, 14...   \n",
       "991               478  [5, 12, 14, 16, 19, 24, 26, 29, 30, 31, 32, 34...   \n",
       "992               719  [1, 2, 5, 7, 9, 10, 11, 12, 13, 14, 15, 17, 21...   \n",
       "993               719  [1, 2, 3, 4, 7, 9, 10, 11, 15, 17, 21, 22, 23,...   \n",
       "994               719  [12, 61, 85, 109, 133, 157, 180, 229, 253, 277...   \n",
       "995               414  [1, 2, 3, 4, 5, 7, 8, 9, 11, 12, 14, 16, 17, 1...   \n",
       "996               719  [7, 9, 11, 14, 15, 23, 26, 27, 34, 38, 40, 41,...   \n",
       "997               719  [1, 2, 3, 4, 5, 6, 7, 8, 9, 10, 11, 12, 13, 14...   \n",
       "998               284  [1, 2, 3, 4, 5, 6, 7, 8, 9, 10, 11, 12, 13, 14...   \n",
       "999               166  [28, 30, 33, 36, 37, 39, 53, 54, 87, 92, 100, ...   \n",
       "\n",
       "                                                   url  \n",
       "0    http://5eg.net/gallery/thumbnails.php?album=la...  \n",
       "1                   http://a.hatena.ne.jp/yamagen2001/  \n",
       "2    http://abclocal.go.com/wls/story?section=News&...  \n",
       "3    http://africa.oneworld.net/article/rssheadline...  \n",
       "4    http://barrie.kijiji.ca/c-buy-and-sell-sports-...  \n",
       "5    http://bayreuth.eins.de/category/list/communit...  \n",
       "6        http://bbs.zksh.com/boardstat.asp?boardid=479  \n",
       "7    http://bbs3.ustc.edu.cn/cgi/bbsqry?userid=neww...  \n",
       "8    http://bg.boincstats.com/stats/team_member_mov...  \n",
       "9    http://big5.made-in-china.com/Agriculture-Food...  \n",
       "10   http://biosingularity.wordpress.com/2006/05/29...  \n",
       "11              http://blog.struggle06.com/?eid=116602  \n",
       "12              http://blog.struggle06.com/?eid=353658  \n",
       "13             http://blogs.yahoo.co.jp/hoshineko_blog  \n",
       "14     http://blogs.yahoo.co.jp/rion5230/40282203.html  \n",
       "15   http://book.ndcnc.gov.cn/Dlib/preview.asp?lang...  \n",
       "16   http://bourgogne.moteurs-regionaux.com/pme-pmi...  \n",
       "17   http://camden.ces.ncsu.edu/index.php?page=even...  \n",
       "18   http://chn.pl/index.php?name=&file=index&req=v...  \n",
       "19           http://coherentdog.org/kwalikneepic01.htm  \n",
       "20   http://columbusbusinessportals.com/Home/tabid/...  \n",
       "21   http://community.walla.co.il/?w=///11515704//user  \n",
       "22                    http://dahuitech.cn.alibaba.com/  \n",
       "23   http://directory.rakuten.co.jp/rms/sd/director...  \n",
       "24       http://dpshow.163.com/opus_best.php?type_id=6  \n",
       "25             http://drukarki.idg.pl/news/105903.html  \n",
       "26   http://fakty.interia.pl/fakty_dnia/news/znane-...  \n",
       "27   http://feeds.news.com.au/public/rss/2.0/news_b...  \n",
       "28   http://feeds.rhapsody.com/freehotlunch/discogr...  \n",
       "29   http://fibi.bizportal.co.il/bizportalnew/bizco...  \n",
       "..                                                 ...  \n",
       "970  http://use.perl.org/comments.pl?cid=10047&sid=...  \n",
       "971  http://v.blog.sina.com.cn/b/1083558-1268906644...  \n",
       "972         http://v.blog.sina.com.cn/tag/%B1%CA%B1%CA  \n",
       "973  http://videos.orange.es/player/?csig=iLyROoaft...  \n",
       "974          http://videos.orange.es/search/?q=germany  \n",
       "975             http://watchonlinevideos.com/index.php  \n",
       "976  http://web2.radio-france.fr/thematiques/sport/...  \n",
       "977      http://webservices.sys-con.com/read/39649.htm  \n",
       "978  http://www.17885.com.tw/Forum/topic.asp?topic_...  \n",
       "979  http://www.2devs.com/spip/forum.php3?id_articl...  \n",
       "980  http://www.43things.com/people/progress/CCSing...  \n",
       "981  http://www.43things.com/people/progress/CCSing...  \n",
       "982  http://www.43things.com/people/progress/CCSing...  \n",
       "983  http://www.43things.com/people/progress/KayakC...  \n",
       "984         http://www.43things.com/person/MaggieRocks  \n",
       "985                          http://www.6startips.com/  \n",
       "986  http://www.a1imoti.com/index.php?lang=en&valut...  \n",
       "987  http://www.abendblatt.de/daten/2004/09/30/3469...  \n",
       "988  http://www.adictosalcine.com/nueva_descarga.ph...  \n",
       "989  http://www.afrika-start.de/afrikanische-namen-...  \n",
       "990  http://www.ajcshopping.com/hp/shopping/shoppin...  \n",
       "991  http://www.allegro.pl/27434_jvc.html?order=t&v...  \n",
       "992  http://www.allinform.ru/template.php?dept_id=1...  \n",
       "993  http://www.allinform.ru/xp_change_region.php?d...  \n",
       "994  http://www.almodovar.fr/fr/nosactivites/projec...  \n",
       "995  http://www.ammanstock.net/vb/index.php/archive...  \n",
       "996          http://www.apotheker-schaefer.de/0560839/  \n",
       "997          http://www.apotheker-schaefer.de/2094436/  \n",
       "998                     http://www.aquariumcastle.com/  \n",
       "999  http://www.artimpresia.com/index.php?option=co...  \n",
       "\n",
       "[1000 rows x 3 columns]"
      ]
     },
     "execution_count": 26,
     "metadata": {},
     "output_type": "execute_result"
    }
   ],
   "source": [
    "pd.DataFrame(crawl_json)"
   ]
  },
  {
   "cell_type": "code",
   "execution_count": 10,
   "metadata": {
    "collapsed": true,
    "deletable": true,
    "editable": true,
    "for_assignment_type": "student"
   },
   "outputs": [],
   "source": [
    "def make_crawls_dataframe(crawl_json_records):\n",
    "    \"\"\"Creates a Pandas DataFrame from the given list of JSON records.\n",
    "    \n",
    "    The DataFrame corresponds to the following relation:\n",
    "\n",
    "        crawls(primary key (url, hour), updated)\n",
    "\n",
    "    Each hour in which a crawl happened for a page (regardless of\n",
    "    whether it found a change) should be represented.  `updated` is\n",
    "    a boolean value indicating whether the check for that hour found\n",
    "    a change.\n",
    "\n",
    "    The result is sorted by URL in ascending order and **further**\n",
    "    sorted by hour in ascending order among the rows for each URL.\n",
    "    \n",
    "    Args:\n",
    "      crawl_json_records (list): A list of JSON objects such as the\n",
    "                                 crawl_json variable above.\n",
    "    \n",
    "    Returns:\n",
    "      DataFrame: A table whose schema (and sort order) is described\n",
    "                 above.\n",
    "    \"\"\"\n",
    "    positive_crawls = [{'url': page['url'], 'hour': hour, 'updated': True} for page in crawl_json for hour in page['positive checks']]\n",
    "\n",
    "    negative_crawls = [{'url': page['url'], 'hour': hour, 'updated': False} for page in crawl_json for hour in (set(range(1, page['number of checks']+1)) - set(page['positive checks']))]\n",
    "\n",
    "    crawls = pd.DataFrame.from_records(positive_crawls + negative_crawls)\n",
    "    crawls.set_index(['url', 'hour'], inplace=True)\n",
    "    crawls.sort_index(inplace=True)\n",
    "    return crawls"
   ]
  },
  {
   "cell_type": "code",
   "execution_count": 11,
   "metadata": {
    "collapsed": false,
    "deletable": true,
    "editable": true
   },
   "outputs": [],
   "source": [
    "# Run this cell before you continue.\n",
    "crawls = make_crawls_dataframe(crawl_json)"
   ]
  },
  {
   "cell_type": "code",
   "execution_count": 15,
   "metadata": {},
   "outputs": [
    {
     "data": {
      "text/plain": [
       "MultiIndex(levels=[['http://0968797090.blinklist.com/tag/%E5%8F%B0%E5%8C%97%E9%A0%82%E9%BB%9E%E7%AE%A1%E7%90%86%E5%A7%94%E5%93%A1%E6%9C%83/', 'http://202.155.15.208/koran_detail.asp?id=283292&kat_id=16&kat_id1=&kat_id2=', 'http://5eg.net/gallery/thumbnails.php?album=lastcom', 'http://5eg.net/gallery/thumbnails.php?album=lastcom&cat=0', 'http://86door.com.cn/', 'http://86door.com.cn/GY/Index.asp?catid=492&page=15&searchField=&searchChar=&DisCount=12', 'http://a.hatena.ne.jp/Syako/simple', 'http://a.hatena.ne.jp/inouetom/image?gid=null', 'http://a.hatena.ne.jp/munehiro/simple', 'http://a.hatena.ne.jp/yamagen2001/', 'http://aardvark.woes.co.za/gedigte/vertoon/3567_Gesenser.htm', 'http://aardvark.woes.co.za/happies/vertoon/2337_Eendag_in_die_Hemel.htm', 'http://abclocal.go.com/wls/story?section=News&id=2184316', 'http://afaceri.agendabacau.ro/director/vector_trading.html', 'http://aforismi.wordpress.com/2006/12/19/le-ali-al-cuore/', 'http://aforismi.wordpress.com/about/', 'http://aforismi.wordpress.com/tag/educazione/', 'http://aforismi.wordpress.com/tag/saggezza/', 'http://africa.oneworld.net/article/rssheadlines/512', 'http://alemler.com/sepet_ekle.asp?urun_id=12380&url=%2Fvcd_urun.asp%3Furun_id%3D14389', 'http://all-hotels.ru/moscow/sovietsky/index.ru.html', 'http://allegro.pl/show_user.php?uid=3334814', 'http://andipantz.vox.com/library/videos/tags/cradle/', 'http://art.ridne.net/dir/node-23710.html', 'http://azmani80.pa.promovacances.fr/M01/theme.htm', 'http://barrie.kijiji.ca/c-buy-and-sell-sports-bikes-electric-bike-environmentally-friendly-new-W0QQAdIdZ10370585', 'http://bayreuth.eins.de/category/list/community/mehr', 'http://bbs.chetx.com/soufun_forum/post/frm_show_new.aspx?announceid=60703&m_masterid=60703&boardid=57&page=1', 'http://bbs.csai.cn/artc_api.asp?n=26268', 'http://bbs.phoenixtv.com/fhbbs/misc.php?action=viewratings&tid=2144358&pid=6419989', 'http://bbs.phoenixtv.com/fhbbs/post.php?action=reply&fid=281&tid=2228786&extra=', 'http://bbs.phoenixtv.com/fhbbs/viewpro.php?uid=168806', 'http://bbs.zksh.com/boardstat.asp?boardid=479', 'http://bbs2.sekkaku.net/bbs/?id=gamesyo&mode=res&log=550', 'http://bbs3.ustc.edu.cn/cgi/bbsqry?userid=newweapon', 'http://bg.boincstats.com/stats/team_member_movement.php?pr=cpdn&id=1514', 'http://bidders.selfip.net/Books/531454/5801', 'http://bidders.selfip.net/Music/562032/2494', 'http://big5.51daifu.com/selftest/2006/1207/456D2ABEF7019E45H43449.shtml', 'http://big5.cctv.com/gate/big5/news.cctv.com/financial/20070202/102433.shtml', 'http://big5.cctv.com/gate/big5/news.cctv.com/society/20061009/102965.shtml', 'http://big5.made-in-china.com/Agriculture-Food-Trade/330i211/cooperate-Agriculture-Food-5.html', 'http://big5.made-in-china.com/Chemicals-Trade/99921i211/Rubber-Rubber-Products-3.html', 'http://bilezbozi.itek.cz/kuchyne-kuchynske-roboty-slehace-a?filtr=203', 'http://binews.co.kr/Board/Board_List.php?DB=freeboard&Mode=View&Num=533&start=30&S=S&val=0&Word=', 'http://biosingularity.wordpress.com/2006/05/29/biological-motors-sort-molecules-one-by-one-on-a-chip/', 'http://biosingularity.wordpress.com/2006/12/26/plos-one-is-launched-by-the-public-library-of-science/', 'http://bliskociebie.interia.pl/regiony/slaskie/news/metalmania-2007,849798,3700', 'http://blog.china.alibaba.com/blog/jhx1688/d/d200704.html', 'http://blog.china.alibaba.com/blog/mary418.html', 'http://blog.goo.ne.jp/kinako-abekawa/m/200504', 'http://blog.libero.it/ficodindia/commenti.php?msgid=2369084&id=70657', 'http://blog.livedoor.jp/fire14sign/archives/51758310.html', 'http://blog.so-net.ne.jp/co_co/2007-02-25', 'http://blog.so-net.ne.jp/kei-days/2006-12-29', 'http://blog.struggle06.com/?eid=116602', 'http://blog.struggle06.com/?eid=322094', 'http://blog.struggle06.com/?eid=353658', 'http://blog.struggle06.com/?eid=458805', 'http://blogbot.dk/?blogId=3260', 'http://blogbot.dk/?tag=ferie&start=2006-11-05T22:04:51', 'http://blogbot.dk/blog/info.php?id=3978', 'http://blogbot.dk/blog/info.php?id=6291', 'http://blogs.periodistadigital.com/elbuenvivir.php/2006/04/06/', 'http://blogs.yahoo.co.jp/hoshineko_blog', 'http://blogs.yahoo.co.jp/hoshineko_blog/MYBLOG/yblog.html', 'http://blogs.yahoo.co.jp/marumarubuu2002/36372334.html', 'http://blogs.yahoo.co.jp/rion5230/40282203.html', 'http://blogs.yahoo.co.jp/shuppatsuten/archive/2006/08', 'http://blogs.yahoo.co.jp/shuppatsuten/archive/2007/3', 'http://blogs.yahoo.co.jp/yasu_iritani', 'http://blogs.zdnet.com/open-source/?p=697', 'http://book.ndcnc.gov.cn/Dlib/preview.asp?lang=gb&DocID=21699', 'http://books.bidders.co.jp/public/', 'http://bourgogne.moteurs-regionaux.com/pme-pmi,,80.htm', 'http://boxun.com/hero/chenyc/267_1.shtml', 'http://boxun.com/hero/cloudwatching/163_1.shtml', 'http://boxun.com/hero/zhongguogonghedang/6_1.shtml', 'http://br.groups.yahoo.com/group/brunnaciccone/', 'http://bsd.ba.ntu.edu.tw/~pdk/93/forumdisplay.php?f=154', 'http://business.network.com.tw/default.asp?strBAreaList=&strXianList=ilan&Page=1&PageSize=16', 'http://business.network.com.tw/exhibit.asp?strArea=&Page=2&PageSize=16', 'http://business.network.com.tw/exhibit.asp?strArea=&Page=3&PageSize=16', 'http://buy.yahoo.com.tw/gdsale/gdsale.asp?gdid=432802', 'http://calbears.findarticles.com/p/articles/mi_hb4250/is_200308/ai_n13359882', 'http://calbears.findarticles.com/p/search?tb=art&qt=%22Jen+A.+Miller%22', 'http://caloricranges.com/', 'http://camden.ces.ncsu.edu/index.php?page=events&event_id=3976', 'http://caxapa.ru/79327.html', 'http://cbs13.com/topstories/local_story_065233322.html', 'http://channel9.msdn.com/Showpost.aspx?postid=250395', 'http://chippewavalley.net/index.cfm?event=viewCategory&partnerviewid=1&categoryid=105', 'http://chn.pl/index.php?name=&file=index&req=viewsinglelink&lid=11', 'http://clasificados.elsalvador.com/seccion.asp?pag=2&idcat=6&idscat=64&keyword=', 'http://clipmarks.com/clipmark/AA4B20B9-1207-4C8E-900D-A690D01C3C90/', 'http://club.pchome.net/topic_1_15_1264925__.html', 'http://cnc.zjrc.com/jobs/net_a_330784.shtml', 'http://coherentdog.org/kwalikneepic01.htm', 'http://coherentdog.org/rgal02phot02.htm', 'http://columbusbusinessportals.com/Home/tabid/36/Default.aspx', 'http://comment2.news.sohu.com/viewelites.action?id=247389116', 'http://community.walla.co.il/?w=///11515704//user', 'http://compare.buscape.com.br/prod_ficha?idu=43257&site_origem=1195783', 'http://copainsdavant.linternaute.com/etablissement/15474/2/college_marx_dormoy/', 'http://corners.auction.co.kr/corner/FreeShipping.aspx?frm=homemid&category=18190202', 'http://corners.auction.co.kr/corner/brand.aspx?category=32000000&sort=3&brand=00000211&layout=1', 'http://crack.serial.cracks.hk/?page=itm_display&p=1232&i=1st_Screensaver_PowerPoint', 'http://crack.serial.cracks.hk/?page=itm_display&p=3306&i=3D_Brickanoid_1', 'http://customer-service.careers.com/California-Irvine.htm', 'http://dahuitech.cn.alibaba.com/', 'http://dailymotion.alice.it/tag/MCA', 'http://de.boincstats.com/stats/user_graph.php?pr=lhc&id=35876', 'http://de.groups.yahoo.com/group/AS-Goettingen/', 'http://de.t45ol.com/spiele-kostenlos/shockwave-spiele-2.php?start=32&nbl=4&order=playtimes&max=101', 'http://de.w2forum.com/i/Iscende_Mobility/', 'http://de.wordpress.com/tag/exams/', 'http://de.wordpress.com/tag/mediation/', 'http://deathmalove.blog50.fc2.com/', 'http://debatt.aftenposten.no/item.php?GroupID=90&ThreadID=172247&s=1&page=3', 'http://delit.net/music/title_list_world.phtml?id=7804&lang=eng', 'http://designdirectory.com/public/company_search_results.asp?tags=Consultancy', 'http://destinia.com/guide/odp/index.php?language_code=es&geounit_id=30067&browse=/World/Espa%C3%B1ol/Regional/Asia/Chipre/', 'http://devguide.computerworld.com/search/keyword/cwdev/Java%20Windows%20Xp%20Systems/Java%20Windows%20Xp%20Systems', 'http://directory.rakuten.co.jp/rms/sd/directory/vc?s=1&tz=200047&v=2&p=3&f=0&o=4&oid=000&k=0', 'http://discoazul.com/po/product54/product_info.html', 'http://downloads.zdnet.com/download.aspx?&scname=Kids+and+Parenting+-+Home+-+Windows&promo=100511&docid=258170', 'http://dpshow.163.com/opus_best.php?type_id=6', 'http://drukarki.idg.pl/news/105903.html', 'http://edu.qq.com/a/20060928/000196.htm', 'http://educare.gyeonggi.go.kr/exec/ggeducare01.bbs.BBSList?swf_file=sub_13.swf&bg_file=bg_img_13.jpg&code=4&pagenumber=66&sel_gubun=0&search_content=&id=688&type=free', 'http://elitetestequipment.co.uk/shop/index.php?manufacturers_id=11', 'http://elm7abh.com/vip/showthread.php?t=26731&page=17', 'http://erogamescape.dyndns.org/~ap2/ero/toukei_kaiseki/user_reserve.php?user=limital', 'http://es.wiktionary.org/wiki/Especial:Recentchangeslinked/Plantilla:mytalk', 'http://esearch.rakuten.co.jp/rms/sd/esearch/vc?sv=2&f=A&g=215783&v=2&p=0&e=0&s=6&oid=000&k=0&sf=0&sitem=%A5%ED%A1%BC%A5%BA', 'http://espanol.groups.yahoo.com/group/honduraslibre_dehumo/', 'http://etten-leur.sp.nl/afdeling/uitsl_kamerlokaal2006.shtml', 'http://etvsport.ee/index.php?048805', 'http://ezinearticles.com/?Lunesta-Dependence&id=60244', 'http://fakty.interia.pl/fakty_dnia/news/znane-twarze-w-partii-olechowskiego,873743,2943', 'http://feed.carview.co.jp/rss.aspx?t=photo&md=253', 'http://feeds.macworld.com/~r/macworld/news/~3/98437479/index.php', 'http://feeds.news.com.au/public/rss/2.0/news_business_33.xml', 'http://feeds.rhapsody.com/freehotlunch/discography.opml', 'http://fibi.bizportal.co.il/bizportalnew/bizcompquote.shtml?p_id=138016', 'http://findstyle.com/tatter/', 'http://format.blogosfere.it/2006/02/ideamatic-la-ma.html', 'http://foro.frikipedia.es/index.php?=&s=', 'http://forum.areagames.de/forum.aspx?action=Topic&MessageID=636187', 'http://forum.folding-community.org/album.php?user_id=10617&mode=list&type=comment', 'http://forum.folding-community.org/album.php?user_id=5107&mode=list', 'http://forum.itbox.ro/index.php?c=7', 'http://forum.lide.cz/forum.fcgi?akce=forum_member&auth=&forum_ID=6861', 'http://forums.easports.com/mboards/category.jspa?categoryID=71&start=210', 'http://forums.lorenztech.com/index.php?showuser=132', 'http://fotodia.ru/photos/Veta/45876/', 'http://fotodia.ru/photos/dmych/58929/', 'http://fotodia.ru/photos/inktomi/4179/', 'http://fr.audiofanzine.com/services/petites_annonces/index,idproduit,10103,mao,akai_mg14dml14.html', 'http://fr.blinklist.com/?Action=Link/user.php&Encrypt=481151', 'http://fr.boincstats.com/stats/team_graph.php?pr=cpdn&id=5138', 'http://fr.wordpress.com/tag/disneyland/', 'http://fr.wordpress.com/tag/lists/2/', 'http://frankfurt.eins.de/category/list/service/mehr', 'http://freeforumzone.leonardo.it/viewforum.aspx?f=93839', 'http://fvmadvertising.com/success.asp', 'http://gallery.smartclan.com/main.php?g2_itemId=1912', 'http://game.pchome.net/00/05/72/12/index_7.phtml?297,', 'http://game2.jp/game/%BB%B0%C5%EC%A5%EB%A5%B7%A5%A2/', 'http://gamergrad.ru/cod/4iters.php', 'http://gathering.tweakers.net/forum/list_messages/1031724/3', 'http://geizhals.at/eu/a235890.html', 'http://gigaom.com/2004/05/28/cradle-reset-and-lure-of-the-consumer/', 'http://gihyo.jp/tagList?XML', 'http://go-jane.com/', 'http://gong.jje.go.kr/bbs/vote.php?id=board03_04&page=6&sn1=&divpage=1&sn=off&ss=on&sc=on&select_arrange=vote&desc=asc&no=212', 'http://gong.jje.go.kr/bbs/zboard.php?id=board03_04&no=242', 'http://goszakaz.bashkortostan.ru/public.purchase/faqs.asp?id=2744799&showform=false', 'http://graphs.andrew.cmu.edu/cgi-bin/hammer/one.pl?machine=mail-fe9.andrew.cmu.edu&poolname=cyrusfe&monitor=kpop-forks-counter', 'http://grindelwald.city-info.ch/grindelwald.rci?sc=grindelwald/kreis.rcl&sx=6279&sy=4010&im=1&xo=5979&yo=3760&zo=1', 'http://groups.yahoo.com/group/Seattle-WesternWashingtonNK/', 'http://gwangju.incruit.com/chief/jobdb/02.asp?pid=422398&jid=2202204', 'http://hardstaff.com/index.php?option=com_zoom&Itemid=28&page=ecard&catid=2&key=11&PageNo=2', 'http://health.163.com/06/0726/15/2MVGVPUK00181Q0N_7.html', 'http://helsinki.at/programm/sendung.php?id=732&datum=2007-03-03', 'http://hercafe.yam.com/fate/hot.php?cat=astro', 'http://high.sarang.org/notice/content.asp?page=8&no=1027', 'http://homelivingstyle.blogspot.com/2007/01/inspiring-tapestries.html', 'http://homelivingstyle.blogspot.com/2007/02/double-vanity-sink.html', 'http://homelivingstyle.blogspot.com/2007/02/step-stool.html', 'http://horseplanet.ru/index.php?name=Forums&file=viewtopic&p=50630', 'http://host1.editoraperu.com.pe/NoticiaDetalle.aspx?id=116440', 'http://hrb.hand2hand.com.cn/adshow.php?id=web_05_09,1173146697', 'http://idg.allegro.pl/showcat.php?id=970&view=gtext&order=td&change_view=1', 'http://insurance.yahoo.co.jp/life/info/event_05.html', 'http://isbndb.com/c/Periods_and_Movements/Postmodernism/', 'http://it.t45ol.com/giochi-gratis/giochi-sparatutto-2.php?start=336&nbl=12&order=vote_real&max=396', 'http://japan.cnet.com/news/ent/story/0,2000056022,20054141,00.htm', 'http://jengoteam.com/viewpost.php?p=135322', 'http://jengoteam.com/viewpost.php?p=206990', 'http://jeonbuk.incruit.com/people/community/forum/index.asp?page=6', 'http://jp.opensolaris.org/jive/rss/rssthreads.jspa?forumID=109', 'http://jp.w2forum.com/i/Compose_Message/?send=7661', 'http://jp.w2forum.com/i/Norway/Information+Portal', 'http://jtcs.ctsnetjournals.org/cgi/content/abstract/72/6/925', 'http://kakaku.journal.mycom.co.jp/item_list/?cat_id=124&keyword=&maker_name=&price_low=&price_hi=&list_max=20&st=1901&od=&view=grid', 'http://katalogen.kthnoc.se/report.html?id=255925', 'http://kaufen.pc-magazin.de/Digitalkamera_c__1056.cat?sort=0&page=5&showProducts=1&desc=true', 'http://kitchenhime.blog21.fc2.com/?xml', 'http://knightonlineforum.com/archive/logos-f88.html', 'http://kom.win.pl/galeria/pokaz_kosz.php?nowy=102', 'http://kr.w2forum.com/i/Terry_Jackson/events_attending', 'http://lakeannastriper.proboards83.com/index.cgi?action=viewprofile&user=gregt', 'http://lakeannastriper.proboards83.com/index.cgi?action=viewprofile&user=laketackle', 'http://lapulcedivoltaire.blogosfere.it/2007/03/francia-le-regioni-socialiste-in-airbus.html', 'http://lauraxzf.blog.china.alibaba.com/?tracelog=ui_club2blog_space', 'http://listings.auction.co.kr/Category/List.aspx?category=55040400&sort=4&layout=0', 'http://literaturalatinaygriega.blogspot.com/2007/02/amor-amoris.html', 'http://longbeachrealtor.net/', 'http://looping72.oldiblog.com/?page=articles&rub=105649&nba=4', 'http://looping72.oldiblog.com/?page=articles&rub=105719&nba=&coms=462435', 'http://maccentral.macworld.com/news/0112/06.vectorworks.php', 'http://macmac.blogger.ba/arhiva/2006/03/15', 'http://macmac.blogger.ba/arhiva/2006/06/07', 'http://mag.techcn.com.cn/link.php?action=rating&aid=56&rating=2', 'http://map.daejeon.go.kr/04_LifeMap/04_Restaurant/List.asp?block=94&page=944&code1=&code2=&upjong1=4&upjong2=&upjong3=&upjong4=&upjong5=&searchtext=', 'http://map.daejeon.go.kr/04_LifeMap/08_Wholesale/List.asp?block=33&page=339&code1=&code2=&upjong1=8&upjong2=&upjong3=&upjong4=&upjong5=&searchtext=', 'http://mediamatters.org/issues_topics/2008_elections?sort=default', 'http://medicinefilms.com/browse.php?view=search&action=userSearch&searchCat=keyword&keyword=noise', 'http://meine.krimi-couch.de/muenoe/merkzettel.html', 'http://members.tripod.com/Vasiljevic/Bread/tresors.htm', 'http://mignon.cc/lg/webaxs.cgi', 'http://minkara.carview.co.jp/userid/209503/profile/', 'http://misstoplist.com/top/index.php?a=stats&u=307', 'http://misstoplist.com/top/index.php?a=stats&u=436', 'http://misstoplist.com/top/index.php?a=stats&u=90', 'http://mlking.cm-loule.pt/index.php?option=com_deliberacoes&Itemid=323&id_deb=2226', 'http://mlking.cm-loule.pt/index.php?option=com_deliberacoes&Itemid=323&id_deb=5084', 'http://mlking.cm-loule.pt/index.php?option=com_deliberacoes&Itemid=340&id_deb=1876', 'http://mlking.cm-loule.pt/index.php?option=com_deliberacoes&Itemid=340&id_deb=900', 'http://modesto-ca.addresses.com/yellow_page_listing/Crla/modesto/CA/4071542.html', 'http://momaf.news.go.kr/momaf/jsp/momaf1_branch.jsp?_action=news_view&_property=b_sec_6&_id=135069362&currPage=29&_category=', 'http://movies.groups.yahoo.com/group/I_Love_Liam_Aiken/', 'http://msn.autoweek.nl/bazaarresults.php?merk=Alfa+Romeo&categorie=101&page=3&cache=no', 'http://musicmp3.spb.ru/guestbook.php?page=5', 'http://musicmp3.spb.ru/mp3/1977/tony_braxton.htm', 'http://mx.groups.yahoo.com/group/ensalada/?tab=s', 'http://myspace.com/melkmusic', 'http://myuminfo.umanitoba.ca/index.asp?sec=705&too=200&dat=2/1/2007&sta=2&lis=1', 'http://myworld.benl.ebay.be/pellegrue/', 'http://myworld.ebay.com.cn/xiaozhen927/', 'http://nabumed.com/home/default.asp', 'http://nen.mydown.com/desktop/gamedesk/fengguang/477/417477.shtml', 'http://newage.hutmeel.nl/forum/viewthread.php?fid=35&tid=1432', 'http://newage.hutmeel.nl/forum/viewthread.php?tid=2789&page=7', 'http://news.airportal.go.kr/newshome/mtnmain.php?aid=1308&mvid=&ssid=&comment_all=ok&eda=&sda=&sid=&stext=&mtnkey=articleview&mkey=todaylist&mkey2=1&bpage=16&stext=', 'http://news.airportal.go.kr/newshome/mtnmain.php?aid=419&mvid=&ssid=&comment_all=ok&eda=&sda=&sid=&stext=&mtnkey=articleview&mkey=hotlist&mkey2=3&bpage=9&stext=', 'http://news.airportal.go.kr/newshome/mtnmain.php?eda=&sda=&sid=&stext=&mtnkey=articleview&mkey=bestlist&mkey2=1&aid=586&bpage=9&stext=&regionkey=', 'http://news.airportal.go.kr/newshome/mtnmain.php?eda=&sda=&sid=&stext=&mtnkey=articleview&mkey=scatelist&mkey2=1&aid=1408&bpage=4&stext=&regionkey=', 'http://news.airportal.go.kr/newshome/mtnmain.php?mtnkey=articleview&mkey=scatelist&mkey2=1&aid=1366', 'http://news.media.daum.net/foreign/others/200703/02/munhwa/v15909213.html', 'http://news.msn.co.il/news/general/NewsSubject/20040801123007.htm?fitem=25', 'http://news.ntv.ru/103644/video/', 'http://news.ntv.ru/76909/', 'http://news.pathfinder.gr/lifestyle/374460.html', 'http://newsroom.dc.gov/show.aspx/agency/ddot/section/2/release/10363', 'http://newyorkweather.com/', 'http://nfldraft.rivals.com/content.asp?SID=1164&CID=467808', 'http://nihongo.wunderground.com/global/stations/71068.html', 'http://no.wordpress.com/tag/terrorismo/', 'http://oborniki.naszemiasto.pl/forum/wiadomosci/181695.html', 'http://oborniki.naszemiasto.pl/wydarzenia/706906.html', 'http://observer.guardian.co.uk/toptens/story/0,,1079284,00.html', 'http://oceanographers.ru/index.php?option=com_content&task=section&id=5&Itemid=43', 'http://oceanographers.ru/index.php?option=com_datsogallery&Itemid=0&func=special', 'http://ogl.ru/news/read/1049231390.html', 'http://ogl.ru/playing/trucker.html', 'http://okgo.tw/photo/view.html?qid=1923&p=3', 'http://okgo.tw/photo/view.html?qid=326&p=4', 'http://okgo.tw/store/001109.html', 'http://oknotizie.alice.it/info/815219f163d10d/senza_il_giusto_sonno_i_ricordi_svaniscono_prima.html', 'http://oknotizie.alice.it/inpuntadipenna/profile', 'http://okwave.jp/qa2795925.html', 'http://openpr.de/news/46898/direct-Neue-GfK-Studie-zeigt-Online-Shopper-empfehlen-guenstiger-de.html', 'http://osguide.computerworld.com/search/keyword/cwos/Windows%20Program%20Software/Windows%20Program%20Software', 'http://outwardboundaus.proboards55.com/index.cgi?board=general&action=display&thread=1148861829&page=1', 'http://paginasamarillas.infoguia.net/PagAm/PagAm.asp?tipo=sucur&clte=93015004&ciud=4', 'http://paginasamarillas.infoguia.net/PagAm/PagAm.asp?tipo=sucur&clte=94001499&ciud=4', 'http://paginasamarillas.infoguia.net/PagAm/PagAm.asp?tipo=sucur&clte=96940230&ciud=72&av=56231', 'http://paginasamarillas.infoguia.net/PagAm/PagAm.asp?tipo=sucur&clte=97000394&ciud=4', 'http://pics.livedoor.com/u/southmidtown/2255932', 'http://pioneer.rolo.net/news/music/1248/', 'http://planeta.rambler.ru/users/inkova1/profile/', 'http://play.ohmynews.com/reader_opinion/opinion_view.asp?no=348801&rel_no=1&code=897954', 'http://plfoto.com/', 'http://plfoto.com/1126323/zdjecie.html', 'http://plusd.itmedia.co.jp/pcupdate/articles/0509/09/news028.html', 'http://pop.discogs.com/artists/J?start=600', 'http://portal.edu.ro/index.php/articles/3056', 'http://preco.buscape.com.br/OpiniaoProduto/OpiniaoExibe.aspx?OpiniaoID=14769&pr=', 'http://preisvergleich.dhd24.com/main.asp?kid=3-323&sort=&page=6', 'http://prisjakt.se/produkt.php?e=34391', 'http://product.xinhuanet.com/detail/62/61573/price.shtml', 'http://products.enterpriseitplanet.com/security/id/986912384.html', 'http://products.enterpriseitplanet.com/security/security/1143061541.html', 'http://profil.lide.cz/profile.fcgi?akce=partner&user_ID=3204680&auth=', 'http://profil.lide.cz/profile.fcgi?auth=&sex=F&1172228210.486875', 'http://profile.www.infoseek.co.jp/sh/category_second.html?type=category&value=011003&id=011003&nic=&sex=0&byear=0&prf=&ocp=&image=0&online=0&dispNo=0&order=2&sort=0', 'http://promocja.chn.pl/textads.php?bo=666666&ti=000000&txt=000000&bg=FFFFFF&s=5&nw=0&id=57995&c=', 'http://q.hatena.ne.jp/July_Star/questionlist', 'http://r.hatena.ne.jp/wasebutsu/?mode=table', 'http://raseel.com/vb/showthread.php?t=11844', 'http://rd.vector.co.jp/soft/mac/net/se349654.html', 'http://realestate.homes.co.jp/pickup/article/s=311032/o=11hnOI7mOUVLVQ/', 'http://reisen.billiger.de/Reisen/Mittelmeerziele/Kroatien-Zadar/AP1-2ZAD-107t-1i30-3v38-1y/', 'http://ricardo.ch/default/defaultlist.asp?catg=38620&languagenr=0&ArticleType=0&PageNr=5', 'http://ricardo.ch/default/defaultlist.asp?catg=38913&listingtype=0&listingsort=11&languagenr=0&ArticleType=2', 'http://ricardo.ch/default/defaultlist.asp?catg=42230&languagenr=0&ArticleType=0', 'http://ricardo.ch/default/defaultlist.asp?catg=43446&listingtype=0&listingsort=4&languagenr=0&ArticleType=0', 'http://rodp.ridne.net/node-28584.html', 'http://rodp.ridne.net/node-50187.html', 'http://rss.wunderground.com/auto/rss_full/IA/Burnside.xml?units=both', 'http://s11.invisionfree.com/puppets/index.php?showtopic=202&view=getnewpost', 'http://sa.ongam.com/zboard/zboard.php?id=aspet&page=5&sn1=&divpage=1&sn=off&ss=on&sc=on&select_arrange=vote&desc=desc', 'http://sa.ongam.com/zboard/zboard.php?id=sa_board_forum&page=7&category=&sn=off&ss=on&sc=on&keyword=&prev_no=&sn1=&divpage=2', 'http://sa.ongam.com/zboard/zboard.php?id=sa_board_tip&page=1011&sn1=&divpage=4&sn=off&ss=on&sc=on&select_arrange=headnum&desc=asc&no=9', 'http://safari.awprofessional.com/0131858580/part04', 'http://safari.awprofessional.com/0957921845/phpant2-APP-B-SECT-2', 'http://safari.oreilly.com/0789729512/app01', 'http://safari.peachpit.com/0130404462/ch04lev1sec2', 'http://sake-kikou.jp/modules/yomi/rank.php?page=4&mode=rank&kt=13_03', 'http://sake-kikou.jp/modules/yomi/single_link.php?item_id=289', 'http://salam.hr-online.de/website/rubriken/nachrichten/index.jsp?key=standard_document_19493322&rubrik=5710&showcomment=24&commentseite=8', 'http://saxtrader.co.uk/index.php?cmd=ListAdverts&s_adtype=sax', 'http://sc.legco.gov.hk/sc/library.legco.gov.hk:1080/search/XSecurities+--+Great+Britain+--+Periodicals.&SORT=D&searchscope=14/XSecurities+--+Great+Britain+--+Periodicals.&SORT=D&searchscope=14&SUBKEY=Securities%20--%20Great%20Britain%20--%20Periodicals./25,314,314,B/browse', 'http://search.safaribooksonline.com/0321117662/ch20lev1sec1', 'http://search.safaribooksonline.com/0321430840/ch25lev1sec5', 'http://search.stores.ebay.co.uk/goodshop930_desktop-pc_W0QQftsZ2QQsaselZ270184917QQsatitleZdesktopQ20pcQQsofpZ0', 'http://search.stores.ebay.es/a-nuevo_De-3-a-4-anos_W0QQsacatZ106111QQsofpZ4', 'http://search.stores.ebay.fr/GEMMES-QUE-JAIME_perles_W0QQftsZ2QQsaselZ86113373QQsofpZ0', 'http://secunia.com/product/12463/?task=statistics_2003', 'http://seowchoon.com/main/product_info.php?products_id=3020', 'http://sexythumbs.de/navi.php', 'http://sh.hand2hand.com.cn/showads.php?id=web_05_04', 'http://shop.resellerratings.com/SF-6/BEFID-63716/dnatrs-dramas_genre', 'http://shopping.aol.com/instore/ppesearch?cid=51&k=The%20Bunker-DVD&rpshow=0&ref=aol102&view=list', 'http://shopping.msn.de/results/shp/?bCatID=12,minPrice=190,maxPrice=379%2C99', 'http://sincejuly.proboards39.com/index.cgi?action=register', 'http://skelbimai.vtv.lt/search.php?category_id=220', 'http://skolmail.skola.nora.se/skolnet/SkolKarl.nsf/intdocs/581017776?OpenDocument&ExpandSection=24%2C14%2C12%2C17%2C21%2C10%2C9%2C13%2C19%2C27', 'http://smoothies.recipechicks.com/109/coconut-peach-smoothie/', 'http://sms.volny.cz/index.php?page=2&id_type=9&id_category=306&id_item=74098', 'http://smurfete.kaist.ac.kr/~umipolaris/board/zboard.php?id=saysay&page=21&sn1=&divpage=1&sn=off&ss=on&sc=on&select_arrange=hit&desc=asc&no=1522', 'http://soa.sys-con.com/read/issue/710.htm', 'http://software.itek.cz/text/email-info', 'http://soldout.kurokkie.net/akimono/sitamachi/action.cgi?key=slime&&mode=info', 'http://solutions.amazonwebservices.com/connect/kbcategory.jspa?categoryID=21', 'http://sports74.ru/firms/mountain_skiing/obl/', 'http://sportsbybrooks.com/sbbgig1111.html', 'http://stat.trafic.ro/stat/edemocratiero/referinte/cuvinte/2007/02/13/', 'http://stat.trafic.ro/stat/suntmamica/vizitatori/domenii/2007/02/', 'http://stiri.itbox.ro/stiri/Diverse/pagina-9', 'http://stocks.us.reuters.com/stocks/companyNews.asp?symbol=SID.BA&WTmodLOC=L2-LeftNav-13-CompanyNews', 'http://stoerchinsforum.kostenlose-foren.org/kraniche-ziehen-ueber-nrw-t601.html', 'http://stores.ebay.co.uk/Brothersleep', 'http://stores.ebay.com/IAN-KIMMERLY-STAMPS_W0QQcolZ4QQdirZ1QQfsubZ0QQftidZ2QQtZkm', 'http://stores.ebay.com/Moving-Image-Movie-Posters', 'http://stores.ebay.com/eCity-Wireless_W0QQcolZ4QQdirZ1QQfsubZQ2d33QQftidZ2QQtZkm', 'http://stores.ebay.de/Angelshop-Ronnau1_Ruten_W0QQfsubZ7504012', 'http://stores.ebay.it/TECNO-COMUNICAZIONI_RADIO-NAUTICHE_W0QQfsubZ12', 'http://storesearch.auction.co.kr/stores/ViewItemList.aspx?category=03071001', 'http://studienseminar.bildung.hessen.de/gym-darmstadt/events/fortbildung/zeige_einfache_suche?query_typ=Kalendarium&query_start=621', 'http://studio.bashnet.ru/?part_id=28&gallery_id=42&photo_id=388', 'http://sudoku-belgique.jeumobile.com/3-000/fr_fr/230/telecharger/vortex-racer.html', 'http://suzuki3.blog79.fc2.com/', 'http://svn.atlassian.com/fisheye/changelog/public/?cs=6231', 'http://swe-embamman.org/buy/mini/van/new/suv.htm', 'http://sweb.gen.go.kr/~ohkeun/ez2000/ezboard.cgi?db=book2&action=read&dbf=2553&page=7&depth=8', 'http://tech.163.com/07/0116/15/34VI96PF00091QMN_9.html', 'http://tech.groups.yahoo.com/group/intp-type/?tab=s', 'http://teemix.aufeminin.com/album/seeall_224493/star-academy.html', 'http://texas.itopsites.com/index.php?a=graph&id=51357&type=tot_in', 'http://thatvideosite.com/download/3993', 'http://thatvideosite.com/video/1642', 'http://thatvideosite.com/video/3228', 'http://thatvideosite.com/video/3582', 'http://thatvideosite.com/view/2020.html', 'http://thepaperpuppet.com/', 'http://theufostore.com/Merchant2/merchant.mv?Screen=PROD&Product_Code=Atlantis42&Category_Code=atlantis&Product_Count=22', 'http://theufostore.com/Merchant2/merchant.mv?Screen=PROD&Product_Code=StantonBook2&Category_Code=Acc&Product_Count=14', 'http://theufostore.com/Merchant2/merchant.mv?Screen=PROD&Store_Code=T&Product_Code=10000CD', 'http://toon.naver.com/1/20070216000445620', 'http://tr.kabar.kg/index.php?area=1&p=news&newsid=244', 'http://turbos.finanztreff.de/ftreff/kurse_einzelkurs_derivat.htm?u=0&k=0&s=THC&b=15&l=840&n=TENET%20HLTHCRE%20CP&sektion=turbos', 'http://tvzonebbs.media.daum.net/griffin/do/talk/program/iq98/read?bbsId=129_a&articleId=254&pageIndex=1&searchKey=&searchValue=', 'http://tw.t45ol.com/flash-game/all-games-2.php?start=1920&nbl=5&order=gameID&max=2860', 'http://ubbiar.fotolog.com/_ar3li_/21388218', 'http://udn.monday.com.tw/gdsale/gdsale.asp?gdid=432304', 'http://uetendorf.city-info.ch/uetendorf.rci?xo=10347&yo=6366&im=1&zo=2&sc=uetendorf/kreis.rcl&sx=11047&sy=6861', 'http://uk.groups.yahoo.com/group/starexpress/?m=0', 'http://underdeepwater.com/lab.oratoire/index.php/2006/06/22', 'http://us.penguingroup.com/nf/Author/AuthorPage/0,,1000041162,00.html', 'http://us.penguingroup.com/nf/Book/BookDisplay/0,,9780451528537,00.html', 'http://usato.vivastreet.alice.it/usato+campania/archive93', 'http://use.perl.org/comments.pl?cid=10047&sid=6525', 'http://v.blog.sina.com.cn/b/1083558-1268906644.html', 'http://v.blog.sina.com.cn/b/1425639-1229624507.html', 'http://v.blog.sina.com.cn/tag/%B1%CA%B1%CA', 'http://v.techcn.com.cn/vshow.php?action=search&keytype=key&key=%E6%98%8E%E6%98%9F', 'http://vestibular.uol.com.br/ultnot/2005/11/16/ult798u12486.jhtm', 'http://video.ask.jp/watch.do?v=bbb4eae3-110f-4d33-a166-ad69a4f23b36&feature=Favorites&page=8&t=t&f=b', 'http://videos.orange.es/player/?csig=iLyROoaftMxt&sig=iLyROoaftINj', 'http://videos.orange.es/search/?q=club', 'http://videos.orange.es/search/?q=germany', 'http://virtualization.sys-con.com/read/325546.htm', 'http://watchonlinevideos.com/index.php', 'http://weather.livedoor.com/amedas/rain/2/6.html?m=', 'http://web1.radio-france.fr/thematiques/sport/accueil/html_setcookie.php?page=%2Fthematiques%2Fsport%2Faccueil%2Farticles.php%3Fid%3D310000398%26nid%3D0%26r%3D24', 'http://web2.radio-france.fr/thematiques/sport/accueil/html_setcookie.php?page=%2Fthematiques%2Fsport%2Faccueil%2Finfos.php%3Fid%3D325001319%26nid%3D135%26r%3D4', 'http://web2.radio-france.fr/thematiques/sport/accueil/html_setcookie.php?page=%2Fthematiques%2Fsport%2Faccueil%2Finfos.php%3Fid%3D325001773%26nid%3D190%26r%3D99', 'http://web2.radio-france.fr/thematiques/sport/accueil/html_setcookie.php?page=%2Fthematiques%2Fsport%2Faccueil%2Finfos.php%3Fid%3D330001191%26nid%3D49%26r%3D44', 'http://webservices.sys-con.com/read/39649.htm', 'http://wikimapia.org/1664415/', 'http://wildernet.altrec.com/shop/detail/27679/', 'http://woojungmall.co.kr/board/view.php?id=faq&page=4&keyfield=&key=&idx=433&list=280&ridx=0&level=0&no=', 'http://woojungmall.co.kr/board/view.php?id=faq&page=7&keyfield=&key=&idx=306&list=211&ridx=0&level=0&no=', 'http://www.17885.com.tw/Forum/topic.asp?topic_id=265', 'http://www.2devs.com/spip/forum.php3?id_article=43', 'http://www.2s2s.com/vb/member.php?u=2', 'http://www.37vote.net/music/1167830613/', 'http://www.43things.com/entries/view/1734980', 'http://www.43things.com/people/progress/CCSinger8884/4148093', 'http://www.43things.com/people/progress/CCSinger8884/4148093?cheers=on', 'http://www.43things.com/people/progress/CCSinger8884/5167955', 'http://www.43things.com/people/progress/KayakChickee/138566?cheers=on', 'http://www.43things.com/people/progress/KayakChickee/2869615', 'http://www.43things.com/people/progress/KayakChickee/3032730', 'http://www.43things.com/person/MaggieRocks', 'http://www.43things.com/things/view/535040', 'http://www.54932.com/', 'http://www.6startips.com/', 'http://www.6startips.com/buy/gossip/celebrity/news/entertainment_news_philippine.htm', 'http://www.a1imoti.com/index.php?lang=en&valuta=EUR', 'http://www.abc-voiture.com/annonce-evreux/', 'http://www.abc-voiture.com/occasions-12-Aveyron/annonces-8.html', 'http://www.abc-voiture.com/occasions-67-Bas-Rhin/annonces-77.html', 'http://www.abendblatt.de/daten/2003/03/21/136567.html', 'http://www.abendblatt.de/daten/2003/12/23/244616.html', 'http://www.abendblatt.de/daten/2004/09/30/346945.html', 'http://www.abendblatt.de/daten/2005/11/23/506195.html', 'http://www.abendblatt.de/daten/2005/11/29/508219.html', 'http://www.aberdeencity.gov.uk/ACCI/web/site/textonly.asp?textonlypage=loc_Exhibit2_Historic%26menuid%3Dm040100', 'http://www.acheterbio.com/moteurmot_SEMENCE.html', 'http://www.activedsp.com/index.php?option=com_content&task=view&id=2&Itemid=50', 'http://www.adictosalcine.com/buscar.phtml?texto=Alastair%20Cummings&tip=0', 'http://www.adictosalcine.com/buscar.phtml?texto=Jacob%20Kornbluth&tip=0', 'http://www.adictosalcine.com/nueva_descarga.phtml?pelicula=1355', 'http://www.adictosalcine.com/ver_pelicula.phtml?cod=16442', 'http://www.advancedmp3players.co.uk/shop/Accessories.7/Carry_Cases.11/?list=1&sort=4a&list&page=11', 'http://www.afrika-start.de/afrikanische-namen-v-3371.htm', 'http://www.aftenposten.no/english/business/article1147037.ece', 'http://www.ajcshopping.com/hp/shopping/shoppingtc/home.jspd?pageNo=3&No=20&Ne=83&coxnet_site_id=6801&N=16+4294963572&sortOrder=0&sortKey=p_AdvertiserName', 'http://www.ajcshopping.com/hp/shopping/shoppingtc/home.jspd?sortKey=p_Brand&sortOrder=0&navBar=yes&No=60&Ne=4&type=result&Ns=p_AdvertiserName%7C0&N=90+20', 'http://www.ajcshopping.com/hp/shopping/shoppingtc/rssFeed.xml?coxnet_site_id=6801&Ne=108&N=20+4294967058', 'http://www.akademiakiado.hu/main.php?folderID=1064', 'http://www.aks.or.at/informationen-fuer-fachleute/informationen-fuer-aerztinnen/aks-winterschule-test/sendto_form', 'http://www.aks.or.at/versteckter-ordner-fuer-randspalte/texte-fuer-randspalte/stillen/rankl-gabriele-ibclc/sendto_form', 'http://www.allconsuming.net/person/notrobot/consumed/album', 'http://www.allegro.pl/27434_jvc.html?order=t&view=gtext', 'http://www.allfreelancework.com/viewportfolio_cat.php?page=224&category=25', 'http://www.alliedregal.com/index.cfm/page/shop/catId/1/pageNo/18', 'http://www.allinform.ru/template.php?dept_id=100&fid=89&parentID=122196&orgID=3825179', 'http://www.allinform.ru/template.php?dept_id=100&fid=89&parentID=122225&orgID=2180881', 'http://www.allinform.ru/template.php?dept_id=7&fid=90&parentID=122064', 'http://www.allinform.ru/xp_change_region.php?dept_id=40&id=9&fid=89&temp=1', 'http://www.almodovar.fr/fr/nosactivites/ateliers-visites-cinema/visite-architecturale.html', 'http://www.almodovar.fr/fr/nosactivites/editions/actes-sud-cinematheque.html?URL=%2Ffr%2Fnosactivites%2Feditions%2Factes-sud-cinematheque&calendrier_annee=2007&calendrier_mois=4', 'http://www.almodovar.fr/fr/nosactivites/projections/rendez-vous-cinema/cinemabis/historique/mai-juin-2002.html', 'http://www.alternatievegeneeskunde.com/modules.php?name=Forums&file=viewtopic&t=793', 'http://www.amateri.cz/?a=archiv&sess=4c6c51dea0fc58628b09c37228cd031f', 'http://www.amazon.co.jp/%E6%9F%B3%E7%80%AC%E3%83%AF%E3%82%A4%E3%83%81-%E3%82%AB%E3%83%8D%E3%82%BD%E3%83%B3-%E6%89%8B%E3%81%97%E3%81%BC%E3%82%8A%E6%AF%8D%E4%B9%B3%E5%8F%97%E3%81%91/dp/B000EVZPDC', 'http://www.amazon.co.jp/s?ie=UTF8&rh=n%3A772984%2Cp_3%3AJPY%2010000%20-%2015000&page=1', 'http://www.amazon.co.uk/s?ie=UTF8&keywords=Computer%20Operating%20Systems&rh=n%3A64%2Ck%3AComputer%20Operating%20Systems&page=1', 'http://www.amazon.co.uk/s?ie=UTF8&rh=n%3A3108311%2Cp_4%3ASony&page=8', 'http://www.amazon.de/No-Panic-Gute-Geiseln-selten/dp/rentals/B00008XQIA', 'http://www.amazon.fr/s?ie=UTF8&rh=n%3A69904011%2Cp_3%3A20%20%C3%A0%2025%20EUR&page=1', 'http://www.amigos-peru.com/noticias.php?&page=19', 'http://www.ammanstock.net/vb/index.php/archive/showthread.php?=&threadid=13848&goto=newpost', 'http://www.angelfire.com/anime6/pinkyundderbrain/', 'http://www.anobii.com/tags/Movies', 'http://www.answers.com/topic/randolph-utah', 'http://www.apotheker-schaefer.de/0560839/', 'http://www.apotheker-schaefer.de/2094436/', 'http://www.aquariumcastle.com/', 'http://www.ariva.de/zertifikat/profil.m?secu=214831', 'http://www.art4p.com/pages/discuss/TopicList.jsp?TLKSN=103', 'http://www.art4p.com/pages/discuss/TopicList.jsp?TLKSN=1934&OrderBy=Click', 'http://www.arteria.hu/termekkatalogus.php?mc=1&sc=56&id=11513', 'http://www.arteria.hu/termekkatalogus.php?mc=2&sc=49&id=12258', 'http://www.artimpresia.com/index.php?option=com_ponygallery&func=detail&Itemid=1&id=100', 'http://www.artofproblemsolving.com/Wiki/index.php?title=Special:Whatlinkshere/Main_Page&limit=50&from=0', 'http://www.asiarooms.com/search?q=Quay+West&start=20&collection=asiarooms', 'http://www.atlantsskip.is/?c=phpweather', 'http://www.audio-colour.com/showArticle.asp?ArticleID=852', 'http://www.audio-colour.com/xg.asp?ArticleID=487', 'http://www.autoclubtr.com/forum/showthread.php?t=53575', 'http://www.baseballlibrary.com/ballplayers/player.php?name=Eddie_Murphy_1891', 'http://www.bellezaydietas.com/theproducts.cfm?cat=6&master=7464&owner=695', 'http://www.bellezaydietas.com/theproducts.cfm?cat=88&master=6136&owner=695', 'http://www.bibliotek.ale.se/sv/opac/lan_reservera.asp?enhet=1521003&bokid=0000008925&titel=+Den+femtionde+fr%E4lsaren+%3A+roman+%2F+P.+C.+Jersild', 'http://www.biodiversity.re.kr/zboard/vote.php?id=bbs3&page=25&category=&sn=off&ss=on&sc=on&keyword=&select_arrange=subject&desc=desc&no=1140', 'http://www.bizjournals.com/seattle/stories/2004/04/12/smallb2.html', 'http://www.bizportal.co.il/shukhahon/biznews02.shtml?mid=106165', 'http://www.bj-a-c-liu.com/home.php', 'http://www.blindbetpoker.com/subfolder/forum/t2680-freepokerfind-radio.html', 'http://www.blinklist.com/tag/turning/', 'http://www.boathopper.com/wanted/wanted-results.asp?SB=MID-SIZE%20CAR', 'http://www.boincstats.com/stats/user_stats.php?pr=sap&st=0&or=&ti=37&hosts=0', 'http://www.boiseweekly.com/gyrobase/Content?oid=oid%3A6385', 'http://www.bollywoodondemand.com/news/14583/cassini-captures-never-before-seen-images-of-saturn.html', 'http://www.bollywoodondemand.com/news/14625/eva-mendes-rubbishes-joaquin-phoenix-romance-rumours.html', 'http://www.bollywoodondemand.com/news/14670/naomi-campbell-vows-never-to-go-under-the-knife.html', 'http://www.bollywoodondemand.com/news/7952/christian-bale-is-not-director-material.html', 'http://www.bonbudget.com/forum/schwab-4_3834', 'http://www.bonbudget.com/monweb/rhone-alpes/-/-/p-1747', 'http://www.bookcrossing.com/mybookshelf/Tempest-Girl', 'http://www.bookcrossing.com/mybookshelf/grease', 'http://www.bookhunter.co.kr/shop/shopbrand.html?xcode=033&mcode=&sort=order2&type=X&page=10', 'http://www.branchen-domain.de/firmen-branchenbuch-20585-mamming.html', 'http://www.bratislava.sk/vismo5/dokumenty2.asp?u=700000&id_org=700000&id=78480&p1=51437', 'http://www.bronxcheer.org/?feed=rss2', 'http://www.buydesignerdiamondjewelry.com/Cushion-Cut-Diamond-Ring-Never-Goes-Out-Of-Style.html', 'http://www.buydesignerdiamondjewelry.com/spanish/buy_designer_diamond_jewelry_news.html', 'http://www.bzdao.com/Zhuanji/YSSJ/SJ12XZZJ/Index55536-1.shtml', 'http://www.bzdao.com/Zhuanji/YXBZ/SJZJ/Index37288-1.shtml', 'http://www.c-player.com/ac44632/message/20070219?format=time', 'http://www.cahehr.com/learnmore.php', 'http://www.canada.com/montrealgazette/news/sports/story.html?id=e35a5fd5-da47-4edf-ab97-1975c9aa6607', 'http://www.caranddriver.com/features/11756/2007-ford-mustang-shelby-gt-h-rental-car-challenge-words.html', 'http://www.casinogambia.com/', 'http://www.cbc.ca/health/story/2001/04/10/fake_blood010410.html', 'http://www.cbsnews.com/stories/2005/01/12/national/main666289.shtml', 'http://www.cbsnews.com/stories/2005/02/10/entertainment/main672929.shtml', 'http://www.cdbox.it/cdbook/scheda_book.asp?isbn=1932266984&zona=book', 'http://www.cgy.cn/buy%5Cnewlist%5CP_10.html', 'http://www.ch869.com/', 'http://www.cheapbabycribs.info/partnerresources.php?cat=msearch-grease-movie.html', 'http://www.chile.com/tpl/chistes/chiste.tpl?id=5569', 'http://www.chile.com/tpl/jsexport/chile.com/turismo/recorriendochile.tpl?id=68073', 'http://www.ciao-shopping.nl/CRT_monitoren_15033_2-0_24-1920_x_1440-eizo_nanao', 'http://www.ciao.es/Ordenadores_portatiles_273527_2-128_mb_y_mas-2_a_2_9_ghz-600_a_1199_eur', 'http://www.ciao.es/Telefonos_fijos_273441_2-yamamoto', 'http://www.cio.com/archive/041504/tl_investigations.html', 'http://www.citadelle.org/langue-id-90-Pontuseaux-masc-.htm', 'http://www.clopotel.ro/muzica/muzica_fanclubul-houseri-17092.html', 'http://www.clopotel.ro/prieteni/pagina-madaliana-135514-forum-158.html', 'http://www.clubic.com/lancer-le-telechargement-35516-0-world-of-warcraft-the-burning-crusade-video-exclu-2-rencontre-avec-un-draenei.html', 'http://www.cmaq.net/fr/node/26878', 'http://www.coffeelala.com/', 'http://www.commentcamarche.net/forum/affich-2572412-correction-son-sur-video', 'http://www.computeralliance.com.au/parts.aspx?qryPart=5382', 'http://www.computerworld.com/action/article.do?command=viewArticleBasic&taxonomyName=windows&articleId=9008698&taxonomyId=125', 'http://www.computerworld.com/managementtopics/management/story/0,10801,104149,00.html', 'http://www.construmatica.com/catalogo/empresa/fixcer_products_sa', 'http://www.construmatica.com/noticiario/2007/02/26/los-arquitectos-tecnicos-espanoles-participaran-activamente-en-el-58%C2%BA-fiacbi-world-congress/', 'http://www.crabbel.de/de/Musik-Musikgruppen/Bands/details-beschreibung-2408/Live-Musik-Band-Time-Square-Hochzeit,-Betriebsfeier,-Event,-BW.html', 'http://www.cracks.hk/?page=itm_display&p=20643&i=Allok_Video_Joiner', 'http://www.crinfo.org/action/search-portal.jsp?pid=2564&nid=2376', 'http://www.d-kaleta.com.ar/index.php?name=News&file=print&sid=5', 'http://www.dailyhaha.com/_vids/treadmill_bike.htm', 'http://www.dailymd.com/new/news/recode1.asp?page=12&search_word=&gidx=5', 'http://www.dailytech.com/Article.aspx?newsid=6248', 'http://www.danceplaza.com/index.tpl?style=dress_shop&action=main&action2=view&what=9183&sort=datum_tijd%20desc&start=4&wherecountry=&wheretype=', 'http://www.dancingwithloons.com/gallery.php?gallery=photos/07/janfeb', 'http://www.dein-naechstes-auto.de/kfz-handel.html', 'http://www.desktopstage.com/', 'http://www.digi.ee/?q=node/1193', 'http://www.digi.ee/?q=node/1535', 'http://www.digi.ee/?q=node/341', 'http://www.digiplay.org.uk/wikindx3/index.php?method=RSS&action=resourceView&id=2409', 'http://www.dirty.ru/archive/20060207', 'http://www.discoverourtown.com/MD/local-62056.html', 'http://www.dnshop.com/front/product/ProductDetail?PID=A920_gwon&CID=D29179', 'http://www.dogchannel.com/show/article0001.aspx', 'http://www.dogchannel.com/vetlibrary/arthritis/article_22411.aspx', 'http://www.doko.jp/search/point.do?si=zpXMjk.3thARaA67rqQtRceZK1JPGWqbLf9p8DN6faE*&dp=dp06&pc=11002661', 'http://www.doko.jp/shop/sc1146796/', 'http://www.doko.jp/shop/sc30497644/', 'http://www.doorone.de/xCC--hager-ruether~FD-0~LO-1~PG-30', 'http://www.dooyoo.co.uk/food/jelly-belly-beans/1001888/', 'http://www.dooyoo.co.uk/headset/logitech-mobile-freedom/', 'http://www.dooyoo.co.uk/schools-colleges/sacred-heart/168681/', 'http://www.droit-ntic.com/revuepresse/domaine.php?page=225&domaine=PROPRIETE_INTELLECTUELLE', 'http://www.duo-bielizna.pl/product_info.php?products_id=2733', 'http://www.earchiv.cz/axxxk170/a840k170.php3', 'http://www.earchiv.cz/b05/b1007001.php3', 'http://www.easyflirt.com/fiches/sexy/judibabe.html', 'http://www.easygo.pl/hotele/mikolajki.html', 'http://www.ecauk.com/news/20050722%20world%20class%20dual%20xeon/', 'http://www.ecauk.com/products/compactpci/pmcmodules/', 'http://www.ecauk.com/support/rma/', 'http://www.edizionisanpaolo.it/catalogo.asp?p=AC2&IDAC=Cacioppo_John_T.', 'http://www.edizionisanpaolo.it/catalogo.asp?p=AC2&IDAC=Gallagher_Michael_Paul', 'http://www.edizionisanpaolo.it/catalogo.asp?p=AC2&IDAC=Quarzo_Guido', 'http://www.eggheadcafe.com/community/aspnet/3/66752/help-to-call-javascript-f.aspx', 'http://www.eholiday.com.pl/alist.php?cid=67&type=2', 'http://www.eholiday.com.pl/id159_dworek_galosa.html', 'http://www.eholiday.com.pl/id1832_2_pokoje_2_os_ok_ul_spokojnej.html', 'http://www.elcantabroperplejo.com/?p=903', 'http://www.elhawy.com/vb/index.php?showtopic=19421&view=getnewpost', 'http://www.elhawy.com/vb/index.php?showuser=68520', 'http://www.elsner-michaelis.de/kontakt/', 'http://www.enaa.com/oddelki/mojDom/dept.asp?dept_id=1602', 'http://www.enaa.com/oddelki/racunalnistvo/product.asp?dept_id=437&pf_id=402032', 'http://www.enaa.com/oddelki/zoo/dept.asp?dept_id=1272&sortField=cust_price&sortType=asc&stran=0', 'http://www.eprofitsmaster.com/index.php', 'http://www.eschoolnews.com/news/showstory.cfm?ArticleID=434', 'http://www.espaciologopedico.com/tienda/detalle?Id_articulo=169', 'http://www.esplanada.ru/news/2007/2/12/', 'http://www.eventsinbaja.com/main/index.php?option=com_newsfeeds&catid=9&Itemid=7', 'http://www.existenzgruender-nrw.de/microsite_01.php?ansicht=unternehmensmeldung&nr=195', 'http://www.fe.up.pt/si/noticias_geral.ficha_tecnica?p_nr=6293&p_amo_id=41', 'http://www.findstyle.com/tatter/12', 'http://www.findstyle.com/tatter/tag/%EA%B0%80%EC%B9%98%ED%88%AC%EC%9E%90', 'http://www.findstyle.com/tatter/tag/%EC%B9%9C%EC%A0%88%ED%95%9C%20%EA%B8%88%EC%9E%90%EC%94%A8', 'http://www.finesettimana.it/festa.asp?id=24347', 'http://www.finesettimana.it/festa.asp?id=29086', 'http://www.finextra.com/fullstory.asp?id=15811', 'http://www.firemountaingems.com/details.asp?PN=K118214CK', 'http://www.fitetcampania.it/impianti.asp', 'http://www.fn.se/news.asp?newsid=1002&nodeid=103&iLev=1&iHasChild=0', 'http://www.forest.impress.co.jp/article/2003/10/24/update.html', 'http://www.forumfr.com/Forward-f-96-envoyer-ce-sujet.php?t=1610', 'http://www.forumfr.com/series-140.html', 'http://www.fotolog.com/as_destiladas', 'http://www.fr.ricardo.ch/default/defaultlist.asp?catg=42232&languagenr=3&ArticleType=0', 'http://www.france-in-india.org/en/article.php3?id_article=1294', 'http://www.freedownloadscenter.com/Games/Sports_Games/Field___Stream_Trophy_Buck_Rate.html', 'http://www.fresh.co.il/vBulletin/showthread.php?t=55550', 'http://www.frisch.org/Content.asp?Id=8', 'http://www.ftpk.net/paroles/Jimmy-Hendrix/', 'http://www.galya.ru/cat_page.php?id=655', 'http://www.galya.ru/catd_new_.php?id=29868', 'http://www.gamersnet.ch/?site=news&page=text&id=5981', 'http://www.gamersnet.ch/?site=users&page=_profil&id=13042', 'http://www.gamespot.com/users/Sa9jev/', 'http://www.gamespot.com/users/cutsiegamergirl/', 'http://www.gamespot.com/users/lget6/', 'http://www.gcjc.ws/page3.html', 'http://www.gco.ch/second/category.asp?Category=VARIOMETER', 'http://www.geschiedenis.nl/index.php?option=com_content&task=view&id=1177&Itemid=18', 'http://www.get-fit-os.de/shop_content.php?coID=1', 'http://www.girlpower.it/gallery/forum/commenti/message.php?mess=131365&inth=0&artid=427', 'http://www.go-jane.com/', 'http://www.godmode-trader.de/clickoptions/search/?maturitydate=all&selection=clickoptions&type=all&underlying=1003&x=1', 'http://www.gosaunet.at/index.php', 'http://www.granvillaflorist.com.au/', 'http://www.grienbach.ch/ser_dea_hom.cfm?language=it&country=ch&addressid=195594&dealernavigation=sho', 'http://www.grupo-inmotd.com/compra-venta/lofts/badolatosa/20-907-7.html', 'http://www.grupo-inmotd.com/compra-venta/pisos/pezuela-de-las-torres/24-419-5.html', 'http://www.guidelocationaquitaine.com/location-aquitaine/location-vacances-aquitaine-hasparren,3914_0_filtrer.html', 'http://www.handango.com/SoftwareCatalog.jsp?platformId=11&siteId=1&N=4294966903+4294965067', 'http://www.handango.com/SoftwareCatalog.jsp?siteId=1&osId=713&platformId=5&osId=713&N=4294966109+96538', 'http://www.hardwareschotte.de/hardware/preise/proid_1233466/preis_TOSHIBA+e400', 'http://www.hardwareschotte.de/hardware/preise/proid_8028338/preis_1024MB+1GB+MUSTANG+DDR2-RAM+SO-DIMM', 'http://www.harikaarabalar.com/postcard.img78.htm?mode=search', 'http://www.harikaarabalar.com/search.htm?search_keywords=buick', 'http://www.heise.de/preisvergleich/a53641.html', 'http://www.helloshreveport.com/Marketplace/student_loan.cfm', 'http://www.heze-ib.gov.cn/bigclassdeta.asp?typeid=30&BigClassid=116&page=30', 'http://www.highlandwoodworking-forum.com/index.php?act=Msg&amp;CODE=02&amp;MID=40', 'http://www.hikingcn.com/', 'http://www.hita.hr/index.php?section=detail&o=IGH-R-A', 'http://www.hometheater.co.il/modules.php?name=Encyclopedia&op=list_content&eid=2', 'http://www.hugi.is/bordaspil/threads.php?page=view&contentId=3183563', 'http://www.i-part.com.tw/file/file_guestbook.php?u=967026', 'http://www.i-part.com.tw/pet/pet_room.php?o=1', 'http://www.ibrattleboro.com/index.php?topic=QA&page=19', 'http://www.icangarden.com/book.cfm?task=viewdetail&itemid=386&categoryid=190', 'http://www.icecat.fr/index.cgi?language=fr;lookup_text=suites%20de%20logiciel', 'http://www.idealo.at/preisvergleich/Meinungen/351519.html', 'http://www.idealo.at/preisvergleich/Meinungen/76240.html', 'http://www.idealo.at/preisvergleich/OffersOfProduct/331504_-dm20-vivanco.html', 'http://www.iehang.com/info/shownews.asp?newsid=8026', 'http://www.iehang.com/info/shownews.asp?newsid=8379', 'http://www.ikitesurf.com/windandwhere.iws?regionID=207&tideSiteID=113&Isection=Tides&days=5&siteID=339', 'http://www.immos.tv/immobilier-finistere/agence-anvea-immobilier.htm', 'http://www.infobae.com/contenidos/304831-100799-0-Aceleran-una-importante-obra-energ%C3%A9tica', 'http://www.infobae.com/notas/nota.php?IdxSeccion=1&Idx=289855', 'http://www.investor.reuters.com/GoTo.aspx?nss=www&ticker=BWTR.O&.t=/stocks/marketsentiment/insidertrading', 'http://www.inzercia.sk/?ID_inz=818851701&go=detail&kat=43', 'http://www.inzercia.sk/?go=detail&ID_inz=625134874&from=notes&level=-2', 'http://www.irna.com/fa/news/view/line-7/8510263673122340.htm', 'http://www.irna.com/fa/news/view/menu-149/8511160531182912.htm', 'http://www.isunrise.com/', 'http://www.j2megame.cn/', 'http://www.jamendo.com/it/album/1476/report_review/?review_id=38793', 'http://www.jarva.ee/?action=article&CatID=0&ArtID=8474', 'http://www.jarva.ee/?action=article&CatID=889&ArtID=29526', 'http://www.jarva.ee/?action=comment&ArtID=31050&CatID=783', 'http://www.jarva.ee/index.php?action=article&CatID=0&ArtID=32058', 'http://www.jengoteam.com/viewpost.php?p=170437', 'http://www.jesusinternetproject.ch/Faire-un-don-par-BV.97.0.html', 'http://www.jesusinternetproject.ch/Suche.51.0.html?&tx_indexedsearch%5Bext%5D=1', 'http://www.joyclub.de/kontaktanzeigen/paar_sucht_ihn-bonn.html', 'http://www.jurnal.lipi.go.id/utama.cgi/utama.cgi?forum&pengunjung&88', 'http://www.kamnapivo.sk/pivodb/banovce/7787/', 'http://www.kamnapivo.sk/pivodb/staremesto/3611/?foto', 'http://www.kann.de/root/index.php?page_id=48', 'http://www.katalog.biz.ua/CANON_DIGITAL_IXUS_800_IS?range=3', 'http://www.kawarthamarketplace.com/default.aspx?name_query=Web+Site+Marketing', 'http://www.kewego.es/search/?q=user:triunfito&orderby=4&way=1&next=2', 'http://www.kipf.re.kr/search/search_balgan_list2.asp?keyword=William+W.+Beach&keyword2=&ResultStart=21161&plan=webs&lineup=asc&', 'http://www.kizirsoft.com/', 'http://www.kizirsoft.com/index.php?modul=haberler&getir=haberoku&haber=1', 'http://www.kizirsoft.com/index.php?modul=shop&getir=index', 'http://www.kleinwalsertal.com/dk/overnatning/gruppeovernatning.html', 'http://www.klimovsky.com/women/entry_1028646665/view', 'http://www.kmi.or.kr/counsel/counsel.php?page=21&id=&keyfield=&key=', 'http://www.kmi.or.kr/counsel/counsel.php?page=26&id=&keyfield=&key=', 'http://www.kooxoo.com/T_Rent/Cat_sale/From_%E5%8D%97%E6%98%8C/q_%E9%9D%92%E5%B1%B1%E6%B9%96', 'http://www.krimi-couch.de/krimis/thomas-glavinic-herr-susi.html', 'http://www.kuriren.nu/GEN_Utmatning.asp?CategoryID=3026&ArticleID=1450059&ArticleOutputTemplateID=125&ArticleStateID=2', 'http://www.kuriren.nu/GEN_Utmatning.asp?CategoryID=350&ArticleID=1449538&ArticleOutputTemplateID=47&ArticleStateID=2', 'http://www.lacartoonerie.com/cinema/cartoon.php?id=1461323597&page=6', 'http://www.laterooms.com/de/k16582707_stenik-hotels.aspx?q=1_luxury-hotels', 'http://www.laterooms.com/en/hotel-reservations/85462_tregurrian-hotel-watergate-bay-newquay.aspx', 'http://www.lawandtax-news.com/asp/story.asp?storyname=25319', 'http://www.leb.org/v3/display/1880/colombia/cesar-waked/', 'http://www.leb.org/v3/display/38474/uae/rania-baltagi/', 'http://www.leb.org/v3/display/46404/usa/donald-berry/', 'http://www.leicesterontheweb.com/shopping/subcategoriesid-5656_subid-86928_searchValue=silk+flowers+bulk', 'http://www.leicesterontheweb.com/shopping/subcategoriesid-7713_subid-107127_searchValue=free+romance+ebook', 'http://www.lequipe.fr/Football/FootballFicheJoueur18778.html', 'http://www.librarything.de/profile/Verminous', 'http://www.librarything.de/profile/jenish', 'http://www.lightreading.com/boards/messages.asp?thread_id=136994&msg_id=141051', 'http://www.lightreading.com/document.asp?doc_id=56437', 'http://www.lightreading.com/document.asp?doc_id=81146', 'http://www.lightreading.com/document.asp?doc_id=88388', 'http://www.londontown.com/LondonInformation/Alexa/Alexandre/c49c/', 'http://www.londontown.com/LondonInformation/Travel/Chiltern_Railway/1d0b/', 'http://www.lupaworld.com/16987', 'http://www.lupaworld.com/bbs/profile-uid-31672.html', 'http://www.macraesbluebook.com/search/company.cfm?company=522740', 'http://www.macraesbluebook.com/search/company.cfm?company=738730', 'http://www.majornelson.com/archive/2005/04/06/the-next-game-i-am-pre-ordering.aspx', 'http://www.maplandia.cz/srbsko-a-cerna-hora/kosovo/tomance-42-44-30-n-20-28-24-e/', 'http://www.marketoracle.co.uk/', 'http://www.marketoracle.co.uk/Article153.html', 'http://www.marketwatch.com/tools/quotes/news.asp?symb=LIZ', 'http://www.marketwatch.com/tools/quotes/person.asp?pid=23338', 'http://www.marketwatch.com/tools/quotes/profile.asp?siteid=bigcharts&dist=bigcharts&symb=SIRF&sid=1712635&time=8', 'http://www.marketworks.com/storefrontprofiles/deluxeSFshop.aspx?sfid=73844%20&c=698925', 'http://www.mccookgazette.com/story/1042133.html', 'http://www.md80.it/article.php?story=20060530082309823', 'http://www.merchantcircle.com/directory/CO-Tabernash/category/Autos', 'http://www.meteoconsult.fr/ter/france/prevision/detail.php?langue=fr&echeance=0&num_ville=547', 'http://www.mface.co.kr/board_as_admin.asp?forum_id='BOARDC'&page=2', 'http://www.mikehillwig.com/index.php/member/profile/', 'http://www.mikehillwig.com/index.php/mike/2007/01/', 'http://www.mikehillwig.com/index.php/mike/comments/injection_site_reactions/', 'http://www.mikehillwig.com/index.php/mike/comments/new_computer/', 'http://www.mikseri.net/users/fans.php?id=123704', 'http://www.millenniumchallengecorporation.net/our_work/global_health/aids/News/photo_gallery/africa/africa17.html', 'http://www.millenniumchallengecorporation.net/stories/guatemala/fp_guatemala_liberman_hres.html', 'http://www.mininova.org/sub/91', 'http://www.mister-wong.de/tags/rudern+walken/', 'http://www.mob-tuning.com/galeries/galeries-moi.html', 'http://www.mob-tuning.com/galeries/galeries-tatatat.html', 'http://www.moebel.or.at/gallery/accupunto/aab?newlang=en_US', 'http://www.monday.com.tw/gdsale/gdsale.asp?gdid=224051', 'http://www.motorwars.ru/info.php?q=KotBegemot', 'http://www.music.com.ua/bill/concert/2007/03/01/', 'http://www.musicload.de/artist.ml?mlartistid=114441', 'http://www.mustangforums.com/forumid_213/p_8/tmode_11/smode_1/tt.htm', 'http://www.my-shop.ru/shop/catalogue/2911/sort/j/page/1.html', 'http://www.mymotherlode.com/News/article/kvml/news4451', 'http://www.myspace.com/friggindavid', 'http://www.myspace.com/jonlawhastings', 'http://www.naniwablackpeppers.com/cgi-bin/c-board/c-board.cgi?cmd=one;no=214;id=bbs', 'http://www.new.sacr.sk/article&internal=survey&surveyid=5&ansid=2&addck=a:1:%7Bi:0%3Bs:99:%22a:3:%7Bs:4:%22name%22%3Bs:7:%22SURVEYS%22%3Bs:5:%22value%22%3Bs:22:%22a:1:%7Bi:5%3Bs:5:%22voted%22%3B%7D%22%3Bs:6:%22expire%22%3Bi:1189599415%3B%7D%22%3B%7D', 'http://www.neworleansboatshow.com/attendees/venue/floorplan.aspx', 'http://www.news.balkansecurity.com/index.php?page=vest&go=aWQ9MTY2NDc0JmVuZGRhdGU9MjAwNy0wMi0wNiZyZXR1cm49dGl0bGUmcnVicmlrYT1oYWcmcHJpb3JpdGV0PTE=', 'http://www.newsobserver.com/122/v-print/story/549316.html', 'http://www.newsobserver.com/706/story/455702.html', 'http://www.newvel.jp/cruiser/cruiser.cgi?mode=search&word=%E5%89%A3', 'http://www.nextag.co.uk/Graphics-Multimedia--zzadobe+5z10101471zukzB7z5---html', 'http://www.nextag.de/HAMA-In-Ear-Headset-523827505/de/prices-html', 'http://www.nilu.no/nml/forskningsdagene/portal/index.cfm?fuseaction=resultater.skole&skole=616', 'http://www.npds.org/viewtopic.php?topic=21536&forum=10&start=15', 'http://www.nu.nl/news/953740/30/De_Pers_voor_het_eerst_van_de_persen_(video).html', 'http://www.oa.inform.cz/inp/detail.vp?IKNO=169496&lang1.html', 'http://www.obsidian.co.za/aggregator/sources/5?page=27', 'http://www.opusvendi.de/katalog/druck-temperatur.htm', 'http://www.opusvendi.de/katalog/pizza-mikrowelle.htm', 'http://www.ostarrichi.org/wort-2659-de-Kraftfahrzeug,+meist+PKW.html', 'http://www.over-blog.com/640-blog-annuaire-2-Blogzine.html', 'http://www.overlookconnection.com/product_info.php?products_id=118', 'http://www.paalupaikka.com/galleria/thumbnails.php?album=26', 'http://www.pbase.com/sanjin_jaganjac/profile', 'http://www.pc-magazin.de/internet/cm/virenecke/show_sophos.php?id=2601', 'http://www.pcarm.com/bbs/thread-15803-1-1.shtml', 'http://www.pcarm.com/bbs/thread-20431-5-1.shtml', 'http://www.pcarm.com/bbs/thread-9135-6-1.shtml', 'http://www.pcarm.com/product139.shtml', 'http://www.pcinpact.com/actu/news/33489-firefox-mozilla-etatunis.htm?vc=1&cid=940312', 'http://www.pcworld.com/product/pricefinder/browse/category.html?id=10477&filter=vendors%5B%5D,TOF', 'http://www.pcworld.com/product/pricefinder/browse/category.html?id=10528&filter=vendors%5B%5D,NAM%7Cvendors%5B%5D,KOA', 'http://www.pearlstreetjazzband.com/buy/pearl/street/band/american_single.htm', 'http://www.perevodov.net/catalogue/Dictionary-Software-For-PocketPC/French/items/?ft=3', 'http://www.peugeot206club.nl/modules.php?name=Forums&file=viewtopic&t=14195', 'http://www.pianeta.com/map/index.php/pointerQ15/totRicercaQ180/ricercaQmotori+di+ricerca/qfQall/shSCQ/sctgQ/tipoQ/shwDAQ/oxQdata/ascdescQASC/pidQ/kQ', 'http://www.pittsburghmotherscenter.org/drupal/?q=user/register', 'http://www.pledgepark.com/arcade.php', 'http://www.pluggedincleveland.com/restaurants/1447+penn+station+restaurant.html', 'http://www.pornvideosnet.com/', 'http://www.postimees.ee/070906/kommentaarikeskus.php?ARTIKKEL_ID=213345&TASK=KOMMENTAARID', 'http://www.postimees.ee/121206/esileht/krimi/233813_foto.php', 'http://www.ppcompiler.org/articles.php?lng=fr&pg=4040', 'http://www.pravoslavie.lv/index.php?newid=724&id=154', 'http://www.preissuchmaschine.at/product_342511.html', 'http://www.preissuchmaschine.ch/main.asp?produkt=408500&sort=preis-&min=&max=', 'http://www.preissuchmaschine.ch/preis_310986.html', 'http://www.preissuchmaschine.ch/preis_323815.html', 'http://www.preissuchmaschine.ch/product_314411.html', 'http://www.preissuchmaschine.ch/product_355525.html', 'http://www.preissuchmaschine.de/product_384542.html', 'http://www.presence-pc.com/actualite/japon-boude-intel-9793/', 'http://www.prisjakt.se/produkt.php?pu=106744', 'http://www.probas.umweltbundesamt.de/php/sektoren.php?&prozessid=%7B0E0B274B-9043-11D3-B2C8-0080C8941B49%7D&id=1573120&sid=3&step=4&search=', 'http://www.quizzi.it/quiz/quiz-utenti/quiz-thegriffin.htm', 'http://www.raseel.com/vb/showthread.php?t=10468', 'http://www.ravala.net/index2.php?option=com_content&task=view&id=27&Itemid=38&pop=1&page=0', 'http://www.renfrew.org/faq-topic-listing.asp?id=7', 'http://www.renfrew.org/news-events/event.asp?id=90', 'http://www.reporterodigital.com/campogibraltar/politica/', 'http://www.resimvideo.com/index.php?action=showpic&cat=35&pic=2598', 'http://www.ronakm.com/2006/10/01/first-post/', 'http://www.ronakm.com/2006/10/02/blog-post-number-two/', 'http://www.ronakm.com/2006/10/07/pag-ghungroo-baandh/', 'http://www.rte.ie/arts/2005/0131/longoriae.html', 'http://www.saarlane.ee/kuulutused/kuulutus.asp?id=38881&offset=15', 'http://www.saarlane.ee/uudised/arhiiv/default.asp?date=2006/09/19', 'http://www.saarlane.ee/uudised/saadakomment.asp?newsid=28260&kat=4', 'http://www.sacr.sk/article&internal=survey&surveyid=5&ansid=1&addck=a:1:%7Bi:0%3Bs:99:%22a:3:%7Bs:4:%22name%22%3Bs:7:%22SURVEYS%22%3Bs:5:%22value%22%3Bs:22:%22a:1:%7Bi:5%3Bs:5:%22voted%22%3B%7D%22%3Bs:6:%22expire%22%3Bi:1201005543%3B%7D%22%3B%7D', 'http://www.sacr.sk/article&internal=survey&surveyid=5&ansid=3&addck=a:1:%7Bi:0%3Bs:99:%22a:3:%7Bs:4:%22name%22%3Bs:7:%22SURVEYS%22%3Bs:5:%22value%22%3Bs:22:%22a:1:%7Bi:5%3Bs:5:%22voted%22%3B%7D%22%3Bs:6:%22expire%22%3Bi:1193001946%3B%7D%22%3B%7D', 'http://www.samantha-oups.com/contact.php', 'http://www.sapp.org.vn/index.php?o=modules&n=news&f=news_detail&idnews=298&idtype=3', 'http://www.sarabi.info/', 'http://www.saranair.com/article.php?sid=7815', 'http://www.saranair.com/article.php?sid=7872', 'http://www.scribd.com/doc/95/Bushs-Resume', 'http://www.search-belgium.com/barg/bargain_search.asp?category=310&off_dem=O&bid=6752&det=y&search=&PageNo=2&lang=en', 'http://www.secom.mt.gov.br/conteudo.php?pageNum_Outras=6&sid=13&cid=354&parent=0&totalRows_Outras=18084', 'http://www.secularism.org.uk/newsline.html?df=20051014&CPID=8a6d165b9e7c4a686e5bb89581f040d3', 'http://www.serieslive.com/fiche_serie-avis.php?n=66', 'http://www.sextop.dk/rate.php?site=1171988807', 'http://www.shopzilla.com/3H--Audiovox_XR9_XM_Satellite_Radio_Receiver_-_cat_id--11920000__prod_id--260804385', 'http://www.shopzilla.de/7T--Ghettoblaster_-_att--259__att259--more__cat_id--16577__start--60', 'http://www.shopzilla.fr/7T--Chaussures_Femmes_-_att--565060__att259818--50001533-2481697__att265783--270658-__att565060--more__cat_id--14387', 'http://www.showbuzz.cbsnews.com/stories/2007/02/12/people_hot_water/main2465076.shtml', 'http://www.sidestep.com/hotels-rates-h13745-best_western_cedar_park_inn_edmonton_canada', 'http://www.silkeborg.dk/default.asp?cal=3872&date=1-2-2005', 'http://www.silkeborg.dk/default.asp?o=7&u=39&k=876&s=14491&navn=Silkeborg%20Delebilklub', 'http://www.sinemedia.com/forum/showthread.php?t=20182', 'http://www.sinemedia.com/forum/showthread.php?t=20215', 'http://www.sinemedia.com/store/2073.html', 'http://www.sinnettproperties.com/listings/?oid=&aid=016500149', 'http://www.sinofrance.org/f/viewthread.php?tid=24558', 'http://www.sktelink.net/05_telinkstory/cblog/cblog02.asp?page=1&cblogcode=JAP', 'http://www.sktelink.net/08_etc/news/news02.asp?idx=46&page=6', 'http://www.sktelink.net/08_etc/news/news02.asp?idx=90&page=3', 'http://www.smarter.co.jp/se-lb8gg1eDg4NQg2KDZw__.htm', 'http://www.solosoftware.it/catalog/product_info.php?products_id=66', 'http://www.solosoftware.it/catalog/product_info.php?products_id=78', 'http://www.solostocks.com/bRel_deacuerdo_1_1.html', 'http://www.sortprice.com/reviews/CamelBak_Thermal_Control_Kit', 'http://www.sp.nl/nieuwsberichten/154/970604-100000_pagina146s_bekeken_op_httpwwwspnl.html', 'http://www.spa.gov.sa/ContentPage.php?cid=16&id=1767', 'http://www.spanien-bilder.com/aktuelles_aus_spanien_details1928.htm', 'http://www.spanien-bilder.com/spanien_nachrichten_details.php?id=1831', 'http://www.sportingnews.com/blog/Flashjeff/tag/EternalImage', 'http://www.stateoforegon.com/directorycity/hotels_motels_lodging/Brownsville/', 'http://www.stephaniemasseyphotography.com/', 'http://www.sthnet.com/kontakt.phtml', 'http://www.stockpickr.com/listAll.php?all=love&commentlove_next_page=305', 'http://www.stockpickr.com/port/MARK-1/', 'http://www.stockpickr.com/user/maieuticlogic/', 'http://www.studentnews.pl/serwis.php?dwze=&k=396&m=&muz=&pok=2937&r=13&s=101&st=', 'http://www.styleforhome.co.uk/the-flowercage-p-125.html', 'http://www.supermusic.sk/album.php?idalbumu=39919&idskupiny=19412', 'http://www.supermusic.sk/shop_item.php?action=popis&partner=&id=312277', 'http://www.supermusic.sk/skupina.php?action=albumy&typ=album&idskupiny=1374', 'http://www.supermusic.sk/skupina.php?idpiesne=114765&sid=', 'http://www.suplis.net/product_reviews.php?products_id=89.html', 'http://www.swe-embamman.org/buy/educational/toy/thomas/wiggles.htm', 'http://www.swe-embamman.org/buy/marriott/time/share/time_share_sale.htm', 'http://www.swe-embamman.org/buy/pre/foreclosure/stop/free_foreclosure_listing.htm', 'http://www.swe-embamman.org/buy/stock/trading/day/best_online_trading.htm', 'http://www.symweb.de/referenzen/gewerbliche.htm', 'http://www.talenttree.com/Default.asp', 'http://www.teamliquid.net/forum/information/16907/2/Finland_beats_KOR_b_in_a_friendly_NW.html', 'http://www.teamliquid.net/forum/information/25695/Amazing_Sky_Diving_Pictures__Danger_56k__s_.html', 'http://www.teamliquid.net/forum/information/32048/rock_paper_scissors.html', 'http://www.teamliquid.net/forum/viewmessage-27626.html', 'http://www.teanie.com/default.asp?CateID=8&page=4', 'http://www.tecchannel.de/news/international/446396/', 'http://www.tecchannel.de/news/themen/sicherheit/458864/', 'http://www.technophone.com/', 'http://www.tematika.com/articulo/detalleArticulo.jsp?idArticulo=401543', 'http://www.tematika.com/buscador/espere.jsp?seccion=5&pedidoEspecial=true&criterioDeOrden=6&claveDeBusqueda=porIDdeAutor&texto=John+Lasseter&idAutor=%5B133410%5D', 'http://www.theage.com.au/news/national/governments-immigration-centre-wasted/2007/02/27/1172338587674.html', 'http://www.thebostonchannel.com/helenthomas/4669536/detail.html', 'http://www.thefifthnight.org/detail.asp?ScreenplayID=901', 'http://www.thizzpaintball.com/Contact_Us.php', 'http://www.thomasglobal.it/search/heading.asp?new=Y&country=NAME&hid=161580', 'http://www.time.com/time/magazine/article/0,9171,837219,00.html', 'http://www.tiranalive.org/album/showphoto.php?photo=1823', 'http://www.tiriba.lv/inside.php?mode=catalog&submode=basket&item_id=21926&delete=1', 'http://www.tor.cn/chinfootball/dw/article/0,2297,1546483,00.html', 'http://www.tor.cn/chinfootball/dw/article/0,2297,1716811,00.html', 'http://www.tozsdeforum.hu/index2.phtml?menu=0&submenu=onearticle&news_id=368076&red=latest', 'http://www.tozsdeforum.hu/index2.phtml?menu=6&submenu=onearticle&news_id=367775&red=ka', 'http://www.tozsdeforum.hu/index2.phtml?search=%22korm%E1nyzati+negyed%22&text=off&menu=6&submenu=search', 'http://www.traumpartner-4u.biz/', 'http://www.travelpod.com/members/paul', 'http://www.travelpost.com/CR/Anguilla/Other/Shoal_Bay_Village/map/5003827', 'http://www.travelpost.com/hotels/Kings_Inn/h76043', 'http://www.tray1.com.br/loja/produto-19320-1678-NIKE_SHOX_CLASSIC__005_M', 'http://www.trekearth.com/gallery/Europe/Denmark/photo534933.htm', 'http://www.trekearth.com/gallery/Europe/United_Kingdom/photo591805.htm', 'http://www.treknature.com/gallery/Europe/Portugal/photo81840.htm', 'http://www.tripadvisor.com/ShowTopic-g255060-i122-k352681-Vantage_points_for_NYE_fireworks-Sydney_New_South_Wales.html', 'http://www.tripadvisor.de/Hotel_Review-g56032-d109276-Reviews-Fairfield_Inn_DFW_Airport_North_Irving-Irving_Texas.html', 'http://www.tripadvisor.de/Hotel_Review-g59699-d100789-Reviews-Comfort_Inn-Beloit_Wisconsin.html', 'http://www.tv.com/american-idol/show/11307/board/6242/topics.html&page=10', 'http://www.uca.edu/maptour/index.php?id=24', 'http://www.unbeatable.co.uk/product/AEG-S86378KG1-Bottom-Fridge-Freezer/23976048.html', 'http://www.uni-sprachkurse.de/content.php/4/2/1/5/', 'http://www.urbandictionary.com/define.php?term=The+CFK+Disease', 'http://www.urlaub-suedtirol.it/info2_13006078_wellnesshotel_seiser_alm_schlern.html', 'http://www.urlaub-suedtirol.it/info_prettau.html', 'http://www.uwo.ca/its/bigbro/mail/mail.html', 'http://www.uzmanforum.org/ikiz-olmak-vt10465.html', 'http://www.vanforum.ru/modules.php?name=NukeC30&file=postads', 'http://www.vcharkarn.com/include/vcafe/showkratoo.php?Pid=38137', 'http://www.vcharkarn.com/include/vcafe/showkratoo.php?Pid=7308', 'http://www.vcharkarn.com/vcafe/index.php?catid=60&oop=4&page=4&vid=0', 'http://www.vector.co.jp/magazine/softnews/010113/n01011311_pic.html', 'http://www.vector.co.jp/soft/dl/win95/prog/se039650.html', 'http://www.vector.co.jp/soft/win95/home/se170737.html', 'http://www.verybadboy.my1.ru/news/2006-11-25-52', 'http://www.vgb.no/13859/perma/145865', 'http://www.vgb.no/13859/perma/155319/', 'http://www.vincentprat.info/wordpress/2006/06/19/potw-06-06-19/?lp_lang_pref=en', 'http://www.voanews.com/azeri/2007-02-22-voa3.cfm', 'http://www.vodeo.tv/12-12-4105-jean-christophe-lafaille-trio-for-one.html?visu=4105', 'http://www.vodeo.tv/12-75-3560-aventures-asiatiques-au-nepal.html?visu=3560', 'http://www.vtv.lt/component/option,com_akocomment/task,quote/id,28529/Itemid,204/', 'http://www.w1k.com/view.asp?entry=52694&display=photoshop', 'http://www.wallofcolours.com/', 'http://www.weather.com/weather/pastweather/USMN0503?from=tenDay_topnav_undeclared', 'http://www.weblio.jp/content/%E4%B8%8A%E5%A4%A7%E8%BF%AB', 'http://www.wikilearning.com/ciencia_y_metafisica-wkc-1993.htm', 'http://www.wikilearning.com/juan-xka-10342412.htm', 'http://www.winterswijk.nl/gwi/brein/webgen.nsf/0/6e066c0b220fc2f6c1256b9c00273801?OpenDocument&ExpandSection=10%2C17%2C9%2C2%2C21%2C18', 'http://www.winterswijk.nl/gwi/brein/webgen.nsf/0/6e066c0b220fc2f6c1256b9c00273801?OpenDocument&ExpandSection=18%2C23%2C11%2C16%2C17%2C21%2C22%2C4', 'http://www.winterswijk.nl/gwi/brein/webgen.nsf/0/6e066c0b220fc2f6c1256b9c00273801?OpenDocument&ExpandSection=2%2C16%2C4%2C10%2C13%2C3%2C19%2C11', 'http://www.woerterbuch.info/?query=Kummerkasten&s=dict', 'http://www.woerterbuch.info/?query=zusammengeh%C3%B6rt&s=dict', 'http://www.woes.co.za/gedigte/vertoon/6855_Kersfees.htm', 'http://www.wondermesh.co.uk/component/option,com_contact/task,view/contact_id,1/Itemid,29/', 'http://www.wpacouncil.org/aggregator?page=13', 'http://www.wpacouncil.org/user/1890', 'http://www.wunderground.com/cgi-bin/findweather/getForecast?setpref=00000114015WS&value=IKOSEZEL2', 'http://www.yatego.com/,1,2,q,janosch,kinderbett', 'http://www.yatego.com/elektronisches-spielzeug/ferngesteuerte-autos/29-17-02,3,g,1,1,q,rc', 'http://www.yatego.com/psi,campingtoilette_1900', 'http://www.yatego.com/sqa,trampolin,hudora', 'http://www.ydi.or.kr/ht_bbs/viewbody.html?ht_div=ydinews&page=1&article_no=98&uid=1075&keyfield=&key=&from=', 'http://www.yrural.com/spa/item/ART01593.html', 'http://www.yurvopros.ru/', 'http://www.zap.co.il/99.asp?Filter=keyword&sog=E-Speaker', 'http://www.zappos.com/noauth/redirect.cgi?q=vz11283222z', 'http://www.zjrc.com/jobs/no_593803.shtml', 'http://www11.nrk.no/urort/user/biography.aspx?id=48793', 'http://www2.portoalegre.rs.gov.br/acessibilidade_smarty/default.php?projeto_sec=144&p_secao=3&pg=173&p_reg=65021', 'http://www2.portoalegre.rs.gov.br/acessibilidade_smarty/default.php?projeto_sec=144&p_secao=3&pg=2241&p_reg=52700', 'http://www2.serbiancafe.com/kuvar/headlines.php', 'http://www2.serbiancafe.com/lat/diskusije/mesg/15/008947405.html?5', 'http://xcaretnights.com/zencart/index.php?main_page=index&cPath=89', 'http://yaplog.jp/liveforever73/daily/200702/05/', 'http://yayapet.net/bbs/zboard.php?id=staff&page=1&sn1=&divpage=1&sn=off&ss=on&sc=on&select_arrange=name&desc=desc&no=588', 'http://youtube.com/watch?v=0ARv0lEwMB8', 'http://ytglasses.cn.alibaba.com/athena/offerlist/ytglasses-sale-false.html?showType=direct&', 'http://zh.blinklist.com/tag/challenge/', 'https://ideotrope.org/nodes/10883', 'https://www.djogos.scml.pt/web/JogarVerApostas/', 'https://www.northwestcollege.org/tr/index.cfm'], [1, 2, 3, 4, 5, 6, 7, 8, 9, 10, 11, 12, 13, 14, 15, 16, 17, 18, 19, 20, 21, 22, 23, 24, 25, 26, 27, 28, 29, 30, 31, 32, 33, 34, 35, 36, 37, 38, 39, 40, 41, 42, 43, 44, 45, 46, 47, 48, 49, 50, 51, 52, 53, 54, 55, 56, 57, 58, 59, 60, 61, 62, 63, 64, 65, 66, 67, 68, 69, 70, 71, 72, 73, 74, 75, 76, 77, 78, 79, 80, 81, 82, 83, 84, 85, 86, 87, 88, 89, 90, 91, 92, 93, 94, 95, 96, 97, 98, 99, 100, 101, 102, 103, 104, 105, 106, 107, 108, 109, 110, 111, 112, 113, 114, 115, 116, 117, 118, 119, 120, 121, 122, 123, 124, 125, 126, 127, 128, 129, 130, 131, 132, 133, 134, 135, 136, 137, 138, 139, 140, 141, 142, 143, 144, 145, 146, 147, 148, 149, 150, 151, 152, 153, 154, 155, 156, 157, 158, 159, 160, 161, 162, 163, 164, 165, 166, 167, 168, 169, 170, 171, 172, 173, 174, 175, 176, 177, 178, 179, 180, 181, 182, 183, 184, 185, 186, 187, 188, 189, 190, 191, 192, 193, 194, 195, 196, 197, 198, 199, 200, 201, 202, 203, 204, 205, 206, 207, 208, 209, 210, 211, 212, 213, 214, 215, 216, 217, 218, 219, 220, 221, 222, 223, 224, 225, 226, 227, 228, 229, 230, 231, 232, 233, 234, 235, 236, 237, 238, 239, 240, 241, 242, 243, 244, 245, 246, 247, 248, 249, 250, 251, 252, 253, 254, 255, 256, 257, 258, 259, 260, 261, 262, 263, 264, 265, 266, 267, 268, 269, 270, 271, 272, 273, 274, 275, 276, 277, 278, 279, 280, 281, 282, 283, 284, 285, 286, 287, 288, 289, 290, 291, 292, 293, 294, 295, 296, 297, 298, 299, 300, 301, 302, 303, 304, 305, 306, 307, 308, 309, 310, 311, 312, 313, 314, 315, 316, 317, 318, 319, 320, 321, 322, 323, 324, 325, 326, 327, 328, 329, 330, 331, 332, 333, 334, 335, 336, 337, 338, 339, 340, 341, 342, 343, 344, 345, 346, 347, 348, 349, 350, 351, 352, 353, 354, 355, 356, 357, 358, 359, 360, 361, 362, 363, 364, 365, 366, 367, 368, 369, 370, 371, 372, 373, 374, 375, 376, 377, 378, 379, 380, 381, 382, 383, 384, 385, 386, 387, 388, 389, 390, 391, 392, 393, 394, 395, 396, 397, 398, 399, 400, 401, 402, 403, 404, 405, 406, 407, 408, 409, 410, 411, 412, 413, 414, 415, 416, 417, 418, 419, 420, 421, 422, 423, 424, 425, 426, 427, 428, 429, 430, 431, 432, 433, 434, 435, 436, 437, 438, 439, 440, 441, 442, 443, 444, 445, 446, 447, 448, 449, 450, 451, 452, 453, 454, 455, 456, 457, 458, 459, 460, 461, 462, 463, 464, 465, 466, 467, 468, 469, 470, 471, 472, 473, 474, 475, 476, 477, 478, 479, 480, 481, 482, 483, 484, 485, 486, 487, 488, 489, 490, 491, 492, 493, 494, 495, 496, 497, 498, 499, 500, 501, 502, 503, 504, 505, 506, 507, 508, 509, 510, 511, 512, 513, 514, 515, 516, 517, 518, 519, 520, 521, 522, 523, 524, 525, 526, 527, 528, 529, 530, 531, 532, 533, 534, 535, 536, 537, 538, 539, 540, 541, 542, 543, 544, 545, 546, 547, 548, 549, 550, 551, 552, 553, 554, 555, 556, 557, 558, 559, 560, 561, 562, 563, 564, 565, 566, 567, 568, 569, 570, 571, 572, 573, 574, 575, 576, 577, 578, 579, 580, 581, 582, 583, 584, 585, 586, 587, 588, 589, 590, 591, 592, 593, 594, 595, 596, 597, 598, 599, 600, 601, 602, 603, 604, 605, 606, 607, 608, 609, 610, 611, 612, 613, 614, 615, 616, 617, 618, 619, 620, 621, 622, 623, 624, 625, 626, 627, 628, 629, 630, 631, 632, 633, 634, 635, 636, 637, 638, 639, 640, 641, 642, 643, 644, 645, 646, 647, 648, 649, 650, 651, 652, 653, 654, 655, 656, 657, 658, 659, 660, 661, 662, 663, 664, 665, 666, 667, 668, 669, 670, 671, 672, 673, 674, 675, 676, 677, 678, 679, 680, 681, 682, 683, 684, 685, 686, 687, 688, 689, 690, 691, 692, 693, 694, 695, 696, 697, 698, 699, 700, 701, 702, 703, 704, 705, 706, 707, 708, 709, 710, 711, 712, 713, 714, 715, 716, 717, 718, 719]],\n",
       "           labels=[[0, 0, 0, 0, 0, 0, 0, 0, 0, 0, 0, 0, 0, 0, 0, 0, 0, 0, 0, 0, 0, 0, 0, 0, 0, 0, 0, 0, 0, 0, 0, 0, 0, 0, 0, 0, 0, 0, 0, 0, 0, 0, 0, 0, 0, 0, 0, 0, 0, 0, 0, 0, 0, 0, 0, 0, 0, 0, 0, 0, 0, 0, 0, 0, 0, 0, 0, 0, 0, 0, 0, 0, 0, 0, 0, 0, 0, 0, 0, 0, 0, 0, 0, 0, 0, 0, 0, 0, 0, 0, 0, 0, 0, 0, 0, 0, 0, 0, 0, 0], [0, 1, 2, 3, 4, 5, 6, 7, 8, 9, 10, 11, 12, 13, 14, 15, 16, 17, 18, 19, 20, 21, 22, 23, 24, 25, 26, 27, 28, 29, 30, 31, 32, 33, 34, 35, 36, 37, 38, 39, 40, 41, 42, 43, 44, 45, 46, 47, 48, 49, 50, 51, 52, 53, 54, 55, 56, 57, 58, 59, 60, 61, 62, 63, 64, 65, 66, 67, 68, 69, 70, 71, 72, 73, 74, 75, 76, 77, 78, 79, 80, 81, 82, 83, 84, 85, 86, 87, 88, 89, 90, 91, 92, 93, 94, 95, 96, 97, 98, 99]],\n",
       "           names=['url', 'hour'])"
      ]
     },
     "execution_count": 15,
     "metadata": {},
     "output_type": "execute_result"
    }
   ],
   "source": [
    "crawls.index[:100]"
   ]
  },
  {
   "cell_type": "code",
   "execution_count": 38,
   "metadata": {
    "collapsed": false,
    "deletable": true,
    "editable": true
   },
   "outputs": [
    {
     "name": "stdout",
     "output_type": "stream",
     "text": [
      "~~~~~~~~~~~~~~~~~~~~~~~~~~~~~~~~~~~~~~~~~~~~~~~~~~~~~~~~~~~~~~~~~~~~~\n",
      "Running tests\n",
      "\n",
      "---------------------------------------------------------------------\n",
      "Test summary\n",
      "    Passed: 1\n",
      "    Failed: 0\n",
      "[ooooooooook] 100.0% passed\n",
      "\n"
     ]
    },
    {
     "data": {
      "application/javascript": [
       "IPython.notebook.save_checkpoint();"
      ],
      "text/plain": [
       "<IPython.core.display.Javascript object>"
      ]
     },
     "metadata": {},
     "output_type": "display_data"
    },
    {
     "data": {
      "application/javascript": [
       "IPython.notebook.save_notebook();"
      ],
      "text/plain": [
       "<IPython.core.display.Javascript object>"
      ]
     },
     "metadata": {},
     "output_type": "display_data"
    },
    {
     "name": "stdout",
     "output_type": "stream",
     "text": [
      "Saving notebook... Could not save your notebook. Make sure your notebook is saved before sending it to OK!\n",
      "Backup... 0.0% complete\r",
      "Backup... 100% complete\n",
      "Backup successful for user: doomsplayer@gmail.com\n",
      "\n"
     ]
    }
   ],
   "source": [
    "_ = ok.grade('q03')\n",
    "_ = ok.backup()"
   ]
  },
  {
   "cell_type": "markdown",
   "metadata": {
    "deletable": true,
    "editable": true
   },
   "source": [
    "## Question 4\n",
    "There are other reasonable ways to represent the data in a relational database (or in DataFrames).  One alternate schema uses 2 relations to represent the data.  The first relation is:\n",
    "\n",
    "    crawls_that_found_changes(primary key (url, hour))\n",
    "\n",
    "The primary key for the second relation is `url`.  Define a schema for that 2nd relation.  Your schema should ensure that the two resulting tables could be used to answer any question that could be answered using `crawls`."
   ]
  },
  {
   "cell_type": "code",
   "execution_count": 39,
   "metadata": {
    "collapsed": false,
    "deletable": true,
    "editable": true,
    "for_assignment_type": "student"
   },
   "outputs": [
    {
     "data": {
      "text/markdown": [
       "\n",
       "\n",
       "crawls_that_notfound_changes(primary key (url, hour))\n",
       "\n"
      ],
      "text/plain": [
       "<IPython.core.display.Markdown object>"
      ]
     },
     "metadata": {},
     "output_type": "display_data"
    }
   ],
   "source": [
    "# Use this cell for your explorations.  Write the schema\n",
    "# in text in the string below.\n",
    "q4_answer = r\"\"\"\n",
    "\n",
    "crawls_that_notfound_changes(primary key (url, hour))\n",
    "\n",
    "\"\"\"\n",
    "\n",
    "display(Markdown(q4_answer))"
   ]
  },
  {
   "cell_type": "markdown",
   "metadata": {
    "deletable": true,
    "editable": true
   },
   "source": [
    "\n",
    "---\n",
    "\n",
    "## Question 5\n",
    "\n",
    "In the following we will construct visualizations to understand several key quantities of interest.  The following cell constructs some key summary statistics that we will be using in the next few questions."
   ]
  },
  {
   "cell_type": "code",
   "execution_count": 18,
   "metadata": {},
   "outputs": [
    {
     "data": {
      "text/html": [
       "<div>\n",
       "<style>\n",
       "    .dataframe thead tr:only-child th {\n",
       "        text-align: right;\n",
       "    }\n",
       "\n",
       "    .dataframe thead th {\n",
       "        text-align: left;\n",
       "    }\n",
       "\n",
       "    .dataframe tbody tr th {\n",
       "        vertical-align: top;\n",
       "    }\n",
       "</style>\n",
       "<table border=\"1\" class=\"dataframe\">\n",
       "  <thead>\n",
       "    <tr style=\"text-align: right;\">\n",
       "      <th></th>\n",
       "      <th>number of crawls</th>\n",
       "      <th>proportion of updates</th>\n",
       "      <th>number of updates</th>\n",
       "    </tr>\n",
       "    <tr>\n",
       "      <th>url</th>\n",
       "      <th></th>\n",
       "      <th></th>\n",
       "      <th></th>\n",
       "    </tr>\n",
       "  </thead>\n",
       "  <tbody>\n",
       "    <tr>\n",
       "      <th>http://0968797090.blinklist.com/tag/%E5%8F%B0%E5%8C%97%E9%A0%82%E9%BB%9E%E7%AE%A1%E7%90%86%E5%A7%94%E5%93%A1%E6%9C%83/</th>\n",
       "      <td>245</td>\n",
       "      <td>0.000000</td>\n",
       "      <td>0.0</td>\n",
       "    </tr>\n",
       "    <tr>\n",
       "      <th>http://202.155.15.208/koran_detail.asp?id=283292&amp;kat_id=16&amp;kat_id1=&amp;kat_id2=</th>\n",
       "      <td>217</td>\n",
       "      <td>0.124424</td>\n",
       "      <td>27.0</td>\n",
       "    </tr>\n",
       "    <tr>\n",
       "      <th>http://5eg.net/gallery/thumbnails.php?album=lastcom</th>\n",
       "      <td>378</td>\n",
       "      <td>0.034392</td>\n",
       "      <td>13.0</td>\n",
       "    </tr>\n",
       "    <tr>\n",
       "      <th>http://5eg.net/gallery/thumbnails.php?album=lastcom&amp;cat=0</th>\n",
       "      <td>378</td>\n",
       "      <td>0.034392</td>\n",
       "      <td>13.0</td>\n",
       "    </tr>\n",
       "    <tr>\n",
       "      <th>http://86door.com.cn/</th>\n",
       "      <td>268</td>\n",
       "      <td>0.018657</td>\n",
       "      <td>5.0</td>\n",
       "    </tr>\n",
       "  </tbody>\n",
       "</table>\n",
       "</div>"
      ],
      "text/plain": [
       "                                                    number of crawls  \\\n",
       "url                                                                    \n",
       "http://0968797090.blinklist.com/tag/%E5%8F%B0%E...               245   \n",
       "http://202.155.15.208/koran_detail.asp?id=28329...               217   \n",
       "http://5eg.net/gallery/thumbnails.php?album=las...               378   \n",
       "http://5eg.net/gallery/thumbnails.php?album=las...               378   \n",
       "http://86door.com.cn/                                            268   \n",
       "\n",
       "                                                    proportion of updates  \\\n",
       "url                                                                         \n",
       "http://0968797090.blinklist.com/tag/%E5%8F%B0%E...               0.000000   \n",
       "http://202.155.15.208/koran_detail.asp?id=28329...               0.124424   \n",
       "http://5eg.net/gallery/thumbnails.php?album=las...               0.034392   \n",
       "http://5eg.net/gallery/thumbnails.php?album=las...               0.034392   \n",
       "http://86door.com.cn/                                            0.018657   \n",
       "\n",
       "                                                    number of updates  \n",
       "url                                                                    \n",
       "http://0968797090.blinklist.com/tag/%E5%8F%B0%E...                0.0  \n",
       "http://202.155.15.208/koran_detail.asp?id=28329...               27.0  \n",
       "http://5eg.net/gallery/thumbnails.php?album=las...               13.0  \n",
       "http://5eg.net/gallery/thumbnails.php?album=las...               13.0  \n",
       "http://86door.com.cn/                                             5.0  "
      ]
     },
     "execution_count": 18,
     "metadata": {},
     "output_type": "execute_result"
    }
   ],
   "source": [
    "crawl_stats.head()"
   ]
  },
  {
   "cell_type": "code",
   "execution_count": 16,
   "metadata": {
    "collapsed": true,
    "deletable": true,
    "editable": true
   },
   "outputs": [
    {
     "name": "stderr",
     "output_type": "stream",
     "text": [
      "/usr/local/lib/python3.6/site-packages/ipykernel_launcher.py:7: FutureWarning: using a dict on a Series for aggregation\n",
      "is deprecated and will be removed in a future version\n",
      "  import sys\n"
     ]
    }
   ],
   "source": [
    "crawl_stats = (\n",
    "    crawls['updated']\n",
    "        .groupby(crawls.index.get_level_values('url'))\n",
    "        .agg({\n",
    "            'number of crawls': 'count', \n",
    "            'proportion of updates': 'mean', \n",
    "            'number of updates': 'sum'\n",
    "        })\n",
    ")"
   ]
  },
  {
   "cell_type": "markdown",
   "metadata": {
    "deletable": true,
    "editable": true
   },
   "source": [
    "### Part 1:\n",
    "\n",
    "What was the distribution of the number of crawls for each page?  Did most get crawled all 719 times?  (For this and the other parts of this question, create a *visualization* to answer the question.)"
   ]
  },
  {
   "cell_type": "code",
   "execution_count": 47,
   "metadata": {
    "collapsed": false,
    "deletable": true,
    "editable": true,
    "for_assignment_type": "student"
   },
   "outputs": [
    {
     "data": {
      "image/png": "[encoded data removed]",
      "text/plain": [
       "<matplotlib.figure.Figure at 0x116dc1080>"
      ]
     },
     "metadata": {},
     "output_type": "display_data"
    }
   ],
   "source": [
    "crawl_stats['number of crawls'].hist(bins=15, figsize=(16,8))\n",
    "plt.xlabel(\"crawls\")\n",
    "plt.ylabel(\"pages\")\n",
    "\n",
    "# Leave this for grading purposes\n",
    "q5_p1_plot = plt.gcf()"
   ]
  },
  {
   "cell_type": "markdown",
   "metadata": {
    "deletable": true,
    "editable": true
   },
   "source": [
    "### Part 2\n",
    "\n",
    "What was the distribution of the number of positive checks for each page?"
   ]
  },
  {
   "cell_type": "code",
   "execution_count": 48,
   "metadata": {
    "collapsed": false,
    "deletable": true,
    "editable": true,
    "for_assignment_type": "student"
   },
   "outputs": [
    {
     "data": {
      "image/png": "[encoded data removed]",
      "text/plain": [
       "<matplotlib.figure.Figure at 0x116921978>"
      ]
     },
     "metadata": {},
     "output_type": "display_data"
    }
   ],
   "source": [
    "crawl_stats['number of updates'].hist(bins=15, figsize=(16,8))\n",
    "plt.xlabel(\"updates\")\n",
    "plt.ylabel(\"pages\")\n",
    "\n",
    "# Leave this for grading purposes\n",
    "q5_p2_plot = plt.gcf()"
   ]
  },
  {
   "cell_type": "markdown",
   "metadata": {
    "deletable": true,
    "editable": true
   },
   "source": [
    "### Part 3\n",
    "\n",
    "What is the relationship between the number of crawls for each page and the number of positive checks? Construct a scatter plot relating these two quantities."
   ]
  },
  {
   "cell_type": "code",
   "execution_count": 49,
   "metadata": {
    "collapsed": false,
    "deletable": true,
    "editable": true,
    "for_assignment_type": "student"
   },
   "outputs": [
    {
     "data": {
      "image/png": "[encoded data removed]",
      "text/plain": [
       "<matplotlib.figure.Figure at 0x116c3f898>"
      ]
     },
     "metadata": {},
     "output_type": "display_data"
    }
   ],
   "source": [
    "crawl_stats.plot.scatter('number of crawls', 'number of updates', figsize=(16,8))\n",
    "\n",
    "# Leave this for grading purposes\n",
    "q5_p3_plot = plt.gcf()"
   ]
  },
  {
   "cell_type": "markdown",
   "metadata": {
    "deletable": true,
    "editable": true
   },
   "source": [
    "### Part 4\n",
    "\n",
    "In 2 or 3 sentences, describe what you discovered in your initial explorations."
   ]
  },
  {
   "cell_type": "code",
   "execution_count": 50,
   "metadata": {
    "collapsed": false,
    "deletable": true,
    "editable": true,
    "for_assignment_type": "student"
   },
   "outputs": [
    {
     "data": {
      "text/markdown": [
       "\n",
       "\n",
       "Most of sites don't update frequently\n",
       "\n"
      ],
      "text/plain": [
       "<IPython.core.display.Markdown object>"
      ]
     },
     "metadata": {},
     "output_type": "display_data"
    }
   ],
   "source": [
    "q5_p4_answer = r\"\"\"\n",
    "\n",
    "Most of sites don't update frequently\n",
    "\n",
    "\"\"\"\n",
    "\n",
    "display(Markdown(q5_p4_answer))"
   ]
  },
  {
   "cell_type": "markdown",
   "metadata": {
    "deletable": true,
    "editable": true
   },
   "source": [
    "#### Making a timeline from one site"
   ]
  },
  {
   "cell_type": "markdown",
   "metadata": {
    "deletable": true,
    "editable": true
   },
   "source": [
    "It will be useful to be able to look at timelines of positive checks or changes for sites.  The function `display_points`, defined below, will help."
   ]
  },
  {
   "cell_type": "code",
   "execution_count": 51,
   "metadata": {
    "collapsed": true,
    "deletable": true,
    "editable": true
   },
   "outputs": [],
   "source": [
    "def display_points(points, xlim, title):\n",
    "    \"\"\"Displays a timeline with points on it.\n",
    "    \n",
    "    Args:\n",
    "      points (ndarray): A list of floats in the range [xlim[0], xlim[1]],\n",
    "                        each one a point to display in the timeline.\n",
    "      xlim (list-like): A list/tuple/array with 2 elements giving the\n",
    "                        start and end of the timeline.\n",
    "      title (str): The title to display on the plot.\n",
    "      \n",
    "    Example:\n",
    "        >>> # plot the points at [1,3,30,50]\n",
    "        >>> display_points([1,4,30,50], [0, 75], \"Example\")\n",
    "    \"\"\"\n",
    "    fig, ax = plt.subplots(1)\n",
    "    fig.set_size_inches(8, 1)\n",
    "    ax.scatter(points, np.repeat(0, len(points)), alpha=0.5)\n",
    "    ax.axhline(0, color=\"grey\", zorder=-1, lw=.5)\n",
    "    ax.yaxis.set_visible(False)\n",
    "    ax.xaxis.set_visible(True)\n",
    "    ax.set_xlim(xlim)\n",
    "    ax.set_title(\"{} ({:d} total points)\".format(title, len(points)))\n",
    "    plt.show()"
   ]
  },
  {
   "cell_type": "markdown",
   "metadata": {
    "deletable": true,
    "editable": true
   },
   "source": [
    "#### Example Usage"
   ]
  },
  {
   "cell_type": "code",
   "execution_count": 52,
   "metadata": {
    "collapsed": false,
    "deletable": true,
    "editable": true
   },
   "outputs": [
    {
     "data": {
      "image/png": "[encoded data removed]",
      "text/plain": [
       "<matplotlib.figure.Figure at 0x11721e780>"
      ]
     },
     "metadata": {},
     "output_type": "display_data"
    }
   ],
   "source": [
    "display_points([1,4,30,50], [0, 75], \"Example\")"
   ]
  },
  {
   "cell_type": "markdown",
   "metadata": {
    "deletable": true,
    "editable": true
   },
   "source": [
    "\n",
    "---\n",
    "\n",
    "## Question 6\n",
    "\n",
    "We want to understand the behavior of page changes in order to determine how often a page should be visited. To do this, we need more than summary statistics of the 1000 sites.  We also need to examine the patterns of positive checks for sites. Let's examine when the positive checks occurred for a handful of sites.  The `display_points` function is helpful here.\n",
    "\n",
    "We selected a variety of sites - some changed frequently, others rarely, and some had only a few successful crawls. Their URLs are available in `pages_to_display`.  Use `display_points` to examine each page.  You should notice that the visualization is not very informative in the last 3 cases."
   ]
  },
  {
   "cell_type": "code",
   "execution_count": 53,
   "metadata": {
    "collapsed": false,
    "deletable": true,
    "editable": true
   },
   "outputs": [],
   "source": [
    "# This cell identifies a few categories of pages and \n",
    "# associates a label in the 'Desc' column of crawl_stats\n",
    "\n",
    "crawl_stats['Desc'] = \"\" # default blank description\n",
    "\n",
    "# Normal pages have a moderate number of updates and \n",
    "# were successfully crawled most times.\n",
    "crawl_stats.loc[\n",
    "        (crawl_stats['proportion of updates'] > 0.1)\n",
    "        & (crawl_stats['proportion of updates'] < 0.9)\n",
    "        & (crawl_stats['number of crawls'] >= 700), \n",
    "    'Desc'] = 'Normal'\n",
    "\n",
    "crawl_stats.loc[\n",
    "        (crawl_stats['proportion of updates'] < .1)\n",
    "        & (crawl_stats['number of crawls'] >= 700), \n",
    "    'Desc'] = 'Rare Update'\n",
    "\n",
    "crawl_stats.loc[\n",
    "        (crawl_stats['proportion of updates'] > .9)\n",
    "        & (crawl_stats['number of crawls'] >= 700), \n",
    "    'Desc'] = 'Frequent Update'\n",
    "\n",
    "crawl_stats.loc[\n",
    "        crawl_stats['number of crawls'] < 50, \n",
    "    'Desc'] = 'Few Crawls'\n",
    "\n",
    "\n",
    "# Build a dataframe with a few examples from each type of webpage\n",
    "num_of_each = 3\n",
    "pages_to_display = pd.concat([\n",
    "    crawl_stats[crawl_stats['Desc'] == \"Normal\"].head(num_of_each),\n",
    "    crawl_stats[crawl_stats['Desc'] == 'Rare Update'].head(num_of_each),\n",
    "    crawl_stats[crawl_stats['Desc'] == 'Frequent Update'].head(num_of_each),\n",
    "    crawl_stats[crawl_stats['Desc'] == 'Few Crawls'].head(num_of_each),\n",
    "])"
   ]
  },
  {
   "cell_type": "code",
   "execution_count": 54,
   "metadata": {
    "collapsed": false,
    "deletable": true,
    "editable": true
   },
   "outputs": [
    {
     "data": {
      "image/png": "[encoded data removed]",
      "text/plain": [
       "<matplotlib.figure.Figure at 0x11725b710>"
      ]
     },
     "metadata": {},
     "output_type": "display_data"
    },
    {
     "data": {
      "image/png": "[encoded data removed]",
      "text/plain": [
       "<matplotlib.figure.Figure at 0x11725b240>"
      ]
     },
     "metadata": {},
     "output_type": "display_data"
    },
    {
     "data": {
      "image/png": "[encoded data removed]",
      "text/plain": [
       "<matplotlib.figure.Figure at 0x11725b320>"
      ]
     },
     "metadata": {},
     "output_type": "display_data"
    },
    {
     "data": {
      "image/png": "[encoded data removed]",
      "text/plain": [
       "<matplotlib.figure.Figure at 0x117516dd8>"
      ]
     },
     "metadata": {},
     "output_type": "display_data"
    },
    {
     "data": {
      "image/png": "[encoded data removed]",
      "text/plain": [
       "<matplotlib.figure.Figure at 0x117597e48>"
      ]
     },
     "metadata": {},
     "output_type": "display_data"
    },
    {
     "data": {
      "image/png": "[encoded data removed]",
      "text/plain": [
       "<matplotlib.figure.Figure at 0x1176b81d0>"
      ]
     },
     "metadata": {},
     "output_type": "display_data"
    },
    {
     "data": {
      "image/png": "[encoded data removed]",
      "text/plain": [
       "<matplotlib.figure.Figure at 0x1176b8400>"
      ]
     },
     "metadata": {},
     "output_type": "display_data"
    },
    {
     "data": {
      "image/png": "[encoded data removed]",
      "text/plain": [
       "<matplotlib.figure.Figure at 0x1167e2438>"
      ]
     },
     "metadata": {},
     "output_type": "display_data"
    },
    {
     "data": {
      "image/png": "[encoded data removed]",
      "text/plain": [
       "<matplotlib.figure.Figure at 0x1169414a8>"
      ]
     },
     "metadata": {},
     "output_type": "display_data"
    },
    {
     "data": {
      "image/png": "[encoded data removed]",
      "text/plain": [
       "<matplotlib.figure.Figure at 0x116da9898>"
      ]
     },
     "metadata": {},
     "output_type": "display_data"
    },
    {
     "data": {
      "image/png": "[encoded data removed]",
      "text/plain": [
       "<matplotlib.figure.Figure at 0x116df18d0>"
      ]
     },
     "metadata": {},
     "output_type": "display_data"
    },
    {
     "data": {
      "image/png": "[encoded data removed]",
      "text/plain": [
       "<matplotlib.figure.Figure at 0x116b6f6d8>"
      ]
     },
     "metadata": {},
     "output_type": "display_data"
    }
   ],
   "source": [
    "# Construct the timeline point diagrams for each example\n",
    "for (url, desc) in pages_to_display['Desc'].iteritems():\n",
    "    crawls_for_site = crawls.loc[url]\n",
    "    display_points(\n",
    "        crawls_for_site[crawls_for_site['updated']].index,\n",
    "        [0, len(crawls_for_site)], desc)"
   ]
  },
  {
   "cell_type": "markdown",
   "metadata": {
    "deletable": true,
    "editable": true
   },
   "source": [
    "## Examining the Times of Positive Checks\n",
    "\n",
    "Consider what you learned about the positive checks in the previous question. Do these occur at regular intervals? Or do they appear to occur more *randomly* in time?  Write a 2 to 3 sentence explanation of what you see:"
   ]
  },
  {
   "cell_type": "code",
   "execution_count": 56,
   "metadata": {
    "collapsed": false,
    "deletable": true,
    "editable": true,
    "for_assignment_type": "student"
   },
   "outputs": [
    {
     "data": {
      "text/markdown": [
       "\n",
       "\n",
       "it looks like they don't have patterns on update\n",
       "\n"
      ],
      "text/plain": [
       "<IPython.core.display.Markdown object>"
      ]
     },
     "metadata": {},
     "output_type": "display_data"
    }
   ],
   "source": [
    "# Use this cell for your explorations.\n",
    "q6_answer = r\"\"\"\n",
    "\n",
    "it looks like they don't have patterns on update\n",
    "\n",
    "\"\"\"\n",
    "\n",
    "display(Markdown(q6_answer))"
   ]
  },
  {
   "cell_type": "markdown",
   "metadata": {
    "deletable": true,
    "editable": true
   },
   "source": [
    "Understanding this distribution of positive checks will help us determine the distribution of changes. However, determining this distribution is difficult to do if we do not crawl the page sufficiently often. (We will soon see that it is also hard to do if the site changed too many times.) For these reasons, we will focus on \"normal\" pages, i.e., pages that were successfully crawled at least 700 times and that had between 50 and 200 updates.\n",
    "\n",
    "Do the positive checks occur uniformly at random? Let's compare the observed distribution of the positive checks to the uniform distribution for a few of our pages. "
   ]
  },
  {
   "cell_type": "markdown",
   "metadata": {
    "deletable": true,
    "editable": true
   },
   "source": [
    "\n",
    "---\n",
    "\n",
    "## Question 7\n",
    "\n",
    "To compare the data distribution to a hypothetical probability distribution, we can compare the histogram of the data to the probability density function.  However, a more effective comparison is to compare the quantiles of the observed distribution to those of the  probability distribution. \n",
    "\n",
    "The $q^{th}$ quantile of the data, for $0 < q < 1$ is that point $x_q$ such that at least $q$ of the observations are at or below $x_q$ and at least $1-q$ of the observations are at or above $x_q$. For example, the median is the 0.5 quantile and the lower and upper quartiles are the 0.25 and 0.75 quantiles.\n",
    "\n",
    "The $q^{th}$ quantile of a continuous probability distribution, for $0 < q < 1$ is that point $x_q$ such that \n",
    "$P(X \\leq x_q) = q$ and $P(X \\geq x_q) = 1-q$. The quantiles of a uniform distribution are easy to compute. For example, for a Uniform$(0, N)$ distribution, we have $x_q = qN$.\n",
    "\n",
    "If the data come from the same probability distribution, then their quantiles should roughly match.  If we make a scatter plot of pairs of the empirical and theoretical quantiles, like these 3 points:\n",
    "\n",
    "    (lower quartile of the data, lower quartile of the pdf),\n",
    "    (median of data, median of the pdf),\n",
    "    (upper quartile of the data, upper quartile of the pdf)\n",
    "\n",
    "...the points should fall roughly on a line.\n",
    "\n",
    "Such a plot is called a quantile-quantile or Q-Q plot.  For the websites with `Desc = 'Normal'` websites in `pages_to_display`, make a Q-Q plot for that site's updates, as follows:\n",
    "\n",
    "* Let $N$ be the number of crawls for this page and $n$ be the number of positive checks.\n",
    "* Order the positive check values for a site from smallest to largest. We use these as the quantiles. That is, the $k^{th}$ smallest observation is the $k/(n+1)$-quantile.\n",
    "* Compute the $n$ corresponding quantiles for the uniform distribution on $(0, N)$. These are simply\n",
    "$$k \\times \\frac{N}{n+1},$$\n",
    "for $k = 1, \\ldots, n$.  (Why?)\n",
    "* Plot the $n$ pairs of quantiles in a scatter plot."
   ]
  },
  {
   "cell_type": "markdown",
   "metadata": {
    "deletable": true,
    "editable": true
   },
   "source": [
    "### Part 1"
   ]
  },
  {
   "cell_type": "code",
   "execution_count": 57,
   "metadata": {
    "collapsed": true,
    "deletable": true,
    "editable": true,
    "for_assignment_type": "student"
   },
   "outputs": [],
   "source": [
    "def compute_q_q_pairs(url):\n",
    "    \"\"\"Computes lists of uniform-distribution-quantiles and data-quantiles for a page.\n",
    "    \n",
    "    Args:\n",
    "      url (str): The URL of a page.\n",
    "    \n",
    "    Returns:\n",
    "      2-tuple: A pair (AKA a 2-tuple).  Both components are lists or arrays of\n",
    "               length n, where n is the number of positive checks for the page.\n",
    "               The first component contains quantiles of a uniform distribution,\n",
    "               and the second contains quantiles of the distribution of positive\n",
    "               check times for the page.  The kth element of a component is the\n",
    "               (k+1)/(n+1)-th quantile of its distribution or dataset.\n",
    "               \n",
    "               The first component of the pair contains quantiles of the uniform\n",
    "               distribution on [0, N], where N is the number of checks performed\n",
    "               for the page.\n",
    "    \"\"\"\n",
    "    updates = crawls.loc[url]['updated']\n",
    "    obs_q = np.array(updates[updates].index)\n",
    "    pdf_q = np.linspace(len(updates)/(len(obs_q)+1), len(updates), len(obs_q))\n",
    "    \n",
    "    return (pdf_q, obs_q)"
   ]
  },
  {
   "cell_type": "code",
   "execution_count": 58,
   "metadata": {
    "collapsed": false,
    "deletable": true,
    "editable": true
   },
   "outputs": [
    {
     "name": "stdout",
     "output_type": "stream",
     "text": [
      "~~~~~~~~~~~~~~~~~~~~~~~~~~~~~~~~~~~~~~~~~~~~~~~~~~~~~~~~~~~~~~~~~~~~~\n",
      "Running tests\n",
      "\n",
      "---------------------------------------------------------------------\n",
      "Test summary\n",
      "    Passed: 1\n",
      "    Failed: 0\n",
      "[ooooooooook] 100.0% passed\n",
      "\n"
     ]
    },
    {
     "data": {
      "application/javascript": [
       "IPython.notebook.save_checkpoint();"
      ],
      "text/plain": [
       "<IPython.core.display.Javascript object>"
      ]
     },
     "metadata": {},
     "output_type": "display_data"
    },
    {
     "data": {
      "application/javascript": [
       "IPython.notebook.save_notebook();"
      ],
      "text/plain": [
       "<IPython.core.display.Javascript object>"
      ]
     },
     "metadata": {},
     "output_type": "display_data"
    },
    {
     "name": "stdout",
     "output_type": "stream",
     "text": [
      "Saving notebook... Could not save your notebook. Make sure your notebook is saved before sending it to OK!\n",
      "Backup... 0.0% complete\r",
      "Backup... 100% complete\n",
      "Backup successful for user: doomsplayer@gmail.com\n",
      "\n"
     ]
    }
   ],
   "source": [
    "_ = ok.grade('q07')\n",
    "_ = ok.backup()"
   ]
  },
  {
   "cell_type": "markdown",
   "metadata": {
    "deletable": true,
    "editable": true
   },
   "source": [
    "The following code constructs the final Q-Q plot for the `\"Normal\"` sites defined above"
   ]
  },
  {
   "cell_type": "code",
   "execution_count": 60,
   "metadata": {
    "collapsed": false,
    "deletable": true,
    "editable": true
   },
   "outputs": [
    {
     "name": "stdout",
     "output_type": "stream",
     "text": [
      "http://a.hatena.ne.jp/Syako/simple\n"
     ]
    },
    {
     "data": {
      "image/png": "[encoded data removed]",
      "text/plain": [
       "<matplotlib.figure.Figure at 0x11761a7f0>"
      ]
     },
     "metadata": {},
     "output_type": "display_data"
    },
    {
     "name": "stdout",
     "output_type": "stream",
     "text": [
      "http://a.hatena.ne.jp/inouetom/image?gid=null\n"
     ]
    },
    {
     "data": {
      "image/png": "[encoded data removed]",
      "text/plain": [
       "<matplotlib.figure.Figure at 0x116872d30>"
      ]
     },
     "metadata": {},
     "output_type": "display_data"
    },
    {
     "name": "stdout",
     "output_type": "stream",
     "text": [
      "http://a.hatena.ne.jp/munehiro/simple\n"
     ]
    },
    {
     "data": {
      "image/png": "[encoded data removed]",
      "text/plain": [
       "<matplotlib.figure.Figure at 0x113828cf8>"
      ]
     },
     "metadata": {},
     "output_type": "display_data"
    }
   ],
   "source": [
    "for url in pages_to_display[pages_to_display['Desc'] == \"Normal\"].index.values:\n",
    "    print(url)\n",
    "    (pdf_q, obs_q) = compute_q_q_pairs(url)\n",
    "    sns.regplot(pdf_q, np.array(obs_q))\n",
    "    plt.xlabel(\"uniform quantile\")\n",
    "    plt.ylabel(\"actual quantile\")\n",
    "    plt.show()"
   ]
  },
  {
   "cell_type": "markdown",
   "metadata": {
    "deletable": true,
    "editable": true
   },
   "source": [
    "### Part 2\n",
    "\n",
    "Describe your findings. "
   ]
  },
  {
   "cell_type": "code",
   "execution_count": 61,
   "metadata": {
    "collapsed": false,
    "deletable": true,
    "editable": true,
    "for_assignment_type": "student"
   },
   "outputs": [
    {
     "data": {
      "text/markdown": [
       "\n",
       "\n",
       "Seems like they are quite uniform\n",
       "\n"
      ],
      "text/plain": [
       "<IPython.core.display.Markdown object>"
      ]
     },
     "metadata": {},
     "output_type": "display_data"
    }
   ],
   "source": [
    "# Use this cell for your explorations.\n",
    "q7_p2_answer = r\"\"\"\n",
    "\n",
    "Seems like they are quite uniform\n",
    "\n",
    "\"\"\"\n",
    "\n",
    "display(Markdown(q7_p2_answer))"
   ]
  },
  {
   "cell_type": "markdown",
   "metadata": {
    "deletable": true,
    "editable": true
   },
   "source": [
    "\n",
    "---\n",
    "\n",
    "## Question 8\n",
    "\n",
    "Even if the updates were distributed uniformly, the Q-Q plot will not appear as exactly a straight line.  To get a sense of what a uniform-quantile plot might look like if the data were truly distributed according to the uniform distribution, simulate $n$ observations from the uniform distribution on the interval (0, 719) and make a uniform-quantile plot for these simulated data.  $n$ is defined in the next cell; write your code in the cell below that."
   ]
  },
  {
   "cell_type": "code",
   "execution_count": 62,
   "metadata": {
    "collapsed": false,
    "deletable": true,
    "editable": true
   },
   "outputs": [],
   "source": [
    "url = 'http://a.hatena.ne.jp/Syako/simple'\n",
    "n = np.count_nonzero(crawls.loc[url]['updated'])"
   ]
  },
  {
   "cell_type": "code",
   "execution_count": 64,
   "metadata": {
    "collapsed": false,
    "deletable": true,
    "editable": true,
    "for_assignment_type": "student"
   },
   "outputs": [
    {
     "data": {
      "image/png": "[encoded data removed]",
      "text/plain": [
       "<matplotlib.figure.Figure at 0x116a00fd0>"
      ]
     },
     "metadata": {},
     "output_type": "display_data"
    }
   ],
   "source": [
    "obs_q = np.round(np.random.uniform(0, 719, n))\n",
    "obs_q.sort()\n",
    "\n",
    "pdf_q = np.arange(719/(n+1), 719, 719/(n+1))\n",
    "\n",
    "sns.regplot(pdf_q, np.array(obs_q))\n",
    "plt.xlabel(\"uniform quantile\")\n",
    "plt.ylabel(\"actual quantile\")\n",
    "\n",
    "# Leave this for grading purposes\n",
    "q8_plot = plt.gcf()"
   ]
  },
  {
   "cell_type": "markdown",
   "metadata": {
    "deletable": true,
    "editable": true
   },
   "source": [
    "How do the empirical quantile plots from the previous quesion compare to your simulated quantile plot?  *Optionally,* we suggest looking at a few other sites and a few other simulated sets of data to see how well they match."
   ]
  },
  {
   "cell_type": "code",
   "execution_count": 66,
   "metadata": {
    "collapsed": false,
    "deletable": true,
    "editable": true,
    "for_assignment_type": "student"
   },
   "outputs": [
    {
     "data": {
      "text/markdown": [
       "\n",
       "\n",
       "It seems like the simulated distribution looks quite similiar to the real data.\n",
       "\n"
      ],
      "text/plain": [
       "<IPython.core.display.Markdown object>"
      ]
     },
     "metadata": {},
     "output_type": "display_data"
    }
   ],
   "source": [
    "# Use this cell for your explorations.\n",
    "q8_answer = r\"\"\"\n",
    "\n",
    "It seems like the simulated distribution looks quite similiar to the real data.\n",
    "\n",
    "\"\"\"\n",
    "\n",
    "display(Markdown(q8_answer))"
   ]
  },
  {
   "cell_type": "markdown",
   "metadata": {
    "deletable": true,
    "editable": true
   },
   "source": [
    "\n",
    "---\n",
    "\n",
    "# Estimating the Update Rate: A Simple Approach\n",
    "How would you estimate the change rate for a page? \n",
    "\n",
    "For example, imagine that in 720 hourly visits to a page, we observed a change in the page on 36 visits. One estimate for the rate of changes is:\n",
    "\n",
    "$$\\frac {36\\text{ changes}}{720\\text{ hours}} = \\frac{1}{20} \\text{ changes per hour}$$\n",
    "\n",
    "There is a small problem with our estimate. What if a page changes twice in an hour? We would see only one positive check.  We do not observe the true number of changes that happened to a page in 30 days, but the number of hours that had a change.  Think about how this could affect our interpretation of how often websites change.\n",
    "\n",
    "To help answer this question, we use a probability model for the change behavior of a site and examine the impact of the incomplete observations on our simple estimate of a site's rate of change. "
   ]
  },
  {
   "cell_type": "markdown",
   "metadata": {
    "deletable": true,
    "editable": true
   },
   "source": [
    "## A Model for Page Updates\n",
    "What model should we use?\n",
    "\n",
    "In our earlier Q-Q plot analysis we found that the updates appear to occur uniformly at random.  \n",
    "\n",
    "However, the number of positive checks (and therefore the number of page changes) is not the same from one page to the next. That is, both the *number* of changes and the hours of the changes appear to be random.\n",
    "\n",
    "When events can happen independently at any point in a span of time, and they're equally likely to happen at any of the times, a good model for the *number* of events that happen is the Poisson distribution.\n",
    "\n",
    "The Poisson distribution has a simple probability mass function, \n",
    "\n",
    "$$P(k) = \\frac{\\lambda^k}{k!}  e^{-\\lambda},$$\n",
    "\n",
    "for $k = 0, 1, 2, \\ldots$. The parameter $\\lambda$ is called the *rate*, and this is a Poisson$(\\lambda)$ distribution.\n",
    "\n",
    "For example, if $\\lambda$ is the hourly rate of changes to a page, then the chance of $k$ changes in one hour is:\n",
    "\n",
    "$$P(k) = \\frac{\\lambda^k}{k!}  e^{-\\lambda}.$$\n",
    "\n",
    "If we count the number of changes over $N$ hours, then the number of changes in this time period has \n",
    "a Poisson$(N \\lambda)$ distribution. That is,  \n",
    "\n",
    "$$P(k \\texttt{ updates in }N \\texttt{ hours}) = \\frac{(N\\lambda)^k}{k!}  e^{-(N\\lambda)}.$$"
   ]
  },
  {
   "cell_type": "markdown",
   "metadata": {
    "deletable": true,
    "editable": true
   },
   "source": [
    "\n",
    "---\n",
    "\n",
    "## Question 9\n",
    "Suppose that we observe $n$ changes for a site that was visited for $N$ hours. If the number of changes follows the Poisson distribution, show that $\\frac{n}{N}$ is the MLE for $\\lambda$.  In fancy notation, we could call this $\\lambda^{\\text{MLE}}$.  (Note that we are currently ignoring the problem of not being able to detect multiple changes in an hour.)\n",
    "\n",
    "*Note:* It's okay to write your answer in plain text.  If you know $\\LaTeX$ or would like to learn it, now is a good time to try it out.  (If you double-click on this cell or some of the cells above, you can see some $\\LaTeX$ examples.)"
   ]
  },
  {
   "cell_type": "code",
   "execution_count": 72,
   "metadata": {
    "collapsed": false,
    "deletable": true,
    "editable": true,
    "for_assignment_type": "student"
   },
   "outputs": [
    {
     "data": {
      "text/markdown": [
       "\n",
       "The probability of the data given $\\lambda$ is:\n",
       "\n",
       "$$L(\\lambda) = e^{-(\\lambda N)} \\frac{(\\lambda N)^{n}}{n!}$$\n",
       "\n",
       "Then convert it to the log form:\n",
       "\n",
       "$$\\log L(\\lambda) = -(\\lambda N) + n \\log(\\lambda) + n \\log(N) - \\log(n!)$$\n",
       "\n",
       "To get the maximum value, we get\n",
       "\n",
       "$$0 = \\left[\\frac{d}{d \\lambda} \\log L \\right](\\lambda^{\\text{MLE}}) = \n",
       "-N + \\frac{n}{\\lambda^{\\text{MLE}}}$$\n",
       "\n",
       "Then\n",
       "\n",
       "$$\\lambda^{\\text{MLE}} = \\frac{n}{N}$$\n",
       "\n"
      ],
      "text/plain": [
       "<IPython.core.display.Markdown object>"
      ]
     },
     "metadata": {},
     "output_type": "display_data"
    }
   ],
   "source": [
    "q9_answer = r\"\"\"\n",
    "The probability of the data given $\\lambda$ is:\n",
    "\n",
    "$$L(\\lambda) = e^{-(\\lambda N)} \\frac{(\\lambda N)^{n}}{n!}$$\n",
    "\n",
    "Then convert it to the log form:\n",
    "\n",
    "$$\\log L(\\lambda) = -(\\lambda N) + n \\log(\\lambda) + n \\log(N) - \\log(n!)$$\n",
    "\n",
    "To get the maximum value, we get\n",
    "\n",
    "$$0 = \\left[\\frac{d}{d \\lambda} \\log L \\right](\\lambda^{\\text{MLE}}) = \n",
    "-N + \\frac{n}{\\lambda^{\\text{MLE}}}$$\n",
    "\n",
    "Then\n",
    "\n",
    "$$\\lambda^{\\text{MLE}} = \\frac{n}{N}$$\n",
    "\n",
    "\"\"\"\n",
    "\n",
    "display(Markdown(q9_answer))"
   ]
  },
  {
   "cell_type": "markdown",
   "metadata": {
    "deletable": true,
    "editable": true
   },
   "source": [
    "\n",
    "---\n",
    "\n",
    "## Question 10\n",
    "\n",
    "1. Add a `'simple mle'` column to the `crawl_stats` table containing the `'simple mle'` estimator we derived earlier for each website.\n",
    "\n",
    "2. **Then,** make a plot that displays the distribution of these MLEs *for the sites with at least 700 crawls*."
   ]
  },
  {
   "cell_type": "code",
   "execution_count": 74,
   "metadata": {
    "collapsed": false,
    "deletable": true,
    "editable": true,
    "for_assignment_type": "student"
   },
   "outputs": [
    {
     "data": {
      "image/png": "[encoded data removed]",
      "text/plain": [
       "<matplotlib.figure.Figure at 0x117474710>"
      ]
     },
     "metadata": {},
     "output_type": "display_data"
    }
   ],
   "source": [
    "crawl_stats['simple mle'] = crawl_stats['proportion of updates']\n",
    "\n",
    "crawl_stats[crawl_stats['number of crawls'] >= 700]['simple mle'].hist(bins=15)\n",
    "\n",
    "# Leave this at the end so we can grab the plot for grading\n",
    "q10_plot = plt.gcf()"
   ]
  },
  {
   "cell_type": "code",
   "execution_count": 75,
   "metadata": {
    "collapsed": false,
    "deletable": true,
    "editable": true
   },
   "outputs": [
    {
     "name": "stdout",
     "output_type": "stream",
     "text": [
      "~~~~~~~~~~~~~~~~~~~~~~~~~~~~~~~~~~~~~~~~~~~~~~~~~~~~~~~~~~~~~~~~~~~~~\n",
      "Running tests\n",
      "\n",
      "---------------------------------------------------------------------\n",
      "Test summary\n",
      "    Passed: 1\n",
      "    Failed: 0\n",
      "[ooooooooook] 100.0% passed\n",
      "\n"
     ]
    },
    {
     "data": {
      "application/javascript": [
       "IPython.notebook.save_checkpoint();"
      ],
      "text/plain": [
       "<IPython.core.display.Javascript object>"
      ]
     },
     "metadata": {},
     "output_type": "display_data"
    },
    {
     "data": {
      "application/javascript": [
       "IPython.notebook.save_notebook();"
      ],
      "text/plain": [
       "<IPython.core.display.Javascript object>"
      ]
     },
     "metadata": {},
     "output_type": "display_data"
    },
    {
     "name": "stdout",
     "output_type": "stream",
     "text": [
      "Saving notebook... Could not save your notebook. Make sure your notebook is saved before sending it to OK!\n",
      "Backup... 0.0% complete\r",
      "Backup... 100% complete\n",
      "Backup successful for user: doomsplayer@gmail.com\n",
      "\n"
     ]
    }
   ],
   "source": [
    "_ = ok.grade('q10')\n",
    "_ = ok.backup()"
   ]
  },
  {
   "cell_type": "markdown",
   "metadata": {
    "deletable": true,
    "editable": true
   },
   "source": [
    "## The Impact of Hourly Observations\n",
    "\n",
    "The histogram that you made for previous problem has a small mode at 1. Why is this? It is not possible for our estimate of the rate of changes to be greater than once an hour because we only observe the page once an hour. So if the rate of changes is large, we are likely to underestimate it. Let's try to assess the impact of this.\n",
    "\n",
    "We will carry out a Monte Carlo (repeated, randomized simulation) study of the process that generates our observations. To perform such a study, we need a model for how the checks came out. For that, we need a model for the page changes themselves.\n",
    "\n",
    "We previously said that the number of changes follows a Poisson distribution with a certain rate for each page.  We also saw that the positive checks are distributed roughly uniformly.  It seems reasonable to assume that the changes themselves are also distributed uniformly.\n",
    "\n",
    "When the *number* of events follows the Poisson distribution and the *location* of the events (along the time interval) follows the uniform distribution, then we have what is called a *Poisson process*.  This is a random object that's a *set* of numbers rather than just one *number*.\n",
    "\n",
    "To perform our Monte Carlo study, for various values of $\\lambda$ we will generate the simulated changes according to the Poisson process distribution and then *reduce* the changes to the hour of the change. More specifically, we can simulate the data as follows:\n",
    "\n",
    "* Generate $M$, the number of updates, by drawing from the Poisson(720$\\lambda$) distribution.\n",
    "* Place each of the $M$ updates uniformly at random on the interval (0, 719). \n",
    "* \"Snap\" each update to the next hour.  For example, a 3:15 update time becomes 4:00, which is the time when we would have observed it. (What do you do when more than one update occurs within an hour?)"
   ]
  },
  {
   "cell_type": "markdown",
   "metadata": {
    "deletable": true,
    "editable": true
   },
   "source": [
    "---\n",
    "\n",
    "## Question 11\n",
    "Following the above description of the Poisson process, complete the function `sample_poisson_process`.\n",
    "\n",
    "*Hint:* The function `np.random.poisson` will be useful."
   ]
  },
  {
   "cell_type": "code",
   "execution_count": 79,
   "metadata": {
    "collapsed": true,
    "deletable": true,
    "editable": true,
    "for_assignment_type": "student"
   },
   "outputs": [],
   "source": [
    "def sample_poisson_process(rate, length):\n",
    "    \"\"\"Generates n points from Poisson(rate*length) and locates them\n",
    "    uniformly at random on [0, length].\n",
    "    \n",
    "    Args:\n",
    "      rate (float): The average number of points per unit length.\n",
    "      length (float): The length of the line segment.\n",
    "    \n",
    "    Returns:\n",
    "      ndarray: An array of points scattered randomly on [0, length].\n",
    "               The number of points has a Poisson(rate*length)\n",
    "               distribution.\n",
    "    \"\"\"\n",
    "    total = np.random.poisson(rate*length)\n",
    "    return np.array(sorted([length*np.random.random() for _ in range(total)]))"
   ]
  },
  {
   "cell_type": "code",
   "execution_count": 80,
   "metadata": {
    "collapsed": false
   },
   "outputs": [
    {
     "name": "stdout",
     "output_type": "stream",
     "text": [
      "~~~~~~~~~~~~~~~~~~~~~~~~~~~~~~~~~~~~~~~~~~~~~~~~~~~~~~~~~~~~~~~~~~~~~\n",
      "Running tests\n",
      "\n",
      "---------------------------------------------------------------------\n",
      "Test summary\n",
      "    Passed: 2\n",
      "    Failed: 0\n",
      "[ooooooooook] 100.0% passed\n",
      "\n"
     ]
    },
    {
     "data": {
      "application/javascript": [
       "IPython.notebook.save_checkpoint();"
      ],
      "text/plain": [
       "<IPython.core.display.Javascript object>"
      ]
     },
     "metadata": {},
     "output_type": "display_data"
    },
    {
     "data": {
      "application/javascript": [
       "IPython.notebook.save_notebook();"
      ],
      "text/plain": [
       "<IPython.core.display.Javascript object>"
      ]
     },
     "metadata": {},
     "output_type": "display_data"
    },
    {
     "name": "stdout",
     "output_type": "stream",
     "text": [
      "Saving notebook... Could not save your notebook. Make sure your notebook is saved before sending it to OK!\n",
      "Backup... 0.0% complete\r",
      "Backup... 100% complete\n",
      "Backup successful for user: doomsplayer@gmail.com\n",
      "\n"
     ]
    }
   ],
   "source": [
    "_ = ok.grade('q11')\n",
    "_ = ok.backup()"
   ]
  },
  {
   "cell_type": "markdown",
   "metadata": {
    "deletable": true,
    "editable": true
   },
   "source": [
    "The `snap_times` function in the next cell will help you simulate the hourly observations from the crawler."
   ]
  },
  {
   "cell_type": "code",
   "execution_count": 81,
   "metadata": {
    "collapsed": true,
    "deletable": true,
    "editable": true
   },
   "outputs": [],
   "source": [
    "def snap_times(update_times, window_length, process_length):\n",
    "    \"\"\"Given a list of change times, produces a list of the windows that detected a\n",
    "    change (that is, where at least one change happened inside the window).\n",
    "    \n",
    "    This has the effect of 'snapping' each change to the next hour (or whatever the\n",
    "    window_length is).  For periods where more than one change happened, the output\n",
    "    will still only list the period once.\n",
    "    \n",
    "    In other words, it produces a list of the positive checks given a list of true\n",
    "    change times.\n",
    "    \n",
    "    Args:\n",
    "      update_times (ndarray): A list of times when changes happened for a page.\n",
    "                              All times are between 0 and process_length.\n",
    "      window_length (float): The width of each window.  (For example, if time\n",
    "                             is being measured in hours, and an observation\n",
    "                             happens once per hour, then this should be 1.)\n",
    "      process_length (float): The last time time any change could have happened.\n",
    "    \n",
    "    Returns:\n",
    "      ndarray: A list of numbers, each one the right endpoint of a window where at\n",
    "               least one change happened.\"\"\"\n",
    "    window_ends = np.arange(0, process_length, window_length) + window_length\n",
    "    num_windows = len(window_ends)\n",
    "    event_windows = np.floor(np.array(update_times) / window_length).astype(int)\n",
    "    events_by_window = np.bincount(event_windows, minlength=num_windows)\n",
    "    event_happened = events_by_window > 0\n",
    "    return window_ends[event_happened]"
   ]
  },
  {
   "cell_type": "markdown",
   "metadata": {
    "deletable": true,
    "editable": true
   },
   "source": [
    "\n",
    "---\n",
    "\n",
    "## Question 12\n",
    "\n",
    "Use the functions `sample_poisson_process` and `snap_times` to examine what happens when we visit hourly.  Look at examples where\n",
    "* the `length` of time is 24 hours,\n",
    "* the `rate` is 1/8, 1/4, 1/2, 1, and 2 changes per hour, and\n",
    "* the `window_length` is 1.\n",
    "\n",
    "For each value of `rate`, simulate one set of change on the interval (0 hours, 24 hours), and plot the resulting points on a timeline using `display_points`.  Then snap these data to the next hour with `snap_times` and plot the resulting positive check times.\n",
    "\n",
    "**Then,** compare the actual change times to the censored times for the various rates. What happens as the rate changes? Do you think hourly visits to the site are a problem if the rate is 1/8? How about 2? "
   ]
  },
  {
   "cell_type": "code",
   "execution_count": 83,
   "metadata": {},
   "outputs": [
    {
     "data": {
      "image/png": "[encoded data removed]",
      "text/plain": [
       "<matplotlib.figure.Figure at 0x116e1dbe0>"
      ]
     },
     "metadata": {},
     "output_type": "display_data"
    },
    {
     "data": {
      "image/png": "[encoded data removed]",
      "text/plain": [
       "<matplotlib.figure.Figure at 0x116c55f28>"
      ]
     },
     "metadata": {},
     "output_type": "display_data"
    },
    {
     "data": {
      "image/png": "[encoded data removed]",
      "text/plain": [
       "<matplotlib.figure.Figure at 0x117890e10>"
      ]
     },
     "metadata": {},
     "output_type": "display_data"
    },
    {
     "data": {
      "image/png": "[encoded data removed]",
      "text/plain": [
       "<matplotlib.figure.Figure at 0x116cbb2b0>"
      ]
     },
     "metadata": {},
     "output_type": "display_data"
    },
    {
     "data": {
      "image/png": "[encoded data removed]",
      "text/plain": [
       "<matplotlib.figure.Figure at 0x116bdac18>"
      ]
     },
     "metadata": {},
     "output_type": "display_data"
    },
    {
     "data": {
      "image/png": "[encoded data removed]",
      "text/plain": [
       "<matplotlib.figure.Figure at 0x116bf4208>"
      ]
     },
     "metadata": {},
     "output_type": "display_data"
    },
    {
     "data": {
      "image/png": "[encoded data removed]",
      "text/plain": [
       "<matplotlib.figure.Figure at 0x1174ac978>"
      ]
     },
     "metadata": {},
     "output_type": "display_data"
    },
    {
     "data": {
      "image/png": "[encoded data removed]",
      "text/plain": [
       "<matplotlib.figure.Figure at 0x1169f3128>"
      ]
     },
     "metadata": {},
     "output_type": "display_data"
    },
    {
     "data": {
      "image/png": "[encoded data removed]",
      "text/plain": [
       "<matplotlib.figure.Figure at 0x116a0d710>"
      ]
     },
     "metadata": {},
     "output_type": "display_data"
    },
    {
     "data": {
      "image/png": "[encoded data removed]",
      "text/plain": [
       "<matplotlib.figure.Figure at 0x117ae93c8>"
      ]
     },
     "metadata": {},
     "output_type": "display_data"
    }
   ],
   "source": [
    "for rate in [1/8, 1/4, 1/2, 1, 2]:\n",
    "    samples = sample_poisson_process(rate, 24)\n",
    "    windows = snap_times(samples, 1, 24)\n",
    "    display_points(samples, (0, 24), \"Actual update times (rate={:f})\".format(rate))\n",
    "    display_points(windows, (0, 24), \"Crawler checks that found updates\")"
   ]
  },
  {
   "cell_type": "code",
   "execution_count": 84,
   "metadata": {
    "collapsed": false,
    "deletable": true,
    "editable": true,
    "for_assignment_type": "student"
   },
   "outputs": [
    {
     "data": {
      "text/markdown": [
       "\n",
       "\n",
       "with rates bigger than 1/2, the crawler has some problems to match the actual update. but for cases less than 1/2, it's fine.\n"
      ],
      "text/plain": [
       "<IPython.core.display.Markdown object>"
      ]
     },
     "metadata": {},
     "output_type": "display_data"
    }
   ],
   "source": [
    "# Use this cell for your explorations, then write your conclusions\n",
    "# in the string below.\n",
    "q12_answer = r\"\"\"\n",
    "\n",
    "with rates bigger than 1/2, the crawler has some problems to match the actual update. but for cases less than 1/2, it's fine.\n",
    "\"\"\"\n",
    "\n",
    "display(Markdown(q12_answer))"
   ]
  },
  {
   "cell_type": "markdown",
   "metadata": {
    "deletable": true,
    "editable": true
   },
   "source": [
    "## Simulation study of the rate estimate \n",
    "Now let us extend our Monte Carlo study to compute the MLE from the observed positive checks.  Since we know the true change rate in the simulations, we can compare the MLE to the true change rate and see how accurate it is as an estimator.  (We couldn't have done that with our real data, since we don't know the true change rates.)"
   ]
  },
  {
   "cell_type": "markdown",
   "metadata": {
    "deletable": true,
    "editable": true
   },
   "source": [
    "\n",
    "---\n",
    "\n",
    "## Question 13\n",
    "\n",
    "Suppose a website is visited every hour for 30 days, so it has 719 visits.  For a particular rate $\\lambda$, \n",
    "\n",
    "* Generate the observed positive checks with our earlier functions (`sample_poisson_process` and `snap_times`).\n",
    "* Calculate the MLE from these simulated data.\n",
    "* Repeat 1000 times.\n",
    "\n",
    "This average estimate will change as we increase the true rate of changes, so vary $\\lambda$ between 0 and 4 and make a plot showing the estimate as a function of $\\lambda$.  For comparison, show the true change rates in your plot as well."
   ]
  },
  {
   "cell_type": "code",
   "execution_count": 85,
   "metadata": {
    "collapsed": true,
    "deletable": true,
    "editable": true,
    "for_assignment_type": "student"
   },
   "outputs": [],
   "source": [
    "def simulate_censored_rate_estimate(true_rate, num_visits):\n",
    "    \"\"\"Simulates updates to a page and visits by a web crawler, and\n",
    "    returns the proportion of visits in which an update was observed.\n",
    "    \n",
    "    Args:\n",
    "      true_rate (float): The average number of updates per unit length\n",
    "                         of time.  (The units are irrelevant for the\n",
    "                         purposes of this function, but you can imagine\n",
    "                         that they are hours.)\n",
    "      num_visits (float): The number of visits made to the site.  One\n",
    "                          visit is made per unit length of time, so\n",
    "                          this is also equal to the duration of time\n",
    "                          simulated.\n",
    "    \n",
    "    Returns:\n",
    "      float: the MLE for true_rate lambda, based on the number of \n",
    "      observed positive checks.\n",
    "    \"\"\"\n",
    "    # The skeleton here is provided for your convenience; you\n",
    "    # don't have to follow it.\n",
    "    draws = sample_poisson_process(true_rate, num_visits)\n",
    "    windows = snap_times(draws, 1, num_visits)\n",
    "    return len(windows) / num_visits\n"
   ]
  },
  {
   "cell_type": "markdown",
   "metadata": {
    "deletable": true,
    "editable": true
   },
   "source": [
    "The following helper function can be used to simulate many rate estimates using the function you just completed."
   ]
  },
  {
   "cell_type": "code",
   "execution_count": 86,
   "metadata": {
    "collapsed": true,
    "deletable": true,
    "editable": true
   },
   "outputs": [],
   "source": [
    "def simulate_many_rate_estimates(true_rate, num_visits):\n",
    "    return np.mean([simulate_censored_rate_estimate(true_rate, num_visits) \n",
    "                    for _ in range(1000)])"
   ]
  },
  {
   "cell_type": "markdown",
   "metadata": {
    "deletable": true,
    "editable": true
   },
   "source": [
    "The following code will simulate rate estimates for various values of $\\lambda$ (this cell may take up to 1 minute to run):"
   ]
  },
  {
   "cell_type": "code",
   "execution_count": 87,
   "metadata": {
    "collapsed": true,
    "deletable": true,
    "editable": true,
    "for_assignment_type": "student"
   },
   "outputs": [],
   "source": [
    "num_visits = 719\n",
    "rates = list(np.arange(0, 4, .2))\n",
    "estimates = [simulate_many_rate_estimates(r, num_visits) for r in rates]"
   ]
  },
  {
   "cell_type": "markdown",
   "metadata": {
    "deletable": true,
    "editable": true
   },
   "source": [
    "Finally, the following code will plot the estimated values for $\\lambda$ against their true values.  You will need this plot to answer the next question."
   ]
  },
  {
   "cell_type": "code",
   "execution_count": 94,
   "metadata": {},
   "outputs": [
    {
     "data": {
      "text/plain": [
       "[0.0,\n",
       " 0.18101668984700972,\n",
       " 0.32907093184979136,\n",
       " 0.45042141863699586,\n",
       " 0.5513824756606398,\n",
       " 0.63051877607788598,\n",
       " 0.69878442280945763,\n",
       " 0.7537732962447844,\n",
       " 0.79825452016689846,\n",
       " 0.83461752433936021,\n",
       " 0.86496662030598059,\n",
       " 0.88885535465924892,\n",
       " 0.90904311543810856,\n",
       " 0.92557719054242005,\n",
       " 0.93936578581363006,\n",
       " 0.95030458970792764,\n",
       " 0.95893880389429764,\n",
       " 0.96684700973574411,\n",
       " 0.97299721835883179,\n",
       " 0.9776203059805284]"
      ]
     },
     "execution_count": 94,
     "metadata": {},
     "output_type": "execute_result"
    }
   ],
   "source": [
    "estimates"
   ]
  },
  {
   "cell_type": "code",
   "execution_count": 92,
   "metadata": {},
   "outputs": [
    {
     "data": {
      "text/plain": [
       "[0.0,\n",
       " 0.20000000000000001,\n",
       " 0.40000000000000002,\n",
       " 0.60000000000000009,\n",
       " 0.80000000000000004,\n",
       " 1.0,\n",
       " 1.2000000000000002,\n",
       " 1.4000000000000001,\n",
       " 1.6000000000000001,\n",
       " 1.8,\n",
       " 2.0,\n",
       " 2.2000000000000002,\n",
       " 2.4000000000000004,\n",
       " 2.6000000000000001,\n",
       " 2.8000000000000003,\n",
       " 3.0,\n",
       " 3.2000000000000002,\n",
       " 3.4000000000000004,\n",
       " 3.6000000000000001,\n",
       " 3.8000000000000003]"
      ]
     },
     "execution_count": 92,
     "metadata": {},
     "output_type": "execute_result"
    }
   ],
   "source": [
    "rates"
   ]
  },
  {
   "cell_type": "code",
   "execution_count": 91,
   "metadata": {
    "collapsed": false,
    "deletable": true,
    "editable": true,
    "for_assignment_type": "student"
   },
   "outputs": [
    {
     "data": {
      "image/png": "[encoded data removed]",
      "text/plain": [
       "<matplotlib.figure.Figure at 0x117bb1320>"
      ]
     },
     "metadata": {},
     "output_type": "display_data"
    }
   ],
   "source": [
    "plt.plot(rates, estimates, label = 'average estimate');\n",
    "plt.plot([rates[0], rates[-1]], [rates[0], rates[-1]], \n",
    "         linestyle='dashed', color='g', label='true rate')\n",
    "plt.xlabel(\"rate of updates\")\n",
    "plt.ylabel(\"estimated rate of updates\")\n",
    "plt.legend();"
   ]
  },
  {
   "cell_type": "code",
   "execution_count": 89,
   "metadata": {
    "collapsed": false,
    "deletable": true,
    "editable": true
   },
   "outputs": [
    {
     "name": "stdout",
     "output_type": "stream",
     "text": [
      "~~~~~~~~~~~~~~~~~~~~~~~~~~~~~~~~~~~~~~~~~~~~~~~~~~~~~~~~~~~~~~~~~~~~~\n",
      "Running tests\n",
      "\n",
      "---------------------------------------------------------------------\n",
      "Test summary\n",
      "    Passed: 1\n",
      "    Failed: 0\n",
      "[ooooooooook] 100.0% passed\n",
      "\n"
     ]
    },
    {
     "data": {
      "application/javascript": [
       "IPython.notebook.save_checkpoint();"
      ],
      "text/plain": [
       "<IPython.core.display.Javascript object>"
      ]
     },
     "metadata": {},
     "output_type": "display_data"
    },
    {
     "data": {
      "application/javascript": [
       "IPython.notebook.save_notebook();"
      ],
      "text/plain": [
       "<IPython.core.display.Javascript object>"
      ]
     },
     "metadata": {},
     "output_type": "display_data"
    },
    {
     "name": "stdout",
     "output_type": "stream",
     "text": [
      "Saving notebook... Could not save your notebook. Make sure your notebook is saved before sending it to OK!\n",
      "Backup... 0.0% complete\r",
      "Backup... 100% complete\n",
      "Backup successful for user: doomsplayer@gmail.com\n",
      "\n"
     ]
    }
   ],
   "source": [
    "_ = ok.grade('q13')\n",
    "_ = ok.backup()"
   ]
  },
  {
   "cell_type": "markdown",
   "metadata": {
    "deletable": true,
    "editable": true
   },
   "source": [
    "---\n",
    "\n",
    "## Question 14\n",
    "\n",
    "### Part 1\n",
    "Explain why the estimated rates seem to level off at 1."
   ]
  },
  {
   "cell_type": "code",
   "execution_count": 90,
   "metadata": {
    "collapsed": false,
    "deletable": true,
    "editable": true,
    "for_assignment_type": "student"
   },
   "outputs": [
    {
     "data": {
      "text/markdown": [
       "\n",
       "\n",
       "Because we check update once an hour, so the value could not larger than that.\n",
       "\n"
      ],
      "text/plain": [
       "<IPython.core.display.Markdown object>"
      ]
     },
     "metadata": {},
     "output_type": "display_data"
    }
   ],
   "source": [
    "q14_p1_answer = r\"\"\"\n",
    "\n",
    "Because we check update once an hour, so the value could not larger than that.\n",
    "\n",
    "\"\"\"\n",
    "\n",
    "display(Markdown(q14_p1_answer))"
   ]
  },
  {
   "cell_type": "markdown",
   "metadata": {
    "deletable": true,
    "editable": true
   },
   "source": [
    "### Part 2\n",
    "How far off is the estimate from the truth for $\\lambda$ less than 0.25?"
   ]
  },
  {
   "cell_type": "code",
   "execution_count": 93,
   "metadata": {
    "collapsed": false,
    "deletable": true,
    "editable": true,
    "for_assignment_type": "student"
   },
   "outputs": [
    {
     "data": {
      "text/markdown": [
       "\n",
       "\n",
       "not quite far off\n",
       "\n"
      ],
      "text/plain": [
       "<IPython.core.display.Markdown object>"
      ]
     },
     "metadata": {},
     "output_type": "display_data"
    }
   ],
   "source": [
    "q14_p2_answer = r\"\"\"\n",
    "\n",
    "not quite far off, it's (0.4-0.32) / 0.4 = 20% most\n",
    "\n",
    "\"\"\"\n",
    "\n",
    "display(Markdown(q14_p2_answer))"
   ]
  },
  {
   "cell_type": "markdown",
   "metadata": {
    "deletable": true,
    "editable": true
   },
   "source": [
    "## Estimating the update rate: An improved approach\n",
    "Our simulation study has shown us that our MLE estimate for the rate is biased. It systematically underestimates the quantity we're trying to estimate, the rate.  This bias is small for small $\\lambda$, but can we eliminate it?\n",
    "\n",
    "We can recast the problem slightly by reconsidering our observations. Although the possible times of a page changes may be continuous, we only observe the data hourly and we only observe whether there was at least one update in that hour.  Does this remind you of a distribution that you have worked with?\n",
    "\n",
    "What if we consider the data for a page as 719 0-1 values, where 0 indicates no change and 1 indicates at least 1 change in the hour?  Do you see why these 0-1 values are equivalent to our representation of the data as positive changes?  For example, if `N` is 10 and we observe changes at hours 3, 7, and 9 then this information is equivalent to the sequence 0,0,1,0,0,0,1,0,1,0.  \n",
    "\n",
    "The distribution of the 0-1 values is Bernoulli(`p`). Under our assumption that the changes come from a Poisson process, their values are independent.\n",
    "\n",
    "This distribution incorporates the censoring of the data. How can we estimate the rate? We can use the Poisson distribution to compute the chance of a 0 or 1, which depends on the rate. Then we use the Bernoulli distribution to find the MLE of $\\lambda$."
   ]
  },
  {
   "cell_type": "markdown",
   "metadata": {
    "deletable": true,
    "editable": true
   },
   "source": [
    "---\n",
    "\n",
    "## Question 15\n",
    "What is the chance that a Poisson($\\lambda$) random variable is equal to 0?  What is the chance that it's greater than or equal to 1?"
   ]
  },
  {
   "cell_type": "code",
   "execution_count": 97,
   "metadata": {
    "collapsed": false,
    "deletable": true,
    "editable": true,
    "for_assignment_type": "student"
   },
   "outputs": [
    {
     "data": {
      "text/markdown": [
       "\n",
       "\n",
       "$e^{-\\lambda}$ \n",
       "\n",
       "and \n",
       "\n",
       "$1 - e^{-\\lambda}$\n",
       "\n",
       "\n"
      ],
      "text/plain": [
       "<IPython.core.display.Markdown object>"
      ]
     },
     "metadata": {},
     "output_type": "display_data"
    }
   ],
   "source": [
    "q15_answer = r\"\"\"\n",
    "\n",
    "$e^{-\\lambda}$ \n",
    "\n",
    "and \n",
    "\n",
    "$1 - e^{-\\lambda}$\n",
    "\n",
    "\n",
    "\"\"\"\n",
    "\n",
    "display(Markdown(q15_answer))"
   ]
  },
  {
   "cell_type": "markdown",
   "metadata": {
    "deletable": true,
    "editable": true
   },
   "source": [
    "To check your answers, fill in the numerical values of each probability, for $\\lambda=0.5$"
   ]
  },
  {
   "cell_type": "code",
   "execution_count": 107,
   "metadata": {
    "collapsed": true,
    "deletable": true,
    "editable": true
   },
   "outputs": [],
   "source": [
    "import math\n",
    "# The probability that a Poisson(0.5) random variable is equal to 0\n",
    "Prob_pois_half_equals_0 = math.exp(-0.5)\n",
    "# The probability that a Poisson(0.5) random variable is greater than or equal to 1\n",
    "Prob_pois_half_gte_1 = 1-math.exp(-0.5)"
   ]
  },
  {
   "cell_type": "code",
   "execution_count": 108,
   "metadata": {
    "collapsed": false,
    "deletable": true,
    "editable": true
   },
   "outputs": [
    {
     "name": "stdout",
     "output_type": "stream",
     "text": [
      "~~~~~~~~~~~~~~~~~~~~~~~~~~~~~~~~~~~~~~~~~~~~~~~~~~~~~~~~~~~~~~~~~~~~~\n",
      "Running tests\n",
      "\n",
      "---------------------------------------------------------------------\n",
      "Test summary\n",
      "    Passed: 1\n",
      "    Failed: 0\n",
      "[ooooooooook] 100.0% passed\n",
      "\n"
     ]
    },
    {
     "data": {
      "application/javascript": [
       "IPython.notebook.save_checkpoint();"
      ],
      "text/plain": [
       "<IPython.core.display.Javascript object>"
      ]
     },
     "metadata": {},
     "output_type": "display_data"
    },
    {
     "data": {
      "application/javascript": [
       "IPython.notebook.save_notebook();"
      ],
      "text/plain": [
       "<IPython.core.display.Javascript object>"
      ]
     },
     "metadata": {},
     "output_type": "display_data"
    },
    {
     "name": "stdout",
     "output_type": "stream",
     "text": [
      "Saving notebook... Could not save your notebook. Make sure your notebook is saved before sending it to OK!\n",
      "Backup... 0.0% complete\r",
      "Backup... 100% complete\n",
      "Backup successful for user: doomsplayer@gmail.com\n",
      "\n"
     ]
    }
   ],
   "source": [
    "_ = ok.grade('q15')\n",
    "_ = ok.backup()"
   ]
  },
  {
   "cell_type": "markdown",
   "metadata": {
    "deletable": true,
    "editable": true
   },
   "source": [
    "---\n",
    "\n",
    "## Question 16\n",
    "With this modified model, the MLE of $\\lambda$, given $n$ updates in $N$ visits for a site, is:\n",
    "\n",
    "$$\\lambda^* = \\log \\left(\\frac{n}{N - n} + 1 \\right)$$\n",
    "\n",
    "Show that that's true.\n",
    "\n",
    "*Hint:* If you find an expression like $\\frac{e^{-\\lambda}}{1 - e^{-\\lambda}}$, it often helps to convert such an expression to $\\frac{1}{e^{\\lambda} - 1}$ by multiplying its numerator and denominator by $e^{\\lambda}$."
   ]
  },
  {
   "cell_type": "code",
   "execution_count": 111,
   "metadata": {
    "collapsed": false,
    "deletable": true,
    "editable": true,
    "for_assignment_type": "student"
   },
   "outputs": [
    {
     "data": {
      "text/markdown": [
       "\n",
       "\n",
       "$$L(\\lambda) = (e^{-\\lambda})^{N - n} (1 - e^{-\\lambda})^{n}$$\n",
       "\n",
       "$$\\log L(\\lambda) = (N - n) (-\\lambda) + n \\log(1 - e^{-\\lambda})$$\n",
       "\n",
       "$$0 = \\left[\\frac{d \\log L}{d \\lambda}  \\right](\\lambda^*) = -(N - n) + n \\frac{e^{-\\lambda^*}}{1 - e^{-\\lambda^*}}$$\n",
       "\n",
       "$$e^{\\lambda^*} = \\frac{n}{N - n} + 1$$\n",
       "\n",
       "$$\\lambda^* = \\log \\left(\\frac{n}{N - n} + 1 \\right)$$\n",
       "\n",
       "\n"
      ],
      "text/plain": [
       "<IPython.core.display.Markdown object>"
      ]
     },
     "metadata": {},
     "output_type": "display_data"
    }
   ],
   "source": [
    "q16_answer = r\"\"\"\n",
    "\n",
    "$$L(\\lambda) = (e^{-\\lambda})^{N - n} (1 - e^{-\\lambda})^{n}$$\n",
    "\n",
    "$$\\log L(\\lambda) = (N - n) (-\\lambda) + n \\log(1 - e^{-\\lambda})$$\n",
    "\n",
    "$$0 = \\left[\\frac{d \\log L}{d \\lambda}  \\right](\\lambda^*) = -(N - n) + n \\frac{e^{-\\lambda^*}}{1 - e^{-\\lambda^*}}$$\n",
    "\n",
    "$$e^{\\lambda^*} = \\frac{n}{N - n} + 1$$\n",
    "\n",
    "$$\\lambda^* = \\log \\left(\\frac{n}{N - n} + 1 \\right)$$\n",
    "\n",
    "\n",
    "\"\"\"\n",
    "\n",
    "display(Markdown(q16_answer))"
   ]
  },
  {
   "cell_type": "markdown",
   "metadata": {
    "deletable": true,
    "editable": true
   },
   "source": [
    "What happens when we observe a change every hour?  Then, our MLE $\\lambda^*$ takes the value $\\infty$.  \n",
    "\n",
    "Why is that true? Intuitively, if there is a change on each visit, we can always increase the likelihood of our data (which is the likelihood that every hour saw at least one change) by increasing $\\lambda$.\n",
    "\n",
    "An MLE of $\\infty$ is clearly problematic. We can use the idea of Laplace smoothing to modify the estimator a bit.  We'll use the following \"modified MLE\" estimator, which adds to every site a single imagined visit where \"half\" saw a change and the other \"half\" didn't:\n",
    "\n",
    "$$\\lambda^+ = \\log \\left(\\frac{n + .5}{N - n + .5} + 1 \\right)$$\n",
    "\n",
    "You can imagine that this estimate incorporates a prior conservative intuition that a site might not change all the time even if it happened to change every hour in the particular 30-day period we observed."
   ]
  },
  {
   "cell_type": "markdown",
   "metadata": {
    "deletable": true,
    "editable": true
   },
   "source": [
    "\n",
    "---\n",
    "\n",
    "\n",
    "## Question 17\n",
    "\n",
    "\n",
    "1. Add a `'modified mle'` column to the `crawl_stats` table containing the `'modified mle'` estimator $\\lambda^+$ for each website.\n",
    "\n",
    "2. **Then,** make a histogram that displays the distribution of the modified MLEs *for the sites with at least 700 crawls*.\n",
    "\n",
    "*Hint:* You may find your work in question 10 helpful."
   ]
  },
  {
   "cell_type": "code",
   "execution_count": 112,
   "metadata": {
    "collapsed": false,
    "deletable": true,
    "editable": true,
    "for_assignment_type": "student"
   },
   "outputs": [
    {
     "data": {
      "image/png": "[encoded data removed]",
      "text/plain": [
       "<matplotlib.figure.Figure at 0x11745e5f8>"
      ]
     },
     "metadata": {},
     "output_type": "display_data"
    }
   ],
   "source": [
    "crawl_stats[\"modified mle\"] = np.log(\n",
    "    (crawl_stats['number of updates'] + 0.5) / (crawl_stats['number of crawls'] - crawl_stats['number of updates'] + 0.5) + 1\n",
    ")\n",
    "crawl_stats[\"modified mle\"].hist();"
   ]
  },
  {
   "cell_type": "code",
   "execution_count": 113,
   "metadata": {
    "collapsed": false,
    "deletable": true,
    "editable": true
   },
   "outputs": [
    {
     "name": "stdout",
     "output_type": "stream",
     "text": [
      "~~~~~~~~~~~~~~~~~~~~~~~~~~~~~~~~~~~~~~~~~~~~~~~~~~~~~~~~~~~~~~~~~~~~~\n",
      "Running tests\n",
      "\n",
      "---------------------------------------------------------------------\n",
      "Test summary\n",
      "    Passed: 1\n",
      "    Failed: 0\n",
      "[ooooooooook] 100.0% passed\n",
      "\n"
     ]
    },
    {
     "data": {
      "application/javascript": [
       "IPython.notebook.save_checkpoint();"
      ],
      "text/plain": [
       "<IPython.core.display.Javascript object>"
      ]
     },
     "metadata": {},
     "output_type": "display_data"
    },
    {
     "data": {
      "application/javascript": [
       "IPython.notebook.save_notebook();"
      ],
      "text/plain": [
       "<IPython.core.display.Javascript object>"
      ]
     },
     "metadata": {},
     "output_type": "display_data"
    },
    {
     "name": "stdout",
     "output_type": "stream",
     "text": [
      "Saving notebook... Could not save your notebook. Make sure your notebook is saved before sending it to OK!\n",
      "Backup... 0.0% complete\r",
      "Backup... 100% complete\n",
      "Backup successful for user: doomsplayer@gmail.com\n",
      "\n"
     ]
    }
   ],
   "source": [
    "_ = ok.grade('q17')\n",
    "_ = ok.backup()"
   ]
  },
  {
   "cell_type": "markdown",
   "metadata": {
    "deletable": true,
    "editable": true
   },
   "source": [
    "Notice that this distribution is quite different than the earlier one we found in question 10. Now there is not a pile up of estimates at 1. "
   ]
  },
  {
   "cell_type": "markdown",
   "metadata": {
    "deletable": true,
    "editable": true
   },
   "source": [
    "## How accurate are our estimates?\n",
    "\n",
    "We don't know the true update rates of the pages, so we can't know exactly how accurate our estimates are.  But this is often the case in data science.  Let's try to figure out a reasonable way to *estimate* the accuracy of our estimates.\n",
    "\n",
    "The strategy is similar to the bootstrap.  In pseudocode:\n",
    "\n",
    "`for each page ` $i$ `:`\n",
    "\n",
    "`... Assume the true change rate ` $r_i$ ` equals our estimate ` $\\lambda^+_i$.\n",
    "\n",
    "`... for _ in range(num_simulations):`\n",
    "\n",
    "`...     Simulate changes and positive checks.`\n",
    "\n",
    "`...     Compute a new maximum likelihood estimate of ` $r_i$ ` based on the simulated data.`\n",
    "\n",
    "`... Plot these estimates in a histogram or summarize them in some other way.`\n",
    "\n",
    "This is called a *parametric* bootstrap method, because instead of resampling directly from our data, we use our data to estimate its distribution's parameters and then sample from that distribution."
   ]
  },
  {
   "cell_type": "markdown",
   "metadata": {
    "deletable": true,
    "editable": true
   },
   "source": [
    "---\n",
    "\n",
    "## Question 18\n",
    "Complete the definitions of `simulate_change_rate_estimate` and `modified_mle` in the cell below."
   ]
  },
  {
   "cell_type": "code",
   "execution_count": 114,
   "metadata": {
    "collapsed": true,
    "deletable": true,
    "editable": true,
    "for_assignment_type": "student"
   },
   "outputs": [],
   "source": [
    "def simulate_change_rate_estimate(change_rate, num_observations, estimator):\n",
    "    \"\"\"Simulates hourly change observations for a website and produces an\n",
    "    estimate of the change rate.\n",
    "    \n",
    "    Args:\n",
    "      change_rate (float): The hourly change rate of the website to be used in\n",
    "                           the simulation.\n",
    "      num_observations (int): The number of observations (equivalently, the\n",
    "                              number of hours) to simulate.\n",
    "      estimator (func): A function to apply to the simulated observations to\n",
    "                        produce an estimate of the change rate.  Has the same\n",
    "                        signature as the function modified_mle below.\n",
    "    \n",
    "    Returns:\n",
    "      float: The estimate produced by calling estimator on the simulated\n",
    "             list of positive checks.\n",
    "    \"\"\"\n",
    "    d = sample_poisson_process(change_rate, num_observations)\n",
    "    w = snap_times(d, 1, num_observations)\n",
    "    \n",
    "    return estimator(w, num_observations)\n",
    "\n",
    "\n",
    "def modified_mle(positive_checks, num_observations):\n",
    "    \"\"\"Produces the modified MLE for a dataset.\n",
    "    \n",
    "    Args:\n",
    "      positive_checks (ndarray): A list or array of the hours when a\n",
    "                                 change was observed.\n",
    "      num_observations (int): The number of hours in which we could\n",
    "                              have observed a change.\n",
    "    \n",
    "    Returns:\n",
    "      (float): The modified MLE.\n",
    "    \"\"\"\n",
    "    return np.log((len(positive_checks) + 0.5) / (num_observations - len(positive_checks) + 0.5) + 1)"
   ]
  },
  {
   "cell_type": "code",
   "execution_count": 115,
   "metadata": {
    "collapsed": false,
    "deletable": true,
    "editable": true
   },
   "outputs": [
    {
     "name": "stdout",
     "output_type": "stream",
     "text": [
      "~~~~~~~~~~~~~~~~~~~~~~~~~~~~~~~~~~~~~~~~~~~~~~~~~~~~~~~~~~~~~~~~~~~~~\n",
      "Running tests\n",
      "\n",
      "---------------------------------------------------------------------\n",
      "Test summary\n",
      "    Passed: 1\n",
      "    Failed: 0\n",
      "[ooooooooook] 100.0% passed\n",
      "\n"
     ]
    },
    {
     "data": {
      "application/javascript": [
       "IPython.notebook.save_checkpoint();"
      ],
      "text/plain": [
       "<IPython.core.display.Javascript object>"
      ]
     },
     "metadata": {},
     "output_type": "display_data"
    },
    {
     "data": {
      "application/javascript": [
       "IPython.notebook.save_notebook();"
      ],
      "text/plain": [
       "<IPython.core.display.Javascript object>"
      ]
     },
     "metadata": {},
     "output_type": "display_data"
    },
    {
     "name": "stdout",
     "output_type": "stream",
     "text": [
      "Saving notebook... Could not save your notebook. Make sure your notebook is saved before sending it to OK!\n",
      "Backup... 0.0% complete\r",
      "Backup... 100% complete\n",
      "Backup successful for user: doomsplayer@gmail.com\n",
      "\n"
     ]
    }
   ],
   "source": [
    "_ = ok.grade('q18')\n",
    "_ = ok.backup()"
   ]
  },
  {
   "cell_type": "markdown",
   "metadata": {
    "deletable": true,
    "editable": true
   },
   "source": [
    "---\n",
    "\n",
    "## Question 19\n",
    "\n",
    "Complete the definition of `plot_bootstrap_rate_estimates` in the cell below.  **Read the docstring** carefully so you know what to do. **Then** run the provided cell below that to plot the bootstrap rate estimate distributions for a few pages."
   ]
  },
  {
   "cell_type": "code",
   "execution_count": 116,
   "metadata": {
    "collapsed": true,
    "deletable": true,
    "editable": true,
    "for_assignment_type": "student"
   },
   "outputs": [],
   "source": [
    "def plot_bootstrap_rate_estimates(page_url, num_simulations):\n",
    "    \"\"\"Simulates positive check observations for a website many times.  For\n",
    "    each simulation, the page's change rate is estimated based on the simulated\n",
    "    positive checks.  The estimation method is the modified_mle function\n",
    "    implemented above.  Then this function produces a histogram that shows\n",
    "    the distribution of these estimated change rates.\n",
    "    \n",
    "    When conducting each simulation, the change rate is taken to be the\n",
    "    estimated update rate for the page.  *That* estimate is the modified\n",
    "    MLE computed from the actual positive check observations for that page.\n",
    "    \n",
    "    The modified MLE computed from the actual observations for the page\n",
    "    is also displayed as a vertical red line at an appropriate horizontal\n",
    "    position on the histogram.\n",
    "    \n",
    "    Here is a diagram that might be helpful:\n",
    "    \n",
    "                                             (This happens 1 time)\n",
    "                                                     |\n",
    "                                                     v\n",
    "    Positive check observations for this page ---modified_mle---> Estimate of change rate for this page\n",
    "    \n",
    "                                   (1000x, once per simulation)\n",
    "    Estimate of change rate for this page ---simulation---> Simulated positive checks\n",
    "    \n",
    "                          (1000x, once per simulation)\n",
    "    Simulated positive checks ---modified_mle---> Bootstrap estimate of change rate for this page\n",
    "    \n",
    "    1000 bootstrap estimates of change rate for this page ---> Histogram\n",
    "                                                               ^\n",
    "                                        (displayed somewhere)  |\n",
    "    Estimate of change rate for this page --------------------/\n",
    "    \n",
    "    Args:\n",
    "      page_url (str): The URL of the page to simulate.\n",
    "      num_simulations (int): The number of simulations to run.\n",
    "    \n",
    "    Returns:\n",
    "      None: This function doesn't return anything; it just makes a histogram\n",
    "      appear as described above.\n",
    "    \"\"\"\n",
    "    update_rate_estimate = crawl_stats.loc[page_url][\"modified mle\"]\n",
    "    num_observations = crawl_stats.loc[page_url]['number of crawls']\n",
    "    bootstrap_estimates = np.array([\n",
    "        simulate_change_rate_estimate(update_rate_estimate, num_observations, modified_mle) \n",
    "        for _ in range(num_simulations)])\n",
    "    plt.hist(bootstrap_estimates, )\n",
    "    plt.axvline(crawl_stats.loc[page_url][\"modified mle\"], color='red')"
   ]
  },
  {
   "cell_type": "code",
   "execution_count": 117,
   "metadata": {
    "collapsed": false,
    "deletable": true,
    "editable": true
   },
   "outputs": [
    {
     "data": {
      "image/png": "[encoded data removed]",
      "text/plain": [
       "<matplotlib.figure.Figure at 0x116bf4470>"
      ]
     },
     "metadata": {},
     "output_type": "display_data"
    }
   ],
   "source": [
    "# Run this cell to make plots for several pages using your\n",
    "# function.  Since no automatic tests are provided for this\n",
    "# question, we suggest examining the plots to make sure they\n",
    "# make sense to you.\n",
    "many_updates_url = crawl_stats[np.logical_and(\n",
    "    crawl_stats['number of crawls'] >= 700,\n",
    "    np.logical_and(\n",
    "        .2 <= crawl_stats['proportion of updates'],\n",
    "        crawl_stats['proportion of updates'] >= .8))].index[0]\n",
    "plot_bootstrap_rate_estimates(many_updates_url, 1000)\n",
    "\n",
    "few_updates_url = crawl_stats[np.logical_and(\n",
    "    crawl_stats['number of crawls'] >= 700,\n",
    "    np.logical_and(\n",
    "        .05 <= crawl_stats['proportion of updates'],\n",
    "        crawl_stats['proportion of updates'] >= .15))].index[0]\n",
    "plot_bootstrap_rate_estimates(few_updates_url, 1000)"
   ]
  },
  {
   "cell_type": "markdown",
   "metadata": {
    "deletable": true,
    "editable": true
   },
   "source": [
    "Looking at the error distribution is good, but it's also useful to characterize error with a single number.  (This facilitates comparisons among different estimators, for example.)\n",
    "\n",
    "A common way to summarize error in estimation is the root mean squared error, or RMSE.  The RMSE is the square root of the MSE, or mean square error. We calculate the MSE as follows:\n",
    "\n",
    "* the average (across many simulations, where each simulation results in 1 estimate) of\n",
    "* the squared difference between the estimate and its actual value.\n",
    "\n",
    "Working with the RMSE, rather than the MSE, is useful when we want to understand the magnitude of error relative to the estimates.\n",
    "\n",
    "We don't know the true change rate for each website, so we can't compute the true MSE.  However, if we find the MSE using the data making up the histogram you produced in the previous question, using the original estimate (the red line) as the actual change rate, that is a *bootstrap estimate* of the RMSE."
   ]
  },
  {
   "cell_type": "markdown",
   "metadata": {
    "deletable": true,
    "editable": true
   },
   "source": [
    "## Question 20\n",
    "\n",
    "---\n",
    "\n",
    "Complete the definition of `estimate_rmse` in the cell below.  **Then**, use it to estimate the RMSE for each page's modified MLE.  Add these RMSEs as a column named `'rmse'` in `crawl_stats`.\n",
    "\n",
    "**Note**: There are 1000 pages, so this will take some time.  We recommend using only 100 simulations per page, which should be sufficient for reasonable estimates.  Try your code on a single page before running it on every page."
   ]
  },
  {
   "cell_type": "code",
   "execution_count": 118,
   "metadata": {
    "collapsed": false,
    "deletable": true,
    "editable": true,
    "for_assignment_type": "student"
   },
   "outputs": [
    {
     "name": "stdout",
     "output_type": "stream",
     "text": [
      "0.627250663304\n",
      "0.0281673987052\n"
     ]
    }
   ],
   "source": [
    "def estimate_rmse(page_url, num_simulations):\n",
    "    \"\"\"Simulates update observations for a website many times.  For each\n",
    "    simulation, the page's change rate is estimated based on the simulated\n",
    "    observations.  (The estimation method is the modified MLE.)  Then this\n",
    "    function produces an estimate of the RMSE of estimates of the change\n",
    "    rate for this page.\n",
    "    \n",
    "    When conducting each simulation, the change rate is taken to be the\n",
    "    estimated change rate for the page.  *That* estimate is the modified\n",
    "    MLE computed from the actual observations for the page.\n",
    "    \n",
    "    We compute the modified MLE for each set of simulated observations.  That\n",
    "    constitutes num_simulations estimates of the change rate.\n",
    "    \n",
    "    Then we compute the RMSE of those estimates.  The \"true\" change rate in\n",
    "    that calculation is taken to be the modified MLE computed from the\n",
    "    actual observations for the page.\n",
    "    \n",
    "    Args:\n",
    "      page_url (str): The URL of the page to simulate.\n",
    "      num_simulations (int): The number of simulations to run.\n",
    "    \n",
    "    Returns:\n",
    "      float: The estimated RMSE of the modified MLE for the given page,\n",
    "             based on num_simulations simulations.\n",
    "    \"\"\"\n",
    "    e = crawl_stats.loc[page_url][\"modified mle\"]\n",
    "    n = crawl_stats.loc[page_url]['number of crawls']\n",
    "    bootstrap_estimates = np.array(\n",
    "        [simulate_change_rate_estimate(e, n, modified_mle) \n",
    "         for _ in range(num_simulations)])\n",
    "    return np.mean((bootstrap_estimates - e)**2)**0.5\n",
    "\n",
    "    \n",
    "print(estimate_rmse(many_updates_url, 1000))\n",
    "print(estimate_rmse(few_updates_url, 1000))"
   ]
  },
  {
   "cell_type": "code",
   "execution_count": 119,
   "metadata": {
    "collapsed": true,
    "deletable": true,
    "editable": true,
    "for_assignment_type": "student"
   },
   "outputs": [],
   "source": [
    "# After completing estimate_rmse above, estimate the RMSEs for all\n",
    "# the pages here, and add them to crawl_stats as a new column named\n",
    "# 'rmse'.\n",
    "crawl_stats['rmse'] = [estimate_rmse(i, 100) for i in crawl_stats.index]"
   ]
  },
  {
   "cell_type": "code",
   "execution_count": 120,
   "metadata": {
    "collapsed": false,
    "deletable": true,
    "editable": true
   },
   "outputs": [
    {
     "name": "stdout",
     "output_type": "stream",
     "text": [
      "~~~~~~~~~~~~~~~~~~~~~~~~~~~~~~~~~~~~~~~~~~~~~~~~~~~~~~~~~~~~~~~~~~~~~\n",
      "Running tests\n",
      "\n",
      "---------------------------------------------------------------------\n",
      "Test summary\n",
      "    Passed: 1\n",
      "    Failed: 0\n",
      "[ooooooooook] 100.0% passed\n",
      "\n"
     ]
    },
    {
     "data": {
      "application/javascript": [
       "IPython.notebook.save_checkpoint();"
      ],
      "text/plain": [
       "<IPython.core.display.Javascript object>"
      ]
     },
     "metadata": {},
     "output_type": "display_data"
    },
    {
     "data": {
      "application/javascript": [
       "IPython.notebook.save_notebook();"
      ],
      "text/plain": [
       "<IPython.core.display.Javascript object>"
      ]
     },
     "metadata": {},
     "output_type": "display_data"
    },
    {
     "name": "stdout",
     "output_type": "stream",
     "text": [
      "Saving notebook... Could not save your notebook. Make sure your notebook is saved before sending it to OK!\n",
      "Backup... 0.0% complete\r",
      "Backup... 100% complete\n",
      "Backup successful for user: doomsplayer@gmail.com\n",
      "\n"
     ]
    }
   ],
   "source": [
    "_ = ok.grade('q20')\n",
    "_ = ok.backup()"
   ]
  },
  {
   "cell_type": "markdown",
   "metadata": {
    "deletable": true,
    "editable": true
   },
   "source": [
    "---\n",
    "\n",
    "## Question 21\n",
    "Create a visualization to display the RMSEs you computed.  **Then,** create another visualization to see the relationship (across the 1000 pages) between RMSE and the modified MLE."
   ]
  },
  {
   "cell_type": "code",
   "execution_count": 121,
   "metadata": {
    "collapsed": false,
    "deletable": true,
    "editable": true,
    "for_assignment_type": "student",
    "scrolled": true
   },
   "outputs": [
    {
     "data": {
      "image/png": "[encoded data removed]",
      "text/plain": [
       "<matplotlib.figure.Figure at 0x116c17630>"
      ]
     },
     "metadata": {},
     "output_type": "display_data"
    },
    {
     "data": {
      "image/png": "[encoded data removed]",
      "text/plain": [
       "<matplotlib.figure.Figure at 0x11742a9b0>"
      ]
     },
     "metadata": {},
     "output_type": "display_data"
    }
   ],
   "source": [
    "crawl_stats[\"rmse\"].hist();\n",
    "crawl_stats[crawl_stats['number of crawls'] == 719].plot.scatter(\"modified mle\", \"rmse\");"
   ]
  },
  {
   "cell_type": "markdown",
   "metadata": {
    "deletable": true,
    "editable": true
   },
   "source": [
    "## Is the model reasonable?\n",
    "All the foregoing work has assumed a particular probability model for website updates: the number of changes follows a Poisson($\\lambda$) distribution and the locations of the changes, given the number of changes, follows a uniform distribution.  Like most models, this is certainly imperfect.  However, it still may produce reasonable estimates. Let's check some of the conditions of the model to see if they are reasonable.\n",
    "\n",
    "Embedded in our model is the assumption that the rate of changes for a page is constant over time.  If we find a strong pattern in the rates of updates, that is evidence against this assumption.  For example, you might guess that changes for certain pages might happen more often at certain times of the day, or on certain days of the week.\n",
    "\n",
    "Before you group by day of week, here are some difficulties presented by the dataset:\n",
    "\n",
    "1. The day of the week is not given.\n",
    "2. The hour of the day is not given.\n",
    "3. We don't know when the checks started.\n",
    "4. When a site had a failed check, the check was just omitted from the dataset, so we don't know when the failed checks happened, only their total count for each page.\n",
    "5. Not all sites are in the same or nearby time zones.\n",
    "\n",
    "Here is what we *do* know:\n",
    "\n",
    "1. Checks for all pages started at the same time, at midnight PST (US Pacific Coast time).\n",
    "2. Checks were attempted every hour for 30 days, and then they stopped.\n",
    "3. We know each page's URL.  A URL may tell us something about its geography and therefore its rough time zone.  For example, the top-level domains `.edu`, `.com`,`.gov`, and `.net` include only US sites."
   ]
  },
  {
   "cell_type": "markdown",
   "metadata": {
    "deletable": true,
    "editable": true
   },
   "source": [
    "---\n",
    "\n",
    "## Question 22\n",
    "Propose a ***plan*** to answer one of these questions:\n",
    "\n",
    "1. How much did the rate of changes vary by hour of the day?\n",
    "2. How much did the rate of changes vary by day of the week?\n",
    "\n",
    "**Or,** you may choose your own pattern to test.\n",
    "\n",
    "Your plan doesn't need to produce results that hold for *all* pages, only a reasonably-large subset.  Be sure to make clear exactly what question your analysis would answer.\n",
    "\n",
    "**Note**: You don't need to actually implement your plan!"
   ]
  },
  {
   "cell_type": "code",
   "execution_count": 122,
   "metadata": {
    "collapsed": true,
    "deletable": true,
    "editable": true,
    "for_assignment_type": "student"
   },
   "outputs": [
    {
     "data": {
      "text/markdown": [
       "\n",
       "\n",
       "We run the simulation of poisson distribution on the dataset for every day of a week(we got 30 days here) and estimate the rate individualy and compare them.\n",
       "\n"
      ],
      "text/plain": [
       "<IPython.core.display.Markdown object>"
      ]
     },
     "metadata": {},
     "output_type": "display_data"
    }
   ],
   "source": [
    "# Feel free to use this cell to experiment.  Then write your answer\n",
    "# in the string below.\n",
    "q22_answer = r\"\"\"\n",
    "\n",
    "We run the simulation of poisson distribution on the dataset for every day of a week(we got 30 days here) and estimate the rate individualy and compare them.\n",
    "\n",
    "\"\"\"\n",
    "\n",
    "display(Markdown(q22_answer))"
   ]
  },
  {
   "cell_type": "markdown",
   "metadata": {
    "deletable": true,
    "editable": true
   },
   "source": [
    "# Submitting your assignment\n",
    "Congratulations, you're done with this homework!\n",
    "\n",
    "Run the next cell to run all the tests at once."
   ]
  },
  {
   "cell_type": "code",
   "execution_count": 123,
   "metadata": {
    "collapsed": true,
    "deletable": true,
    "editable": true
   },
   "outputs": [
    {
     "name": "stdout",
     "output_type": "stream",
     "text": [
      "~~~~~~~~~~~~~~~~~~~~~~~~~~~~~~~~~~~~~~~~~~~~~~~~~~~~~~~~~~~~~~~~~~~~~\n",
      "Running tests\n",
      "\n",
      "---------------------------------------------------------------------\n",
      "Test summary\n",
      "    Passed: 1\n",
      "    Failed: 0\n",
      "[ooooooooook] 100.0% passed\n",
      "\n",
      "~~~~~~~~~~~~~~~~~~~~~~~~~~~~~~~~~~~~~~~~~~~~~~~~~~~~~~~~~~~~~~~~~~~~~\n",
      "Running tests\n",
      "\n",
      "---------------------------------------------------------------------\n",
      "Test summary\n",
      "    Passed: 1\n",
      "    Failed: 0\n",
      "[ooooooooook] 100.0% passed\n",
      "\n",
      "~~~~~~~~~~~~~~~~~~~~~~~~~~~~~~~~~~~~~~~~~~~~~~~~~~~~~~~~~~~~~~~~~~~~~\n",
      "Running tests\n",
      "\n",
      "---------------------------------------------------------------------\n",
      "Test summary\n",
      "    Passed: 1\n",
      "    Failed: 0\n",
      "[ooooooooook] 100.0% passed\n",
      "\n",
      "~~~~~~~~~~~~~~~~~~~~~~~~~~~~~~~~~~~~~~~~~~~~~~~~~~~~~~~~~~~~~~~~~~~~~\n",
      "Running tests\n",
      "\n",
      "---------------------------------------------------------------------\n",
      "Test summary\n",
      "    Passed: 1\n",
      "    Failed: 0\n",
      "[ooooooooook] 100.0% passed\n",
      "\n",
      "~~~~~~~~~~~~~~~~~~~~~~~~~~~~~~~~~~~~~~~~~~~~~~~~~~~~~~~~~~~~~~~~~~~~~\n",
      "Running tests\n",
      "\n",
      "---------------------------------------------------------------------\n",
      "Test summary\n",
      "    Passed: 2\n",
      "    Failed: 0\n",
      "[ooooooooook] 100.0% passed\n",
      "\n",
      "~~~~~~~~~~~~~~~~~~~~~~~~~~~~~~~~~~~~~~~~~~~~~~~~~~~~~~~~~~~~~~~~~~~~~\n",
      "Running tests\n",
      "\n",
      "---------------------------------------------------------------------\n",
      "Test summary\n",
      "    Passed: 1\n",
      "    Failed: 0\n",
      "[ooooooooook] 100.0% passed\n",
      "\n",
      "~~~~~~~~~~~~~~~~~~~~~~~~~~~~~~~~~~~~~~~~~~~~~~~~~~~~~~~~~~~~~~~~~~~~~\n",
      "Running tests\n",
      "\n",
      "---------------------------------------------------------------------\n",
      "Test summary\n",
      "    Passed: 1\n",
      "    Failed: 0\n",
      "[ooooooooook] 100.0% passed\n",
      "\n",
      "~~~~~~~~~~~~~~~~~~~~~~~~~~~~~~~~~~~~~~~~~~~~~~~~~~~~~~~~~~~~~~~~~~~~~\n",
      "Running tests\n",
      "\n",
      "---------------------------------------------------------------------\n",
      "Test summary\n",
      "    Passed: 1\n",
      "    Failed: 0\n",
      "[ooooooooook] 100.0% passed\n",
      "\n",
      "~~~~~~~~~~~~~~~~~~~~~~~~~~~~~~~~~~~~~~~~~~~~~~~~~~~~~~~~~~~~~~~~~~~~~\n",
      "Running tests\n",
      "\n",
      "---------------------------------------------------------------------\n",
      "Test summary\n",
      "    Passed: 1\n",
      "    Failed: 0\n",
      "[ooooooooook] 100.0% passed\n",
      "\n",
      "~~~~~~~~~~~~~~~~~~~~~~~~~~~~~~~~~~~~~~~~~~~~~~~~~~~~~~~~~~~~~~~~~~~~~\n",
      "Running tests\n",
      "\n",
      "---------------------------------------------------------------------\n",
      "Test summary\n",
      "    Passed: 1\n",
      "    Failed: 0\n",
      "[ooooooooook] 100.0% passed\n",
      "\n"
     ]
    }
   ],
   "source": [
    "_ = ok.grade_all()"
   ]
  },
  {
   "cell_type": "markdown",
   "metadata": {
    "deletable": true,
    "editable": true
   },
   "source": [
    "**Finally**, run the next cell to submit the assignment to OkPy so that the staff will know to grade it. You can submit as many times as you want, and you can choose which submission you want us to grade by going to https://okpy.org/cal/data100/sp17/.  After you've done that, make sure you've pushed your changes to Github as well!"
   ]
  },
  {
   "cell_type": "code",
   "execution_count": null,
   "metadata": {
    "collapsed": true,
    "deletable": true,
    "editable": true
   },
   "outputs": [],
   "source": [
    "_ = ok.submit()"
   ]
  }
 ],
 "metadata": {
  "anaconda-cloud": {},
  "kernelspec": {
   "display_name": "Python 3",
   "language": "python",
   "name": "python3"
  },
  "language_info": {
   "codemirror_mode": {
    "name": "ipython",
    "version": 3
   },
   "file_extension": ".py",
   "mimetype": "text/x-python",
   "name": "python",
   "nbconvert_exporter": "python",
   "pygments_lexer": "ipython3",
   "version": "3.6.1"
  }
 },
 "nbformat": 4,
 "nbformat_minor": 2
}
