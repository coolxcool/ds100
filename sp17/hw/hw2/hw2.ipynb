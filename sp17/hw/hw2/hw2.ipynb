{
 "cells": [
  {
   "cell_type": "markdown",
   "metadata": {},
   "source": [
    "# Homework 2: Language in the 2016 Presidential Election\n",
    "Popular figures often have help managing their media presence.  In the 2016 election, Twitter was an important communication medium for every major candidate.  Many Twitter posts posted by the top two candidates were actually written by their aides.  You might wonder how this affected the content or language of the tweets.\n",
    "\n",
    "In this assignment, we'll look at some of the patterns in tweets by the top two candidates, Clinton and Trump.  We'll start with Clinton.\n",
    "\n",
    "Along the way, you'll get a first look at Pandas.  Pandas is a Python package that provides a `DataFrame` data structure similar to the `datascience` package's `Table`, which you might remember from Data 8.  `DataFrame`s are a bit harder to use than `Table`s, but they provide more advanced functionality and are a standard tool for data analysis in Python."
   ]
  },
  {
   "cell_type": "markdown",
   "metadata": {},
   "source": [
    "Some of the analysis in this assignment is based on a [post by David Robinson](http://varianceexplained.org/r/trump-tweets/).  Feel free to read the post, but do not copy from it!  David's post is written in the `R` programming language, which is a favorite of many data analysts, especially academic statisticians.  Once you're done with your analysis, you may find it interesting to see whether `R` is easier to use for this task."
   ]
  },
  {
   "cell_type": "markdown",
   "metadata": {},
   "source": [
    "To start the assignment, run the cell below to set up some imports and the automatic tests."
   ]
  },
  {
   "cell_type": "code",
   "execution_count": null,
   "metadata": {},
   "outputs": [],
   "source": [
    "%matplotlib inline"
   ]
  },
  {
   "cell_type": "code",
   "execution_count": 181,
   "metadata": {
    "collapsed": false,
    "scrolled": true
   },
   "outputs": [
    {
     "name": "stdout",
     "output_type": "stream",
     "text": [
      "=====================================================================\n",
      "Assignment: Homework 2\n",
      "OK, version v1.11.1\n",
      "=====================================================================\n",
      "\n"
     ]
    }
   ],
   "source": [
    "import math, json\n",
    "import numpy as np\n",
    "import matplotlib\n",
    "import matplotlib.pyplot as plt\n",
    "from pyquery import PyQuery\n",
    "from client.api.notebook import Notebook\n",
    "ok = Notebook('hw2.ok')"
   ]
  },
  {
   "cell_type": "markdown",
   "metadata": {},
   "source": [
    "## Getting the dataset\n",
    "Since we'll be looking at Twitter data, we need to download the data from Twitter!\n",
    "\n",
    "Twitter provides an API for downloading tweet data in large batches.  The `tweepy` package makes it fairly easy to use."
   ]
  },
  {
   "cell_type": "markdown",
   "metadata": {},
   "source": [
    "#### Question 0\n",
    "Install `tweepy`, if you don't already have it.  (Be sure to activate your Conda environment for the class first.  Then run `pip install tweepy`.)"
   ]
  },
  {
   "cell_type": "markdown",
   "metadata": {},
   "source": [
    "There are instructions on using `tweepy` [here](http://tweepy.readthedocs.io/en/v3.5.0/getting_started.html), but we will give you example code.\n",
    "\n",
    "Twitter requires you to have authentication keys to access their API.  To get your keys, you'll have to sign up as a Twitter developer."
   ]
  },
  {
   "cell_type": "markdown",
   "metadata": {},
   "source": [
    "#### Question 1\n",
    "Follow these instructions to get your keys:\n",
    "\n",
    "1. [Create a Twitter account](https://twitter.com).  You can use an existing account if you have one.\n",
    "2. Under account settings, add your phone number to the account.\n",
    "3. [Create a Twitter developer account](https://dev.twitter.com/resources/signup).  Attach it to your Twitter account.\n",
    "4. Once you're logged into your developer account, [create an application for this assignment](https://apps.twitter.com/app/new).  You can call it whatever you want, and you can write any URL when it asks for a web site.\n",
    "5. On the page for that application, find your Consumer Key and Consumer Secret.\n",
    "6. On the same page, create an Access Token.  Record the resulting Access Token and Access Token Secret.\n",
    "7. Edit the file [keys.json](keys.json) and replace the placeholders with your keys.  Don't turn in that file."
   ]
  },
  {
   "cell_type": "markdown",
   "metadata": {},
   "source": [
    "## I AM AN IMPORTANT NOTE.  DO NOT SKIP ME.\n",
    "If someone has your authentication keys, they can access your Twitter account and post as you!  So don't give them to anyone, and **don't write them down in this notebook**.  The usual way to store sensitive information like this is to put it in a separate file and read it programmatically.  That way, you can share the rest of your code without sharing your keys.  That's why we're asking you to put your keys in `keys.json` for this assignment.\n",
    "\n",
    "## I AM A SECOND IMPORTANT NOTE.\n",
    "Twitter limits developers to a certain rate of requests for data.  If you make too many requests in a short period of time, you'll have to wait awhile (around 15 minutes) before you can make more.  So carefully follow the code examples you see and don't rerun cells without thinking.  Instead, always save the data you've collected to a file.  We've provided templates to help you do that."
   ]
  },
  {
   "cell_type": "markdown",
   "metadata": {},
   "source": [
    "In the example below, we have loaded some tweets by @BerkeleyData.  Run it, inspect the output, and read the code."
   ]
  },
  {
   "cell_type": "code",
   "execution_count": 2,
   "metadata": {
    "collapsed": false
   },
   "outputs": [],
   "source": [
    "ds_tweets_save_path = \"BerkeleyData_recent_tweets.pkl\"\n",
    "from pathlib import Path\n",
    "# Guarding against attempts to download the data multiple\n",
    "# times:\n",
    "if not Path(ds_tweets_save_path).is_file():\n",
    "    import json\n",
    "    # Loading your keys from keys.json (which you should have filled\n",
    "    # in in question 1):\n",
    "    with open(\"keys.json\") as f:\n",
    "        keys = json.load(f)\n",
    "\n",
    "    import tweepy\n",
    "\n",
    "    # Authenticating:\n",
    "    auth = tweepy.OAuthHandler(keys[\"consumer_key\"], keys[\"consumer_secret\"])\n",
    "    auth.set_access_token(keys[\"access_token\"], keys[\"access_token_secret\"])\n",
    "    api = tweepy.API(auth)\n",
    "\n",
    "    # Getting as many recent tweets by @BerkeleyData as Twitter will let us have:\n",
    "    example_tweets = list(tweepy.Cursor(api.user_timeline, id=\"BerkeleyData\").items())\n",
    "\n",
    "    # Saving the tweets to a file as \"pickled\" objects:\n",
    "    with open(ds_tweets_save_path, \"wb\") as f:\n",
    "        import pickle\n",
    "        pickle.dump(example_tweets, f)\n",
    "\n",
    "# Re-loading the results:\n",
    "with open(ds_tweets_save_path, \"rb\") as f:\n",
    "    import pickle\n",
    "    example_tweets = pickle.load(f)"
   ]
  },
  {
   "cell_type": "code",
   "execution_count": 3,
   "metadata": {
    "collapsed": false
   },
   "outputs": [
    {
     "data": {
      "text/plain": [
       "Status(_json={'created_at': 'Wed May 17 16:09:49 +0000 2017', 'id': 864875612669747200, 'id_str': '864875612669747200', 'text': 'Using Technology to Address Gender Bias in Film: Learn more, via Google: https://t.co/LXcSgwa0Yk #datascience', 'truncated': False, 'entities': {'hashtags': [{'text': 'datascience', 'indices': [97, 109]}], 'symbols': [], 'user_mentions': [], 'urls': [{'url': 'https://t.co/LXcSgwa0Yk', 'expanded_url': 'http://bit.ly/2m4bgfw', 'display_url': 'bit.ly/2m4bgfw', 'indices': [73, 96]}]}, 'source': '<a href=\"http://twitter.com\" rel=\"nofollow\">Twitter Web Client</a>', 'in_reply_to_status_id': None, 'in_reply_to_status_id_str': None, 'in_reply_to_user_id': None, 'in_reply_to_user_id_str': None, 'in_reply_to_screen_name': None, 'user': {'id': 1227698863, 'id_str': '1227698863', 'name': 'datascience@berkeley', 'screen_name': 'BerkeleyData', 'location': 'Berkeley, CA', 'description': 'An online Master of Information and Data Science (MIDS) degree from the UC Berkeley School of Information. Learn more at: http://t.co/zf6gfBWovQ', 'url': 'http://t.co/S79Ul3oCaa', 'entities': {'url': {'urls': [{'url': 'http://t.co/S79Ul3oCaa', 'expanded_url': 'http://datascience.berkeley.edu', 'display_url': 'datascience.berkeley.edu', 'indices': [0, 22]}]}, 'description': {'urls': [{'url': 'http://t.co/zf6gfBWovQ', 'expanded_url': 'http://bit.ly/tBerkeleyData', 'display_url': 'bit.ly/tBerkeleyData', 'indices': [122, 144]}]}}, 'protected': False, 'followers_count': 9540, 'friends_count': 403, 'listed_count': 450, 'created_at': 'Thu Feb 28 14:37:26 +0000 2013', 'favourites_count': 44, 'utc_offset': -14400, 'time_zone': 'Eastern Time (US & Canada)', 'geo_enabled': False, 'verified': False, 'statuses_count': 2172, 'lang': 'en', 'contributors_enabled': False, 'is_translator': False, 'is_translation_enabled': False, 'profile_background_color': 'CCCCCC', 'profile_background_image_url': 'http://pbs.twimg.com/profile_background_images/378800000096571211/5f9ba86a5d2b87c2c48544133c25b092.jpeg', 'profile_background_image_url_https': 'https://pbs.twimg.com/profile_background_images/378800000096571211/5f9ba86a5d2b87c2c48544133c25b092.jpeg', 'profile_background_tile': False, 'profile_image_url': 'http://pbs.twimg.com/profile_images/378800000146514422/6d9a5af0a0abb83d4cfe2d0ab2067ecb_normal.jpeg', 'profile_image_url_https': 'https://pbs.twimg.com/profile_images/378800000146514422/6d9a5af0a0abb83d4cfe2d0ab2067ecb_normal.jpeg', 'profile_banner_url': 'https://pbs.twimg.com/profile_banners/1227698863/1405953823', 'profile_link_color': '5173B6', 'profile_sidebar_border_color': 'FFFFFF', 'profile_sidebar_fill_color': 'DDEEF6', 'profile_text_color': '333333', 'profile_use_background_image': True, 'has_extended_profile': False, 'default_profile': False, 'default_profile_image': False, 'following': False, 'follow_request_sent': False, 'notifications': False, 'translator_type': 'none'}, 'geo': None, 'coordinates': None, 'place': None, 'contributors': None, 'is_quote_status': False, 'retweet_count': 4, 'favorite_count': 2, 'favorited': False, 'retweeted': False, 'possibly_sensitive': False, 'lang': 'en'}, created_at=datetime.datetime(2017, 5, 17, 16, 9, 49), id=864875612669747200, id_str='864875612669747200', text='Using Technology to Address Gender Bias in Film: Learn more, via Google: https://t.co/LXcSgwa0Yk #datascience', truncated=False, entities={'hashtags': [{'text': 'datascience', 'indices': [97, 109]}], 'symbols': [], 'user_mentions': [], 'urls': [{'url': 'https://t.co/LXcSgwa0Yk', 'expanded_url': 'http://bit.ly/2m4bgfw', 'display_url': 'bit.ly/2m4bgfw', 'indices': [73, 96]}]}, source='Twitter Web Client', source_url='http://twitter.com', in_reply_to_status_id=None, in_reply_to_status_id_str=None, in_reply_to_user_id=None, in_reply_to_user_id_str=None, in_reply_to_screen_name=None, author=User(_json={'id': 1227698863, 'id_str': '1227698863', 'name': 'datascience@berkeley', 'screen_name': 'BerkeleyData', 'location': 'Berkeley, CA', 'description': 'An online Master of Information and Data Science (MIDS) degree from the UC Berkeley School of Information. Learn more at: http://t.co/zf6gfBWovQ', 'url': 'http://t.co/S79Ul3oCaa', 'entities': {'url': {'urls': [{'url': 'http://t.co/S79Ul3oCaa', 'expanded_url': 'http://datascience.berkeley.edu', 'display_url': 'datascience.berkeley.edu', 'indices': [0, 22]}]}, 'description': {'urls': [{'url': 'http://t.co/zf6gfBWovQ', 'expanded_url': 'http://bit.ly/tBerkeleyData', 'display_url': 'bit.ly/tBerkeleyData', 'indices': [122, 144]}]}}, 'protected': False, 'followers_count': 9540, 'friends_count': 403, 'listed_count': 450, 'created_at': 'Thu Feb 28 14:37:26 +0000 2013', 'favourites_count': 44, 'utc_offset': -14400, 'time_zone': 'Eastern Time (US & Canada)', 'geo_enabled': False, 'verified': False, 'statuses_count': 2172, 'lang': 'en', 'contributors_enabled': False, 'is_translator': False, 'is_translation_enabled': False, 'profile_background_color': 'CCCCCC', 'profile_background_image_url': 'http://pbs.twimg.com/profile_background_images/378800000096571211/5f9ba86a5d2b87c2c48544133c25b092.jpeg', 'profile_background_image_url_https': 'https://pbs.twimg.com/profile_background_images/378800000096571211/5f9ba86a5d2b87c2c48544133c25b092.jpeg', 'profile_background_tile': False, 'profile_image_url': 'http://pbs.twimg.com/profile_images/378800000146514422/6d9a5af0a0abb83d4cfe2d0ab2067ecb_normal.jpeg', 'profile_image_url_https': 'https://pbs.twimg.com/profile_images/378800000146514422/6d9a5af0a0abb83d4cfe2d0ab2067ecb_normal.jpeg', 'profile_banner_url': 'https://pbs.twimg.com/profile_banners/1227698863/1405953823', 'profile_link_color': '5173B6', 'profile_sidebar_border_color': 'FFFFFF', 'profile_sidebar_fill_color': 'DDEEF6', 'profile_text_color': '333333', 'profile_use_background_image': True, 'has_extended_profile': False, 'default_profile': False, 'default_profile_image': False, 'following': False, 'follow_request_sent': False, 'notifications': False, 'translator_type': 'none'}, id=1227698863, id_str='1227698863', name='datascience@berkeley', screen_name='BerkeleyData', location='Berkeley, CA', description='An online Master of Information and Data Science (MIDS) degree from the UC Berkeley School of Information. Learn more at: http://t.co/zf6gfBWovQ', url='http://t.co/S79Ul3oCaa', entities={'url': {'urls': [{'url': 'http://t.co/S79Ul3oCaa', 'expanded_url': 'http://datascience.berkeley.edu', 'display_url': 'datascience.berkeley.edu', 'indices': [0, 22]}]}, 'description': {'urls': [{'url': 'http://t.co/zf6gfBWovQ', 'expanded_url': 'http://bit.ly/tBerkeleyData', 'display_url': 'bit.ly/tBerkeleyData', 'indices': [122, 144]}]}}, protected=False, followers_count=9540, friends_count=403, listed_count=450, created_at=datetime.datetime(2013, 2, 28, 14, 37, 26), favourites_count=44, utc_offset=-14400, time_zone='Eastern Time (US & Canada)', geo_enabled=False, verified=False, statuses_count=2172, lang='en', contributors_enabled=False, is_translator=False, is_translation_enabled=False, profile_background_color='CCCCCC', profile_background_image_url='http://pbs.twimg.com/profile_background_images/378800000096571211/5f9ba86a5d2b87c2c48544133c25b092.jpeg', profile_background_image_url_https='https://pbs.twimg.com/profile_background_images/378800000096571211/5f9ba86a5d2b87c2c48544133c25b092.jpeg', profile_background_tile=False, profile_image_url='http://pbs.twimg.com/profile_images/378800000146514422/6d9a5af0a0abb83d4cfe2d0ab2067ecb_normal.jpeg', profile_image_url_https='https://pbs.twimg.com/profile_images/378800000146514422/6d9a5af0a0abb83d4cfe2d0ab2067ecb_normal.jpeg', profile_banner_url='https://pbs.twimg.com/profile_banners/1227698863/1405953823', profile_link_color='5173B6', profile_sidebar_border_color='FFFFFF', profile_sidebar_fill_color='DDEEF6', profile_text_color='333333', profile_use_background_image=True, has_extended_profile=False, default_profile=False, default_profile_image=False, following=False, follow_request_sent=False, notifications=False, translator_type='none'), user=User(_json={'id': 1227698863, 'id_str': '1227698863', 'name': 'datascience@berkeley', 'screen_name': 'BerkeleyData', 'location': 'Berkeley, CA', 'description': 'An online Master of Information and Data Science (MIDS) degree from the UC Berkeley School of Information. Learn more at: http://t.co/zf6gfBWovQ', 'url': 'http://t.co/S79Ul3oCaa', 'entities': {'url': {'urls': [{'url': 'http://t.co/S79Ul3oCaa', 'expanded_url': 'http://datascience.berkeley.edu', 'display_url': 'datascience.berkeley.edu', 'indices': [0, 22]}]}, 'description': {'urls': [{'url': 'http://t.co/zf6gfBWovQ', 'expanded_url': 'http://bit.ly/tBerkeleyData', 'display_url': 'bit.ly/tBerkeleyData', 'indices': [122, 144]}]}}, 'protected': False, 'followers_count': 9540, 'friends_count': 403, 'listed_count': 450, 'created_at': 'Thu Feb 28 14:37:26 +0000 2013', 'favourites_count': 44, 'utc_offset': -14400, 'time_zone': 'Eastern Time (US & Canada)', 'geo_enabled': False, 'verified': False, 'statuses_count': 2172, 'lang': 'en', 'contributors_enabled': False, 'is_translator': False, 'is_translation_enabled': False, 'profile_background_color': 'CCCCCC', 'profile_background_image_url': 'http://pbs.twimg.com/profile_background_images/378800000096571211/5f9ba86a5d2b87c2c48544133c25b092.jpeg', 'profile_background_image_url_https': 'https://pbs.twimg.com/profile_background_images/378800000096571211/5f9ba86a5d2b87c2c48544133c25b092.jpeg', 'profile_background_tile': False, 'profile_image_url': 'http://pbs.twimg.com/profile_images/378800000146514422/6d9a5af0a0abb83d4cfe2d0ab2067ecb_normal.jpeg', 'profile_image_url_https': 'https://pbs.twimg.com/profile_images/378800000146514422/6d9a5af0a0abb83d4cfe2d0ab2067ecb_normal.jpeg', 'profile_banner_url': 'https://pbs.twimg.com/profile_banners/1227698863/1405953823', 'profile_link_color': '5173B6', 'profile_sidebar_border_color': 'FFFFFF', 'profile_sidebar_fill_color': 'DDEEF6', 'profile_text_color': '333333', 'profile_use_background_image': True, 'has_extended_profile': False, 'default_profile': False, 'default_profile_image': False, 'following': False, 'follow_request_sent': False, 'notifications': False, 'translator_type': 'none'}, id=1227698863, id_str='1227698863', name='datascience@berkeley', screen_name='BerkeleyData', location='Berkeley, CA', description='An online Master of Information and Data Science (MIDS) degree from the UC Berkeley School of Information. Learn more at: http://t.co/zf6gfBWovQ', url='http://t.co/S79Ul3oCaa', entities={'url': {'urls': [{'url': 'http://t.co/S79Ul3oCaa', 'expanded_url': 'http://datascience.berkeley.edu', 'display_url': 'datascience.berkeley.edu', 'indices': [0, 22]}]}, 'description': {'urls': [{'url': 'http://t.co/zf6gfBWovQ', 'expanded_url': 'http://bit.ly/tBerkeleyData', 'display_url': 'bit.ly/tBerkeleyData', 'indices': [122, 144]}]}}, protected=False, followers_count=9540, friends_count=403, listed_count=450, created_at=datetime.datetime(2013, 2, 28, 14, 37, 26), favourites_count=44, utc_offset=-14400, time_zone='Eastern Time (US & Canada)', geo_enabled=False, verified=False, statuses_count=2172, lang='en', contributors_enabled=False, is_translator=False, is_translation_enabled=False, profile_background_color='CCCCCC', profile_background_image_url='http://pbs.twimg.com/profile_background_images/378800000096571211/5f9ba86a5d2b87c2c48544133c25b092.jpeg', profile_background_image_url_https='https://pbs.twimg.com/profile_background_images/378800000096571211/5f9ba86a5d2b87c2c48544133c25b092.jpeg', profile_background_tile=False, profile_image_url='http://pbs.twimg.com/profile_images/378800000146514422/6d9a5af0a0abb83d4cfe2d0ab2067ecb_normal.jpeg', profile_image_url_https='https://pbs.twimg.com/profile_images/378800000146514422/6d9a5af0a0abb83d4cfe2d0ab2067ecb_normal.jpeg', profile_banner_url='https://pbs.twimg.com/profile_banners/1227698863/1405953823', profile_link_color='5173B6', profile_sidebar_border_color='FFFFFF', profile_sidebar_fill_color='DDEEF6', profile_text_color='333333', profile_use_background_image=True, has_extended_profile=False, default_profile=False, default_profile_image=False, following=False, follow_request_sent=False, notifications=False, translator_type='none'), geo=None, coordinates=None, place=None, contributors=None, is_quote_status=False, retweet_count=4, favorite_count=2, favorited=False, retweeted=False, possibly_sensitive=False, lang='en')"
      ]
     },
     "execution_count": 3,
     "metadata": {},
     "output_type": "execute_result"
    }
   ],
   "source": [
    "# Looking at one tweet object, which has type Status:\n",
    "example_tweets[0]\n",
    "# You can try something like this:\n",
    "#   import pprint; pprint.pprint(vars(example_tweets[0]))\n",
    "# ...to get a more easily-readable view."
   ]
  },
  {
   "cell_type": "markdown",
   "metadata": {},
   "source": [
    "#### Question 2\n",
    "Write code to download all the recent tweets by Hillary Clinton (@HillaryClinton).  Follow our example code if you wish.  Write your code in the form of four **functions** matching the documentation provided.  (You may define additional functions as helpers.)  **Once you've written your functions,** you can run the subsequent cell to download the tweets."
   ]
  },
  {
   "cell_type": "code",
   "execution_count": 18,
   "metadata": {
    "collapsed": true,
    "for_assignment_type": "student"
   },
   "outputs": [],
   "source": [
    "def load_keys(path):\n",
    "    \"\"\"Loads your Twitter authentication keys from a file on disk.\n",
    "    \n",
    "    Args:\n",
    "        path (str): The path to your key file.  The file should\n",
    "          be in JSON format and look like this (but filled in):\n",
    "            {\n",
    "                \"consumer_key\": \"<your Consumer Key here>\",\n",
    "                \"consumer_secret\":  \"<your Consumer Secret here>\",\n",
    "                \"access_token\": \"<your Access Token here>\",\n",
    "                \"access_token_secret\": \"<your Access Token Secret here>\"\n",
    "            }\n",
    "    \n",
    "    Returns:\n",
    "        dict: A dictionary mapping key names (like \"consumer_key\") to\n",
    "          key values.\"\"\"\n",
    "    with open(path) as f:\n",
    "        return json.load(f)\n",
    "\n",
    "def download_recent_tweets_by_user(user_account_name, keys):\n",
    "    \"\"\"Downloads tweets by one Twitter user.\n",
    "\n",
    "    Args:\n",
    "        user_account_name (str): The name of the Twitter account\n",
    "          whose tweets will be downloaded.\n",
    "        keys (dict): A Python dictionary with Twitter authentication\n",
    "          keys (strings), like this (but filled in):\n",
    "            {\n",
    "                \"consumer_key\": \"<your Consumer Key here>\",\n",
    "                \"consumer_secret\":  \"<your Consumer Secret here>\",\n",
    "                \"access_token\": \"<your Access Token here>\",\n",
    "                \"access_token_secret\": \"<your Access Token Secret here>\"\n",
    "            }\n",
    "\n",
    "    Returns:\n",
    "        list: A list of Status objects, each representing one tweet.\"\"\"\n",
    "    import tweepy\n",
    "    # Authenticating:\n",
    "    auth = tweepy.OAuthHandler(keys[\"consumer_key\"], keys[\"consumer_secret\"])\n",
    "    auth.set_access_token(keys[\"access_token\"], keys[\"access_token_secret\"])\n",
    "    api = tweepy.API(auth)\n",
    "\n",
    "    # Getting as many recent tweets by @BerkeleyData as Twitter will let us have:\n",
    "    return list(tweepy.Cursor(api.user_timeline, id=user_account_name).items())\n",
    "\n",
    "\n",
    "def save_tweets(tweets, path):\n",
    "    \"\"\"Saves a list of tweets to a file in the local filesystem.\n",
    "    \n",
    "    This function makes no guarantee about the format of the saved\n",
    "    tweets, **except** that calling load_tweets(path) after\n",
    "    save_tweets(tweets, path) will produce the same list of tweets\n",
    "    and that only the file at the given path is used to store the\n",
    "    tweets.  (That means you can implement this function however\n",
    "    you want, as long as saving and loading works!)\n",
    "\n",
    "    Args:\n",
    "        tweets (list): A list of tweet objects (of type Status) to\n",
    "          be saved.\n",
    "        path (str): The place where the tweets will be saved.\n",
    "\n",
    "    Returns:\n",
    "        None\"\"\"\n",
    "    with open(path, \"wb\") as f:\n",
    "        import pickle\n",
    "        pickle.dump(tweets, f)\n",
    "    \n",
    "def load_tweets(path):\n",
    "    \"\"\"Loads tweets that have previously been saved.\n",
    "    \n",
    "    Calling load_tweets(path) after save_tweets(tweets, path)\n",
    "    will produce the same list of tweets.\n",
    "    \n",
    "    Args:\n",
    "        path (str): The place where the tweets were be saved.\n",
    "\n",
    "    Returns:\n",
    "        list: A list of Status objects, each representing one tweet.\"\"\"\n",
    "    with open(path, \"rb\") as f:\n",
    "        import pickle\n",
    "        return pickle.load(f)"
   ]
  },
  {
   "cell_type": "code",
   "execution_count": 19,
   "metadata": {
    "collapsed": true
   },
   "outputs": [],
   "source": [
    "# When you are done, run this cell to load @HillaryClinton's tweets.\n",
    "# Note the function get_tweets_with_cache.  You may find it useful\n",
    "# later.\n",
    "\n",
    "def get_tweets_with_cache(user_account_name, keys_path):\n",
    "    \"\"\"Get recent tweets from one user, loading from a disk cache if available.\n",
    "    \n",
    "    The first time you call this function, it will download tweets by\n",
    "    a user.  Subsequent calls will not re-download the tweets; instead\n",
    "    they'll load the tweets from a save file in your local filesystem.\n",
    "    All this is done using the functions you defined in the previous cell.\n",
    "    This has benefits and drawbacks that often appear when you cache data:\n",
    "    \n",
    "    +: Using this function will prevent extraneous usage of the Twitter API.\n",
    "    +: You will get your data much faster after the first time it's called.\n",
    "    -: If you really want to re-download the tweets (say, to get newer ones,\n",
    "       or because you screwed up something in the previous cell and your\n",
    "       tweets aren't what you wanted), you'll have to find the save file\n",
    "       (which will look like <something>_recent_tweets.pkl) and delete it.\n",
    "    \n",
    "    Args:\n",
    "        user_account_name (str): The Twitter handle of a user, without the @.\n",
    "        keys_path (str): The path to a JSON keys file in your filesystem.\n",
    "    \"\"\"\n",
    "    save_path = \"{}_recent_tweets.pkl\".format(user_account_name)\n",
    "    from pathlib import Path\n",
    "    if not Path(save_path).is_file():\n",
    "        keys = load_keys(keys_path)\n",
    "        tweets = download_recent_tweets_by_user(user_account_name, keys)\n",
    "        save_tweets(tweets, save_path)\n",
    "    return load_tweets(save_path)"
   ]
  },
  {
   "cell_type": "code",
   "execution_count": 20,
   "metadata": {},
   "outputs": [
    {
     "name": "stderr",
     "output_type": "stream",
     "text": [
      "IOPub data rate exceeded.\n",
      "The notebook server will temporarily stop sending output\n",
      "to the client in order to avoid crashing it.\n",
      "To change this limit, set the config variable\n",
      "`--NotebookApp.iopub_data_rate_limit`.\n"
     ]
    }
   ],
   "source": [
    "download_recent_tweets_by_user(\"HillaryClinton\", load_keys(\"keys.json\"))"
   ]
  },
  {
   "cell_type": "code",
   "execution_count": 28,
   "metadata": {
    "collapsed": true
   },
   "outputs": [],
   "source": [
    "clinton_tweets = get_tweets_with_cache(\"HillaryClinton\", \"keys.json\")"
   ]
  },
  {
   "cell_type": "code",
   "execution_count": 30,
   "metadata": {
    "collapsed": false,
    "scrolled": true
   },
   "outputs": [
    {
     "data": {
      "text/plain": [
       "Status(_json={'created_at': 'Sat Jun 03 03:08:26 +0000 2017', 'id': 870839564914634760, 'id_str': '870839564914634760', 'text': 'Today we remember Hadiya, &amp; all victims of gun violence. Proud of these young dynamos &amp; all those committed to the… https://t.co/Hhp1lVF25Z', 'truncated': True, 'entities': {'hashtags': [], 'symbols': [], 'user_mentions': [], 'urls': [{'url': 'https://t.co/Hhp1lVF25Z', 'expanded_url': 'https://twitter.com/i/web/status/870839564914634760', 'display_url': 'twitter.com/i/web/status/8…', 'indices': [124, 147]}]}, 'source': '<a href=\"http://twitter.com/download/iphone\" rel=\"nofollow\">Twitter for iPhone</a>', 'in_reply_to_status_id': None, 'in_reply_to_status_id_str': None, 'in_reply_to_user_id': None, 'in_reply_to_user_id_str': None, 'in_reply_to_screen_name': None, 'user': {'id': 1339835893, 'id_str': '1339835893', 'name': 'Hillary Clinton', 'screen_name': 'HillaryClinton', 'location': 'New York, NY', 'description': 'Wife, mom, grandma, women+kids advocate, FLOTUS, Senator, SecState, hair icon, pantsuit aficionado, 2016 presidential candidate.', 'url': 'https://t.co/xhPHAcdCwE', 'entities': {'url': {'urls': [{'url': 'https://t.co/xhPHAcdCwE', 'expanded_url': 'http://HillaryClinton.com', 'display_url': 'HillaryClinton.com', 'indices': [0, 23]}]}, 'description': {'urls': []}}, 'protected': False, 'followers_count': 15868269, 'friends_count': 762, 'listed_count': 37967, 'created_at': 'Tue Apr 09 18:04:35 +0000 2013', 'favourites_count': 1173, 'utc_offset': -14400, 'time_zone': 'Eastern Time (US & Canada)', 'geo_enabled': True, 'verified': True, 'statuses_count': 9867, 'lang': 'en', 'contributors_enabled': False, 'is_translator': False, 'is_translation_enabled': False, 'profile_background_color': '0057B8', 'profile_background_image_url': 'http://abs.twimg.com/images/themes/theme1/bg.png', 'profile_background_image_url_https': 'https://abs.twimg.com/images/themes/theme1/bg.png', 'profile_background_tile': False, 'profile_image_url': 'http://pbs.twimg.com/profile_images/839938827837976576/leN1zJJx_normal.jpg', 'profile_image_url_https': 'https://pbs.twimg.com/profile_images/839938827837976576/leN1zJJx_normal.jpg', 'profile_banner_url': 'https://pbs.twimg.com/profile_banners/1339835893/1476893928', 'profile_link_color': '0057B8', 'profile_sidebar_border_color': '000000', 'profile_sidebar_fill_color': '000000', 'profile_text_color': '000000', 'profile_use_background_image': False, 'has_extended_profile': True, 'default_profile': False, 'default_profile_image': False, 'following': False, 'follow_request_sent': False, 'notifications': False, 'translator_type': 'none'}, 'geo': None, 'coordinates': None, 'place': None, 'contributors': None, 'is_quote_status': True, 'quoted_status_id': 870691680130695169, 'quoted_status_id_str': '870691680130695169', 'quoted_status': {'created_at': 'Fri Jun 02 17:20:47 +0000 2017', 'id': 870691680130695169, 'id_str': '870691680130695169', 'text': 'Today and everyday honored to have worked with these amazing people at @HFA and now @Everytown/@MomsDemand… https://t.co/AlIR6tz9th', 'truncated': True, 'entities': {'hashtags': [], 'symbols': [], 'user_mentions': [{'screen_name': 'HFA', 'name': 'Hillary for America', 'id': 702147673651027968, 'id_str': '702147673651027968', 'indices': [71, 75]}, {'screen_name': 'Everytown', 'name': 'Everytown', 'id': 250386727, 'id_str': '250386727', 'indices': [84, 94]}, {'screen_name': 'MomsDemand', 'name': 'Moms Demand Action', 'id': 1017637447, 'id_str': '1017637447', 'indices': [95, 106]}], 'urls': [{'url': 'https://t.co/AlIR6tz9th', 'expanded_url': 'https://twitter.com/i/web/status/870691680130695169', 'display_url': 'twitter.com/i/web/status/8…', 'indices': [108, 131]}]}, 'source': '<a href=\"http://twitter.com/download/iphone\" rel=\"nofollow\">Twitter for iPhone</a>', 'in_reply_to_status_id': None, 'in_reply_to_status_id_str': None, 'in_reply_to_user_id': None, 'in_reply_to_user_id_str': None, 'in_reply_to_screen_name': None, 'user': {'id': 12897402, 'id_str': '12897402', 'name': 'Brynne Craig', 'screen_name': 'BrynneCraig', 'location': 'Brooklyn, NY', 'description': 'Triple Threat. Lover of Intersectionality. Avid Reader. TV Connoisseur. Always @HillaryClinton. @TerryMcAuliffe @DCCC @BarackObama Alum', 'url': None, 'entities': {'description': {'urls': []}}, 'protected': False, 'followers_count': 7763, 'friends_count': 238, 'listed_count': 168, 'created_at': 'Thu Jan 31 02:37:47 +0000 2008', 'favourites_count': 2100, 'utc_offset': -14400, 'time_zone': 'Eastern Time (US & Canada)', 'geo_enabled': True, 'verified': False, 'statuses_count': 1187, 'lang': 'en', 'contributors_enabled': False, 'is_translator': False, 'is_translation_enabled': False, 'profile_background_color': '0099B9', 'profile_background_image_url': 'http://abs.twimg.com/images/themes/theme4/bg.gif', 'profile_background_image_url_https': 'https://abs.twimg.com/images/themes/theme4/bg.gif', 'profile_background_tile': False, 'profile_image_url': 'http://pbs.twimg.com/profile_images/724869862158381056/4t8vYs-V_normal.jpg', 'profile_image_url_https': 'https://pbs.twimg.com/profile_images/724869862158381056/4t8vYs-V_normal.jpg', 'profile_banner_url': 'https://pbs.twimg.com/profile_banners/12897402/1470569767', 'profile_link_color': '0099B9', 'profile_sidebar_border_color': '5ED4DC', 'profile_sidebar_fill_color': '95E8EC', 'profile_text_color': '3C3940', 'profile_use_background_image': True, 'has_extended_profile': True, 'default_profile': False, 'default_profile_image': False, 'following': False, 'follow_request_sent': False, 'notifications': False, 'translator_type': 'none'}, 'geo': None, 'coordinates': None, 'place': None, 'contributors': None, 'is_quote_status': False, 'retweet_count': 76, 'favorite_count': 324, 'favorited': False, 'retweeted': False, 'possibly_sensitive': False, 'lang': 'en'}, 'retweet_count': 4200, 'favorite_count': 22345, 'favorited': False, 'retweeted': False, 'possibly_sensitive': False, 'lang': 'en'}, created_at=datetime.datetime(2017, 6, 3, 3, 8, 26), id=870839564914634760, id_str='870839564914634760', text='Today we remember Hadiya, &amp; all victims of gun violence. Proud of these young dynamos &amp; all those committed to the… https://t.co/Hhp1lVF25Z', truncated=True, entities={'hashtags': [], 'symbols': [], 'user_mentions': [], 'urls': [{'url': 'https://t.co/Hhp1lVF25Z', 'expanded_url': 'https://twitter.com/i/web/status/870839564914634760', 'display_url': 'twitter.com/i/web/status/8…', 'indices': [124, 147]}]}, source='Twitter for iPhone', source_url='http://twitter.com/download/iphone', in_reply_to_status_id=None, in_reply_to_status_id_str=None, in_reply_to_user_id=None, in_reply_to_user_id_str=None, in_reply_to_screen_name=None, author=User(_json={'id': 1339835893, 'id_str': '1339835893', 'name': 'Hillary Clinton', 'screen_name': 'HillaryClinton', 'location': 'New York, NY', 'description': 'Wife, mom, grandma, women+kids advocate, FLOTUS, Senator, SecState, hair icon, pantsuit aficionado, 2016 presidential candidate.', 'url': 'https://t.co/xhPHAcdCwE', 'entities': {'url': {'urls': [{'url': 'https://t.co/xhPHAcdCwE', 'expanded_url': 'http://HillaryClinton.com', 'display_url': 'HillaryClinton.com', 'indices': [0, 23]}]}, 'description': {'urls': []}}, 'protected': False, 'followers_count': 15868269, 'friends_count': 762, 'listed_count': 37967, 'created_at': 'Tue Apr 09 18:04:35 +0000 2013', 'favourites_count': 1173, 'utc_offset': -14400, 'time_zone': 'Eastern Time (US & Canada)', 'geo_enabled': True, 'verified': True, 'statuses_count': 9867, 'lang': 'en', 'contributors_enabled': False, 'is_translator': False, 'is_translation_enabled': False, 'profile_background_color': '0057B8', 'profile_background_image_url': 'http://abs.twimg.com/images/themes/theme1/bg.png', 'profile_background_image_url_https': 'https://abs.twimg.com/images/themes/theme1/bg.png', 'profile_background_tile': False, 'profile_image_url': 'http://pbs.twimg.com/profile_images/839938827837976576/leN1zJJx_normal.jpg', 'profile_image_url_https': 'https://pbs.twimg.com/profile_images/839938827837976576/leN1zJJx_normal.jpg', 'profile_banner_url': 'https://pbs.twimg.com/profile_banners/1339835893/1476893928', 'profile_link_color': '0057B8', 'profile_sidebar_border_color': '000000', 'profile_sidebar_fill_color': '000000', 'profile_text_color': '000000', 'profile_use_background_image': False, 'has_extended_profile': True, 'default_profile': False, 'default_profile_image': False, 'following': False, 'follow_request_sent': False, 'notifications': False, 'translator_type': 'none'}, id=1339835893, id_str='1339835893', name='Hillary Clinton', screen_name='HillaryClinton', location='New York, NY', description='Wife, mom, grandma, women+kids advocate, FLOTUS, Senator, SecState, hair icon, pantsuit aficionado, 2016 presidential candidate.', url='https://t.co/xhPHAcdCwE', entities={'url': {'urls': [{'url': 'https://t.co/xhPHAcdCwE', 'expanded_url': 'http://HillaryClinton.com', 'display_url': 'HillaryClinton.com', 'indices': [0, 23]}]}, 'description': {'urls': []}}, protected=False, followers_count=15868269, friends_count=762, listed_count=37967, created_at=datetime.datetime(2013, 4, 9, 18, 4, 35), favourites_count=1173, utc_offset=-14400, time_zone='Eastern Time (US & Canada)', geo_enabled=True, verified=True, statuses_count=9867, lang='en', contributors_enabled=False, is_translator=False, is_translation_enabled=False, profile_background_color='0057B8', profile_background_image_url='http://abs.twimg.com/images/themes/theme1/bg.png', profile_background_image_url_https='https://abs.twimg.com/images/themes/theme1/bg.png', profile_background_tile=False, profile_image_url='http://pbs.twimg.com/profile_images/839938827837976576/leN1zJJx_normal.jpg', profile_image_url_https='https://pbs.twimg.com/profile_images/839938827837976576/leN1zJJx_normal.jpg', profile_banner_url='https://pbs.twimg.com/profile_banners/1339835893/1476893928', profile_link_color='0057B8', profile_sidebar_border_color='000000', profile_sidebar_fill_color='000000', profile_text_color='000000', profile_use_background_image=False, has_extended_profile=True, default_profile=False, default_profile_image=False, following=False, follow_request_sent=False, notifications=False, translator_type='none'), user=User(_json={'id': 1339835893, 'id_str': '1339835893', 'name': 'Hillary Clinton', 'screen_name': 'HillaryClinton', 'location': 'New York, NY', 'description': 'Wife, mom, grandma, women+kids advocate, FLOTUS, Senator, SecState, hair icon, pantsuit aficionado, 2016 presidential candidate.', 'url': 'https://t.co/xhPHAcdCwE', 'entities': {'url': {'urls': [{'url': 'https://t.co/xhPHAcdCwE', 'expanded_url': 'http://HillaryClinton.com', 'display_url': 'HillaryClinton.com', 'indices': [0, 23]}]}, 'description': {'urls': []}}, 'protected': False, 'followers_count': 15868269, 'friends_count': 762, 'listed_count': 37967, 'created_at': 'Tue Apr 09 18:04:35 +0000 2013', 'favourites_count': 1173, 'utc_offset': -14400, 'time_zone': 'Eastern Time (US & Canada)', 'geo_enabled': True, 'verified': True, 'statuses_count': 9867, 'lang': 'en', 'contributors_enabled': False, 'is_translator': False, 'is_translation_enabled': False, 'profile_background_color': '0057B8', 'profile_background_image_url': 'http://abs.twimg.com/images/themes/theme1/bg.png', 'profile_background_image_url_https': 'https://abs.twimg.com/images/themes/theme1/bg.png', 'profile_background_tile': False, 'profile_image_url': 'http://pbs.twimg.com/profile_images/839938827837976576/leN1zJJx_normal.jpg', 'profile_image_url_https': 'https://pbs.twimg.com/profile_images/839938827837976576/leN1zJJx_normal.jpg', 'profile_banner_url': 'https://pbs.twimg.com/profile_banners/1339835893/1476893928', 'profile_link_color': '0057B8', 'profile_sidebar_border_color': '000000', 'profile_sidebar_fill_color': '000000', 'profile_text_color': '000000', 'profile_use_background_image': False, 'has_extended_profile': True, 'default_profile': False, 'default_profile_image': False, 'following': False, 'follow_request_sent': False, 'notifications': False, 'translator_type': 'none'}, id=1339835893, id_str='1339835893', name='Hillary Clinton', screen_name='HillaryClinton', location='New York, NY', description='Wife, mom, grandma, women+kids advocate, FLOTUS, Senator, SecState, hair icon, pantsuit aficionado, 2016 presidential candidate.', url='https://t.co/xhPHAcdCwE', entities={'url': {'urls': [{'url': 'https://t.co/xhPHAcdCwE', 'expanded_url': 'http://HillaryClinton.com', 'display_url': 'HillaryClinton.com', 'indices': [0, 23]}]}, 'description': {'urls': []}}, protected=False, followers_count=15868269, friends_count=762, listed_count=37967, created_at=datetime.datetime(2013, 4, 9, 18, 4, 35), favourites_count=1173, utc_offset=-14400, time_zone='Eastern Time (US & Canada)', geo_enabled=True, verified=True, statuses_count=9867, lang='en', contributors_enabled=False, is_translator=False, is_translation_enabled=False, profile_background_color='0057B8', profile_background_image_url='http://abs.twimg.com/images/themes/theme1/bg.png', profile_background_image_url_https='https://abs.twimg.com/images/themes/theme1/bg.png', profile_background_tile=False, profile_image_url='http://pbs.twimg.com/profile_images/839938827837976576/leN1zJJx_normal.jpg', profile_image_url_https='https://pbs.twimg.com/profile_images/839938827837976576/leN1zJJx_normal.jpg', profile_banner_url='https://pbs.twimg.com/profile_banners/1339835893/1476893928', profile_link_color='0057B8', profile_sidebar_border_color='000000', profile_sidebar_fill_color='000000', profile_text_color='000000', profile_use_background_image=False, has_extended_profile=True, default_profile=False, default_profile_image=False, following=False, follow_request_sent=False, notifications=False, translator_type='none'), geo=None, coordinates=None, place=None, contributors=None, is_quote_status=True, quoted_status_id=870691680130695169, quoted_status_id_str='870691680130695169', quoted_status={'created_at': 'Fri Jun 02 17:20:47 +0000 2017', 'id': 870691680130695169, 'id_str': '870691680130695169', 'text': 'Today and everyday honored to have worked with these amazing people at @HFA and now @Everytown/@MomsDemand… https://t.co/AlIR6tz9th', 'truncated': True, 'entities': {'hashtags': [], 'symbols': [], 'user_mentions': [{'screen_name': 'HFA', 'name': 'Hillary for America', 'id': 702147673651027968, 'id_str': '702147673651027968', 'indices': [71, 75]}, {'screen_name': 'Everytown', 'name': 'Everytown', 'id': 250386727, 'id_str': '250386727', 'indices': [84, 94]}, {'screen_name': 'MomsDemand', 'name': 'Moms Demand Action', 'id': 1017637447, 'id_str': '1017637447', 'indices': [95, 106]}], 'urls': [{'url': 'https://t.co/AlIR6tz9th', 'expanded_url': 'https://twitter.com/i/web/status/870691680130695169', 'display_url': 'twitter.com/i/web/status/8…', 'indices': [108, 131]}]}, 'source': '<a href=\"http://twitter.com/download/iphone\" rel=\"nofollow\">Twitter for iPhone</a>', 'in_reply_to_status_id': None, 'in_reply_to_status_id_str': None, 'in_reply_to_user_id': None, 'in_reply_to_user_id_str': None, 'in_reply_to_screen_name': None, 'user': {'id': 12897402, 'id_str': '12897402', 'name': 'Brynne Craig', 'screen_name': 'BrynneCraig', 'location': 'Brooklyn, NY', 'description': 'Triple Threat. Lover of Intersectionality. Avid Reader. TV Connoisseur. Always @HillaryClinton. @TerryMcAuliffe @DCCC @BarackObama Alum', 'url': None, 'entities': {'description': {'urls': []}}, 'protected': False, 'followers_count': 7763, 'friends_count': 238, 'listed_count': 168, 'created_at': 'Thu Jan 31 02:37:47 +0000 2008', 'favourites_count': 2100, 'utc_offset': -14400, 'time_zone': 'Eastern Time (US & Canada)', 'geo_enabled': True, 'verified': False, 'statuses_count': 1187, 'lang': 'en', 'contributors_enabled': False, 'is_translator': False, 'is_translation_enabled': False, 'profile_background_color': '0099B9', 'profile_background_image_url': 'http://abs.twimg.com/images/themes/theme4/bg.gif', 'profile_background_image_url_https': 'https://abs.twimg.com/images/themes/theme4/bg.gif', 'profile_background_tile': False, 'profile_image_url': 'http://pbs.twimg.com/profile_images/724869862158381056/4t8vYs-V_normal.jpg', 'profile_image_url_https': 'https://pbs.twimg.com/profile_images/724869862158381056/4t8vYs-V_normal.jpg', 'profile_banner_url': 'https://pbs.twimg.com/profile_banners/12897402/1470569767', 'profile_link_color': '0099B9', 'profile_sidebar_border_color': '5ED4DC', 'profile_sidebar_fill_color': '95E8EC', 'profile_text_color': '3C3940', 'profile_use_background_image': True, 'has_extended_profile': True, 'default_profile': False, 'default_profile_image': False, 'following': False, 'follow_request_sent': False, 'notifications': False, 'translator_type': 'none'}, 'geo': None, 'coordinates': None, 'place': None, 'contributors': None, 'is_quote_status': False, 'retweet_count': 76, 'favorite_count': 324, 'favorited': False, 'retweeted': False, 'possibly_sensitive': False, 'lang': 'en'}, retweet_count=4200, favorite_count=22345, favorited=False, retweeted=False, possibly_sensitive=False, lang='en')"
      ]
     },
     "execution_count": 30,
     "metadata": {},
     "output_type": "execute_result"
    }
   ],
   "source": [
    "# If everything is working properly, this should print out\n",
    "# a Status object (a single tweet).  clinton_tweets should\n",
    "# contain around 3000 tweets.\n",
    "clinton_tweets[0]"
   ]
  },
  {
   "cell_type": "code",
   "execution_count": 32,
   "metadata": {
    "collapsed": false
   },
   "outputs": [
    {
     "name": "stdout",
     "output_type": "stream",
     "text": [
      "~~~~~~~~~~~~~~~~~~~~~~~~~~~~~~~~~~~~~~~~~~~~~~~~~~~~~~~~~~~~~~~~~~~~~\n",
      "Running tests\n",
      "\n",
      "---------------------------------------------------------------------\n",
      "Test summary\n",
      "    Passed: 2\n",
      "    Failed: 0\n",
      "[ooooooooook] 100.0% passed\n",
      "\n"
     ]
    },
    {
     "data": {
      "application/javascript": [
       "IPython.notebook.save_checkpoint();"
      ],
      "text/plain": [
       "<IPython.core.display.Javascript object>"
      ]
     },
     "metadata": {},
     "output_type": "display_data"
    },
    {
     "data": {
      "application/javascript": [
       "IPython.notebook.save_notebook();"
      ],
      "text/plain": [
       "<IPython.core.display.Javascript object>"
      ]
     },
     "metadata": {},
     "output_type": "display_data"
    },
    {
     "name": "stdout",
     "output_type": "stream",
     "text": [
      "Saving notebook... Could not save your notebook. Make sure your notebook is saved before sending it to OK!\n",
      "Backup... 0.0% complete\r",
      "Backup... 100% complete\n",
      "Backup successful for user: doomsplayer@gmail.com\n",
      "\n"
     ]
    }
   ],
   "source": [
    "_ = ok.grade('q02')\n",
    "_ = ok.backup()"
   ]
  },
  {
   "cell_type": "markdown",
   "metadata": {},
   "source": [
    "### Exploring the dataset\n",
    "Twitter gives us a lot of information about each tweet, not just its text.  You can read the full documentation [here](https://dev.twitter.com/overview/api/tweets).  Look at one tweet to get a sense of the information we have available."
   ]
  },
  {
   "cell_type": "markdown",
   "metadata": {},
   "source": [
    "#### Question 3\n",
    "Which fields contain:\n",
    "1. the actual text of a tweet,\n",
    "2. the time when the tweet was posted, and\n",
    "3. the source (device and app) from which the tweet was posted?\n",
    "\n",
    "To answer the question, write functions that extract each field from a tweet.  (Each one should take a single Status object as its argument.)"
   ]
  },
  {
   "cell_type": "code",
   "execution_count": 40,
   "metadata": {
    "collapsed": true
   },
   "outputs": [],
   "source": [
    "def extract_text(tweet):\n",
    "    return tweet.text\n",
    "\n",
    "def extract_time(tweet):\n",
    "    return tweet.created_at\n",
    "\n",
    "def extract_source(tweet):\n",
    "    return tweet.source"
   ]
  },
  {
   "cell_type": "code",
   "execution_count": 41,
   "metadata": {
    "collapsed": false
   },
   "outputs": [
    {
     "name": "stdout",
     "output_type": "stream",
     "text": [
      "~~~~~~~~~~~~~~~~~~~~~~~~~~~~~~~~~~~~~~~~~~~~~~~~~~~~~~~~~~~~~~~~~~~~~\n",
      "Running tests\n",
      "\n",
      "---------------------------------------------------------------------\n",
      "Test summary\n",
      "    Passed: 1\n",
      "    Failed: 0\n",
      "[ooooooooook] 100.0% passed\n",
      "\n"
     ]
    },
    {
     "data": {
      "application/javascript": [
       "IPython.notebook.save_checkpoint();"
      ],
      "text/plain": [
       "<IPython.core.display.Javascript object>"
      ]
     },
     "metadata": {},
     "output_type": "display_data"
    },
    {
     "data": {
      "application/javascript": [
       "IPython.notebook.save_notebook();"
      ],
      "text/plain": [
       "<IPython.core.display.Javascript object>"
      ]
     },
     "metadata": {},
     "output_type": "display_data"
    },
    {
     "name": "stdout",
     "output_type": "stream",
     "text": [
      "Saving notebook... Could not save your notebook. Make sure your notebook is saved before sending it to OK!\n",
      "Backup... 0.0% complete\r",
      "Backup... 100% complete\n",
      "Backup successful for user: doomsplayer@gmail.com\n",
      "\n"
     ]
    }
   ],
   "source": [
    "_ = ok.grade('q03')\n",
    "_ = ok.backup()"
   ]
  },
  {
   "cell_type": "markdown",
   "metadata": {},
   "source": [
    "#### Question 4\n",
    "Are there any other fields you think might be useful in identifying the true author of an @HillaryClinton tweet?  (If you're reading the documentation, consider whether fields are actually present often enough in the data to be useful.)"
   ]
  },
  {
   "cell_type": "markdown",
   "metadata": {},
   "source": [
    "*Write your answer here, replacing this text.*"
   ]
  },
  {
   "cell_type": "markdown",
   "metadata": {},
   "source": [
    "## Building a Pandas table\n",
    "JSON (and the Status object, which is just Tweepy's translation of the JSON produced by the Twitter API to a Python object) is nice for transmitting data, but it's not ideal for analysis.  The data will be easier to work with if we put them in a table.\n",
    "\n",
    "To create an empty table in Pandas, write:"
   ]
  },
  {
   "cell_type": "code",
   "execution_count": 42,
   "metadata": {
    "collapsed": true
   },
   "outputs": [],
   "source": [
    "import pandas as pd\n",
    "df = pd.DataFrame()"
   ]
  },
  {
   "cell_type": "markdown",
   "metadata": {},
   "source": [
    "(`pd` is the standard abbrevation for Pandas.)\n",
    "\n",
    "Now let's make a table with useful information in it.  To add a column to a DataFrame called `df`, write:\n",
    "    \n",
    "    df['column_name'] = some_list_or_array\n",
    "\n",
    "([This page](http://pandas.pydata.org/pandas-docs/stable/10min.html) is a useful reference for many of the basic operations in Pandas.  You don't need to read it now, but it might be helpful if you get stuck.)"
   ]
  },
  {
   "cell_type": "markdown",
   "metadata": {},
   "source": [
    "#### Question 5\n",
    "Write a function called `make_dataframe`.  It should take as its argument a list of tweets like `clinton_tweets` and return a Pandas DataFrame.  The DataFrame should contain columns for all the fields in question 3 and any fields you listed in question 4.  **Use the field names as the names of the corresponding columns.**"
   ]
  },
  {
   "cell_type": "code",
   "execution_count": 186,
   "metadata": {
    "collapsed": true
   },
   "outputs": [],
   "source": [
    "def make_dataframe(tweets):\n",
    "    \"\"\"Make a DataFrame from a list of tweets, with a few relevant fields.\n",
    "    \n",
    "    Args:\n",
    "        tweets (list): A list of tweets, each one a Status object.\n",
    "    \n",
    "    Returns:\n",
    "        DataFrame: A Pandas DataFrame containing one row for each element\n",
    "          of tweets and one column for each relevant field.\"\"\"\n",
    "    df = pd.DataFrame(list(x._json for x in tweets))\n",
    "    df.source = df.source.map(lambda x: PyQuery(x).text())\n",
    "    return df"
   ]
  },
  {
   "cell_type": "markdown",
   "metadata": {},
   "source": [
    "Now you can run the next line to make your DataFrame."
   ]
  },
  {
   "cell_type": "code",
   "execution_count": 187,
   "metadata": {
    "collapsed": false
   },
   "outputs": [],
   "source": [
    "clinton_df = make_dataframe(clinton_tweets)"
   ]
  },
  {
   "cell_type": "code",
   "execution_count": 190,
   "metadata": {
    "collapsed": false
   },
   "outputs": [
    {
     "data": {
      "text/html": [
       "<div>\n",
       "<style>\n",
       "    .dataframe thead tr:only-child th {\n",
       "        text-align: right;\n",
       "    }\n",
       "\n",
       "    .dataframe thead th {\n",
       "        text-align: left;\n",
       "    }\n",
       "\n",
       "    .dataframe tbody tr th {\n",
       "        vertical-align: top;\n",
       "    }\n",
       "</style>\n",
       "<table border=\"1\" class=\"dataframe\">\n",
       "  <thead>\n",
       "    <tr style=\"text-align: right;\">\n",
       "      <th></th>\n",
       "      <th>contributors</th>\n",
       "      <th>coordinates</th>\n",
       "      <th>created_at</th>\n",
       "      <th>entities</th>\n",
       "      <th>extended_entities</th>\n",
       "      <th>favorite_count</th>\n",
       "      <th>favorited</th>\n",
       "      <th>geo</th>\n",
       "      <th>id</th>\n",
       "      <th>id_str</th>\n",
       "      <th>...</th>\n",
       "      <th>quoted_status</th>\n",
       "      <th>quoted_status_id</th>\n",
       "      <th>quoted_status_id_str</th>\n",
       "      <th>retweet_count</th>\n",
       "      <th>retweeted</th>\n",
       "      <th>retweeted_status</th>\n",
       "      <th>source</th>\n",
       "      <th>text</th>\n",
       "      <th>truncated</th>\n",
       "      <th>user</th>\n",
       "    </tr>\n",
       "  </thead>\n",
       "  <tbody>\n",
       "    <tr>\n",
       "      <th>0</th>\n",
       "      <td>None</td>\n",
       "      <td>None</td>\n",
       "      <td>Sat Jun 03 03:08:26 +0000 2017</td>\n",
       "      <td>{'hashtags': [], 'symbols': [], 'user_mentions': [], 'urls': [{'url': 'https://t.co/Hhp1lVF25Z', 'expanded_url': 'https://twitter.com/i/web/status...</td>\n",
       "      <td>NaN</td>\n",
       "      <td>22345</td>\n",
       "      <td>False</td>\n",
       "      <td>None</td>\n",
       "      <td>870839564914634760</td>\n",
       "      <td>870839564914634760</td>\n",
       "      <td>...</td>\n",
       "      <td>{'created_at': 'Fri Jun 02 17:20:47 +0000 2017', 'id': 870691680130695169, 'id_str': '870691680130695169', 'text': 'Today and everyday honored to ...</td>\n",
       "      <td>8.706917e+17</td>\n",
       "      <td>870691680130695169</td>\n",
       "      <td>4200</td>\n",
       "      <td>False</td>\n",
       "      <td>NaN</td>\n",
       "      <td>Twitter for iPhone</td>\n",
       "      <td>Today we remember Hadiya, &amp;amp; all victims of gun violence. Proud of these young dynamos &amp;amp; all those committed to the… https://t.co/Hhp1lVF25Z</td>\n",
       "      <td>True</td>\n",
       "      <td>{'id': 1339835893, 'id_str': '1339835893', 'name': 'Hillary Clinton', 'screen_name': 'HillaryClinton', 'location': 'New York, NY', 'description': ...</td>\n",
       "    </tr>\n",
       "    <tr>\n",
       "      <th>1</th>\n",
       "      <td>None</td>\n",
       "      <td>None</td>\n",
       "      <td>Thu Jun 01 23:38:34 +0000 2017</td>\n",
       "      <td>{'hashtags': [], 'symbols': [], 'user_mentions': [], 'urls': []}</td>\n",
       "      <td>NaN</td>\n",
       "      <td>213646</td>\n",
       "      <td>False</td>\n",
       "      <td>None</td>\n",
       "      <td>870424360959528960</td>\n",
       "      <td>870424360959528960</td>\n",
       "      <td>...</td>\n",
       "      <td>NaN</td>\n",
       "      <td>NaN</td>\n",
       "      <td>NaN</td>\n",
       "      <td>58197</td>\n",
       "      <td>False</td>\n",
       "      <td>NaN</td>\n",
       "      <td>Twitter for iPhone</td>\n",
       "      <td>A historic mistake. The world is moving forward together on climate change. Paris withdrawal leaves American workers &amp;amp; families behind.</td>\n",
       "      <td>False</td>\n",
       "      <td>{'id': 1339835893, 'id_str': '1339835893', 'name': 'Hillary Clinton', 'screen_name': 'HillaryClinton', 'location': 'New York, NY', 'description': ...</td>\n",
       "    </tr>\n",
       "    <tr>\n",
       "      <th>2</th>\n",
       "      <td>None</td>\n",
       "      <td>None</td>\n",
       "      <td>Thu Jun 01 01:30:20 +0000 2017</td>\n",
       "      <td>{'hashtags': [], 'symbols': [], 'user_mentions': [], 'urls': [{'url': 'https://t.co/M7oK5Z6qwF', 'expanded_url': 'https://twitter.com/realdonaldtr...</td>\n",
       "      <td>NaN</td>\n",
       "      <td>708948</td>\n",
       "      <td>False</td>\n",
       "      <td>None</td>\n",
       "      <td>870090101765931008</td>\n",
       "      <td>870090101765931008</td>\n",
       "      <td>...</td>\n",
       "      <td>{'created_at': 'Thu Jun 01 00:40:01 +0000 2017', 'id': 870077441401905152, 'id_str': '870077441401905152', 'text': 'Crooked Hillary Clinton now bl...</td>\n",
       "      <td>8.700774e+17</td>\n",
       "      <td>870077441401905152</td>\n",
       "      <td>314231</td>\n",
       "      <td>False</td>\n",
       "      <td>NaN</td>\n",
       "      <td>Twitter for iPhone</td>\n",
       "      <td>People in covfefe houses shouldn't throw covfefe. https://t.co/M7oK5Z6qwF</td>\n",
       "      <td>False</td>\n",
       "      <td>{'id': 1339835893, 'id_str': '1339835893', 'name': 'Hillary Clinton', 'screen_name': 'HillaryClinton', 'location': 'New York, NY', 'description': ...</td>\n",
       "    </tr>\n",
       "    <tr>\n",
       "      <th>3</th>\n",
       "      <td>None</td>\n",
       "      <td>None</td>\n",
       "      <td>Wed May 31 19:15:53 +0000 2017</td>\n",
       "      <td>{'hashtags': [], 'symbols': [], 'user_mentions': [], 'urls': [{'url': 'https://t.co/kkhepdwIkK', 'expanded_url': 'https://twitter.com/karaswisher/...</td>\n",
       "      <td>NaN</td>\n",
       "      <td>15847</td>\n",
       "      <td>False</td>\n",
       "      <td>None</td>\n",
       "      <td>869995866848772096</td>\n",
       "      <td>869995866848772096</td>\n",
       "      <td>...</td>\n",
       "      <td>{'created_at': 'Wed May 31 15:43:17 +0000 2017', 'id': 869942364869074945, 'id_str': '869942364869074945', 'text': 'How to watch Hillary Clinton l...</td>\n",
       "      <td>8.699424e+17</td>\n",
       "      <td>869942364869074945</td>\n",
       "      <td>2415</td>\n",
       "      <td>False</td>\n",
       "      <td>NaN</td>\n",
       "      <td>Twitter for iPhone</td>\n",
       "      <td>Going on stage now, watch live! https://t.co/kkhepdwIkK</td>\n",
       "      <td>False</td>\n",
       "      <td>{'id': 1339835893, 'id_str': '1339835893', 'name': 'Hillary Clinton', 'screen_name': 'HillaryClinton', 'location': 'New York, NY', 'description': ...</td>\n",
       "    </tr>\n",
       "    <tr>\n",
       "      <th>4</th>\n",
       "      <td>None</td>\n",
       "      <td>None</td>\n",
       "      <td>Mon May 29 16:59:50 +0000 2017</td>\n",
       "      <td>{'hashtags': [], 'symbols': [], 'user_mentions': [], 'urls': [{'url': 'https://t.co/NJMFNxqtsK', 'expanded_url': 'https://twitter.com/i/web/status...</td>\n",
       "      <td>NaN</td>\n",
       "      <td>78627</td>\n",
       "      <td>False</td>\n",
       "      <td>None</td>\n",
       "      <td>869236854016573440</td>\n",
       "      <td>869236854016573440</td>\n",
       "      <td>...</td>\n",
       "      <td>NaN</td>\n",
       "      <td>NaN</td>\n",
       "      <td>NaN</td>\n",
       "      <td>12252</td>\n",
       "      <td>False</td>\n",
       "      <td>NaN</td>\n",
       "      <td>Twitter for iPhone</td>\n",
       "      <td>A rainy but wonderful morning march in the Chappaqua Memorial Day Parade. Thinking of our veterans who gave their l… https://t.co/NJMFNxqtsK</td>\n",
       "      <td>True</td>\n",
       "      <td>{'id': 1339835893, 'id_str': '1339835893', 'name': 'Hillary Clinton', 'screen_name': 'HillaryClinton', 'location': 'New York, NY', 'description': ...</td>\n",
       "    </tr>\n",
       "  </tbody>\n",
       "</table>\n",
       "<p>5 rows × 29 columns</p>\n",
       "</div>"
      ],
      "text/plain": [
       "  contributors coordinates                      created_at  \\\n",
       "0         None        None  Sat Jun 03 03:08:26 +0000 2017   \n",
       "1         None        None  Thu Jun 01 23:38:34 +0000 2017   \n",
       "2         None        None  Thu Jun 01 01:30:20 +0000 2017   \n",
       "3         None        None  Wed May 31 19:15:53 +0000 2017   \n",
       "4         None        None  Mon May 29 16:59:50 +0000 2017   \n",
       "\n",
       "                                                                                                                                                entities  \\\n",
       "0  {'hashtags': [], 'symbols': [], 'user_mentions': [], 'urls': [{'url': 'https://t.co/Hhp1lVF25Z', 'expanded_url': 'https://twitter.com/i/web/status...   \n",
       "1                                                                                       {'hashtags': [], 'symbols': [], 'user_mentions': [], 'urls': []}   \n",
       "2  {'hashtags': [], 'symbols': [], 'user_mentions': [], 'urls': [{'url': 'https://t.co/M7oK5Z6qwF', 'expanded_url': 'https://twitter.com/realdonaldtr...   \n",
       "3  {'hashtags': [], 'symbols': [], 'user_mentions': [], 'urls': [{'url': 'https://t.co/kkhepdwIkK', 'expanded_url': 'https://twitter.com/karaswisher/...   \n",
       "4  {'hashtags': [], 'symbols': [], 'user_mentions': [], 'urls': [{'url': 'https://t.co/NJMFNxqtsK', 'expanded_url': 'https://twitter.com/i/web/status...   \n",
       "\n",
       "  extended_entities  favorite_count  favorited   geo                  id  \\\n",
       "0               NaN           22345      False  None  870839564914634760   \n",
       "1               NaN          213646      False  None  870424360959528960   \n",
       "2               NaN          708948      False  None  870090101765931008   \n",
       "3               NaN           15847      False  None  869995866848772096   \n",
       "4               NaN           78627      False  None  869236854016573440   \n",
       "\n",
       "               id_str  \\\n",
       "0  870839564914634760   \n",
       "1  870424360959528960   \n",
       "2  870090101765931008   \n",
       "3  869995866848772096   \n",
       "4  869236854016573440   \n",
       "\n",
       "                                                                           ...                                                                            \\\n",
       "0                                                                          ...                                                                             \n",
       "1                                                                          ...                                                                             \n",
       "2                                                                          ...                                                                             \n",
       "3                                                                          ...                                                                             \n",
       "4                                                                          ...                                                                             \n",
       "\n",
       "                                                                                                                                           quoted_status  \\\n",
       "0  {'created_at': 'Fri Jun 02 17:20:47 +0000 2017', 'id': 870691680130695169, 'id_str': '870691680130695169', 'text': 'Today and everyday honored to ...   \n",
       "1                                                                                                                                                    NaN   \n",
       "2  {'created_at': 'Thu Jun 01 00:40:01 +0000 2017', 'id': 870077441401905152, 'id_str': '870077441401905152', 'text': 'Crooked Hillary Clinton now bl...   \n",
       "3  {'created_at': 'Wed May 31 15:43:17 +0000 2017', 'id': 869942364869074945, 'id_str': '869942364869074945', 'text': 'How to watch Hillary Clinton l...   \n",
       "4                                                                                                                                                    NaN   \n",
       "\n",
       "   quoted_status_id quoted_status_id_str  retweet_count retweeted  \\\n",
       "0      8.706917e+17   870691680130695169           4200     False   \n",
       "1               NaN                  NaN          58197     False   \n",
       "2      8.700774e+17   870077441401905152         314231     False   \n",
       "3      8.699424e+17   869942364869074945           2415     False   \n",
       "4               NaN                  NaN          12252     False   \n",
       "\n",
       "   retweeted_status              source  \\\n",
       "0               NaN  Twitter for iPhone   \n",
       "1               NaN  Twitter for iPhone   \n",
       "2               NaN  Twitter for iPhone   \n",
       "3               NaN  Twitter for iPhone   \n",
       "4               NaN  Twitter for iPhone   \n",
       "\n",
       "                                                                                                                                                  text  \\\n",
       "0  Today we remember Hadiya, &amp; all victims of gun violence. Proud of these young dynamos &amp; all those committed to the… https://t.co/Hhp1lVF25Z   \n",
       "1          A historic mistake. The world is moving forward together on climate change. Paris withdrawal leaves American workers &amp; families behind.   \n",
       "2                                                                            People in covfefe houses shouldn't throw covfefe. https://t.co/M7oK5Z6qwF   \n",
       "3                                                                                              Going on stage now, watch live! https://t.co/kkhepdwIkK   \n",
       "4         A rainy but wonderful morning march in the Chappaqua Memorial Day Parade. Thinking of our veterans who gave their l… https://t.co/NJMFNxqtsK   \n",
       "\n",
       "  truncated  \\\n",
       "0      True   \n",
       "1     False   \n",
       "2     False   \n",
       "3     False   \n",
       "4      True   \n",
       "\n",
       "                                                                                                                                                    user  \n",
       "0  {'id': 1339835893, 'id_str': '1339835893', 'name': 'Hillary Clinton', 'screen_name': 'HillaryClinton', 'location': 'New York, NY', 'description': ...  \n",
       "1  {'id': 1339835893, 'id_str': '1339835893', 'name': 'Hillary Clinton', 'screen_name': 'HillaryClinton', 'location': 'New York, NY', 'description': ...  \n",
       "2  {'id': 1339835893, 'id_str': '1339835893', 'name': 'Hillary Clinton', 'screen_name': 'HillaryClinton', 'location': 'New York, NY', 'description': ...  \n",
       "3  {'id': 1339835893, 'id_str': '1339835893', 'name': 'Hillary Clinton', 'screen_name': 'HillaryClinton', 'location': 'New York, NY', 'description': ...  \n",
       "4  {'id': 1339835893, 'id_str': '1339835893', 'name': 'Hillary Clinton', 'screen_name': 'HillaryClinton', 'location': 'New York, NY', 'description': ...  \n",
       "\n",
       "[5 rows x 29 columns]"
      ]
     },
     "execution_count": 190,
     "metadata": {},
     "output_type": "execute_result"
    }
   ],
   "source": [
    "# The next line causes Pandas to display all the characters\n",
    "# from each tweet when the table is printed, for more\n",
    "# convenient reading.  Comment it out if you don't want it.\n",
    "pd.set_option('display.max_colwidth', 150)\n",
    "\n",
    "clinton_df.head()"
   ]
  },
  {
   "cell_type": "code",
   "execution_count": 191,
   "metadata": {
    "collapsed": false
   },
   "outputs": [
    {
     "name": "stdout",
     "output_type": "stream",
     "text": [
      "~~~~~~~~~~~~~~~~~~~~~~~~~~~~~~~~~~~~~~~~~~~~~~~~~~~~~~~~~~~~~~~~~~~~~\n",
      "Running tests\n",
      "\n",
      "---------------------------------------------------------------------\n",
      "Test summary\n",
      "    Passed: 1\n",
      "    Failed: 0\n",
      "[ooooooooook] 100.0% passed\n",
      "\n"
     ]
    },
    {
     "data": {
      "application/javascript": [
       "IPython.notebook.save_checkpoint();"
      ],
      "text/plain": [
       "<IPython.core.display.Javascript object>"
      ]
     },
     "metadata": {},
     "output_type": "display_data"
    },
    {
     "data": {
      "application/javascript": [
       "IPython.notebook.save_notebook();"
      ],
      "text/plain": [
       "<IPython.core.display.Javascript object>"
      ]
     },
     "metadata": {},
     "output_type": "display_data"
    },
    {
     "name": "stdout",
     "output_type": "stream",
     "text": [
      "Saving notebook... Could not save your notebook. Make sure your notebook is saved before sending it to OK!\n",
      "Backup... 0.0% complete\r",
      "Backup... 100% complete\n",
      "Backup successful for user: doomsplayer@gmail.com\n",
      "\n"
     ]
    }
   ],
   "source": [
    "_ = ok.grade('q05')\n",
    "_ = ok.backup()"
   ]
  },
  {
   "cell_type": "markdown",
   "metadata": {},
   "source": [
    "## Tweetsourcing\n",
    "Now that the preliminaries are done, we can do what we set out to do: Try to distinguish between Clinton's own tweets and her aides'."
   ]
  },
  {
   "cell_type": "markdown",
   "metadata": {},
   "source": [
    "#### Question 6\n",
    "Create a plot showing how many tweets came from each kind of source.  For a real challenge, try using the Pandas documentation and Google to figure out how to do this.  Otherwise, hints are provided.\n",
    "\n",
    "*Hint:* Start by grouping the data by source.  `df['source'].value_counts()` will create an object called a Series (which is like a table that contains exactly 2 columns, where one column is called the *index*).  You can create a version of that Series that's sorted by source (in this case, in alphabetical order) by calling `sort_index()` on it.\n",
    "\n",
    "*Hint 2:* To generate a bar plot from a Series `s`, call `s.plot.barh()`.  You can also use `matplotlib`'s [`plt.barh`](http://matplotlib.org/api/pyplot_api.html#matplotlib.pyplot.barh), but it's a little bit complicated to use."
   ]
  },
  {
   "cell_type": "code",
   "execution_count": 192,
   "metadata": {
    "collapsed": false
   },
   "outputs": [
    {
     "data": {
      "text/plain": [
       "<matplotlib.axes._subplots.AxesSubplot at 0x1179394a8>"
      ]
     },
     "execution_count": 192,
     "metadata": {},
     "output_type": "execute_result"
    },
    {
     "data": {
      "image/png": "[encoded data removed]",
      "text/plain": [
       "<matplotlib.figure.Figure at 0x1174fa358>"
      ]
     },
     "metadata": {},
     "output_type": "display_data"
    }
   ],
   "source": [
    "clinton_df.source.value_counts().plot.barh()"
   ]
  },
  {
   "cell_type": "markdown",
   "metadata": {},
   "source": [
    "You should find that most tweets come from [TweetDeck](https://tweetdeck.twitter.com)."
   ]
  },
  {
   "cell_type": "markdown",
   "metadata": {},
   "source": [
    "#### Question 7\n",
    "Filter `clinton_df` to examine some tweets from TweetDeck and a few from the next-most-used platform.  From examining only a few tweets (say 10 from each category), can you tell whether Clinton's personal tweets are limited to one platform?\n",
    "\n",
    "*Hint:* If `df` is a DataFrame and `filter_array` is an array of booleans of the same length, then `df[filter_array]` is a new DataFrame containing only the rows in `df` corresponding to `True` values in `filter_array`."
   ]
  },
  {
   "cell_type": "code",
   "execution_count": 193,
   "metadata": {
    "collapsed": true,
    "for_assignment_type": "student"
   },
   "outputs": [
    {
     "data": {
      "text/plain": [
       "1909            In light of @kurteichenwald's report on the Trump Organization's dangerous ties, here are 20 questions that Trump needs to answer—now.\n",
       "2519                                  Unlike Donald Trump's, our campaign is about issues—not insults. https://t.co/puVZP5iFRE https://t.co/pB0DcV1TeP\n",
       "1959    We’ll make in-state colleges and universities tuition-free for families making under $125,000/year.\\n\\nThat'll help more than 80% of families.\n",
       "1843         \"You’re not intruders. You’re our neighbors, our colleagues, our friends, our families...I see you, and I am with you.\" —Hillary to @CHCI\n",
       "326                               This election isn’t just about who Trump is—it’s about who WE are.\\n\\nAre you ready to vote? https://t.co/3TKJ4H68Kz\n",
       "769                                           RT @MotherJones: Hillary Clinton eviscerated Trump on abortion during the debate https://t.co/tbApmYn7Cs\n",
       "1497      “She gained about 55 pounds in...9 months. She was like an eating machine.” —Trump, a man who wants to be president: https://t.co/1ht91eZCyw\n",
       "812                     Trump doesn't know what he's talking about when it comes to women's health. He shouldn't be making the decisions. #DebateNight\n",
       "2277                        Trump refused to disavow the support of David Duke, a notorious former leader of the Ku Klux Klan. https://t.co/PD8bNwuS3c\n",
       "2662                 All Kauveri wanted for her seventh birthday was to meet Hillary (and a Star Wars Lego set). She got both! https://t.co/d0yNvue7LH\n",
       "Name: text, dtype: object"
      ]
     },
     "execution_count": 193,
     "metadata": {},
     "output_type": "execute_result"
    }
   ],
   "source": [
    "# Do your analysis, then write your conclusions in a brief comment.\n",
    "clinton_df[clinton_df.source == \"TweetDeck\"].text.sample(n=10)\n"
   ]
  },
  {
   "cell_type": "code",
   "execution_count": 194,
   "metadata": {},
   "outputs": [
    {
     "data": {
      "text/plain": [
       "1726                                        We have a Republican nominee for president who incites hatred and violence like we’ve never seen before.\n",
       "1746               Grateful for our brave men and women serving in the @USAirForce and their families. Happy birthday, USAF! https://t.co/xYebpm9NaN\n",
       "1688                                                                  Keith Lamont Scott. Terence Crutcher. Too many others. This has got to end. -H\n",
       "1729                         We can build a cleaner, more resilient electrical grid with enough renewable energy to power every home in the country.\n",
       "2483           Trump wants America to work for him and his friends.\\n\\nWe need to build an economy that works for everyone.\\nhttps://t.co/p0bpzITUpv\n",
       "2038                                The next time Donald Trump throws a temper tantrum, imagine if he had the nuclear codes. https://t.co/m11adVj9v8\n",
       "365     RT @dougmillsnyt: .@HillaryClinton at  the Arizona Democratic Party Early Vote Rally at  Arizona State University in Tempe, Arizona. https:…\n",
       "203                  RT @XochitlHinojosa: In FL, over 1 million Latino voters have cast ballots early --  approximately doubled from 2012.  Amazing.\n",
       "2293                                 There's a reason the most hateful fringe of the right wing is supporting Donald Trump.\\nhttps://t.co/AqB3DM2m0N\n",
       "228                                            RT @dougmillsnyt: .@HillaryClinton with @KingJames in Cleveland Ohio. #voting https://t.co/QYkNfmYcOh\n",
       "Name: text, dtype: object"
      ]
     },
     "execution_count": 194,
     "metadata": {},
     "output_type": "execute_result"
    }
   ],
   "source": [
    "clinton_df[clinton_df.source == \"Twitter Web Client\"].text.sample(n=10)"
   ]
  },
  {
   "cell_type": "code",
   "execution_count": 195,
   "metadata": {},
   "outputs": [
    {
     "data": {
      "text/plain": [
       "<matplotlib.axes._subplots.AxesSubplot at 0x107da4160>"
      ]
     },
     "execution_count": 195,
     "metadata": {},
     "output_type": "execute_result"
    },
    {
     "data": {
      "image/png": "[encoded data removed]",
      "text/plain": [
       "<matplotlib.figure.Figure at 0x10c0a3dd8>"
      ]
     },
     "metadata": {},
     "output_type": "display_data"
    }
   ],
   "source": [
    "clinton_df[clinton_df.text.str.endswith(\"-H\")].source.value_counts().plot.barh()"
   ]
  },
  {
   "cell_type": "markdown",
   "metadata": {},
   "source": [
    "Ya, so as a consequence, we cannot tell."
   ]
  },
  {
   "cell_type": "markdown",
   "metadata": {},
   "source": [
    "## When in doubt, read...\n",
    "Check Hillary Clinton's [Twitter page](http://twitter.com/HillaryClinton).  It mentions an easy way to identify tweets by the candidate herself.  All other tweets are by her aides."
   ]
  },
  {
   "cell_type": "markdown",
   "metadata": {},
   "source": [
    "#### Question 8\n",
    "Write a function called `is_clinton` that takes a tweet (in JSON) as its argument and returns `True` for personal tweets by Clinton and `False` for tweets by her aides.  Use your function to create a column called `is_personal` in `clinton_df`.\n",
    "\n",
    "*Hint:* You might find the string method `endswith` helpful."
   ]
  },
  {
   "cell_type": "code",
   "execution_count": 196,
   "metadata": {
    "collapsed": true
   },
   "outputs": [],
   "source": [
    "def is_clinton(tweet):\n",
    "    \"\"\"Distinguishes between tweets by Clinton and tweets by her aides.\n",
    "    \n",
    "    Args:\n",
    "        tweet (Status): One tweet.\n",
    "    \n",
    "    Returns:\n",
    "        bool: True if the tweet is written by Clinton herself.\"\"\"\n",
    "    return tweet.text.endswith(\"-H\")\n",
    "\n",
    "clinton_df[\"is_personal\"] = list(is_clinton(x) for x in clinton_tweets)"
   ]
  },
  {
   "cell_type": "markdown",
   "metadata": {},
   "source": [
    "Now we have identified Clinton's personal tweets.  Let us return to our analysis of sources and see if there was any pattern we could have found.\n",
    "\n",
    "You may recall that Tables from Data 8 have a method called `pivot`, which is useful for cross-classifying a dataset on two categorical attrbiutes.  DataFrames support a more complicated version of pivoting.  The cell below pivots `clinton_df` for you."
   ]
  },
  {
   "cell_type": "code",
   "execution_count": 197,
   "metadata": {
    "collapsed": false
   },
   "outputs": [
    {
     "data": {
      "text/html": [
       "<div>\n",
       "<style>\n",
       "    .dataframe thead tr:only-child th {\n",
       "        text-align: right;\n",
       "    }\n",
       "\n",
       "    .dataframe thead th {\n",
       "        text-align: left;\n",
       "    }\n",
       "\n",
       "    .dataframe tbody tr th {\n",
       "        vertical-align: top;\n",
       "    }\n",
       "</style>\n",
       "<table border=\"1\" class=\"dataframe\">\n",
       "  <thead>\n",
       "    <tr style=\"text-align: right;\">\n",
       "      <th>is_personal</th>\n",
       "      <th>False</th>\n",
       "      <th>True</th>\n",
       "    </tr>\n",
       "    <tr>\n",
       "      <th>source</th>\n",
       "      <th></th>\n",
       "      <th></th>\n",
       "    </tr>\n",
       "  </thead>\n",
       "  <tbody>\n",
       "    <tr>\n",
       "      <th>Media Studio</th>\n",
       "      <td>207</td>\n",
       "      <td>0</td>\n",
       "    </tr>\n",
       "    <tr>\n",
       "      <th>TweetDeck</th>\n",
       "      <td>2373</td>\n",
       "      <td>30</td>\n",
       "    </tr>\n",
       "    <tr>\n",
       "      <th>Twitter Web Client</th>\n",
       "      <td>463</td>\n",
       "      <td>14</td>\n",
       "    </tr>\n",
       "    <tr>\n",
       "      <th>Twitter for iPhone</th>\n",
       "      <td>138</td>\n",
       "      <td>6</td>\n",
       "    </tr>\n",
       "  </tbody>\n",
       "</table>\n",
       "</div>"
      ],
      "text/plain": [
       "is_personal         False  True\n",
       "source                         \n",
       "Media Studio          207     0\n",
       "TweetDeck            2373    30\n",
       "Twitter Web Client    463    14\n",
       "Twitter for iPhone    138     6"
      ]
     },
     "execution_count": 197,
     "metadata": {},
     "output_type": "execute_result"
    }
   ],
   "source": [
    "# This cell is filled in for you; just run it and examine the output.\n",
    "def pivot_count(df, vertical_column, horizontal_column):\n",
    "    \"\"\"Cross-classifies df on two columns.\"\"\"\n",
    "    pivoted = pd.pivot_table(df[[vertical_column, horizontal_column]], index=[vertical_column], columns=[horizontal_column], aggfunc=len, fill_value=0)\n",
    "    return pivoted.rename(columns={False: \"False\", True: \"True\"})\n",
    "\n",
    "clinton_pivoted = pivot_count(clinton_df, 'source', 'is_personal')\n",
    "clinton_pivoted"
   ]
  },
  {
   "cell_type": "markdown",
   "metadata": {},
   "source": [
    "Do Clinton and her aides have different \"signatures\" of tweet sources?  That is, for each tweet they send, does Clinton send tweets from each source with roughly the same frequency as her aides?  It's a little hard to tell from the pivoted table alone."
   ]
  },
  {
   "cell_type": "markdown",
   "metadata": {},
   "source": [
    "#### Question 9\n",
    "Create a visualization to facilitate that comparison.\n",
    "\n",
    "*Hint:* `df.plot.barh` works for DataFrames, too.  But think about what data you want to plot."
   ]
  },
  {
   "cell_type": "code",
   "execution_count": 198,
   "metadata": {
    "collapsed": true,
    "for_assignment_type": "student"
   },
   "outputs": [
    {
     "data": {
      "text/plain": [
       "<matplotlib.axes._subplots.AxesSubplot at 0x117780240>"
      ]
     },
     "execution_count": 198,
     "metadata": {},
     "output_type": "execute_result"
    },
    {
     "data": {
      "image/png": "[encoded data removed]",
      "text/plain": [
       "<matplotlib.figure.Figure at 0x1178f3dd8>"
      ]
     },
     "metadata": {},
     "output_type": "display_data"
    }
   ],
   "source": [
    "clinton_pivoted.plot.barh()"
   ]
  },
  {
   "cell_type": "markdown",
   "metadata": {},
   "source": [
    "You should see that there are some differences, but they aren't large.  Do we need to worry that the differences (or lack thereof) are just \"due to chance\"?\n",
    "\n",
    "Statistician Ani argues as follows:\n",
    "\n",
    "> \"The tweets we see are not a random sample from anything.  We have simply gathered every tweet by @HillaryClinton from the last several months.  It is therefore meaningless to compute, for example, a confidence interval for the rate at which Clinton used TweetDeck.  We have calculated exactly that rate from the data we have.\"\n",
    "\n",
    "Statistician Belinda responds:\n",
    "\n",
    "> \"We are interested in whether Clinton and her aides *behave differently in general* with respect to Twitter client usage in a way that we could use to identify their tweets.  It's plausible to imagine that the tweets we see are a random sample from a huge unobserved population of all the tweets Clinton and her aides *might send*.  We must worry about error due to random chance when we draw conclusions about this population using only the data we have available.\""
   ]
  },
  {
   "cell_type": "markdown",
   "metadata": {},
   "source": [
    "#### Question 10\n",
    "What position would you take on this question?  Choose a side and give one (brief) argument for it, or argue for some third position."
   ]
  },
  {
   "cell_type": "markdown",
   "metadata": {},
   "source": [
    "I agree with Ani, which is because, we already have got the population, doing statistical inference here doesn't make sense."
   ]
  },
  {
   "cell_type": "markdown",
   "metadata": {},
   "source": [
    "#### Question 11\n",
    "Assume you are convinced by Belinda's argument.  Perform a statistical test of the null hypothesis that the Clinton and aide tweets' sources are all independent samples from the same distribution (that is, that the differences we observe are \"due to chance\").  Briefly describe the test methodology and report your results.\n",
    "\n",
    "*Hint:* If you need a refresher, [this section](https://www.inferentialthinking.com/chapters/16/1/two-categorical-distributions.html) of the Data 8 textbook from Fall 2016 covered this kind of hypothesis test.\n",
    "\n",
    "*Hint 2:* Feel free to use `datascience.Table` to answer this question.  However, it will be advantageous to learn how to do it with `numpy` alone.  In our solution, we used some `numpy` functions you might not be aware of: `np.append`, `np.random.permutation`, `np.bincount`, and `np.count_nonzero`.  We have provided the function `expand_counts`, which should help you solve a tricky problem that will arise."
   ]
  },
  {
   "cell_type": "code",
   "execution_count": 199,
   "metadata": {},
   "outputs": [
    {
     "data": {
      "text/plain": [
       "source\n",
       "Media Studio           0\n",
       "TweetDeck             30\n",
       "Twitter Web Client    14\n",
       "Twitter for iPhone     6\n",
       "Name: True, dtype: int64"
      ]
     },
     "execution_count": 199,
     "metadata": {},
     "output_type": "execute_result"
    }
   ],
   "source": [
    "clinton_pivoted['True']"
   ]
  },
  {
   "cell_type": "code",
   "execution_count": 200,
   "metadata": {
    "collapsed": true,
    "for_assignment_type": "student"
   },
   "outputs": [],
   "source": [
    "# Use this cell to perform your hypothesis test.\n",
    "\n",
    "# This function is provided for your convenience.  It's okay\n",
    "# if you don't use it.\n",
    "def expand_counts(source_counts):\n",
    "    \"\"\"'Blow up' a list/array of counts of categories into an array of\n",
    "    individuals matching the counts.  This is the inverse of np.bincount\n",
    "    (with some technical caveats: only if the order of the individuals\n",
    "    doesn't matter and each category has at least one count).\n",
    "    \n",
    "    For example, we can generate a list of two individuals of type 0,\n",
    "    four of type 1, zero of type 2, and one of type 3 as follows:\n",
    "    \n",
    "    >>> expand_counts([2, 4, 0, 1])\n",
    "    array([0, 0, 1, 1, 1, 1, 3])\"\"\"\n",
    "    return np.repeat(np.arange(len(source_counts)), source_counts)\n",
    "\n",
    "def tvd(sample0, sample1):\n",
    "    return 1/2*sum(np.abs(sample0/sum(sample0) - sample1/sum(sample1)))\n",
    "\n",
    "def testing(sample0, sample1, iter=100000):\n",
    "    first = expand_counts(sample0)\n",
    "    second = expand_counts(sample1)\n",
    "    population = np.append(first, second)\n",
    "    \n",
    "    tvds = []\n",
    "    for _ in range(iter):\n",
    "        shuffled = np.random.permutation(population)\n",
    "        a = np.bincount(shuffled[:len(first)], minlength=len(first))\n",
    "        b = np.bincount(shuffled[len(first):], minlength=len(first))\n",
    "        tvds.append(tvd(a,b))\n",
    "    \n",
    "    actual_tvd = tvd(sample0, sample1)\n",
    "    return np.count_nonzero(np.array(tvds) > actual_tvd) / iter\n"
   ]
  },
  {
   "cell_type": "code",
   "execution_count": 201,
   "metadata": {},
   "outputs": [
    {
     "data": {
      "text/plain": [
       "0.00133"
      ]
     },
     "execution_count": 201,
     "metadata": {},
     "output_type": "execute_result"
    }
   ],
   "source": [
    "testing(clinton_pivoted[\"True\"], clinton_pivoted[\"False\"], 100000)"
   ]
  },
  {
   "cell_type": "markdown",
   "metadata": {},
   "source": [
    "So as a result, the P value is too small that is against the null hypothesis. So we assume these two are obeying different distributions."
   ]
  },
  {
   "cell_type": "markdown",
   "metadata": {},
   "source": [
    "#### Question 12\n",
    "Suppose you sample a random @HillaryClinton tweet and find that it is from the Twitter Web Client.  Your visualization in question 9 should show you that Clinton tweets from this source about twice as frequently as her aides do, so you might imagine it's reasonable to predict that the tweet is by Clinton.  But what is the probability that the tweet is by Clinton?  (You should find a relatively small number.  Clinton's aides tweet much more than she does.  So even though there is a difference in their tweet source usage, it would be difficult to classify tweets this way.)\n",
    "\n",
    "*Hint:* Bayes' rule is covered in [this section](https://www.inferentialthinking.com/chapters/17/1/more-likely-than-not-binary-classifier.html) of the Data 8 textbook."
   ]
  },
  {
   "cell_type": "code",
   "execution_count": 202,
   "metadata": {
    "collapsed": false
   },
   "outputs": [
    {
     "data": {
      "text/plain": [
       "0.029350104821802937"
      ]
     },
     "execution_count": 202,
     "metadata": {},
     "output_type": "execute_result"
    }
   ],
   "source": [
    "wc = \"Twitter Web Client\"\n",
    "\n",
    "tweet_by_clinton_and_tweet_in_wc = clinton_pivoted[clinton_pivoted.index == wc][\"True\"].iloc[0] \n",
    "tweet_in_wc = clinton_pivoted[clinton_pivoted.index == wc].sum().sum()\n",
    "probability_clinton = tweet_by_clinton_and_tweet_in_wc / tweet_in_wc\n",
    "probability_clinton"
   ]
  },
  {
   "cell_type": "code",
   "execution_count": 203,
   "metadata": {
    "collapsed": false
   },
   "outputs": [
    {
     "name": "stdout",
     "output_type": "stream",
     "text": [
      "~~~~~~~~~~~~~~~~~~~~~~~~~~~~~~~~~~~~~~~~~~~~~~~~~~~~~~~~~~~~~~~~~~~~~\n",
      "Running tests\n",
      "\n",
      "---------------------------------------------------------------------\n",
      "Test summary\n",
      "    Passed: 1\n",
      "    Failed: 0\n",
      "[ooooooooook] 100.0% passed\n",
      "\n"
     ]
    },
    {
     "data": {
      "application/javascript": [
       "IPython.notebook.save_checkpoint();"
      ],
      "text/plain": [
       "<IPython.core.display.Javascript object>"
      ]
     },
     "metadata": {},
     "output_type": "display_data"
    },
    {
     "data": {
      "application/javascript": [
       "IPython.notebook.save_notebook();"
      ],
      "text/plain": [
       "<IPython.core.display.Javascript object>"
      ]
     },
     "metadata": {},
     "output_type": "display_data"
    },
    {
     "name": "stdout",
     "output_type": "stream",
     "text": [
      "Saving notebook... Could not save your notebook. Make sure your notebook is saved before sending it to OK!\n",
      "Backup... 0.0% complete\r",
      "Backup... 100% complete\n",
      "Backup successful for user: doomsplayer@gmail.com\n",
      "\n"
     ]
    }
   ],
   "source": [
    "_ = ok.grade('q12')\n",
    "_ = ok.backup()"
   ]
  },
  {
   "cell_type": "markdown",
   "metadata": {},
   "source": [
    "# Another candidate\n",
    "Our results so far aren't Earth-shattering.  Clinton uses different Twitter clients at slightly different rates than her aides.\n",
    "\n",
    "Now that we've categorized the tweets, we could of course investigate their contents.  A manual analysis (also known as \"reading\") might be interesting, but it is beyond the scope of this course.  And we'll have to wait a few more weeks before we can use a computer to help with such an analysis.\n",
    "\n",
    "Instead, let's repeat our analysis for Donald Trump."
   ]
  },
  {
   "cell_type": "markdown",
   "metadata": {},
   "source": [
    "#### Question 13\n",
    "Download the tweet data for Trump (@realDonaldTrump), and repeat the steps through question 6 to create a table called `trump_df`."
   ]
  },
  {
   "cell_type": "code",
   "execution_count": 204,
   "metadata": {
    "collapsed": true
   },
   "outputs": [],
   "source": [
    "trump_tweets = get_tweets_with_cache(\"realDonaldTrump\", \"keys.json\")\n",
    "trump_df = make_dataframe(trump_tweets)"
   ]
  },
  {
   "cell_type": "code",
   "execution_count": 205,
   "metadata": {
    "collapsed": false
   },
   "outputs": [
    {
     "data": {
      "text/html": [
       "<div>\n",
       "<style>\n",
       "    .dataframe thead tr:only-child th {\n",
       "        text-align: right;\n",
       "    }\n",
       "\n",
       "    .dataframe thead th {\n",
       "        text-align: left;\n",
       "    }\n",
       "\n",
       "    .dataframe tbody tr th {\n",
       "        vertical-align: top;\n",
       "    }\n",
       "</style>\n",
       "<table border=\"1\" class=\"dataframe\">\n",
       "  <thead>\n",
       "    <tr style=\"text-align: right;\">\n",
       "      <th></th>\n",
       "      <th>contributors</th>\n",
       "      <th>coordinates</th>\n",
       "      <th>created_at</th>\n",
       "      <th>entities</th>\n",
       "      <th>extended_entities</th>\n",
       "      <th>favorite_count</th>\n",
       "      <th>favorited</th>\n",
       "      <th>geo</th>\n",
       "      <th>id</th>\n",
       "      <th>id_str</th>\n",
       "      <th>...</th>\n",
       "      <th>quoted_status</th>\n",
       "      <th>quoted_status_id</th>\n",
       "      <th>quoted_status_id_str</th>\n",
       "      <th>retweet_count</th>\n",
       "      <th>retweeted</th>\n",
       "      <th>retweeted_status</th>\n",
       "      <th>source</th>\n",
       "      <th>text</th>\n",
       "      <th>truncated</th>\n",
       "      <th>user</th>\n",
       "    </tr>\n",
       "  </thead>\n",
       "  <tbody>\n",
       "    <tr>\n",
       "      <th>0</th>\n",
       "      <td>None</td>\n",
       "      <td>None</td>\n",
       "      <td>Sun Jun 04 11:43:30 +0000 2017</td>\n",
       "      <td>{'hashtags': [], 'symbols': [], 'user_mentions': [], 'urls': []}</td>\n",
       "      <td>NaN</td>\n",
       "      <td>115729</td>\n",
       "      <td>False</td>\n",
       "      <td>None</td>\n",
       "      <td>871331574649901056</td>\n",
       "      <td>871331574649901056</td>\n",
       "      <td>...</td>\n",
       "      <td>NaN</td>\n",
       "      <td>NaN</td>\n",
       "      <td>NaN</td>\n",
       "      <td>36588</td>\n",
       "      <td>False</td>\n",
       "      <td>NaN</td>\n",
       "      <td>Twitter for iPhone</td>\n",
       "      <td>Do you notice we are not having a gun debate right now? That's because they used knives and a truck!</td>\n",
       "      <td>False</td>\n",
       "      <td>{'id': 25073877, 'id_str': '25073877', 'name': 'Donald J. Trump', 'screen_name': 'realDonaldTrump', 'location': 'Washington, DC', 'description': '...</td>\n",
       "    </tr>\n",
       "    <tr>\n",
       "      <th>1</th>\n",
       "      <td>None</td>\n",
       "      <td>None</td>\n",
       "      <td>Sun Jun 04 11:31:00 +0000 2017</td>\n",
       "      <td>{'hashtags': [], 'symbols': [], 'user_mentions': [], 'urls': []}</td>\n",
       "      <td>NaN</td>\n",
       "      <td>119538</td>\n",
       "      <td>False</td>\n",
       "      <td>None</td>\n",
       "      <td>871328428963901440</td>\n",
       "      <td>871328428963901440</td>\n",
       "      <td>...</td>\n",
       "      <td>NaN</td>\n",
       "      <td>NaN</td>\n",
       "      <td>NaN</td>\n",
       "      <td>50437</td>\n",
       "      <td>False</td>\n",
       "      <td>NaN</td>\n",
       "      <td>Twitter for iPhone</td>\n",
       "      <td>At least 7 dead and 48 wounded in terror attack and Mayor of London says there is \"no reason to be alarmed!\"</td>\n",
       "      <td>False</td>\n",
       "      <td>{'id': 25073877, 'id_str': '25073877', 'name': 'Donald J. Trump', 'screen_name': 'realDonaldTrump', 'location': 'Washington, DC', 'description': '...</td>\n",
       "    </tr>\n",
       "    <tr>\n",
       "      <th>2</th>\n",
       "      <td>None</td>\n",
       "      <td>None</td>\n",
       "      <td>Sun Jun 04 11:19:47 +0000 2017</td>\n",
       "      <td>{'hashtags': [], 'symbols': [], 'user_mentions': [], 'urls': []}</td>\n",
       "      <td>NaN</td>\n",
       "      <td>164705</td>\n",
       "      <td>False</td>\n",
       "      <td>None</td>\n",
       "      <td>871325606901895168</td>\n",
       "      <td>871325606901895168</td>\n",
       "      <td>...</td>\n",
       "      <td>NaN</td>\n",
       "      <td>NaN</td>\n",
       "      <td>NaN</td>\n",
       "      <td>54402</td>\n",
       "      <td>False</td>\n",
       "      <td>NaN</td>\n",
       "      <td>Twitter for iPhone</td>\n",
       "      <td>We must stop being politically correct and get down to the business of security for our people. If we don't get smart it will only get worse</td>\n",
       "      <td>False</td>\n",
       "      <td>{'id': 25073877, 'id_str': '25073877', 'name': 'Donald J. Trump', 'screen_name': 'realDonaldTrump', 'location': 'Washington, DC', 'description': '...</td>\n",
       "    </tr>\n",
       "    <tr>\n",
       "      <th>3</th>\n",
       "      <td>None</td>\n",
       "      <td>None</td>\n",
       "      <td>Sat Jun 03 23:24:45 +0000 2017</td>\n",
       "      <td>{'hashtags': [], 'symbols': [], 'user_mentions': [], 'urls': []}</td>\n",
       "      <td>NaN</td>\n",
       "      <td>229976</td>\n",
       "      <td>False</td>\n",
       "      <td>None</td>\n",
       "      <td>871145660036378624</td>\n",
       "      <td>871145660036378624</td>\n",
       "      <td>...</td>\n",
       "      <td>NaN</td>\n",
       "      <td>NaN</td>\n",
       "      <td>NaN</td>\n",
       "      <td>60559</td>\n",
       "      <td>False</td>\n",
       "      <td>NaN</td>\n",
       "      <td>Twitter for iPhone</td>\n",
       "      <td>Whatever the United States can do to help out in London and the U. K., we will be there - WE ARE WITH YOU. GOD BLESS!</td>\n",
       "      <td>False</td>\n",
       "      <td>{'id': 25073877, 'id_str': '25073877', 'name': 'Donald J. Trump', 'screen_name': 'realDonaldTrump', 'location': 'Washington, DC', 'description': '...</td>\n",
       "    </tr>\n",
       "    <tr>\n",
       "      <th>4</th>\n",
       "      <td>None</td>\n",
       "      <td>None</td>\n",
       "      <td>Sat Jun 03 23:17:13 +0000 2017</td>\n",
       "      <td>{'hashtags': [], 'symbols': [], 'user_mentions': [], 'urls': []}</td>\n",
       "      <td>NaN</td>\n",
       "      <td>157078</td>\n",
       "      <td>False</td>\n",
       "      <td>None</td>\n",
       "      <td>871143765473406976</td>\n",
       "      <td>871143765473406976</td>\n",
       "      <td>...</td>\n",
       "      <td>NaN</td>\n",
       "      <td>NaN</td>\n",
       "      <td>NaN</td>\n",
       "      <td>49431</td>\n",
       "      <td>False</td>\n",
       "      <td>NaN</td>\n",
       "      <td>Twitter for iPhone</td>\n",
       "      <td>We need to be smart, vigilant and tough. We need the courts to give us back our rights. We need the Travel Ban as an extra level of safety!</td>\n",
       "      <td>False</td>\n",
       "      <td>{'id': 25073877, 'id_str': '25073877', 'name': 'Donald J. Trump', 'screen_name': 'realDonaldTrump', 'location': 'Washington, DC', 'description': '...</td>\n",
       "    </tr>\n",
       "  </tbody>\n",
       "</table>\n",
       "<p>5 rows × 29 columns</p>\n",
       "</div>"
      ],
      "text/plain": [
       "  contributors coordinates                      created_at  \\\n",
       "0         None        None  Sun Jun 04 11:43:30 +0000 2017   \n",
       "1         None        None  Sun Jun 04 11:31:00 +0000 2017   \n",
       "2         None        None  Sun Jun 04 11:19:47 +0000 2017   \n",
       "3         None        None  Sat Jun 03 23:24:45 +0000 2017   \n",
       "4         None        None  Sat Jun 03 23:17:13 +0000 2017   \n",
       "\n",
       "                                                           entities  \\\n",
       "0  {'hashtags': [], 'symbols': [], 'user_mentions': [], 'urls': []}   \n",
       "1  {'hashtags': [], 'symbols': [], 'user_mentions': [], 'urls': []}   \n",
       "2  {'hashtags': [], 'symbols': [], 'user_mentions': [], 'urls': []}   \n",
       "3  {'hashtags': [], 'symbols': [], 'user_mentions': [], 'urls': []}   \n",
       "4  {'hashtags': [], 'symbols': [], 'user_mentions': [], 'urls': []}   \n",
       "\n",
       "  extended_entities  favorite_count  favorited   geo                  id  \\\n",
       "0               NaN          115729      False  None  871331574649901056   \n",
       "1               NaN          119538      False  None  871328428963901440   \n",
       "2               NaN          164705      False  None  871325606901895168   \n",
       "3               NaN          229976      False  None  871145660036378624   \n",
       "4               NaN          157078      False  None  871143765473406976   \n",
       "\n",
       "               id_str  \\\n",
       "0  871331574649901056   \n",
       "1  871328428963901440   \n",
       "2  871325606901895168   \n",
       "3  871145660036378624   \n",
       "4  871143765473406976   \n",
       "\n",
       "                                                                           ...                                                                            \\\n",
       "0                                                                          ...                                                                             \n",
       "1                                                                          ...                                                                             \n",
       "2                                                                          ...                                                                             \n",
       "3                                                                          ...                                                                             \n",
       "4                                                                          ...                                                                             \n",
       "\n",
       "  quoted_status  quoted_status_id quoted_status_id_str  retweet_count  \\\n",
       "0           NaN               NaN                  NaN          36588   \n",
       "1           NaN               NaN                  NaN          50437   \n",
       "2           NaN               NaN                  NaN          54402   \n",
       "3           NaN               NaN                  NaN          60559   \n",
       "4           NaN               NaN                  NaN          49431   \n",
       "\n",
       "  retweeted  retweeted_status              source  \\\n",
       "0     False               NaN  Twitter for iPhone   \n",
       "1     False               NaN  Twitter for iPhone   \n",
       "2     False               NaN  Twitter for iPhone   \n",
       "3     False               NaN  Twitter for iPhone   \n",
       "4     False               NaN  Twitter for iPhone   \n",
       "\n",
       "                                                                                                                                           text  \\\n",
       "0                                          Do you notice we are not having a gun debate right now? That's because they used knives and a truck!   \n",
       "1                                  At least 7 dead and 48 wounded in terror attack and Mayor of London says there is \"no reason to be alarmed!\"   \n",
       "2  We must stop being politically correct and get down to the business of security for our people. If we don't get smart it will only get worse   \n",
       "3                         Whatever the United States can do to help out in London and the U. K., we will be there - WE ARE WITH YOU. GOD BLESS!   \n",
       "4   We need to be smart, vigilant and tough. We need the courts to give us back our rights. We need the Travel Ban as an extra level of safety!   \n",
       "\n",
       "  truncated  \\\n",
       "0     False   \n",
       "1     False   \n",
       "2     False   \n",
       "3     False   \n",
       "4     False   \n",
       "\n",
       "                                                                                                                                                    user  \n",
       "0  {'id': 25073877, 'id_str': '25073877', 'name': 'Donald J. Trump', 'screen_name': 'realDonaldTrump', 'location': 'Washington, DC', 'description': '...  \n",
       "1  {'id': 25073877, 'id_str': '25073877', 'name': 'Donald J. Trump', 'screen_name': 'realDonaldTrump', 'location': 'Washington, DC', 'description': '...  \n",
       "2  {'id': 25073877, 'id_str': '25073877', 'name': 'Donald J. Trump', 'screen_name': 'realDonaldTrump', 'location': 'Washington, DC', 'description': '...  \n",
       "3  {'id': 25073877, 'id_str': '25073877', 'name': 'Donald J. Trump', 'screen_name': 'realDonaldTrump', 'location': 'Washington, DC', 'description': '...  \n",
       "4  {'id': 25073877, 'id_str': '25073877', 'name': 'Donald J. Trump', 'screen_name': 'realDonaldTrump', 'location': 'Washington, DC', 'description': '...  \n",
       "\n",
       "[5 rows x 29 columns]"
      ]
     },
     "execution_count": 205,
     "metadata": {},
     "output_type": "execute_result"
    }
   ],
   "source": [
    "trump_df.head()"
   ]
  },
  {
   "cell_type": "markdown",
   "metadata": {},
   "source": [
    "#### Question 14\n",
    "Make a bar chart of the sources of Trump tweets."
   ]
  },
  {
   "cell_type": "code",
   "execution_count": 206,
   "metadata": {
    "collapsed": false
   },
   "outputs": [
    {
     "data": {
      "text/plain": [
       "<matplotlib.axes._subplots.AxesSubplot at 0x109ff1780>"
      ]
     },
     "execution_count": 206,
     "metadata": {},
     "output_type": "execute_result"
    },
    {
     "data": {
      "image/png": "[encoded data removed]",
      "text/plain": [
       "<matplotlib.figure.Figure at 0x118702048>"
      ]
     },
     "metadata": {},
     "output_type": "display_data"
    }
   ],
   "source": [
    "clinton_df.source.value_counts().plot.barh()"
   ]
  },
  {
   "cell_type": "markdown",
   "metadata": {},
   "source": [
    "You should find two major sources of tweets.\n",
    "\n",
    "It is reported (for example, in [this Gawker article](http://gawker.com/our-trump-twitter-bot-filters-out-donald-trumps-new-han-1783906386)) that Trump himself uses an Android phone (a Samsung Galaxy), while his aides use iPhones.  But Trump has not confirmed this.  Also, he has reportedly [switched phones](http://indiatoday.intoday.in/technology/story/which-phone-will-president-donald-trump-use-a-blackberry-that-cant-even-click-pics/1/862350.html) since his inauguration!  How might we verify whether this is a way to identify his tweets?\n",
    "\n",
    "A retweet is a tweet that replies to (or simply repeats) a tweet by another user.  Twitter provides several mechanisms for this, as explained in [this article](https://blog.hubspot.com/blog/tabid/6307/bid/27675/How-to-Retweet-the-Right-Way-in-4-Easy-Steps.aspx#sm.00001bz3cbt3sqe1kyf4eavc4lj9a).  However, Trump has an unusual way of retweeting: He simply adds the original sender's name to the original message, puts everything in quotes, and then adds his own comments at the end.\n",
    "\n",
    "For example, this is a tweet by user @melissa7889:\n",
    "\n",
    "        @realDonaldTrump @JRACKER33 you should run for president!\n",
    "\n",
    "Here is Trump's retweet of this, from 2013:\n",
    "\n",
    "        \"@melissa7889: @realDonaldTrump @JRACKER33 you should run for president!\" Thanks,very nice!\n",
    "\n",
    "Since 2015, the usual way of retweeting this message, and the method used by Trump's aides (but not Trump himself), would have been:\n",
    "\n",
    "        Thanks,very nice! RT @melissa7889: @realDonaldTrump @JRACKER33 you should run for president!"
   ]
  },
  {
   "cell_type": "markdown",
   "metadata": {},
   "source": [
    "#### Question 15\n",
    "Write a function to identify Trump-style retweets, and another function to identify the aide-style retweets.  Then, use them to create a function called `tweet_type` that takes a tweet as its argument and returns values `\"Trump retweet\"`, `\"Aide retweet\"`, and `\"Not a retweet\"` as appropriate.  Use your function to add a `'tweet_type'` column to `trump_df`.\n",
    "\n",
    "*Hint:* Try the string method `startswith` and the Python keyword `in`."
   ]
  },
  {
   "cell_type": "code",
   "execution_count": 207,
   "metadata": {
    "collapsed": true,
    "for_assignment_type": "student"
   },
   "outputs": [],
   "source": [
    "def is_trump_style_retweet(tweet_text):\n",
    "    \"\"\"Returns True if tweet_text looks like a Trump-style retweet.\"\"\"\n",
    "    return tweet_type(tweet_text) == \"Trump retweet\"\n",
    "    \n",
    "def is_aide_style_retweet(tweet_text):\n",
    "    \"\"\"Returns True if tweet_text looks like an aide-style retweet.\"\"\"\n",
    "    return tweet_type(tweet_text) == \"Aide retweet\"\n",
    "\n",
    "def tweet_type(tweet_text):\n",
    "    \"\"\"Returns \"Trump retweet\", \"Aide retweet\", or \"Not a retweet\"\n",
    "    as appropriate.\"\"\"\n",
    "    if tweet_text.startswith('\"@'):\n",
    "        return \"Trump retweet\"\n",
    "    elif \"RT\" in tweet_text:\n",
    "        return \"Aide retweet\"\n",
    "    else:\n",
    "        return \"Not a retweet\"\n",
    "\n",
    "trump_df['tweet_type'] = trump_df.text.map(tweet_type)"
   ]
  },
  {
   "cell_type": "code",
   "execution_count": 208,
   "metadata": {
    "collapsed": false
   },
   "outputs": [
    {
     "data": {
      "text/html": [
       "<div>\n",
       "<style>\n",
       "    .dataframe thead tr:only-child th {\n",
       "        text-align: right;\n",
       "    }\n",
       "\n",
       "    .dataframe thead th {\n",
       "        text-align: left;\n",
       "    }\n",
       "\n",
       "    .dataframe tbody tr th {\n",
       "        vertical-align: top;\n",
       "    }\n",
       "</style>\n",
       "<table border=\"1\" class=\"dataframe\">\n",
       "  <thead>\n",
       "    <tr style=\"text-align: right;\">\n",
       "      <th></th>\n",
       "      <th>contributors</th>\n",
       "      <th>coordinates</th>\n",
       "      <th>created_at</th>\n",
       "      <th>entities</th>\n",
       "      <th>extended_entities</th>\n",
       "      <th>favorite_count</th>\n",
       "      <th>favorited</th>\n",
       "      <th>geo</th>\n",
       "      <th>id</th>\n",
       "      <th>id_str</th>\n",
       "      <th>...</th>\n",
       "      <th>quoted_status_id</th>\n",
       "      <th>quoted_status_id_str</th>\n",
       "      <th>retweet_count</th>\n",
       "      <th>retweeted</th>\n",
       "      <th>retweeted_status</th>\n",
       "      <th>source</th>\n",
       "      <th>text</th>\n",
       "      <th>truncated</th>\n",
       "      <th>user</th>\n",
       "      <th>tweet_type</th>\n",
       "    </tr>\n",
       "  </thead>\n",
       "  <tbody>\n",
       "    <tr>\n",
       "      <th>0</th>\n",
       "      <td>None</td>\n",
       "      <td>None</td>\n",
       "      <td>Sun Jun 04 11:43:30 +0000 2017</td>\n",
       "      <td>{'hashtags': [], 'symbols': [], 'user_mentions': [], 'urls': []}</td>\n",
       "      <td>NaN</td>\n",
       "      <td>115729</td>\n",
       "      <td>False</td>\n",
       "      <td>None</td>\n",
       "      <td>871331574649901056</td>\n",
       "      <td>871331574649901056</td>\n",
       "      <td>...</td>\n",
       "      <td>NaN</td>\n",
       "      <td>NaN</td>\n",
       "      <td>36588</td>\n",
       "      <td>False</td>\n",
       "      <td>NaN</td>\n",
       "      <td>Twitter for iPhone</td>\n",
       "      <td>Do you notice we are not having a gun debate right now? That's because they used knives and a truck!</td>\n",
       "      <td>False</td>\n",
       "      <td>{'id': 25073877, 'id_str': '25073877', 'name': 'Donald J. Trump', 'screen_name': 'realDonaldTrump', 'location': 'Washington, DC', 'description': '...</td>\n",
       "      <td>Not a retweet</td>\n",
       "    </tr>\n",
       "    <tr>\n",
       "      <th>1</th>\n",
       "      <td>None</td>\n",
       "      <td>None</td>\n",
       "      <td>Sun Jun 04 11:31:00 +0000 2017</td>\n",
       "      <td>{'hashtags': [], 'symbols': [], 'user_mentions': [], 'urls': []}</td>\n",
       "      <td>NaN</td>\n",
       "      <td>119538</td>\n",
       "      <td>False</td>\n",
       "      <td>None</td>\n",
       "      <td>871328428963901440</td>\n",
       "      <td>871328428963901440</td>\n",
       "      <td>...</td>\n",
       "      <td>NaN</td>\n",
       "      <td>NaN</td>\n",
       "      <td>50437</td>\n",
       "      <td>False</td>\n",
       "      <td>NaN</td>\n",
       "      <td>Twitter for iPhone</td>\n",
       "      <td>At least 7 dead and 48 wounded in terror attack and Mayor of London says there is \"no reason to be alarmed!\"</td>\n",
       "      <td>False</td>\n",
       "      <td>{'id': 25073877, 'id_str': '25073877', 'name': 'Donald J. Trump', 'screen_name': 'realDonaldTrump', 'location': 'Washington, DC', 'description': '...</td>\n",
       "      <td>Not a retweet</td>\n",
       "    </tr>\n",
       "    <tr>\n",
       "      <th>2</th>\n",
       "      <td>None</td>\n",
       "      <td>None</td>\n",
       "      <td>Sun Jun 04 11:19:47 +0000 2017</td>\n",
       "      <td>{'hashtags': [], 'symbols': [], 'user_mentions': [], 'urls': []}</td>\n",
       "      <td>NaN</td>\n",
       "      <td>164705</td>\n",
       "      <td>False</td>\n",
       "      <td>None</td>\n",
       "      <td>871325606901895168</td>\n",
       "      <td>871325606901895168</td>\n",
       "      <td>...</td>\n",
       "      <td>NaN</td>\n",
       "      <td>NaN</td>\n",
       "      <td>54402</td>\n",
       "      <td>False</td>\n",
       "      <td>NaN</td>\n",
       "      <td>Twitter for iPhone</td>\n",
       "      <td>We must stop being politically correct and get down to the business of security for our people. If we don't get smart it will only get worse</td>\n",
       "      <td>False</td>\n",
       "      <td>{'id': 25073877, 'id_str': '25073877', 'name': 'Donald J. Trump', 'screen_name': 'realDonaldTrump', 'location': 'Washington, DC', 'description': '...</td>\n",
       "      <td>Not a retweet</td>\n",
       "    </tr>\n",
       "    <tr>\n",
       "      <th>3</th>\n",
       "      <td>None</td>\n",
       "      <td>None</td>\n",
       "      <td>Sat Jun 03 23:24:45 +0000 2017</td>\n",
       "      <td>{'hashtags': [], 'symbols': [], 'user_mentions': [], 'urls': []}</td>\n",
       "      <td>NaN</td>\n",
       "      <td>229976</td>\n",
       "      <td>False</td>\n",
       "      <td>None</td>\n",
       "      <td>871145660036378624</td>\n",
       "      <td>871145660036378624</td>\n",
       "      <td>...</td>\n",
       "      <td>NaN</td>\n",
       "      <td>NaN</td>\n",
       "      <td>60559</td>\n",
       "      <td>False</td>\n",
       "      <td>NaN</td>\n",
       "      <td>Twitter for iPhone</td>\n",
       "      <td>Whatever the United States can do to help out in London and the U. K., we will be there - WE ARE WITH YOU. GOD BLESS!</td>\n",
       "      <td>False</td>\n",
       "      <td>{'id': 25073877, 'id_str': '25073877', 'name': 'Donald J. Trump', 'screen_name': 'realDonaldTrump', 'location': 'Washington, DC', 'description': '...</td>\n",
       "      <td>Not a retweet</td>\n",
       "    </tr>\n",
       "    <tr>\n",
       "      <th>4</th>\n",
       "      <td>None</td>\n",
       "      <td>None</td>\n",
       "      <td>Sat Jun 03 23:17:13 +0000 2017</td>\n",
       "      <td>{'hashtags': [], 'symbols': [], 'user_mentions': [], 'urls': []}</td>\n",
       "      <td>NaN</td>\n",
       "      <td>157078</td>\n",
       "      <td>False</td>\n",
       "      <td>None</td>\n",
       "      <td>871143765473406976</td>\n",
       "      <td>871143765473406976</td>\n",
       "      <td>...</td>\n",
       "      <td>NaN</td>\n",
       "      <td>NaN</td>\n",
       "      <td>49431</td>\n",
       "      <td>False</td>\n",
       "      <td>NaN</td>\n",
       "      <td>Twitter for iPhone</td>\n",
       "      <td>We need to be smart, vigilant and tough. We need the courts to give us back our rights. We need the Travel Ban as an extra level of safety!</td>\n",
       "      <td>False</td>\n",
       "      <td>{'id': 25073877, 'id_str': '25073877', 'name': 'Donald J. Trump', 'screen_name': 'realDonaldTrump', 'location': 'Washington, DC', 'description': '...</td>\n",
       "      <td>Not a retweet</td>\n",
       "    </tr>\n",
       "  </tbody>\n",
       "</table>\n",
       "<p>5 rows × 30 columns</p>\n",
       "</div>"
      ],
      "text/plain": [
       "  contributors coordinates                      created_at  \\\n",
       "0         None        None  Sun Jun 04 11:43:30 +0000 2017   \n",
       "1         None        None  Sun Jun 04 11:31:00 +0000 2017   \n",
       "2         None        None  Sun Jun 04 11:19:47 +0000 2017   \n",
       "3         None        None  Sat Jun 03 23:24:45 +0000 2017   \n",
       "4         None        None  Sat Jun 03 23:17:13 +0000 2017   \n",
       "\n",
       "                                                           entities  \\\n",
       "0  {'hashtags': [], 'symbols': [], 'user_mentions': [], 'urls': []}   \n",
       "1  {'hashtags': [], 'symbols': [], 'user_mentions': [], 'urls': []}   \n",
       "2  {'hashtags': [], 'symbols': [], 'user_mentions': [], 'urls': []}   \n",
       "3  {'hashtags': [], 'symbols': [], 'user_mentions': [], 'urls': []}   \n",
       "4  {'hashtags': [], 'symbols': [], 'user_mentions': [], 'urls': []}   \n",
       "\n",
       "  extended_entities  favorite_count  favorited   geo                  id  \\\n",
       "0               NaN          115729      False  None  871331574649901056   \n",
       "1               NaN          119538      False  None  871328428963901440   \n",
       "2               NaN          164705      False  None  871325606901895168   \n",
       "3               NaN          229976      False  None  871145660036378624   \n",
       "4               NaN          157078      False  None  871143765473406976   \n",
       "\n",
       "               id_str      ...       quoted_status_id  quoted_status_id_str  \\\n",
       "0  871331574649901056      ...                    NaN                   NaN   \n",
       "1  871328428963901440      ...                    NaN                   NaN   \n",
       "2  871325606901895168      ...                    NaN                   NaN   \n",
       "3  871145660036378624      ...                    NaN                   NaN   \n",
       "4  871143765473406976      ...                    NaN                   NaN   \n",
       "\n",
       "  retweet_count  retweeted retweeted_status              source  \\\n",
       "0         36588      False              NaN  Twitter for iPhone   \n",
       "1         50437      False              NaN  Twitter for iPhone   \n",
       "2         54402      False              NaN  Twitter for iPhone   \n",
       "3         60559      False              NaN  Twitter for iPhone   \n",
       "4         49431      False              NaN  Twitter for iPhone   \n",
       "\n",
       "                                                                                                                                           text  \\\n",
       "0                                          Do you notice we are not having a gun debate right now? That's because they used knives and a truck!   \n",
       "1                                  At least 7 dead and 48 wounded in terror attack and Mayor of London says there is \"no reason to be alarmed!\"   \n",
       "2  We must stop being politically correct and get down to the business of security for our people. If we don't get smart it will only get worse   \n",
       "3                         Whatever the United States can do to help out in London and the U. K., we will be there - WE ARE WITH YOU. GOD BLESS!   \n",
       "4   We need to be smart, vigilant and tough. We need the courts to give us back our rights. We need the Travel Ban as an extra level of safety!   \n",
       "\n",
       "  truncated  \\\n",
       "0     False   \n",
       "1     False   \n",
       "2     False   \n",
       "3     False   \n",
       "4     False   \n",
       "\n",
       "                                                                                                                                                    user  \\\n",
       "0  {'id': 25073877, 'id_str': '25073877', 'name': 'Donald J. Trump', 'screen_name': 'realDonaldTrump', 'location': 'Washington, DC', 'description': '...   \n",
       "1  {'id': 25073877, 'id_str': '25073877', 'name': 'Donald J. Trump', 'screen_name': 'realDonaldTrump', 'location': 'Washington, DC', 'description': '...   \n",
       "2  {'id': 25073877, 'id_str': '25073877', 'name': 'Donald J. Trump', 'screen_name': 'realDonaldTrump', 'location': 'Washington, DC', 'description': '...   \n",
       "3  {'id': 25073877, 'id_str': '25073877', 'name': 'Donald J. Trump', 'screen_name': 'realDonaldTrump', 'location': 'Washington, DC', 'description': '...   \n",
       "4  {'id': 25073877, 'id_str': '25073877', 'name': 'Donald J. Trump', 'screen_name': 'realDonaldTrump', 'location': 'Washington, DC', 'description': '...   \n",
       "\n",
       "      tweet_type  \n",
       "0  Not a retweet  \n",
       "1  Not a retweet  \n",
       "2  Not a retweet  \n",
       "3  Not a retweet  \n",
       "4  Not a retweet  \n",
       "\n",
       "[5 rows x 30 columns]"
      ]
     },
     "execution_count": 208,
     "metadata": {},
     "output_type": "execute_result"
    }
   ],
   "source": [
    "trump_df.head()"
   ]
  },
  {
   "cell_type": "code",
   "execution_count": 209,
   "metadata": {
    "collapsed": false
   },
   "outputs": [
    {
     "name": "stdout",
     "output_type": "stream",
     "text": [
      "~~~~~~~~~~~~~~~~~~~~~~~~~~~~~~~~~~~~~~~~~~~~~~~~~~~~~~~~~~~~~~~~~~~~~\n",
      "Running tests\n",
      "\n",
      "---------------------------------------------------------------------\n",
      "Test summary\n",
      "    Passed: 1\n",
      "    Failed: 0\n",
      "[ooooooooook] 100.0% passed\n",
      "\n"
     ]
    },
    {
     "data": {
      "application/javascript": [
       "IPython.notebook.save_checkpoint();"
      ],
      "text/plain": [
       "<IPython.core.display.Javascript object>"
      ]
     },
     "metadata": {},
     "output_type": "display_data"
    },
    {
     "data": {
      "application/javascript": [
       "IPython.notebook.save_notebook();"
      ],
      "text/plain": [
       "<IPython.core.display.Javascript object>"
      ]
     },
     "metadata": {},
     "output_type": "display_data"
    },
    {
     "name": "stdout",
     "output_type": "stream",
     "text": [
      "Saving notebook... Could not save your notebook. Make sure your notebook is saved before sending it to OK!\n",
      "Backup... 0.0% complete\r",
      "Backup... 100% complete\n",
      "Backup successful for user: doomsplayer@gmail.com\n",
      "\n"
     ]
    }
   ],
   "source": [
    "_ = ok.grade('q15')\n",
    "_ = ok.backup()"
   ]
  },
  {
   "cell_type": "markdown",
   "metadata": {},
   "source": [
    "#### Question 16\n",
    "Cross-classify @realDonaldTrump tweets by `source` and by `tweet_type` into a table called `trump_pivoted`.\n",
    "\n",
    "*Hint:* We did something very similar after question 7.  You don't need to write much new code for this."
   ]
  },
  {
   "cell_type": "code",
   "execution_count": 210,
   "metadata": {
    "collapsed": false
   },
   "outputs": [
    {
     "data": {
      "text/html": [
       "<div>\n",
       "<style>\n",
       "    .dataframe thead tr:only-child th {\n",
       "        text-align: right;\n",
       "    }\n",
       "\n",
       "    .dataframe thead th {\n",
       "        text-align: left;\n",
       "    }\n",
       "\n",
       "    .dataframe tbody tr th {\n",
       "        vertical-align: top;\n",
       "    }\n",
       "</style>\n",
       "<table border=\"1\" class=\"dataframe\">\n",
       "  <thead>\n",
       "    <tr style=\"text-align: right;\">\n",
       "      <th>tweet_type</th>\n",
       "      <th>Aide retweet</th>\n",
       "      <th>Not a retweet</th>\n",
       "      <th>Trump retweet</th>\n",
       "    </tr>\n",
       "    <tr>\n",
       "      <th>source</th>\n",
       "      <th></th>\n",
       "      <th></th>\n",
       "      <th></th>\n",
       "    </tr>\n",
       "  </thead>\n",
       "  <tbody>\n",
       "    <tr>\n",
       "      <th>Instagram</th>\n",
       "      <td>0</td>\n",
       "      <td>1</td>\n",
       "      <td>0</td>\n",
       "    </tr>\n",
       "    <tr>\n",
       "      <th>Media Studio</th>\n",
       "      <td>0</td>\n",
       "      <td>2</td>\n",
       "      <td>0</td>\n",
       "    </tr>\n",
       "    <tr>\n",
       "      <th>Periscope</th>\n",
       "      <td>0</td>\n",
       "      <td>1</td>\n",
       "      <td>0</td>\n",
       "    </tr>\n",
       "    <tr>\n",
       "      <th>Twitter Ads</th>\n",
       "      <td>0</td>\n",
       "      <td>27</td>\n",
       "      <td>0</td>\n",
       "    </tr>\n",
       "    <tr>\n",
       "      <th>Twitter Web Client</th>\n",
       "      <td>39</td>\n",
       "      <td>196</td>\n",
       "      <td>0</td>\n",
       "    </tr>\n",
       "    <tr>\n",
       "      <th>Twitter for Android</th>\n",
       "      <td>10</td>\n",
       "      <td>1033</td>\n",
       "      <td>222</td>\n",
       "    </tr>\n",
       "    <tr>\n",
       "      <th>Twitter for iPad</th>\n",
       "      <td>3</td>\n",
       "      <td>19</td>\n",
       "      <td>0</td>\n",
       "    </tr>\n",
       "    <tr>\n",
       "      <th>Twitter for iPhone</th>\n",
       "      <td>170</td>\n",
       "      <td>1516</td>\n",
       "      <td>4</td>\n",
       "    </tr>\n",
       "  </tbody>\n",
       "</table>\n",
       "</div>"
      ],
      "text/plain": [
       "tweet_type           Aide retweet  Not a retweet  Trump retweet\n",
       "source                                                         \n",
       "Instagram                       0              1              0\n",
       "Media Studio                    0              2              0\n",
       "Periscope                       0              1              0\n",
       "Twitter Ads                     0             27              0\n",
       "Twitter Web Client             39            196              0\n",
       "Twitter for Android            10           1033            222\n",
       "Twitter for iPad                3             19              0\n",
       "Twitter for iPhone            170           1516              4"
      ]
     },
     "execution_count": 210,
     "metadata": {},
     "output_type": "execute_result"
    }
   ],
   "source": [
    "trump_pivoted = pivot_count(trump_df, \"source\", \"tweet_type\")\n",
    "trump_pivoted"
   ]
  },
  {
   "cell_type": "code",
   "execution_count": 211,
   "metadata": {
    "collapsed": false
   },
   "outputs": [
    {
     "name": "stdout",
     "output_type": "stream",
     "text": [
      "~~~~~~~~~~~~~~~~~~~~~~~~~~~~~~~~~~~~~~~~~~~~~~~~~~~~~~~~~~~~~~~~~~~~~\n",
      "Running tests\n",
      "\n",
      "---------------------------------------------------------------------\n",
      "Test summary\n",
      "    Passed: 1\n",
      "    Failed: 0\n",
      "[ooooooooook] 100.0% passed\n",
      "\n"
     ]
    },
    {
     "data": {
      "application/javascript": [
       "IPython.notebook.save_checkpoint();"
      ],
      "text/plain": [
       "<IPython.core.display.Javascript object>"
      ]
     },
     "metadata": {},
     "output_type": "display_data"
    },
    {
     "data": {
      "application/javascript": [
       "IPython.notebook.save_notebook();"
      ],
      "text/plain": [
       "<IPython.core.display.Javascript object>"
      ]
     },
     "metadata": {},
     "output_type": "display_data"
    },
    {
     "name": "stdout",
     "output_type": "stream",
     "text": [
      "Saving notebook... Could not save your notebook. Make sure your notebook is saved before sending it to OK!\n",
      "Backup... 0.0% complete\r",
      "Backup... 100% complete\n",
      "Backup successful for user: doomsplayer@gmail.com\n",
      "\n"
     ]
    }
   ],
   "source": [
    "_ = ok.grade('q16')\n",
    "_ = ok.backup()"
   ]
  },
  {
   "cell_type": "markdown",
   "metadata": {},
   "source": [
    "#### Question 17\n",
    "Does the cross-classified table show evidence against the hypothesis that Trump and his advisors tweet from roughly the same sources?  Again assuming you agree with Statistician Belinda, run an hypothesis test in the next cell to verify that there is a difference in the relevant distributions.  Then use the subsequent cell to describe your methodology and results.  Are there any important caveats?"
   ]
  },
  {
   "cell_type": "code",
   "execution_count": 212,
   "metadata": {
    "collapsed": false
   },
   "outputs": [
    {
     "data": {
      "text/plain": [
       "0.0"
      ]
     },
     "execution_count": 212,
     "metadata": {},
     "output_type": "execute_result"
    }
   ],
   "source": [
    "testing(trump_pivoted[\"Aide retweet\"], trump_pivoted[\"Trump retweet\"], 100000)"
   ]
  },
  {
   "cell_type": "markdown",
   "metadata": {},
   "source": [
    "We reject the null hypothesis which Trump and his aides behaves differently when retweeting because the P value is almostly 0."
   ]
  },
  {
   "cell_type": "markdown",
   "metadata": {},
   "source": [
    "We are really interested in knowing whether we can classify @realDonaldTrump tweets on the basis of the source.  Just knowing that there is a difference in source distributions isn't nearly enough.  Instead, we would like to claim something like this: \"@realDonaldTrump tweets from Twitter for Android are generally authored by Trump himself.  Other tweets are generally authored by his aides.\"\n",
    "\n",
    "#### Question 18\n",
    "If you use bootstrap methods to compute a confidence interval for the proportion of Trump aide retweets from Android phones in \"the population of all @realDonaldTrump retweets,\" you will find that the interval is [0, 0].  That's because there are no retweets from Android phones by Trump aides in our dataset.  Is it reasonable to conclude from this that Trump aides definitely never tweet from Android phones?"
   ]
  },
  {
   "cell_type": "markdown",
   "metadata": {},
   "source": [
    "Using bootstrap doesn't make any sense here. There's too few samples in the problem to we cannot make the conclusion at this moment"
   ]
  },
  {
   "cell_type": "markdown",
   "metadata": {},
   "source": [
    "# Submitting your assignment\n",
    "First, run the next cell to run all the tests at once."
   ]
  },
  {
   "cell_type": "code",
   "execution_count": 213,
   "metadata": {
    "collapsed": false
   },
   "outputs": [
    {
     "name": "stdout",
     "output_type": "stream",
     "text": [
      "~~~~~~~~~~~~~~~~~~~~~~~~~~~~~~~~~~~~~~~~~~~~~~~~~~~~~~~~~~~~~~~~~~~~~\n",
      "Running tests\n",
      "\n",
      "---------------------------------------------------------------------\n",
      "Test summary\n",
      "    Passed: 2\n",
      "    Failed: 0\n",
      "[ooooooooook] 100.0% passed\n",
      "\n",
      "~~~~~~~~~~~~~~~~~~~~~~~~~~~~~~~~~~~~~~~~~~~~~~~~~~~~~~~~~~~~~~~~~~~~~\n",
      "Running tests\n",
      "\n",
      "---------------------------------------------------------------------\n",
      "Test summary\n",
      "    Passed: 1\n",
      "    Failed: 0\n",
      "[ooooooooook] 100.0% passed\n",
      "\n",
      "~~~~~~~~~~~~~~~~~~~~~~~~~~~~~~~~~~~~~~~~~~~~~~~~~~~~~~~~~~~~~~~~~~~~~\n",
      "Running tests\n",
      "\n",
      "---------------------------------------------------------------------\n",
      "Test summary\n",
      "    Passed: 1\n",
      "    Failed: 0\n",
      "[ooooooooook] 100.0% passed\n",
      "\n",
      "~~~~~~~~~~~~~~~~~~~~~~~~~~~~~~~~~~~~~~~~~~~~~~~~~~~~~~~~~~~~~~~~~~~~~\n",
      "Running tests\n",
      "\n",
      "---------------------------------------------------------------------\n",
      "Test summary\n",
      "    Passed: 1\n",
      "    Failed: 0\n",
      "[ooooooooook] 100.0% passed\n",
      "\n",
      "~~~~~~~~~~~~~~~~~~~~~~~~~~~~~~~~~~~~~~~~~~~~~~~~~~~~~~~~~~~~~~~~~~~~~\n",
      "Running tests\n",
      "\n",
      "---------------------------------------------------------------------\n",
      "Test summary\n",
      "    Passed: 1\n",
      "    Failed: 0\n",
      "[ooooooooook] 100.0% passed\n",
      "\n",
      "~~~~~~~~~~~~~~~~~~~~~~~~~~~~~~~~~~~~~~~~~~~~~~~~~~~~~~~~~~~~~~~~~~~~~\n",
      "Running tests\n",
      "\n",
      "---------------------------------------------------------------------\n",
      "Test summary\n",
      "    Passed: 1\n",
      "    Failed: 0\n",
      "[ooooooooook] 100.0% passed\n",
      "\n"
     ]
    }
   ],
   "source": [
    "_ = ok.grade_all()"
   ]
  },
  {
   "cell_type": "markdown",
   "metadata": {},
   "source": [
    "Now, run this code in your terminal to make a\n",
    "[git commit](https://www.atlassian.com/git/tutorials/saving-changes/git-commit)\n",
    "that saves a snapshot of your changes in `git`. The last line of the cell\n",
    "runs [git push](http://stackoverflow.com/questions/2745076/what-are-the-differences-between-git-commit-and-git-push), which will send your work to your personal Github repo.\n",
    "\n",
    "**Note:** Don't add and commit your `keys.json` file!  `git add -A` will do that, but the code we've written below won't.\n",
    "\n",
    "    # Tell git to commit your changes to this notebook\n",
    "    git add sp17/hw/hw2/hw2.ipynb\n",
    "    \n",
    "    # Tell git to make the commit\n",
    "    git commit -m \"hw2 finished\"\n",
    "    \n",
    "    # Send your updates to your personal private repo\n",
    "    git push origin master\n",
    "\n",
    "Finally, we'll submit the assignment to OkPy so that the staff will know to grade it. You can submit as many times as you want, and you can choose which submission you want us to grade by going to https://okpy.org/cal/data100/sp17/."
   ]
  },
  {
   "cell_type": "code",
   "execution_count": 214,
   "metadata": {
    "collapsed": false
   },
   "outputs": [
    {
     "data": {
      "application/javascript": [
       "IPython.notebook.save_checkpoint();"
      ],
      "text/plain": [
       "<IPython.core.display.Javascript object>"
      ]
     },
     "metadata": {},
     "output_type": "display_data"
    },
    {
     "data": {
      "application/javascript": [
       "IPython.notebook.save_notebook();"
      ],
      "text/plain": [
       "<IPython.core.display.Javascript object>"
      ]
     },
     "metadata": {},
     "output_type": "display_data"
    },
    {
     "name": "stdout",
     "output_type": "stream",
     "text": [
      "Saving notebook... Could not save your notebook. Make sure your notebook is saved before sending it to OK!\n",
      "Backup... 0.0% complete\r",
      "Backup... 100% complete\n",
      "Backup successful for user: doomsplayer@gmail.com\n",
      "\n"
     ]
    }
   ],
   "source": [
    "# Now, we'll submit to okpy\n",
    "_ = ok.submit()"
   ]
  },
  {
   "cell_type": "markdown",
   "metadata": {},
   "source": [
    "Congratulations, you're done!\n",
    "\n",
    "We've only scratched the surface of this dataset.  Twitter is a rich source of data about language and social interaction, and not only for political figures.  Now you know how to access it!"
   ]
  }
 ],
 "metadata": {
  "anaconda-cloud": {},
  "kernelspec": {
   "display_name": "Python 3",
   "language": "python",
   "name": "python3"
  },
  "language_info": {
   "codemirror_mode": {
    "name": "ipython",
    "version": 3
   },
   "file_extension": ".py",
   "mimetype": "text/x-python",
   "name": "python",
   "nbconvert_exporter": "python",
   "pygments_lexer": "ipython3",
   "version": "3.6.1"
  }
 },
 "nbformat": 4,
 "nbformat_minor": 2
}
