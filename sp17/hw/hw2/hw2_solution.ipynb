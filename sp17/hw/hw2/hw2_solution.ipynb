{
 "cells": [
  {
   "cell_type": "markdown",
   "metadata": {},
   "source": [
    "# Homework 2: Language in the 2016 Presidential Election\n",
    "Popular figures often have help managing their media presence.  In the 2016 election, Twitter was an important communication medium for every major candidate.  Many Twitter posts posted by the top two candidates were actually written by their aides.  You might wonder how this affected the content or language of the tweets.\n",
    "\n",
    "In this assignment, we'll look at some of the patterns in tweets by the top two candidates, Clinton and Trump.  We'll start with Clinton.\n",
    "\n",
    "Along the way, you'll get a first look at Pandas.  Pandas is a Python package that provides a `DataFrame` data structure similar to the `datascience` package's `Table`, which you might remember from Data 8.  `DataFrame`s are a bit harder to use than `Table`s, but they provide more advanced functionality and are a standard tool for data analysis in Python."
   ]
  },
  {
   "cell_type": "markdown",
   "metadata": {},
   "source": [
    "Some of the analysis in this assignment is based on a [post by David Robinson](http://varianceexplained.org/r/trump-tweets/).  Feel free to read the post, but do not copy from it!  David's post is written in the `R` programming language, which is a favorite of many data analysts, especially academic statisticians.  Once you're done with your analysis, you may find it interesting to see whether `R` is easier to use for this task."
   ]
  },
  {
   "cell_type": "markdown",
   "metadata": {},
   "source": [
    "To start the assignment, run the cell below to set up some imports and the automatic tests."
   ]
  },
  {
   "cell_type": "code",
   "execution_count": 1,
   "metadata": {
    "collapsed": false,
    "scrolled": true
   },
   "outputs": [
    {
     "name": "stdout",
     "output_type": "stream",
     "text": [
      "/bin/sh: pip: command not found\r\n",
      "=====================================================================\n",
      "Assignment: Homework 2\n",
      "OK, version v1.11.1\n",
      "=====================================================================\n",
      "\n"
     ]
    }
   ],
   "source": [
    "import math\n",
    "import numpy as np\n",
    "import matplotlib\n",
    "%matplotlib inline\n",
    "import matplotlib.pyplot as plt\n",
    "\n",
    "!pip install -U okpy\n",
    "from client.api.notebook import Notebook\n",
    "ok = Notebook('hw2.ok')"
   ]
  },
  {
   "cell_type": "markdown",
   "metadata": {},
   "source": [
    "## Getting the dataset\n",
    "Since we'll be looking at Twitter data, we need to download the data from Twitter!\n",
    "\n",
    "Twitter provides an API for downloading tweet data in large batches.  The `tweepy` package makes it fairly easy to use."
   ]
  },
  {
   "cell_type": "markdown",
   "metadata": {},
   "source": [
    "#### Question 0\n",
    "Install `tweepy`, if you don't already have it.  (Be sure to activate your Conda environment for the class first.  Then run `pip install tweepy`.)"
   ]
  },
  {
   "cell_type": "markdown",
   "metadata": {},
   "source": [
    "There are instructions on using `tweepy` [here](http://tweepy.readthedocs.io/en/v3.5.0/getting_started.html), but we will give you example code.\n",
    "\n",
    "Twitter requires you to have authentication keys to access their API.  To get your keys, you'll have to sign up as a Twitter developer."
   ]
  },
  {
   "cell_type": "markdown",
   "metadata": {},
   "source": [
    "#### Question 1\n",
    "Follow these instructions to get your keys:\n",
    "\n",
    "1. [Create a Twitter account](https://twitter.com).  You can use an existing account if you have one.\n",
    "2. Under account settings, add your phone number to the account.\n",
    "3. [Create a Twitter developer account](https://dev.twitter.com/resources/signup).  Attach it to your Twitter account.\n",
    "4. Once you're logged into your developer account, [create an application for this assignment](https://apps.twitter.com/app/new).  You can call it whatever you want, and you can write any URL when it asks for a web site.\n",
    "5. On the page for that application, find your Consumer Key and Consumer Secret.\n",
    "6. On the same page, create an Access Token.  Record the resulting Access Token and Access Token Secret.\n",
    "7. Edit the file [keys.json](keys.json) and replace the placeholders with your keys.  Don't turn in that file."
   ]
  },
  {
   "cell_type": "markdown",
   "metadata": {},
   "source": [
    "## I AM AN IMPORTANT NOTE.  DO NOT SKIP ME.\n",
    "If someone has your authentication keys, they can access your Twitter account and post as you!  So don't give them to anyone, and **don't write them down in this notebook**.  The usual way to store sensitive information like this is to put it in a separate file and read it programmatically.  That way, you can share the rest of your code without sharing your keys.  That's why we're asking you to put your keys in `keys.json` for this assignment.\n",
    "\n",
    "## I AM A SECOND IMPORTANT NOTE.\n",
    "Twitter limits developers to a certain rate of requests for data.  If you make too many requests in a short period of time, you'll have to wait awhile (around 15 minutes) before you can make more.  So carefully follow the code examples you see and don't rerun cells without thinking.  Instead, always save the data you've collected to a file.  We've provided templates to help you do that."
   ]
  },
  {
   "cell_type": "markdown",
   "metadata": {},
   "source": [
    "In the example below, we have loaded some tweets by @BerkeleyData.  Run it, inspect the output, and read the code."
   ]
  },
  {
   "cell_type": "code",
   "execution_count": 2,
   "metadata": {
    "collapsed": false
   },
   "outputs": [],
   "source": [
    "ds_tweets_save_path = \"BerkeleyData_recent_tweets.pkl\"\n",
    "from pathlib import Path\n",
    "# Guarding against attempts to download the data multiple\n",
    "# times:\n",
    "if not Path(ds_tweets_save_path).is_file():\n",
    "    import json\n",
    "    # Loading your keys from keys.json (which you should have filled\n",
    "    # in in question 1):\n",
    "    with open(\"keys.json\") as f:\n",
    "        keys = json.load(f)\n",
    "\n",
    "    import tweepy\n",
    "\n",
    "    # Authenticating:\n",
    "    auth = tweepy.OAuthHandler(keys[\"consumer_key\"], keys[\"consumer_secret\"])\n",
    "    auth.set_access_token(keys[\"access_token\"], keys[\"access_token_secret\"])\n",
    "    api = tweepy.API(auth)\n",
    "\n",
    "    # Getting as many recent tweets by @BerkeleyData as Twitter will let us have:\n",
    "    example_tweets = list(tweepy.Cursor(api.user_timeline, id=\"BerkeleyData\").items())\n",
    "\n",
    "    # Saving the tweets to a file as \"pickled\" objects:\n",
    "    with open(ds_tweets_save_path, \"wb\") as f:\n",
    "        import pickle\n",
    "        pickle.dump(example_tweets, f)\n",
    "\n",
    "# Re-loading the results:\n",
    "with open(ds_tweets_save_path, \"rb\") as f:\n",
    "    import pickle\n",
    "    example_tweets = pickle.load(f)"
   ]
  },
  {
   "cell_type": "code",
   "execution_count": 3,
   "metadata": {
    "collapsed": false
   },
   "outputs": [
    {
     "data": {
      "text/plain": [
       "Status(_json={'created_at': 'Wed May 17 16:09:49 +0000 2017', 'id': 864875612669747200, 'id_str': '864875612669747200', 'text': 'Using Technology to Address Gender Bias in Film: Learn more, via Google: https://t.co/LXcSgwa0Yk #datascience', 'truncated': False, 'entities': {'hashtags': [{'text': 'datascience', 'indices': [97, 109]}], 'symbols': [], 'user_mentions': [], 'urls': [{'url': 'https://t.co/LXcSgwa0Yk', 'expanded_url': 'http://bit.ly/2m4bgfw', 'display_url': 'bit.ly/2m4bgfw', 'indices': [73, 96]}]}, 'source': '<a href=\"http://twitter.com\" rel=\"nofollow\">Twitter Web Client</a>', 'in_reply_to_status_id': None, 'in_reply_to_status_id_str': None, 'in_reply_to_user_id': None, 'in_reply_to_user_id_str': None, 'in_reply_to_screen_name': None, 'user': {'id': 1227698863, 'id_str': '1227698863', 'name': 'datascience@berkeley', 'screen_name': 'BerkeleyData', 'location': 'Berkeley, CA', 'description': 'An online Master of Information and Data Science (MIDS) degree from the UC Berkeley School of Information. Learn more at: http://t.co/zf6gfBWovQ', 'url': 'http://t.co/S79Ul3oCaa', 'entities': {'url': {'urls': [{'url': 'http://t.co/S79Ul3oCaa', 'expanded_url': 'http://datascience.berkeley.edu', 'display_url': 'datascience.berkeley.edu', 'indices': [0, 22]}]}, 'description': {'urls': [{'url': 'http://t.co/zf6gfBWovQ', 'expanded_url': 'http://bit.ly/tBerkeleyData', 'display_url': 'bit.ly/tBerkeleyData', 'indices': [122, 144]}]}}, 'protected': False, 'followers_count': 9540, 'friends_count': 403, 'listed_count': 450, 'created_at': 'Thu Feb 28 14:37:26 +0000 2013', 'favourites_count': 44, 'utc_offset': -14400, 'time_zone': 'Eastern Time (US & Canada)', 'geo_enabled': False, 'verified': False, 'statuses_count': 2172, 'lang': 'en', 'contributors_enabled': False, 'is_translator': False, 'is_translation_enabled': False, 'profile_background_color': 'CCCCCC', 'profile_background_image_url': 'http://pbs.twimg.com/profile_background_images/378800000096571211/5f9ba86a5d2b87c2c48544133c25b092.jpeg', 'profile_background_image_url_https': 'https://pbs.twimg.com/profile_background_images/378800000096571211/5f9ba86a5d2b87c2c48544133c25b092.jpeg', 'profile_background_tile': False, 'profile_image_url': 'http://pbs.twimg.com/profile_images/378800000146514422/6d9a5af0a0abb83d4cfe2d0ab2067ecb_normal.jpeg', 'profile_image_url_https': 'https://pbs.twimg.com/profile_images/378800000146514422/6d9a5af0a0abb83d4cfe2d0ab2067ecb_normal.jpeg', 'profile_banner_url': 'https://pbs.twimg.com/profile_banners/1227698863/1405953823', 'profile_link_color': '5173B6', 'profile_sidebar_border_color': 'FFFFFF', 'profile_sidebar_fill_color': 'DDEEF6', 'profile_text_color': '333333', 'profile_use_background_image': True, 'has_extended_profile': False, 'default_profile': False, 'default_profile_image': False, 'following': False, 'follow_request_sent': False, 'notifications': False, 'translator_type': 'none'}, 'geo': None, 'coordinates': None, 'place': None, 'contributors': None, 'is_quote_status': False, 'retweet_count': 4, 'favorite_count': 2, 'favorited': False, 'retweeted': False, 'possibly_sensitive': False, 'lang': 'en'}, created_at=datetime.datetime(2017, 5, 17, 16, 9, 49), id=864875612669747200, id_str='864875612669747200', text='Using Technology to Address Gender Bias in Film: Learn more, via Google: https://t.co/LXcSgwa0Yk #datascience', truncated=False, entities={'hashtags': [{'text': 'datascience', 'indices': [97, 109]}], 'symbols': [], 'user_mentions': [], 'urls': [{'url': 'https://t.co/LXcSgwa0Yk', 'expanded_url': 'http://bit.ly/2m4bgfw', 'display_url': 'bit.ly/2m4bgfw', 'indices': [73, 96]}]}, source='Twitter Web Client', source_url='http://twitter.com', in_reply_to_status_id=None, in_reply_to_status_id_str=None, in_reply_to_user_id=None, in_reply_to_user_id_str=None, in_reply_to_screen_name=None, author=User(_json={'id': 1227698863, 'id_str': '1227698863', 'name': 'datascience@berkeley', 'screen_name': 'BerkeleyData', 'location': 'Berkeley, CA', 'description': 'An online Master of Information and Data Science (MIDS) degree from the UC Berkeley School of Information. Learn more at: http://t.co/zf6gfBWovQ', 'url': 'http://t.co/S79Ul3oCaa', 'entities': {'url': {'urls': [{'url': 'http://t.co/S79Ul3oCaa', 'expanded_url': 'http://datascience.berkeley.edu', 'display_url': 'datascience.berkeley.edu', 'indices': [0, 22]}]}, 'description': {'urls': [{'url': 'http://t.co/zf6gfBWovQ', 'expanded_url': 'http://bit.ly/tBerkeleyData', 'display_url': 'bit.ly/tBerkeleyData', 'indices': [122, 144]}]}}, 'protected': False, 'followers_count': 9540, 'friends_count': 403, 'listed_count': 450, 'created_at': 'Thu Feb 28 14:37:26 +0000 2013', 'favourites_count': 44, 'utc_offset': -14400, 'time_zone': 'Eastern Time (US & Canada)', 'geo_enabled': False, 'verified': False, 'statuses_count': 2172, 'lang': 'en', 'contributors_enabled': False, 'is_translator': False, 'is_translation_enabled': False, 'profile_background_color': 'CCCCCC', 'profile_background_image_url': 'http://pbs.twimg.com/profile_background_images/378800000096571211/5f9ba86a5d2b87c2c48544133c25b092.jpeg', 'profile_background_image_url_https': 'https://pbs.twimg.com/profile_background_images/378800000096571211/5f9ba86a5d2b87c2c48544133c25b092.jpeg', 'profile_background_tile': False, 'profile_image_url': 'http://pbs.twimg.com/profile_images/378800000146514422/6d9a5af0a0abb83d4cfe2d0ab2067ecb_normal.jpeg', 'profile_image_url_https': 'https://pbs.twimg.com/profile_images/378800000146514422/6d9a5af0a0abb83d4cfe2d0ab2067ecb_normal.jpeg', 'profile_banner_url': 'https://pbs.twimg.com/profile_banners/1227698863/1405953823', 'profile_link_color': '5173B6', 'profile_sidebar_border_color': 'FFFFFF', 'profile_sidebar_fill_color': 'DDEEF6', 'profile_text_color': '333333', 'profile_use_background_image': True, 'has_extended_profile': False, 'default_profile': False, 'default_profile_image': False, 'following': False, 'follow_request_sent': False, 'notifications': False, 'translator_type': 'none'}, id=1227698863, id_str='1227698863', name='datascience@berkeley', screen_name='BerkeleyData', location='Berkeley, CA', description='An online Master of Information and Data Science (MIDS) degree from the UC Berkeley School of Information. Learn more at: http://t.co/zf6gfBWovQ', url='http://t.co/S79Ul3oCaa', entities={'url': {'urls': [{'url': 'http://t.co/S79Ul3oCaa', 'expanded_url': 'http://datascience.berkeley.edu', 'display_url': 'datascience.berkeley.edu', 'indices': [0, 22]}]}, 'description': {'urls': [{'url': 'http://t.co/zf6gfBWovQ', 'expanded_url': 'http://bit.ly/tBerkeleyData', 'display_url': 'bit.ly/tBerkeleyData', 'indices': [122, 144]}]}}, protected=False, followers_count=9540, friends_count=403, listed_count=450, created_at=datetime.datetime(2013, 2, 28, 14, 37, 26), favourites_count=44, utc_offset=-14400, time_zone='Eastern Time (US & Canada)', geo_enabled=False, verified=False, statuses_count=2172, lang='en', contributors_enabled=False, is_translator=False, is_translation_enabled=False, profile_background_color='CCCCCC', profile_background_image_url='http://pbs.twimg.com/profile_background_images/378800000096571211/5f9ba86a5d2b87c2c48544133c25b092.jpeg', profile_background_image_url_https='https://pbs.twimg.com/profile_background_images/378800000096571211/5f9ba86a5d2b87c2c48544133c25b092.jpeg', profile_background_tile=False, profile_image_url='http://pbs.twimg.com/profile_images/378800000146514422/6d9a5af0a0abb83d4cfe2d0ab2067ecb_normal.jpeg', profile_image_url_https='https://pbs.twimg.com/profile_images/378800000146514422/6d9a5af0a0abb83d4cfe2d0ab2067ecb_normal.jpeg', profile_banner_url='https://pbs.twimg.com/profile_banners/1227698863/1405953823', profile_link_color='5173B6', profile_sidebar_border_color='FFFFFF', profile_sidebar_fill_color='DDEEF6', profile_text_color='333333', profile_use_background_image=True, has_extended_profile=False, default_profile=False, default_profile_image=False, following=False, follow_request_sent=False, notifications=False, translator_type='none'), user=User(_json={'id': 1227698863, 'id_str': '1227698863', 'name': 'datascience@berkeley', 'screen_name': 'BerkeleyData', 'location': 'Berkeley, CA', 'description': 'An online Master of Information and Data Science (MIDS) degree from the UC Berkeley School of Information. Learn more at: http://t.co/zf6gfBWovQ', 'url': 'http://t.co/S79Ul3oCaa', 'entities': {'url': {'urls': [{'url': 'http://t.co/S79Ul3oCaa', 'expanded_url': 'http://datascience.berkeley.edu', 'display_url': 'datascience.berkeley.edu', 'indices': [0, 22]}]}, 'description': {'urls': [{'url': 'http://t.co/zf6gfBWovQ', 'expanded_url': 'http://bit.ly/tBerkeleyData', 'display_url': 'bit.ly/tBerkeleyData', 'indices': [122, 144]}]}}, 'protected': False, 'followers_count': 9540, 'friends_count': 403, 'listed_count': 450, 'created_at': 'Thu Feb 28 14:37:26 +0000 2013', 'favourites_count': 44, 'utc_offset': -14400, 'time_zone': 'Eastern Time (US & Canada)', 'geo_enabled': False, 'verified': False, 'statuses_count': 2172, 'lang': 'en', 'contributors_enabled': False, 'is_translator': False, 'is_translation_enabled': False, 'profile_background_color': 'CCCCCC', 'profile_background_image_url': 'http://pbs.twimg.com/profile_background_images/378800000096571211/5f9ba86a5d2b87c2c48544133c25b092.jpeg', 'profile_background_image_url_https': 'https://pbs.twimg.com/profile_background_images/378800000096571211/5f9ba86a5d2b87c2c48544133c25b092.jpeg', 'profile_background_tile': False, 'profile_image_url': 'http://pbs.twimg.com/profile_images/378800000146514422/6d9a5af0a0abb83d4cfe2d0ab2067ecb_normal.jpeg', 'profile_image_url_https': 'https://pbs.twimg.com/profile_images/378800000146514422/6d9a5af0a0abb83d4cfe2d0ab2067ecb_normal.jpeg', 'profile_banner_url': 'https://pbs.twimg.com/profile_banners/1227698863/1405953823', 'profile_link_color': '5173B6', 'profile_sidebar_border_color': 'FFFFFF', 'profile_sidebar_fill_color': 'DDEEF6', 'profile_text_color': '333333', 'profile_use_background_image': True, 'has_extended_profile': False, 'default_profile': False, 'default_profile_image': False, 'following': False, 'follow_request_sent': False, 'notifications': False, 'translator_type': 'none'}, id=1227698863, id_str='1227698863', name='datascience@berkeley', screen_name='BerkeleyData', location='Berkeley, CA', description='An online Master of Information and Data Science (MIDS) degree from the UC Berkeley School of Information. Learn more at: http://t.co/zf6gfBWovQ', url='http://t.co/S79Ul3oCaa', entities={'url': {'urls': [{'url': 'http://t.co/S79Ul3oCaa', 'expanded_url': 'http://datascience.berkeley.edu', 'display_url': 'datascience.berkeley.edu', 'indices': [0, 22]}]}, 'description': {'urls': [{'url': 'http://t.co/zf6gfBWovQ', 'expanded_url': 'http://bit.ly/tBerkeleyData', 'display_url': 'bit.ly/tBerkeleyData', 'indices': [122, 144]}]}}, protected=False, followers_count=9540, friends_count=403, listed_count=450, created_at=datetime.datetime(2013, 2, 28, 14, 37, 26), favourites_count=44, utc_offset=-14400, time_zone='Eastern Time (US & Canada)', geo_enabled=False, verified=False, statuses_count=2172, lang='en', contributors_enabled=False, is_translator=False, is_translation_enabled=False, profile_background_color='CCCCCC', profile_background_image_url='http://pbs.twimg.com/profile_background_images/378800000096571211/5f9ba86a5d2b87c2c48544133c25b092.jpeg', profile_background_image_url_https='https://pbs.twimg.com/profile_background_images/378800000096571211/5f9ba86a5d2b87c2c48544133c25b092.jpeg', profile_background_tile=False, profile_image_url='http://pbs.twimg.com/profile_images/378800000146514422/6d9a5af0a0abb83d4cfe2d0ab2067ecb_normal.jpeg', profile_image_url_https='https://pbs.twimg.com/profile_images/378800000146514422/6d9a5af0a0abb83d4cfe2d0ab2067ecb_normal.jpeg', profile_banner_url='https://pbs.twimg.com/profile_banners/1227698863/1405953823', profile_link_color='5173B6', profile_sidebar_border_color='FFFFFF', profile_sidebar_fill_color='DDEEF6', profile_text_color='333333', profile_use_background_image=True, has_extended_profile=False, default_profile=False, default_profile_image=False, following=False, follow_request_sent=False, notifications=False, translator_type='none'), geo=None, coordinates=None, place=None, contributors=None, is_quote_status=False, retweet_count=4, favorite_count=2, favorited=False, retweeted=False, possibly_sensitive=False, lang='en')"
      ]
     },
     "execution_count": 3,
     "metadata": {},
     "output_type": "execute_result"
    }
   ],
   "source": [
    "# Looking at one tweet object, which has type Status:\n",
    "example_tweets[0]\n",
    "# You can try something like this:\n",
    "#   import pprint; pprint.pprint(vars(example_tweets[0]))\n",
    "# ...to get a more easily-readable view."
   ]
  },
  {
   "cell_type": "markdown",
   "metadata": {},
   "source": [
    "#### Question 2\n",
    "Write code to download all the recent tweets by Hillary Clinton (@HillaryClinton).  Follow our example code if you wish.  Write your code in the form of four **functions** matching the documentation provided.  (You may define additional functions as helpers.)  **Once you've written your functions,** you can run the subsequent cell to download the tweets."
   ]
  },
  {
   "cell_type": "code",
   "execution_count": 4,
   "metadata": {
    "collapsed": true,
    "for_assignment_type": "solution"
   },
   "outputs": [],
   "source": [
    "def load_keys(path):\n",
    "    \"\"\"Loads your Twitter authentication keys from a file on disk.\n",
    "    \n",
    "    Args:\n",
    "        path (str): The path to your key file.  The file should\n",
    "          be in JSON format and look like this (but filled in):\n",
    "            {\n",
    "                \"consumer_key\": \"<your Consumer Key here>\",\n",
    "                \"consumer_secret\":  \"<your Consumer Secret here>\",\n",
    "                \"access_token\": \"<your Access Token here>\",\n",
    "                \"access_token_secret\": \"<your Access Token Secret here>\"\n",
    "            }\n",
    "    \n",
    "    Returns:\n",
    "        dict: A dictionary mapping key names (like \"consumer_key\") to\n",
    "          key values.\"\"\"\n",
    "    import json\n",
    "    with open(path) as f:\n",
    "        return json.load(f)\n",
    "\n",
    "def download_recent_tweets_by_user(user_account_name, keys):\n",
    "    \"\"\"Downloads tweets by one Twitter user.\n",
    "\n",
    "    Args:\n",
    "        user_account_name (str): The name of the Twitter account\n",
    "          whose tweets will be downloaded.\n",
    "        keys (dict): A Python dictionary with Twitter authentication\n",
    "          keys (strings), like this (but filled in):\n",
    "            {\n",
    "                \"consumer_key\": \"<your Consumer Key here>\",\n",
    "                \"consumer_secret\":  \"<your Consumer Secret here>\",\n",
    "                \"access_token\": \"<your Access Token here>\",\n",
    "                \"access_token_secret\": \"<your Access Token Secret here>\"\n",
    "            }\n",
    "\n",
    "    Returns:\n",
    "        list: A list of Status objects, each representing one tweet.\"\"\"\n",
    "    import tweepy\n",
    "\n",
    "    # Authenticating:\n",
    "    auth = tweepy.OAuthHandler(keys[\"consumer_key\"], keys[\"consumer_secret\"])\n",
    "    auth.set_access_token(keys[\"access_token\"], keys[\"access_token_secret\"])\n",
    "    api = tweepy.API(auth)\n",
    "\n",
    "    return list(tweepy.Cursor(api.user_timeline, id=user_account_name).items())\n",
    "\n",
    "def save_tweets(tweets, path):\n",
    "    \"\"\"Saves a list of tweets to a file in the local filesystem.\n",
    "    \n",
    "    This function makes no guarantee about the format of the saved\n",
    "    tweets, **except** that calling load_tweets(path) after\n",
    "    save_tweets(tweets, path) will produce the same list of tweets\n",
    "    and that only the file at the given path is used to store the\n",
    "    tweets.  (That means you can implement this function however\n",
    "    you want, as long as saving and loading works!)\n",
    "\n",
    "    Args:\n",
    "        tweets (list): A list of tweet objects (of type Status) to\n",
    "          be saved.\n",
    "        path (str): The place where the tweets will be saved.\n",
    "\n",
    "    Returns:\n",
    "        None\"\"\"\n",
    "    with open(path, \"wb\") as f:\n",
    "        import pickle\n",
    "        pickle.dump(tweets, f)\n",
    "    \n",
    "def load_tweets(path):\n",
    "    \"\"\"Loads tweets that have previously been saved.\n",
    "    \n",
    "    Calling load_tweets(path) after save_tweets(tweets, path)\n",
    "    will produce the same list of tweets.\n",
    "    \n",
    "    Args:\n",
    "        path (str): The place where the tweets were be saved.\n",
    "\n",
    "    Returns:\n",
    "        list: A list of Status objects, each representing one tweet.\"\"\"\n",
    "    with open(path, \"rb\") as f:\n",
    "        import pickle\n",
    "        return pickle.load(f)"
   ]
  },
  {
   "cell_type": "code",
   "execution_count": 5,
   "metadata": {
    "collapsed": true
   },
   "outputs": [],
   "source": [
    "# When you are done, run this cell to load @HillaryClinton's tweets.\n",
    "# Note the function get_tweets_with_cache.  You may find it useful\n",
    "# later.\n",
    "\n",
    "def get_tweets_with_cache(user_account_name, keys_path):\n",
    "    \"\"\"Get recent tweets from one user, loading from a disk cache if available.\n",
    "    \n",
    "    The first time you call this function, it will download tweets by\n",
    "    a user.  Subsequent calls will not re-download the tweets; instead\n",
    "    they'll load the tweets from a save file in your local filesystem.\n",
    "    All this is done using the functions you defined in the previous cell.\n",
    "    This has benefits and drawbacks that often appear when you cache data:\n",
    "    \n",
    "    +: Using this function will prevent extraneous usage of the Twitter API.\n",
    "    +: You will get your data much faster after the first time it's called.\n",
    "    -: If you really want to re-download the tweets (say, to get newer ones,\n",
    "       or because you screwed up something in the previous cell and your\n",
    "       tweets aren't what you wanted), you'll have to find the save file\n",
    "       (which will look like <something>_recent_tweets.pkl) and delete it.\n",
    "    \n",
    "    Args:\n",
    "        user_account_name (str): The Twitter handle of a user, without the @.\n",
    "        keys_path (str): The path to a JSON keys file in your filesystem.\n",
    "    \"\"\"\n",
    "    save_path = \"{}_recent_tweets.pkl\".format(user_account_name)\n",
    "    from pathlib import Path\n",
    "    if not Path(save_path).is_file():\n",
    "        keys = load_keys(keys_path)\n",
    "        tweets = download_recent_tweets_by_user(user_account_name, keys)\n",
    "        save_tweets(tweets, save_path)\n",
    "    return load_tweets(save_path)"
   ]
  },
  {
   "cell_type": "code",
   "execution_count": 6,
   "metadata": {
    "collapsed": true
   },
   "outputs": [],
   "source": [
    "clinton_tweets = get_tweets_with_cache(\"HillaryClinton\", \"keys.json\")"
   ]
  },
  {
   "cell_type": "code",
   "execution_count": 7,
   "metadata": {
    "collapsed": false,
    "scrolled": true
   },
   "outputs": [
    {
     "data": {
      "text/plain": [
       "Status(_json={'created_at': 'Sat Jun 03 03:08:26 +0000 2017', 'id': 870839564914634760, 'id_str': '870839564914634760', 'text': 'Today we remember Hadiya, &amp; all victims of gun violence. Proud of these young dynamos &amp; all those committed to the… https://t.co/Hhp1lVF25Z', 'truncated': True, 'entities': {'hashtags': [], 'symbols': [], 'user_mentions': [], 'urls': [{'url': 'https://t.co/Hhp1lVF25Z', 'expanded_url': 'https://twitter.com/i/web/status/870839564914634760', 'display_url': 'twitter.com/i/web/status/8…', 'indices': [124, 147]}]}, 'source': '<a href=\"http://twitter.com/download/iphone\" rel=\"nofollow\">Twitter for iPhone</a>', 'in_reply_to_status_id': None, 'in_reply_to_status_id_str': None, 'in_reply_to_user_id': None, 'in_reply_to_user_id_str': None, 'in_reply_to_screen_name': None, 'user': {'id': 1339835893, 'id_str': '1339835893', 'name': 'Hillary Clinton', 'screen_name': 'HillaryClinton', 'location': 'New York, NY', 'description': 'Wife, mom, grandma, women+kids advocate, FLOTUS, Senator, SecState, hair icon, pantsuit aficionado, 2016 presidential candidate.', 'url': 'https://t.co/xhPHAcdCwE', 'entities': {'url': {'urls': [{'url': 'https://t.co/xhPHAcdCwE', 'expanded_url': 'http://HillaryClinton.com', 'display_url': 'HillaryClinton.com', 'indices': [0, 23]}]}, 'description': {'urls': []}}, 'protected': False, 'followers_count': 15868269, 'friends_count': 762, 'listed_count': 37967, 'created_at': 'Tue Apr 09 18:04:35 +0000 2013', 'favourites_count': 1173, 'utc_offset': -14400, 'time_zone': 'Eastern Time (US & Canada)', 'geo_enabled': True, 'verified': True, 'statuses_count': 9867, 'lang': 'en', 'contributors_enabled': False, 'is_translator': False, 'is_translation_enabled': False, 'profile_background_color': '0057B8', 'profile_background_image_url': 'http://abs.twimg.com/images/themes/theme1/bg.png', 'profile_background_image_url_https': 'https://abs.twimg.com/images/themes/theme1/bg.png', 'profile_background_tile': False, 'profile_image_url': 'http://pbs.twimg.com/profile_images/839938827837976576/leN1zJJx_normal.jpg', 'profile_image_url_https': 'https://pbs.twimg.com/profile_images/839938827837976576/leN1zJJx_normal.jpg', 'profile_banner_url': 'https://pbs.twimg.com/profile_banners/1339835893/1476893928', 'profile_link_color': '0057B8', 'profile_sidebar_border_color': '000000', 'profile_sidebar_fill_color': '000000', 'profile_text_color': '000000', 'profile_use_background_image': False, 'has_extended_profile': True, 'default_profile': False, 'default_profile_image': False, 'following': False, 'follow_request_sent': False, 'notifications': False, 'translator_type': 'none'}, 'geo': None, 'coordinates': None, 'place': None, 'contributors': None, 'is_quote_status': True, 'quoted_status_id': 870691680130695169, 'quoted_status_id_str': '870691680130695169', 'quoted_status': {'created_at': 'Fri Jun 02 17:20:47 +0000 2017', 'id': 870691680130695169, 'id_str': '870691680130695169', 'text': 'Today and everyday honored to have worked with these amazing people at @HFA and now @Everytown/@MomsDemand… https://t.co/AlIR6tz9th', 'truncated': True, 'entities': {'hashtags': [], 'symbols': [], 'user_mentions': [{'screen_name': 'HFA', 'name': 'Hillary for America', 'id': 702147673651027968, 'id_str': '702147673651027968', 'indices': [71, 75]}, {'screen_name': 'Everytown', 'name': 'Everytown', 'id': 250386727, 'id_str': '250386727', 'indices': [84, 94]}, {'screen_name': 'MomsDemand', 'name': 'Moms Demand Action', 'id': 1017637447, 'id_str': '1017637447', 'indices': [95, 106]}], 'urls': [{'url': 'https://t.co/AlIR6tz9th', 'expanded_url': 'https://twitter.com/i/web/status/870691680130695169', 'display_url': 'twitter.com/i/web/status/8…', 'indices': [108, 131]}]}, 'source': '<a href=\"http://twitter.com/download/iphone\" rel=\"nofollow\">Twitter for iPhone</a>', 'in_reply_to_status_id': None, 'in_reply_to_status_id_str': None, 'in_reply_to_user_id': None, 'in_reply_to_user_id_str': None, 'in_reply_to_screen_name': None, 'user': {'id': 12897402, 'id_str': '12897402', 'name': 'Brynne Craig', 'screen_name': 'BrynneCraig', 'location': 'Brooklyn, NY', 'description': 'Triple Threat. Lover of Intersectionality. Avid Reader. TV Connoisseur. Always @HillaryClinton. @TerryMcAuliffe @DCCC @BarackObama Alum', 'url': None, 'entities': {'description': {'urls': []}}, 'protected': False, 'followers_count': 7763, 'friends_count': 238, 'listed_count': 168, 'created_at': 'Thu Jan 31 02:37:47 +0000 2008', 'favourites_count': 2100, 'utc_offset': -14400, 'time_zone': 'Eastern Time (US & Canada)', 'geo_enabled': True, 'verified': False, 'statuses_count': 1187, 'lang': 'en', 'contributors_enabled': False, 'is_translator': False, 'is_translation_enabled': False, 'profile_background_color': '0099B9', 'profile_background_image_url': 'http://abs.twimg.com/images/themes/theme4/bg.gif', 'profile_background_image_url_https': 'https://abs.twimg.com/images/themes/theme4/bg.gif', 'profile_background_tile': False, 'profile_image_url': 'http://pbs.twimg.com/profile_images/724869862158381056/4t8vYs-V_normal.jpg', 'profile_image_url_https': 'https://pbs.twimg.com/profile_images/724869862158381056/4t8vYs-V_normal.jpg', 'profile_banner_url': 'https://pbs.twimg.com/profile_banners/12897402/1470569767', 'profile_link_color': '0099B9', 'profile_sidebar_border_color': '5ED4DC', 'profile_sidebar_fill_color': '95E8EC', 'profile_text_color': '3C3940', 'profile_use_background_image': True, 'has_extended_profile': True, 'default_profile': False, 'default_profile_image': False, 'following': False, 'follow_request_sent': False, 'notifications': False, 'translator_type': 'none'}, 'geo': None, 'coordinates': None, 'place': None, 'contributors': None, 'is_quote_status': False, 'retweet_count': 76, 'favorite_count': 324, 'favorited': False, 'retweeted': False, 'possibly_sensitive': False, 'lang': 'en'}, 'retweet_count': 4200, 'favorite_count': 22345, 'favorited': False, 'retweeted': False, 'possibly_sensitive': False, 'lang': 'en'}, created_at=datetime.datetime(2017, 6, 3, 3, 8, 26), id=870839564914634760, id_str='870839564914634760', text='Today we remember Hadiya, &amp; all victims of gun violence. Proud of these young dynamos &amp; all those committed to the… https://t.co/Hhp1lVF25Z', truncated=True, entities={'hashtags': [], 'symbols': [], 'user_mentions': [], 'urls': [{'url': 'https://t.co/Hhp1lVF25Z', 'expanded_url': 'https://twitter.com/i/web/status/870839564914634760', 'display_url': 'twitter.com/i/web/status/8…', 'indices': [124, 147]}]}, source='Twitter for iPhone', source_url='http://twitter.com/download/iphone', in_reply_to_status_id=None, in_reply_to_status_id_str=None, in_reply_to_user_id=None, in_reply_to_user_id_str=None, in_reply_to_screen_name=None, author=User(_json={'id': 1339835893, 'id_str': '1339835893', 'name': 'Hillary Clinton', 'screen_name': 'HillaryClinton', 'location': 'New York, NY', 'description': 'Wife, mom, grandma, women+kids advocate, FLOTUS, Senator, SecState, hair icon, pantsuit aficionado, 2016 presidential candidate.', 'url': 'https://t.co/xhPHAcdCwE', 'entities': {'url': {'urls': [{'url': 'https://t.co/xhPHAcdCwE', 'expanded_url': 'http://HillaryClinton.com', 'display_url': 'HillaryClinton.com', 'indices': [0, 23]}]}, 'description': {'urls': []}}, 'protected': False, 'followers_count': 15868269, 'friends_count': 762, 'listed_count': 37967, 'created_at': 'Tue Apr 09 18:04:35 +0000 2013', 'favourites_count': 1173, 'utc_offset': -14400, 'time_zone': 'Eastern Time (US & Canada)', 'geo_enabled': True, 'verified': True, 'statuses_count': 9867, 'lang': 'en', 'contributors_enabled': False, 'is_translator': False, 'is_translation_enabled': False, 'profile_background_color': '0057B8', 'profile_background_image_url': 'http://abs.twimg.com/images/themes/theme1/bg.png', 'profile_background_image_url_https': 'https://abs.twimg.com/images/themes/theme1/bg.png', 'profile_background_tile': False, 'profile_image_url': 'http://pbs.twimg.com/profile_images/839938827837976576/leN1zJJx_normal.jpg', 'profile_image_url_https': 'https://pbs.twimg.com/profile_images/839938827837976576/leN1zJJx_normal.jpg', 'profile_banner_url': 'https://pbs.twimg.com/profile_banners/1339835893/1476893928', 'profile_link_color': '0057B8', 'profile_sidebar_border_color': '000000', 'profile_sidebar_fill_color': '000000', 'profile_text_color': '000000', 'profile_use_background_image': False, 'has_extended_profile': True, 'default_profile': False, 'default_profile_image': False, 'following': False, 'follow_request_sent': False, 'notifications': False, 'translator_type': 'none'}, id=1339835893, id_str='1339835893', name='Hillary Clinton', screen_name='HillaryClinton', location='New York, NY', description='Wife, mom, grandma, women+kids advocate, FLOTUS, Senator, SecState, hair icon, pantsuit aficionado, 2016 presidential candidate.', url='https://t.co/xhPHAcdCwE', entities={'url': {'urls': [{'url': 'https://t.co/xhPHAcdCwE', 'expanded_url': 'http://HillaryClinton.com', 'display_url': 'HillaryClinton.com', 'indices': [0, 23]}]}, 'description': {'urls': []}}, protected=False, followers_count=15868269, friends_count=762, listed_count=37967, created_at=datetime.datetime(2013, 4, 9, 18, 4, 35), favourites_count=1173, utc_offset=-14400, time_zone='Eastern Time (US & Canada)', geo_enabled=True, verified=True, statuses_count=9867, lang='en', contributors_enabled=False, is_translator=False, is_translation_enabled=False, profile_background_color='0057B8', profile_background_image_url='http://abs.twimg.com/images/themes/theme1/bg.png', profile_background_image_url_https='https://abs.twimg.com/images/themes/theme1/bg.png', profile_background_tile=False, profile_image_url='http://pbs.twimg.com/profile_images/839938827837976576/leN1zJJx_normal.jpg', profile_image_url_https='https://pbs.twimg.com/profile_images/839938827837976576/leN1zJJx_normal.jpg', profile_banner_url='https://pbs.twimg.com/profile_banners/1339835893/1476893928', profile_link_color='0057B8', profile_sidebar_border_color='000000', profile_sidebar_fill_color='000000', profile_text_color='000000', profile_use_background_image=False, has_extended_profile=True, default_profile=False, default_profile_image=False, following=False, follow_request_sent=False, notifications=False, translator_type='none'), user=User(_json={'id': 1339835893, 'id_str': '1339835893', 'name': 'Hillary Clinton', 'screen_name': 'HillaryClinton', 'location': 'New York, NY', 'description': 'Wife, mom, grandma, women+kids advocate, FLOTUS, Senator, SecState, hair icon, pantsuit aficionado, 2016 presidential candidate.', 'url': 'https://t.co/xhPHAcdCwE', 'entities': {'url': {'urls': [{'url': 'https://t.co/xhPHAcdCwE', 'expanded_url': 'http://HillaryClinton.com', 'display_url': 'HillaryClinton.com', 'indices': [0, 23]}]}, 'description': {'urls': []}}, 'protected': False, 'followers_count': 15868269, 'friends_count': 762, 'listed_count': 37967, 'created_at': 'Tue Apr 09 18:04:35 +0000 2013', 'favourites_count': 1173, 'utc_offset': -14400, 'time_zone': 'Eastern Time (US & Canada)', 'geo_enabled': True, 'verified': True, 'statuses_count': 9867, 'lang': 'en', 'contributors_enabled': False, 'is_translator': False, 'is_translation_enabled': False, 'profile_background_color': '0057B8', 'profile_background_image_url': 'http://abs.twimg.com/images/themes/theme1/bg.png', 'profile_background_image_url_https': 'https://abs.twimg.com/images/themes/theme1/bg.png', 'profile_background_tile': False, 'profile_image_url': 'http://pbs.twimg.com/profile_images/839938827837976576/leN1zJJx_normal.jpg', 'profile_image_url_https': 'https://pbs.twimg.com/profile_images/839938827837976576/leN1zJJx_normal.jpg', 'profile_banner_url': 'https://pbs.twimg.com/profile_banners/1339835893/1476893928', 'profile_link_color': '0057B8', 'profile_sidebar_border_color': '000000', 'profile_sidebar_fill_color': '000000', 'profile_text_color': '000000', 'profile_use_background_image': False, 'has_extended_profile': True, 'default_profile': False, 'default_profile_image': False, 'following': False, 'follow_request_sent': False, 'notifications': False, 'translator_type': 'none'}, id=1339835893, id_str='1339835893', name='Hillary Clinton', screen_name='HillaryClinton', location='New York, NY', description='Wife, mom, grandma, women+kids advocate, FLOTUS, Senator, SecState, hair icon, pantsuit aficionado, 2016 presidential candidate.', url='https://t.co/xhPHAcdCwE', entities={'url': {'urls': [{'url': 'https://t.co/xhPHAcdCwE', 'expanded_url': 'http://HillaryClinton.com', 'display_url': 'HillaryClinton.com', 'indices': [0, 23]}]}, 'description': {'urls': []}}, protected=False, followers_count=15868269, friends_count=762, listed_count=37967, created_at=datetime.datetime(2013, 4, 9, 18, 4, 35), favourites_count=1173, utc_offset=-14400, time_zone='Eastern Time (US & Canada)', geo_enabled=True, verified=True, statuses_count=9867, lang='en', contributors_enabled=False, is_translator=False, is_translation_enabled=False, profile_background_color='0057B8', profile_background_image_url='http://abs.twimg.com/images/themes/theme1/bg.png', profile_background_image_url_https='https://abs.twimg.com/images/themes/theme1/bg.png', profile_background_tile=False, profile_image_url='http://pbs.twimg.com/profile_images/839938827837976576/leN1zJJx_normal.jpg', profile_image_url_https='https://pbs.twimg.com/profile_images/839938827837976576/leN1zJJx_normal.jpg', profile_banner_url='https://pbs.twimg.com/profile_banners/1339835893/1476893928', profile_link_color='0057B8', profile_sidebar_border_color='000000', profile_sidebar_fill_color='000000', profile_text_color='000000', profile_use_background_image=False, has_extended_profile=True, default_profile=False, default_profile_image=False, following=False, follow_request_sent=False, notifications=False, translator_type='none'), geo=None, coordinates=None, place=None, contributors=None, is_quote_status=True, quoted_status_id=870691680130695169, quoted_status_id_str='870691680130695169', quoted_status={'created_at': 'Fri Jun 02 17:20:47 +0000 2017', 'id': 870691680130695169, 'id_str': '870691680130695169', 'text': 'Today and everyday honored to have worked with these amazing people at @HFA and now @Everytown/@MomsDemand… https://t.co/AlIR6tz9th', 'truncated': True, 'entities': {'hashtags': [], 'symbols': [], 'user_mentions': [{'screen_name': 'HFA', 'name': 'Hillary for America', 'id': 702147673651027968, 'id_str': '702147673651027968', 'indices': [71, 75]}, {'screen_name': 'Everytown', 'name': 'Everytown', 'id': 250386727, 'id_str': '250386727', 'indices': [84, 94]}, {'screen_name': 'MomsDemand', 'name': 'Moms Demand Action', 'id': 1017637447, 'id_str': '1017637447', 'indices': [95, 106]}], 'urls': [{'url': 'https://t.co/AlIR6tz9th', 'expanded_url': 'https://twitter.com/i/web/status/870691680130695169', 'display_url': 'twitter.com/i/web/status/8…', 'indices': [108, 131]}]}, 'source': '<a href=\"http://twitter.com/download/iphone\" rel=\"nofollow\">Twitter for iPhone</a>', 'in_reply_to_status_id': None, 'in_reply_to_status_id_str': None, 'in_reply_to_user_id': None, 'in_reply_to_user_id_str': None, 'in_reply_to_screen_name': None, 'user': {'id': 12897402, 'id_str': '12897402', 'name': 'Brynne Craig', 'screen_name': 'BrynneCraig', 'location': 'Brooklyn, NY', 'description': 'Triple Threat. Lover of Intersectionality. Avid Reader. TV Connoisseur. Always @HillaryClinton. @TerryMcAuliffe @DCCC @BarackObama Alum', 'url': None, 'entities': {'description': {'urls': []}}, 'protected': False, 'followers_count': 7763, 'friends_count': 238, 'listed_count': 168, 'created_at': 'Thu Jan 31 02:37:47 +0000 2008', 'favourites_count': 2100, 'utc_offset': -14400, 'time_zone': 'Eastern Time (US & Canada)', 'geo_enabled': True, 'verified': False, 'statuses_count': 1187, 'lang': 'en', 'contributors_enabled': False, 'is_translator': False, 'is_translation_enabled': False, 'profile_background_color': '0099B9', 'profile_background_image_url': 'http://abs.twimg.com/images/themes/theme4/bg.gif', 'profile_background_image_url_https': 'https://abs.twimg.com/images/themes/theme4/bg.gif', 'profile_background_tile': False, 'profile_image_url': 'http://pbs.twimg.com/profile_images/724869862158381056/4t8vYs-V_normal.jpg', 'profile_image_url_https': 'https://pbs.twimg.com/profile_images/724869862158381056/4t8vYs-V_normal.jpg', 'profile_banner_url': 'https://pbs.twimg.com/profile_banners/12897402/1470569767', 'profile_link_color': '0099B9', 'profile_sidebar_border_color': '5ED4DC', 'profile_sidebar_fill_color': '95E8EC', 'profile_text_color': '3C3940', 'profile_use_background_image': True, 'has_extended_profile': True, 'default_profile': False, 'default_profile_image': False, 'following': False, 'follow_request_sent': False, 'notifications': False, 'translator_type': 'none'}, 'geo': None, 'coordinates': None, 'place': None, 'contributors': None, 'is_quote_status': False, 'retweet_count': 76, 'favorite_count': 324, 'favorited': False, 'retweeted': False, 'possibly_sensitive': False, 'lang': 'en'}, retweet_count=4200, favorite_count=22345, favorited=False, retweeted=False, possibly_sensitive=False, lang='en')"
      ]
     },
     "execution_count": 7,
     "metadata": {},
     "output_type": "execute_result"
    }
   ],
   "source": [
    "# If everything is working properly, this should print out\n",
    "# a Status object (a single tweet).  clinton_tweets should\n",
    "# contain around 3000 tweets.\n",
    "clinton_tweets[0]"
   ]
  },
  {
   "cell_type": "code",
   "execution_count": 8,
   "metadata": {
    "collapsed": false
   },
   "outputs": [
    {
     "name": "stdout",
     "output_type": "stream",
     "text": [
      "~~~~~~~~~~~~~~~~~~~~~~~~~~~~~~~~~~~~~~~~~~~~~~~~~~~~~~~~~~~~~~~~~~~~~\n",
      "Running tests\n",
      "\n",
      "---------------------------------------------------------------------\n",
      "Test summary\n",
      "    Passed: 2\n",
      "    Failed: 0\n",
      "[ooooooooook] 100.0% passed\n",
      "\n"
     ]
    },
    {
     "data": {
      "application/javascript": [
       "IPython.notebook.save_checkpoint();"
      ],
      "text/plain": [
       "<IPython.core.display.Javascript object>"
      ]
     },
     "metadata": {},
     "output_type": "display_data"
    },
    {
     "data": {
      "application/javascript": [
       "IPython.notebook.save_notebook();"
      ],
      "text/plain": [
       "<IPython.core.display.Javascript object>"
      ]
     },
     "metadata": {},
     "output_type": "display_data"
    },
    {
     "name": "stdout",
     "output_type": "stream",
     "text": [
      "Saving notebook... Could not save your notebook. Make sure your notebook is saved before sending it to OK!\n",
      "Backup... 0.0% complete\r",
      "Backup... 100% complete\n",
      "Backup successful for user: doomsplayer@gmail.com\n",
      "\n"
     ]
    }
   ],
   "source": [
    "_ = ok.grade('q02')\n",
    "_ = ok.backup()"
   ]
  },
  {
   "cell_type": "markdown",
   "metadata": {},
   "source": [
    "### Exploring the dataset\n",
    "Twitter gives us a lot of information about each tweet, not just its text.  You can read the full documentation [here](https://dev.twitter.com/overview/api/tweets).  Look at one tweet to get a sense of the information we have available."
   ]
  },
  {
   "cell_type": "markdown",
   "metadata": {},
   "source": [
    "#### Question 3\n",
    "Which fields contain:\n",
    "1. the actual text of a tweet,\n",
    "2. the time when the tweet was posted, and\n",
    "3. the source (device and app) from which the tweet was posted?\n",
    "\n",
    "To answer the question, write functions that extract each field from a tweet.  (Each one should take a single Status object as its argument.)"
   ]
  },
  {
   "cell_type": "code",
   "execution_count": 9,
   "metadata": {
    "collapsed": true
   },
   "outputs": [],
   "source": [
    "def extract_text(tweet):\n",
    "    return tweet.text #SOLUTION\n",
    "\n",
    "def extract_time(tweet):\n",
    "    return tweet.created_at #SOLUTION\n",
    "\n",
    "def extract_source(tweet):\n",
    "    return tweet.source #SOLUTION"
   ]
  },
  {
   "cell_type": "code",
   "execution_count": 10,
   "metadata": {
    "collapsed": false
   },
   "outputs": [
    {
     "name": "stdout",
     "output_type": "stream",
     "text": [
      "~~~~~~~~~~~~~~~~~~~~~~~~~~~~~~~~~~~~~~~~~~~~~~~~~~~~~~~~~~~~~~~~~~~~~\n",
      "Running tests\n",
      "\n",
      "---------------------------------------------------------------------\n",
      "Test summary\n",
      "    Passed: 1\n",
      "    Failed: 0\n",
      "[ooooooooook] 100.0% passed\n",
      "\n"
     ]
    },
    {
     "data": {
      "application/javascript": [
       "IPython.notebook.save_checkpoint();"
      ],
      "text/plain": [
       "<IPython.core.display.Javascript object>"
      ]
     },
     "metadata": {},
     "output_type": "display_data"
    },
    {
     "data": {
      "application/javascript": [
       "IPython.notebook.save_notebook();"
      ],
      "text/plain": [
       "<IPython.core.display.Javascript object>"
      ]
     },
     "metadata": {},
     "output_type": "display_data"
    },
    {
     "name": "stdout",
     "output_type": "stream",
     "text": [
      "Saving notebook... Could not save your notebook. Make sure your notebook is saved before sending it to OK!\n",
      "Backup... 0.0% complete\r",
      "Backup... 100% complete\n",
      "Backup successful for user: doomsplayer@gmail.com\n",
      "\n"
     ]
    }
   ],
   "source": [
    "_ = ok.grade('q03')\n",
    "_ = ok.backup()"
   ]
  },
  {
   "cell_type": "markdown",
   "metadata": {},
   "source": [
    "#### Question 4\n",
    "Are there any other fields you think might be useful in identifying the true author of an @HillaryClinton tweet?  (If you're reading the documentation, consider whether fields are actually present often enough in the data to be useful.)"
   ]
  },
  {
   "cell_type": "markdown",
   "metadata": {},
   "source": [
    "**SOLUTION:** Some possible answers: `retweet_count` or `favorite_count` might be useful if we think tweets by the candidate herself are retweeted or favorited more often.  `coordinates` might be useful if we can identify some pattern in the aides' or candidate's locations (for example, if the aides always tweet from the same campaign office building, which Hillary rarely visits).  `quoted_status` might be useful if aides are more likely to quote other tweets than the candidate herself."
   ]
  },
  {
   "cell_type": "markdown",
   "metadata": {},
   "source": [
    "## Building a Pandas table\n",
    "JSON (and the Status object, which is just Tweepy's translation of the JSON produced by the Twitter API to a Python object) is nice for transmitting data, but it's not ideal for analysis.  The data will be easier to work with if we put them in a table.\n",
    "\n",
    "To create an empty table in Pandas, write:"
   ]
  },
  {
   "cell_type": "code",
   "execution_count": 11,
   "metadata": {
    "collapsed": true
   },
   "outputs": [],
   "source": [
    "import pandas as pd\n",
    "df = pd.DataFrame()"
   ]
  },
  {
   "cell_type": "markdown",
   "metadata": {},
   "source": [
    "(`pd` is the standard abbrevation for Pandas.)\n",
    "\n",
    "Now let's make a table with useful information in it.  To add a column to a DataFrame called `df`, write:\n",
    "    \n",
    "    df['column_name'] = some_list_or_array\n",
    "\n",
    "([This page](http://pandas.pydata.org/pandas-docs/stable/10min.html) is a useful reference for many of the basic operations in Pandas.  You don't need to read it now, but it might be helpful if you get stuck.)"
   ]
  },
  {
   "cell_type": "markdown",
   "metadata": {},
   "source": [
    "#### Question 5\n",
    "Write a function called `make_dataframe`.  It should take as its argument a list of tweets like `clinton_tweets` and return a Pandas DataFrame.  The DataFrame should contain columns for all the fields in question 3 and any fields you listed in question 4.  **Use the field names as the names of the corresponding columns.**"
   ]
  },
  {
   "cell_type": "code",
   "execution_count": 12,
   "metadata": {
    "collapsed": true
   },
   "outputs": [],
   "source": [
    "def make_dataframe(tweets):\n",
    "    \"\"\"Make a DataFrame from a list of tweets, with a few relevant fields.\n",
    "    \n",
    "    Args:\n",
    "        tweets (list): A list of tweets, each one a Status object.\n",
    "    \n",
    "    Returns:\n",
    "        DataFrame: A Pandas DataFrame containing one row for each element\n",
    "          of tweets and one column for each relevant field.\"\"\"\n",
    "    df = pd.DataFrame() #SOLUTION\n",
    "    df['text'] = [extract_text(t) for t in tweets] #SOLUTION\n",
    "    df['created_at'] = [extract_time(t) for t in tweets] #SOLUTION\n",
    "    df['source'] = [extract_source(t) for t in tweets] #SOLUTION\n",
    "    return df"
   ]
  },
  {
   "cell_type": "markdown",
   "metadata": {},
   "source": [
    "Now you can run the next line to make your DataFrame."
   ]
  },
  {
   "cell_type": "code",
   "execution_count": 13,
   "metadata": {
    "collapsed": false
   },
   "outputs": [],
   "source": [
    "clinton_df = make_dataframe(clinton_tweets)"
   ]
  },
  {
   "cell_type": "code",
   "execution_count": 14,
   "metadata": {
    "collapsed": false
   },
   "outputs": [
    {
     "data": {
      "text/html": [
       "<div>\n",
       "<style>\n",
       "    .dataframe thead tr:only-child th {\n",
       "        text-align: right;\n",
       "    }\n",
       "\n",
       "    .dataframe thead th {\n",
       "        text-align: left;\n",
       "    }\n",
       "\n",
       "    .dataframe tbody tr th {\n",
       "        vertical-align: top;\n",
       "    }\n",
       "</style>\n",
       "<table border=\"1\" class=\"dataframe\">\n",
       "  <thead>\n",
       "    <tr style=\"text-align: right;\">\n",
       "      <th></th>\n",
       "      <th>text</th>\n",
       "      <th>created_at</th>\n",
       "      <th>source</th>\n",
       "    </tr>\n",
       "  </thead>\n",
       "  <tbody>\n",
       "    <tr>\n",
       "      <th>0</th>\n",
       "      <td>Today we remember Hadiya, &amp;amp; all victims of gun violence. Proud of these young dynamos &amp;amp; all those committed to the… https://t.co/Hhp1lVF25Z</td>\n",
       "      <td>2017-06-03 03:08:26</td>\n",
       "      <td>Twitter for iPhone</td>\n",
       "    </tr>\n",
       "    <tr>\n",
       "      <th>1</th>\n",
       "      <td>A historic mistake. The world is moving forward together on climate change. Paris withdrawal leaves American workers &amp;amp; families behind.</td>\n",
       "      <td>2017-06-01 23:38:34</td>\n",
       "      <td>Twitter for iPhone</td>\n",
       "    </tr>\n",
       "    <tr>\n",
       "      <th>2</th>\n",
       "      <td>People in covfefe houses shouldn't throw covfefe. https://t.co/M7oK5Z6qwF</td>\n",
       "      <td>2017-06-01 01:30:20</td>\n",
       "      <td>Twitter for iPhone</td>\n",
       "    </tr>\n",
       "    <tr>\n",
       "      <th>3</th>\n",
       "      <td>Going on stage now, watch live! https://t.co/kkhepdwIkK</td>\n",
       "      <td>2017-05-31 19:15:53</td>\n",
       "      <td>Twitter for iPhone</td>\n",
       "    </tr>\n",
       "    <tr>\n",
       "      <th>4</th>\n",
       "      <td>A rainy but wonderful morning march in the Chappaqua Memorial Day Parade. Thinking of our veterans who gave their l… https://t.co/NJMFNxqtsK</td>\n",
       "      <td>2017-05-29 16:59:50</td>\n",
       "      <td>Twitter for iPhone</td>\n",
       "    </tr>\n",
       "  </tbody>\n",
       "</table>\n",
       "</div>"
      ],
      "text/plain": [
       "                                                                                                                                                  text  \\\n",
       "0  Today we remember Hadiya, &amp; all victims of gun violence. Proud of these young dynamos &amp; all those committed to the… https://t.co/Hhp1lVF25Z   \n",
       "1          A historic mistake. The world is moving forward together on climate change. Paris withdrawal leaves American workers &amp; families behind.   \n",
       "2                                                                            People in covfefe houses shouldn't throw covfefe. https://t.co/M7oK5Z6qwF   \n",
       "3                                                                                              Going on stage now, watch live! https://t.co/kkhepdwIkK   \n",
       "4         A rainy but wonderful morning march in the Chappaqua Memorial Day Parade. Thinking of our veterans who gave their l… https://t.co/NJMFNxqtsK   \n",
       "\n",
       "           created_at              source  \n",
       "0 2017-06-03 03:08:26  Twitter for iPhone  \n",
       "1 2017-06-01 23:38:34  Twitter for iPhone  \n",
       "2 2017-06-01 01:30:20  Twitter for iPhone  \n",
       "3 2017-05-31 19:15:53  Twitter for iPhone  \n",
       "4 2017-05-29 16:59:50  Twitter for iPhone  "
      ]
     },
     "execution_count": 14,
     "metadata": {},
     "output_type": "execute_result"
    }
   ],
   "source": [
    "# The next line causes Pandas to display all the characters\n",
    "# from each tweet when the table is printed, for more\n",
    "# convenient reading.  Comment it out if you don't want it.\n",
    "pd.set_option('display.max_colwidth', 150)\n",
    "\n",
    "clinton_df.head()"
   ]
  },
  {
   "cell_type": "code",
   "execution_count": 15,
   "metadata": {
    "collapsed": false
   },
   "outputs": [
    {
     "name": "stdout",
     "output_type": "stream",
     "text": [
      "~~~~~~~~~~~~~~~~~~~~~~~~~~~~~~~~~~~~~~~~~~~~~~~~~~~~~~~~~~~~~~~~~~~~~\n",
      "Running tests\n",
      "\n",
      "---------------------------------------------------------------------\n",
      "Test summary\n",
      "    Passed: 1\n",
      "    Failed: 0\n",
      "[ooooooooook] 100.0% passed\n",
      "\n"
     ]
    },
    {
     "data": {
      "application/javascript": [
       "IPython.notebook.save_checkpoint();"
      ],
      "text/plain": [
       "<IPython.core.display.Javascript object>"
      ]
     },
     "metadata": {},
     "output_type": "display_data"
    },
    {
     "data": {
      "application/javascript": [
       "IPython.notebook.save_notebook();"
      ],
      "text/plain": [
       "<IPython.core.display.Javascript object>"
      ]
     },
     "metadata": {},
     "output_type": "display_data"
    },
    {
     "name": "stdout",
     "output_type": "stream",
     "text": [
      "Saving notebook... Saved 'hw2.ipynb'.\n",
      "Backup... 0.0% complete\r",
      "Backup... 100% complete\n",
      "Backup successful for user: doomsplayer@gmail.com\n",
      "\n"
     ]
    }
   ],
   "source": [
    "_ = ok.grade('q05')\n",
    "_ = ok.backup()"
   ]
  },
  {
   "cell_type": "markdown",
   "metadata": {},
   "source": [
    "## Tweetsourcing\n",
    "Now that the preliminaries are done, we can do what we set out to do: Try to distinguish between Clinton's own tweets and her aides'."
   ]
  },
  {
   "cell_type": "markdown",
   "metadata": {},
   "source": [
    "#### Question 6\n",
    "Create a plot showing how many tweets came from each kind of source.  For a real challenge, try using the Pandas documentation and Google to figure out how to do this.  Otherwise, hints are provided.\n",
    "\n",
    "*Hint:* Start by grouping the data by source.  `df['source'].value_counts()` will create an object called a Series (which is like a table that contains exactly 2 columns, where one column is called the *index*).  You can create a version of that Series that's sorted by source (in this case, in alphabetical order) by calling `sort_index()` on it.\n",
    "\n",
    "*Hint 2:* To generate a bar plot from a Series `s`, call `s.plot.barh()`.  You can also use `matplotlib`'s [`plt.barh`](http://matplotlib.org/api/pyplot_api.html#matplotlib.pyplot.barh), but it's a little bit complicated to use."
   ]
  },
  {
   "cell_type": "code",
   "execution_count": 16,
   "metadata": {
    "collapsed": false
   },
   "outputs": [
    {
     "data": {
      "image/png": "[encoded data removed]",
      "text/plain": [
       "<matplotlib.figure.Figure at 0x1127f2d30>"
      ]
     },
     "metadata": {},
     "output_type": "display_data"
    }
   ],
   "source": [
    "clinton_df['source'].value_counts().sort_index().plot.barh(); #SOLUTION"
   ]
  },
  {
   "cell_type": "markdown",
   "metadata": {},
   "source": [
    "You should find that most tweets come from [TweetDeck](https://tweetdeck.twitter.com)."
   ]
  },
  {
   "cell_type": "markdown",
   "metadata": {},
   "source": [
    "#### Question 7\n",
    "Filter `clinton_df` to examine some tweets from TweetDeck and a few from the next-most-used platform.  From examining only a few tweets (say 10 from each category), can you tell whether Clinton's personal tweets are limited to one platform?\n",
    "\n",
    "*Hint:* If `df` is a DataFrame and `filter_array` is an array of booleans of the same length, then `df[filter_array]` is a new DataFrame containing only the rows in `df` corresponding to `True` values in `filter_array`."
   ]
  },
  {
   "cell_type": "code",
   "execution_count": 17,
   "metadata": {
    "collapsed": false,
    "for_assignment_type": "solution"
   },
   "outputs": [
    {
     "name": "stdout",
     "output_type": "stream",
     "text": [
      "81           Scripture tells us: Let us not grow weary in doing good, for in due season, we shall reap, if we do not lose heart. https://t.co/snXfdLgZq8\n",
      "441          \"That’s what’s on the ballot this year. It’s not just my name and Donald Trump’s name. It’s our future. Our security. Our values.\" —Hillary\n",
      "746                                                             Watch live: @POTUS hits the campaign trail for Hillary in Miami. https://t.co/lFWJRhSouE\n",
      "1107                                   Americans deserve a real plan to expand access to health care and get costs down. https://t.co/6J5vpfTxhs #debate\n",
      "1476                                                                                                                 \"Whew, OK!” https://t.co/385hydBQan\n",
      "1820        The next 53 days will shape the next 50 years.\\n\\nThe future of our children and grandchildren hangs in the balance. https://t.co/tTgeqxNqYm\n",
      "2115    Unions gave us higher wages, weekends, and the largest middle class in the world. That's worth celebrating &amp; protecting. Happy #LaborDay! -H\n",
      "2406             “@TeamUSA is showing the world what this country stands for. I am proud of our team.\" —Hillary in Philadelphia: https://t.co/byKmrx9XZy\n",
      "2699                             Donald Trump says he wants to \"make America great again.\"\\n\\nWell, he could start by actually making things in America.\n",
      "2961                  “Hillary will make us stronger together. You know it because she spent a lifetime doing it.” —@BillClinton https://t.co/MLSDqDUhmf\n",
      "Name: text, dtype: object\n",
      "103       RT @timkaine: Thinking about my daughter right now. No little girl will ever again have to wonder whether she, too, can be president. https…\n",
      "334     RT @TheBriefing2016: .@chucktodd: \"What is the status of the FBI investigation into the Clinton Foundation?\"\\n\\n@PeteWilliamsNBC: \"There real…\n",
      "750       RT @HillaryforVA: BREAKING: Voter registration in #VirWINia extended through Friday at 11:59 p.m. Register in minutes at https://t.co/yqpXb…\n",
      "1002            RT @johnpodesta: We can fight climate change because our next president has a plan. @HillaryClinton #ImWithHer https://t.co/lazxsPm48W\n",
      "1289      RT @johnpodesta: Good news out of Brussels— Paris Climate Agreement now squarely on track to enter into force this year. https://t.co/IkGlQ…\n",
      "1533                                       RT @TheAtlantic: Hillary Clinton did what she needed to do: https://t.co/OhN5ZjCu2G https://t.co/4P3f6pNXB3\n",
      "1748         \"Progress is on the ballot.\\nTolerance is on the ballot.\\nDemocracy is on the ballot.\\nJustice is on the ballot.\" https://t.co/Mmyqestken\n",
      "2037         Last night, Trump chose to talk about his deep admiration and support for Putin.\\n\\nMaybe he did it with a smile. https://t.co/IjcqT5Z4KZ\n",
      "2370              Congrats to @usatf's @Bri_Rollin, @ItsPooda, and @KristiHollywood on their historic podium sweep last night. https://t.co/K0vkob8BOc\n",
      "2709                                          Get live updates from Hillary and @TimKaine's bus tour → https://t.co/8kbj5eeWmS https://t.co/Y2NJ43ovA3\n",
      "Name: text, dtype: object\n"
     ]
    }
   ],
   "source": [
    "# Do your analysis, then write your conclusions in a brief comment.\n",
    "tweetdeck = clinton_df[clinton_df['source'] == 'TweetDeck']\n",
    "twc = clinton_df[clinton_df['source'] == 'Twitter Web Client']\n",
    "import numpy as np\n",
    "def rounded_linspace(start, stop, count):\n",
    "    import numpy as np\n",
    "    return np.linspace(start, stop, count, endpoint=False).astype(int)\n",
    "print(tweetdeck.iloc[rounded_linspace(0, tweetdeck.shape[0], 10)]['text'])\n",
    "print(twc.iloc[rounded_linspace(0, twc.shape[0], 10)]['text'])\n",
    "\n",
    "# It does look like Twitter Web Client is used more for retweeting,\n",
    "# but it's not obvious which tweets are by Hillary."
   ]
  },
  {
   "cell_type": "markdown",
   "metadata": {},
   "source": [
    "## When in doubt, read...\n",
    "Check Hillary Clinton's [Twitter page](http://twitter.com/HillaryClinton).  It mentions an easy way to identify tweets by the candidate herself.  All other tweets are by her aides."
   ]
  },
  {
   "cell_type": "markdown",
   "metadata": {},
   "source": [
    "#### Question 8\n",
    "Write a function called `is_clinton` that takes a tweet (in JSON) as its argument and returns `True` for personal tweets by Clinton and `False` for tweets by her aides.  Use your function to create a column called `is_personal` in `clinton_df`.\n",
    "\n",
    "*Hint:* You might find the string method `endswith` helpful."
   ]
  },
  {
   "cell_type": "code",
   "execution_count": 18,
   "metadata": {
    "collapsed": true
   },
   "outputs": [],
   "source": [
    "def is_clinton(tweet):\n",
    "    \"\"\"Distinguishes between tweets by Clinton and tweets by her aides.\n",
    "    \n",
    "    Args:\n",
    "        tweet (Status): One tweet.\n",
    "    \n",
    "    Returns:\n",
    "        bool: True if the tweet is written by Clinton herself.\"\"\"\n",
    "    return extract_text(tweet).endswith(\"-H\") #SOLUTION\n",
    "\n",
    "clinton_df['is_personal'] = [is_clinton(t) for t in clinton_tweets] #SOLUTION"
   ]
  },
  {
   "cell_type": "markdown",
   "metadata": {},
   "source": [
    "Now we have identified Clinton's personal tweets.  Let us return to our analysis of sources and see if there was any pattern we could have found.\n",
    "\n",
    "You may recall that Tables from Data 8 have a method called `pivot`, which is useful for cross-classifying a dataset on two categorical attrbiutes.  DataFrames support a more complicated version of pivoting.  The cell below pivots `clinton_df` for you."
   ]
  },
  {
   "cell_type": "code",
   "execution_count": 19,
   "metadata": {
    "collapsed": false
   },
   "outputs": [
    {
     "data": {
      "text/html": [
       "<div>\n",
       "<style>\n",
       "    .dataframe thead tr:only-child th {\n",
       "        text-align: right;\n",
       "    }\n",
       "\n",
       "    .dataframe thead th {\n",
       "        text-align: left;\n",
       "    }\n",
       "\n",
       "    .dataframe tbody tr th {\n",
       "        vertical-align: top;\n",
       "    }\n",
       "</style>\n",
       "<table border=\"1\" class=\"dataframe\">\n",
       "  <thead>\n",
       "    <tr style=\"text-align: right;\">\n",
       "      <th>is_personal</th>\n",
       "      <th>False</th>\n",
       "      <th>True</th>\n",
       "    </tr>\n",
       "    <tr>\n",
       "      <th>source</th>\n",
       "      <th></th>\n",
       "      <th></th>\n",
       "    </tr>\n",
       "  </thead>\n",
       "  <tbody>\n",
       "    <tr>\n",
       "      <th>Media Studio</th>\n",
       "      <td>207</td>\n",
       "      <td>0</td>\n",
       "    </tr>\n",
       "    <tr>\n",
       "      <th>TweetDeck</th>\n",
       "      <td>2373</td>\n",
       "      <td>30</td>\n",
       "    </tr>\n",
       "    <tr>\n",
       "      <th>Twitter Web Client</th>\n",
       "      <td>463</td>\n",
       "      <td>14</td>\n",
       "    </tr>\n",
       "    <tr>\n",
       "      <th>Twitter for iPhone</th>\n",
       "      <td>138</td>\n",
       "      <td>6</td>\n",
       "    </tr>\n",
       "  </tbody>\n",
       "</table>\n",
       "</div>"
      ],
      "text/plain": [
       "is_personal         False  True\n",
       "source                         \n",
       "Media Studio          207     0\n",
       "TweetDeck            2373    30\n",
       "Twitter Web Client    463    14\n",
       "Twitter for iPhone    138     6"
      ]
     },
     "execution_count": 19,
     "metadata": {},
     "output_type": "execute_result"
    }
   ],
   "source": [
    "# This cell is filled in for you; just run it and examine the output.\n",
    "def pivot_count(df, vertical_column, horizontal_column):\n",
    "    \"\"\"Cross-classifies df on two columns.\"\"\"\n",
    "    pivoted = pd.pivot_table(df[[vertical_column, horizontal_column]], index=[vertical_column], columns=[horizontal_column], aggfunc=len, fill_value=0)\n",
    "    return pivoted.rename(columns={False: \"False\", True: \"True\"})\n",
    "\n",
    "clinton_pivoted = pivot_count(clinton_df, 'source', 'is_personal')\n",
    "clinton_pivoted"
   ]
  },
  {
   "cell_type": "markdown",
   "metadata": {},
   "source": [
    "Do Clinton and her aides have different \"signatures\" of tweet sources?  That is, for each tweet they send, does Clinton send tweets from each source with roughly the same frequency as her aides?  It's a little hard to tell from the pivoted table alone."
   ]
  },
  {
   "cell_type": "markdown",
   "metadata": {},
   "source": [
    "#### Question 9\n",
    "Create a visualization to facilitate that comparison.\n",
    "\n",
    "*Hint:* `df.plot.barh` works for DataFrames, too.  But think about what data you want to plot."
   ]
  },
  {
   "cell_type": "code",
   "execution_count": 20,
   "metadata": {
    "collapsed": false,
    "for_assignment_type": "solution"
   },
   "outputs": [
    {
     "data": {
      "image/png": "[encoded data removed]",
      "text/plain": [
       "<matplotlib.figure.Figure at 0x1128dc390>"
      ]
     },
     "metadata": {},
     "output_type": "display_data"
    }
   ],
   "source": [
    "clinton_pivoted[\"aides proportion\"] = clinton_pivoted['False'] / sum(clinton_pivoted['False'])\n",
    "clinton_pivoted[\"clinton proportion\"] = clinton_pivoted['True'] / sum(clinton_pivoted['True'])\n",
    "clinton_pivoted[[\"aides proportion\", \"clinton proportion\"]].plot.barh();"
   ]
  },
  {
   "cell_type": "markdown",
   "metadata": {},
   "source": [
    "You should see that there are some differences, but they aren't large.  Do we need to worry that the differences (or lack thereof) are just \"due to chance\"?\n",
    "\n",
    "Statistician Ani argues as follows:\n",
    "\n",
    "> \"The tweets we see are not a random sample from anything.  We have simply gathered every tweet by @HillaryClinton from the last several months.  It is therefore meaningless to compute, for example, a confidence interval for the rate at which Clinton used TweetDeck.  We have calculated exactly that rate from the data we have.\"\n",
    "\n",
    "Statistician Belinda responds:\n",
    "\n",
    "> \"We are interested in whether Clinton and her aides *behave differently in general* with respect to Twitter client usage in a way that we could use to identify their tweets.  It's plausible to imagine that the tweets we see are a random sample from a huge unobserved population of all the tweets Clinton and her aides *might send*.  We must worry about error due to random chance when we draw conclusions about this population using only the data we have available.\""
   ]
  },
  {
   "cell_type": "markdown",
   "metadata": {},
   "source": [
    "#### Question 10\n",
    "What position would you take on this question?  Choose a side and give one (brief) argument for it, or argue for some third position."
   ]
  },
  {
   "cell_type": "markdown",
   "metadata": {},
   "source": [
    "**SOLUTION:** Here is an argument for Belinda's position.  Imagine that Clinton had tweeted only 5 times.  Then we would probably not think we could come to a valid conclusion about her behavior patterns.  So there is a distinction between the data and an underlying parameter that we're trying to learn about.  *However*, this does not mean it's reasonable to use methods (like the simple bootstrap) that assume the data are a *simple* random sample from the population we're interested in."
   ]
  },
  {
   "cell_type": "markdown",
   "metadata": {},
   "source": [
    "#### Question 11\n",
    "Assume you are convinced by Belinda's argument.  Perform a statistical test of the null hypothesis that the Clinton and aide tweets' sources are all independent samples from the same distribution (that is, that the differences we observe are \"due to chance\").  Briefly describe the test methodology and report your results.\n",
    "\n",
    "*Hint:* If you need a refresher, [this section](https://www.inferentialthinking.com/chapters/16/1/two-categorical-distributions.html) of the Data 8 textbook from Fall 2016 covered this kind of hypothesis test.\n",
    "\n",
    "*Hint 2:* Feel free to use `datascience.Table` to answer this question.  However, it will be advantageous to learn how to do it with `numpy` alone.  In our solution, we used some `numpy` functions you might not be aware of: `np.append`, `np.random.permutation`, `np.bincount`, and `np.count_nonzero`.  We have provided the function `expand_counts`, which should help you solve a tricky problem that will arise."
   ]
  },
  {
   "cell_type": "code",
   "execution_count": 21,
   "metadata": {
    "collapsed": false,
    "for_assignment_type": "solution"
   },
   "outputs": [
    {
     "name": "stdout",
     "output_type": "stream",
     "text": [
      "P-value: 0.001150\n"
     ]
    }
   ],
   "source": [
    "# Use this cell to perform your hypothesis test.\n",
    "\n",
    "def expand_counts(source_counts):\n",
    "    \"\"\"Blow up a list/array of counts of categories into an array of\n",
    "    individuals matching the counts.  For example, we can generate\n",
    "    a list of 2 individuals of type 0, 4 of type 1, and 1 of type 3\n",
    "    as follows:\n",
    "    \n",
    "    >>> expand_counts([2, 4, 0, 1])\n",
    "    array([0, 0, 1, 1, 1, 1, 3])\"\"\"\n",
    "    return np.repeat(np.arange(len(source_counts)), source_counts)\n",
    "\n",
    "def tvd(a, b):\n",
    "    return .5*sum(np.abs(a/sum(a) - b/sum(b)))\n",
    "\n",
    "def test_difference_in_distributions(sample0, sample1, num_trials):\n",
    "    num_sources = len(sample0)\n",
    "    individuals0 = expand_counts(sample0)\n",
    "    individuals1 = expand_counts(sample1)\n",
    "    count0 = len(individuals0)\n",
    "    count1 = len(individuals1)\n",
    "    all_individuals = np.append(individuals0, individuals1)\n",
    "    def simulate_under_null():\n",
    "        permuted_pool = np.random.permutation(all_individuals)\n",
    "        simulated_sample0 = np.bincount(permuted_pool[:count0], minlength=num_sources)\n",
    "        simulated_sample1 = np.bincount(permuted_pool[count0:], minlength=num_sources)\n",
    "        return tvd(simulated_sample0, simulated_sample1)\n",
    "        \n",
    "    actual_tvd = tvd(sample0, sample1)\n",
    "    simulated_tvds = np.array([simulate_under_null() for _ in range(num_trials)])\n",
    "    return np.count_nonzero(simulated_tvds > actual_tvd) / num_trials\n",
    "\n",
    "p_value = test_difference_in_distributions(clinton_pivoted['True'], clinton_pivoted['False'], 100000)\n",
    "print(\"P-value: {:.6f}\".format(p_value))\n",
    "\n"
   ]
  },
  {
   "cell_type": "markdown",
   "metadata": {},
   "source": [
    "**SOLUTION:** We simulated many times under the null hypothesis by pooling the data and permuting the sources.  We found a P-value around .04%, so we have very strong evidence against the null hypothesis that Clinton and her aides tweet from the same distribution of sources.  It's important to note that strong evidence that the difference *is not zero* (which we have found) is very different from evidence that the difference is *large* (which we have not found).  The next question demonstrates this."
   ]
  },
  {
   "cell_type": "markdown",
   "metadata": {},
   "source": [
    "#### Question 12\n",
    "Suppose you sample a random @HillaryClinton tweet and find that it is from the Twitter Web Client.  Your visualization in question 9 should show you that Clinton tweets from this source about twice as frequently as her aides do, so you might imagine it's reasonable to predict that the tweet is by Clinton.  But what is the probability that the tweet is by Clinton?  (You should find a relatively small number.  Clinton's aides tweet much more than she does.  So even though there is a difference in their tweet source usage, it would be difficult to classify tweets this way.)\n",
    "\n",
    "*Hint:* Bayes' rule is covered in [this section](https://www.inferentialthinking.com/chapters/17/1/more-likely-than-not-binary-classifier.html) of the Data 8 textbook."
   ]
  },
  {
   "cell_type": "code",
   "execution_count": 22,
   "metadata": {
    "collapsed": false
   },
   "outputs": [
    {
     "data": {
      "text/plain": [
       "0.029323943701294066"
      ]
     },
     "execution_count": 22,
     "metadata": {},
     "output_type": "execute_result"
    }
   ],
   "source": [
    "probability_clinton = clinton_pivoted.loc['Twitter Web Client']['True'] / sum(clinton_pivoted.loc['Twitter Web Client']) #SOLUTION\n",
    "probability_clinton"
   ]
  },
  {
   "cell_type": "code",
   "execution_count": 23,
   "metadata": {
    "collapsed": false
   },
   "outputs": [
    {
     "name": "stdout",
     "output_type": "stream",
     "text": [
      "~~~~~~~~~~~~~~~~~~~~~~~~~~~~~~~~~~~~~~~~~~~~~~~~~~~~~~~~~~~~~~~~~~~~~\n",
      "Running tests\n",
      "\n",
      "---------------------------------------------------------------------\n",
      "Test summary\n",
      "    Passed: 1\n",
      "    Failed: 0\n",
      "[ooooooooook] 100.0% passed\n",
      "\n"
     ]
    },
    {
     "data": {
      "application/javascript": [
       "IPython.notebook.save_checkpoint();"
      ],
      "text/plain": [
       "<IPython.core.display.Javascript object>"
      ]
     },
     "metadata": {},
     "output_type": "display_data"
    },
    {
     "data": {
      "application/javascript": [
       "IPython.notebook.save_notebook();"
      ],
      "text/plain": [
       "<IPython.core.display.Javascript object>"
      ]
     },
     "metadata": {},
     "output_type": "display_data"
    },
    {
     "name": "stdout",
     "output_type": "stream",
     "text": [
      "Saving notebook... Could not save your notebook. Make sure your notebook is saved before sending it to OK!\n",
      "Backup... 0.0% complete\r",
      "Backup... 100% complete\n",
      "Backup successful for user: doomsplayer@gmail.com\n",
      "\n"
     ]
    }
   ],
   "source": [
    "_ = ok.grade('q12')\n",
    "_ = ok.backup()"
   ]
  },
  {
   "cell_type": "markdown",
   "metadata": {},
   "source": [
    "# Another candidate\n",
    "Our results so far aren't Earth-shattering.  Clinton uses different Twitter clients at slightly different rates than her aides.\n",
    "\n",
    "Now that we've categorized the tweets, we could of course investigate their contents.  A manual analysis (also known as \"reading\") might be interesting, but it is beyond the scope of this course.  And we'll have to wait a few more weeks before we can use a computer to help with such an analysis.\n",
    "\n",
    "Instead, let's repeat our analysis for Donald Trump."
   ]
  },
  {
   "cell_type": "markdown",
   "metadata": {},
   "source": [
    "#### Question 13\n",
    "Download the tweet data for Trump (@realDonaldTrump), and repeat the steps through question 6 to create a table called `trump_df`."
   ]
  },
  {
   "cell_type": "code",
   "execution_count": 24,
   "metadata": {
    "collapsed": true
   },
   "outputs": [],
   "source": [
    "trump_tweets = get_tweets_with_cache(\"realDonaldTrump\", \"keys.json\") #SOLUTION\n",
    "trump_df = make_dataframe(trump_tweets) #SOLUTION"
   ]
  },
  {
   "cell_type": "code",
   "execution_count": 25,
   "metadata": {
    "collapsed": false
   },
   "outputs": [
    {
     "data": {
      "text/html": [
       "<div>\n",
       "<style>\n",
       "    .dataframe thead tr:only-child th {\n",
       "        text-align: right;\n",
       "    }\n",
       "\n",
       "    .dataframe thead th {\n",
       "        text-align: left;\n",
       "    }\n",
       "\n",
       "    .dataframe tbody tr th {\n",
       "        vertical-align: top;\n",
       "    }\n",
       "</style>\n",
       "<table border=\"1\" class=\"dataframe\">\n",
       "  <thead>\n",
       "    <tr style=\"text-align: right;\">\n",
       "      <th></th>\n",
       "      <th>text</th>\n",
       "      <th>created_at</th>\n",
       "      <th>source</th>\n",
       "    </tr>\n",
       "  </thead>\n",
       "  <tbody>\n",
       "    <tr>\n",
       "      <th>0</th>\n",
       "      <td>Do you notice we are not having a gun debate right now? That's because they used knives and a truck!</td>\n",
       "      <td>2017-06-04 11:43:30</td>\n",
       "      <td>Twitter for iPhone</td>\n",
       "    </tr>\n",
       "    <tr>\n",
       "      <th>1</th>\n",
       "      <td>At least 7 dead and 48 wounded in terror attack and Mayor of London says there is \"no reason to be alarmed!\"</td>\n",
       "      <td>2017-06-04 11:31:00</td>\n",
       "      <td>Twitter for iPhone</td>\n",
       "    </tr>\n",
       "    <tr>\n",
       "      <th>2</th>\n",
       "      <td>We must stop being politically correct and get down to the business of security for our people. If we don't get smart it will only get worse</td>\n",
       "      <td>2017-06-04 11:19:47</td>\n",
       "      <td>Twitter for iPhone</td>\n",
       "    </tr>\n",
       "    <tr>\n",
       "      <th>3</th>\n",
       "      <td>Whatever the United States can do to help out in London and the U. K., we will be there - WE ARE WITH YOU. GOD BLESS!</td>\n",
       "      <td>2017-06-03 23:24:45</td>\n",
       "      <td>Twitter for iPhone</td>\n",
       "    </tr>\n",
       "    <tr>\n",
       "      <th>4</th>\n",
       "      <td>We need to be smart, vigilant and tough. We need the courts to give us back our rights. We need the Travel Ban as an extra level of safety!</td>\n",
       "      <td>2017-06-03 23:17:13</td>\n",
       "      <td>Twitter for iPhone</td>\n",
       "    </tr>\n",
       "  </tbody>\n",
       "</table>\n",
       "</div>"
      ],
      "text/plain": [
       "                                                                                                                                           text  \\\n",
       "0                                          Do you notice we are not having a gun debate right now? That's because they used knives and a truck!   \n",
       "1                                  At least 7 dead and 48 wounded in terror attack and Mayor of London says there is \"no reason to be alarmed!\"   \n",
       "2  We must stop being politically correct and get down to the business of security for our people. If we don't get smart it will only get worse   \n",
       "3                         Whatever the United States can do to help out in London and the U. K., we will be there - WE ARE WITH YOU. GOD BLESS!   \n",
       "4   We need to be smart, vigilant and tough. We need the courts to give us back our rights. We need the Travel Ban as an extra level of safety!   \n",
       "\n",
       "           created_at              source  \n",
       "0 2017-06-04 11:43:30  Twitter for iPhone  \n",
       "1 2017-06-04 11:31:00  Twitter for iPhone  \n",
       "2 2017-06-04 11:19:47  Twitter for iPhone  \n",
       "3 2017-06-03 23:24:45  Twitter for iPhone  \n",
       "4 2017-06-03 23:17:13  Twitter for iPhone  "
      ]
     },
     "execution_count": 25,
     "metadata": {},
     "output_type": "execute_result"
    }
   ],
   "source": [
    "trump_df.head()"
   ]
  },
  {
   "cell_type": "markdown",
   "metadata": {},
   "source": [
    "#### Question 14\n",
    "Make a bar chart of the sources of Trump tweets."
   ]
  },
  {
   "cell_type": "code",
   "execution_count": 26,
   "metadata": {
    "collapsed": false
   },
   "outputs": [
    {
     "data": {
      "image/png": "[encoded data removed]",
      "text/plain": [
       "<matplotlib.figure.Figure at 0x1129d8518>"
      ]
     },
     "metadata": {},
     "output_type": "display_data"
    }
   ],
   "source": [
    "trump_df['source'].value_counts().sort_index().plot.barh(); #SOLUTION"
   ]
  },
  {
   "cell_type": "markdown",
   "metadata": {},
   "source": [
    "You should find two major sources of tweets.\n",
    "\n",
    "It is reported (for example, in [this Gawker article](http://gawker.com/our-trump-twitter-bot-filters-out-donald-trumps-new-han-1783906386)) that Trump himself uses an Android phone (a Samsung Galaxy), while his aides use iPhones.  But Trump has not confirmed this.  Also, he has reportedly [switched phones](http://indiatoday.intoday.in/technology/story/which-phone-will-president-donald-trump-use-a-blackberry-that-cant-even-click-pics/1/862350.html) since his inauguration!  How might we verify whether this is a way to identify his tweets?\n",
    "\n",
    "A retweet is a tweet that replies to (or simply repeats) a tweet by another user.  Twitter provides several mechanisms for this, as explained in [this article](https://blog.hubspot.com/blog/tabid/6307/bid/27675/How-to-Retweet-the-Right-Way-in-4-Easy-Steps.aspx#sm.00001bz3cbt3sqe1kyf4eavc4lj9a).  However, Trump has an unusual way of retweeting: He simply adds the original sender's name to the original message, puts everything in quotes, and then adds his own comments at the end.\n",
    "\n",
    "For example, this is a tweet by user @melissa7889:\n",
    "\n",
    "        @realDonaldTrump @JRACKER33 you should run for president!\n",
    "\n",
    "Here is Trump's retweet of this, from 2013:\n",
    "\n",
    "        \"@melissa7889: @realDonaldTrump @JRACKER33 you should run for president!\" Thanks,very nice!\n",
    "\n",
    "Since 2015, the usual way of retweeting this message, and the method used by Trump's aides (but not Trump himself), would have been:\n",
    "\n",
    "        Thanks,very nice! RT @melissa7889: @realDonaldTrump @JRACKER33 you should run for president!"
   ]
  },
  {
   "cell_type": "markdown",
   "metadata": {},
   "source": [
    "#### Question 15\n",
    "Write a function to identify Trump-style retweets, and another function to identify the aide-style retweets.  Then, use them to create a function called `tweet_type` that takes a tweet as its argument and returns values `\"Trump retweet\"`, `\"Aide retweet\"`, and `\"Not a retweet\"` as appropriate.  Use your function to add a `'tweet_type'` column to `trump_df`.\n",
    "\n",
    "*Hint:* Try the string method `startswith` and the Python keyword `in`."
   ]
  },
  {
   "cell_type": "code",
   "execution_count": 27,
   "metadata": {
    "collapsed": false,
    "for_assignment_type": "solution"
   },
   "outputs": [],
   "source": [
    "def is_trump_style_retweet(tweet_text):\n",
    "    \"\"\"Returns True if tweet_text looks like a Trump-style retweet.\"\"\"\n",
    "    return tweet_text.startswith('\"@')\n",
    "    \n",
    "def is_aide_style_retweet(tweet_text):\n",
    "    \"\"\"Returns True if tweet_text looks like an aide-style retweet.\"\"\"\n",
    "    return \"RT @\" in tweet_text\n",
    "\n",
    "def tweet_type(tweet_text):\n",
    "    \"\"\"Returns \"Trump retweet\", \"Aide retweet\", or \"Not a retweet\"\n",
    "    as appropriate.\"\"\"\n",
    "    if is_trump_style_retweet(tweet_text):\n",
    "        return \"Trump retweet\"\n",
    "    elif is_aide_style_retweet(tweet_text):\n",
    "        return \"Aide retweet\"\n",
    "    return \"Not a retweet\"\n",
    "\n",
    "trump_df['tweet_type'] = [tweet_type(t) for t in trump_df['text']]"
   ]
  },
  {
   "cell_type": "code",
   "execution_count": 28,
   "metadata": {
    "collapsed": false
   },
   "outputs": [
    {
     "data": {
      "text/html": [
       "<div>\n",
       "<style>\n",
       "    .dataframe thead tr:only-child th {\n",
       "        text-align: right;\n",
       "    }\n",
       "\n",
       "    .dataframe thead th {\n",
       "        text-align: left;\n",
       "    }\n",
       "\n",
       "    .dataframe tbody tr th {\n",
       "        vertical-align: top;\n",
       "    }\n",
       "</style>\n",
       "<table border=\"1\" class=\"dataframe\">\n",
       "  <thead>\n",
       "    <tr style=\"text-align: right;\">\n",
       "      <th></th>\n",
       "      <th>text</th>\n",
       "      <th>created_at</th>\n",
       "      <th>source</th>\n",
       "      <th>tweet_type</th>\n",
       "    </tr>\n",
       "  </thead>\n",
       "  <tbody>\n",
       "    <tr>\n",
       "      <th>0</th>\n",
       "      <td>Do you notice we are not having a gun debate right now? That's because they used knives and a truck!</td>\n",
       "      <td>2017-06-04 11:43:30</td>\n",
       "      <td>Twitter for iPhone</td>\n",
       "      <td>Not a retweet</td>\n",
       "    </tr>\n",
       "    <tr>\n",
       "      <th>1</th>\n",
       "      <td>At least 7 dead and 48 wounded in terror attack and Mayor of London says there is \"no reason to be alarmed!\"</td>\n",
       "      <td>2017-06-04 11:31:00</td>\n",
       "      <td>Twitter for iPhone</td>\n",
       "      <td>Not a retweet</td>\n",
       "    </tr>\n",
       "    <tr>\n",
       "      <th>2</th>\n",
       "      <td>We must stop being politically correct and get down to the business of security for our people. If we don't get smart it will only get worse</td>\n",
       "      <td>2017-06-04 11:19:47</td>\n",
       "      <td>Twitter for iPhone</td>\n",
       "      <td>Not a retweet</td>\n",
       "    </tr>\n",
       "    <tr>\n",
       "      <th>3</th>\n",
       "      <td>Whatever the United States can do to help out in London and the U. K., we will be there - WE ARE WITH YOU. GOD BLESS!</td>\n",
       "      <td>2017-06-03 23:24:45</td>\n",
       "      <td>Twitter for iPhone</td>\n",
       "      <td>Not a retweet</td>\n",
       "    </tr>\n",
       "    <tr>\n",
       "      <th>4</th>\n",
       "      <td>We need to be smart, vigilant and tough. We need the courts to give us back our rights. We need the Travel Ban as an extra level of safety!</td>\n",
       "      <td>2017-06-03 23:17:13</td>\n",
       "      <td>Twitter for iPhone</td>\n",
       "      <td>Not a retweet</td>\n",
       "    </tr>\n",
       "    <tr>\n",
       "      <th>5</th>\n",
       "      <td>RT @DRUDGE_REPORT: Fears of new terror attack after van 'mows down 20 people' on London Bridge...</td>\n",
       "      <td>2017-06-03 23:01:54</td>\n",
       "      <td>Twitter for iPhone</td>\n",
       "      <td>Aide retweet</td>\n",
       "    </tr>\n",
       "    <tr>\n",
       "      <th>6</th>\n",
       "      <td>#WeeklyAddress🇺🇸 https://t.co/DNzRZiKxhd</td>\n",
       "      <td>2017-06-03 19:35:33</td>\n",
       "      <td>Twitter Ads</td>\n",
       "      <td>Not a retweet</td>\n",
       "    </tr>\n",
       "    <tr>\n",
       "      <th>7</th>\n",
       "      <td>#MakeAmericaGreatAgain🇺🇸\\nhttps://t.co/eJxeVZ3A1r</td>\n",
       "      <td>2017-06-02 18:30:41</td>\n",
       "      <td>Twitter for iPhone</td>\n",
       "      <td>Not a retweet</td>\n",
       "    </tr>\n",
       "    <tr>\n",
       "      <th>8</th>\n",
       "      <td>RT @EricTrump: #MakeAmericaGreatAgain!!! 🇺🇸🇺🇸 https://t.co/MStWl628xe</td>\n",
       "      <td>2017-06-02 10:40:22</td>\n",
       "      <td>Twitter for iPhone</td>\n",
       "      <td>Aide retweet</td>\n",
       "    </tr>\n",
       "    <tr>\n",
       "      <th>9</th>\n",
       "      <td>RT @HeyTammyBruce: Coming up at 720a ET on @foxandfriends! See you there! 🇺🇸 #maga</td>\n",
       "      <td>2017-06-02 10:35:32</td>\n",
       "      <td>Twitter for iPhone</td>\n",
       "      <td>Aide retweet</td>\n",
       "    </tr>\n",
       "    <tr>\n",
       "      <th>10</th>\n",
       "      <td>RT @LindseyGrahamSC: I support President Trump’s desire to re-enter the Paris Accord after the agreement becomes a better deal for America…</td>\n",
       "      <td>2017-06-02 10:34:42</td>\n",
       "      <td>Twitter for iPhone</td>\n",
       "      <td>Aide retweet</td>\n",
       "    </tr>\n",
       "    <tr>\n",
       "      <th>11</th>\n",
       "      <td>RT @Reince45: Promise kept. @POTUS exits flawed #ParisAccord to seek better deal for U.S. workers &amp;amp; economy. This WH will always put #Ameri…</td>\n",
       "      <td>2017-06-02 10:33:37</td>\n",
       "      <td>Twitter for iPhone</td>\n",
       "      <td>Aide retweet</td>\n",
       "    </tr>\n",
       "    <tr>\n",
       "      <th>12</th>\n",
       "      <td>RT @GOPLeader: .@POTUS made the right call in leaving a deal that would have put an unnecessary burden on the United States. https://t.co/q…</td>\n",
       "      <td>2017-06-02 10:32:39</td>\n",
       "      <td>Twitter for iPhone</td>\n",
       "      <td>Aide retweet</td>\n",
       "    </tr>\n",
       "    <tr>\n",
       "      <th>13</th>\n",
       "      <td>RT @Jim_Jordan: President Trump did the right thing by withdrawing us from Paris treaty - it would hurt American companies and American wor…</td>\n",
       "      <td>2017-06-02 10:32:10</td>\n",
       "      <td>Twitter for iPhone</td>\n",
       "      <td>Aide retweet</td>\n",
       "    </tr>\n",
       "    <tr>\n",
       "      <th>14</th>\n",
       "      <td>RT @VP: Our President is choosing to put American jobs, American consumers, American energy, and American industry first. https://t.co/y2Op…</td>\n",
       "      <td>2017-06-02 10:31:03</td>\n",
       "      <td>Twitter for iPhone</td>\n",
       "      <td>Aide retweet</td>\n",
       "    </tr>\n",
       "    <tr>\n",
       "      <th>15</th>\n",
       "      <td>RT @foxandfriends: Wall Street hits record highs after Trump pulls out of Climate pact https://t.co/PDmwj13Lus</td>\n",
       "      <td>2017-06-02 10:08:24</td>\n",
       "      <td>Twitter for iPhone</td>\n",
       "      <td>Aide retweet</td>\n",
       "    </tr>\n",
       "    <tr>\n",
       "      <th>16</th>\n",
       "      <td>MAKE AMERICA GREAT AGAIN!</td>\n",
       "      <td>2017-06-02 01:00:35</td>\n",
       "      <td>Twitter for iPhone</td>\n",
       "      <td>Not a retweet</td>\n",
       "    </tr>\n",
       "    <tr>\n",
       "      <th>17</th>\n",
       "      <td>My job as President is to do everything within my power to give America a level playing field. #AmericaFirst🇺🇸\\n➡️… https://t.co/hL7OwbWzyi</td>\n",
       "      <td>2017-06-01 22:50:29</td>\n",
       "      <td>Twitter Ads</td>\n",
       "      <td>Not a retweet</td>\n",
       "    </tr>\n",
       "    <tr>\n",
       "      <th>18</th>\n",
       "      <td>Join me live at the @WhiteHouse.\\n\\n➡️https://t.co/9VOb99W42r https://t.co/sjb5VHLHYH</td>\n",
       "      <td>2017-06-01 19:03:10</td>\n",
       "      <td>Twitter for iPhone</td>\n",
       "      <td>Not a retweet</td>\n",
       "    </tr>\n",
       "    <tr>\n",
       "      <th>19</th>\n",
       "      <td>The big story is the \"unmasking and surveillance\" of people that took place during the Obama Administration.</td>\n",
       "      <td>2017-06-01 11:05:21</td>\n",
       "      <td>Twitter for iPhone</td>\n",
       "      <td>Not a retweet</td>\n",
       "    </tr>\n",
       "    <tr>\n",
       "      <th>20</th>\n",
       "      <td>I will be announcing my decision on Paris Accord, Thursday at 3:00 P.M.  The White House Rose Garden.  MAKE AMERICA GREAT AGAIN!</td>\n",
       "      <td>2017-06-01 01:05:17</td>\n",
       "      <td>Twitter for iPhone</td>\n",
       "      <td>Not a retweet</td>\n",
       "    </tr>\n",
       "    <tr>\n",
       "      <th>21</th>\n",
       "      <td>Crooked Hillary Clinton now blames everybody but herself, refuses to say she was a terrible candidate. Hits Facebook &amp;amp; even Dems &amp;amp; DNC.</td>\n",
       "      <td>2017-06-01 00:40:01</td>\n",
       "      <td>Twitter for iPhone</td>\n",
       "      <td>Not a retweet</td>\n",
       "    </tr>\n",
       "    <tr>\n",
       "      <th>22</th>\n",
       "      <td>It was an honor to welcome the Prime Minister of Vietnam, Nguyễn Xuân Phúc to the @WhiteHouse this afternoon. https://t.co/6YbrIvJUCY</td>\n",
       "      <td>2017-05-31 21:52:54</td>\n",
       "      <td>Twitter for iPhone</td>\n",
       "      <td>Not a retweet</td>\n",
       "    </tr>\n",
       "    <tr>\n",
       "      <th>23</th>\n",
       "      <td>We traveled the world to strengthen long-standing alliances, and to form new partnerships. See more at:… https://t.co/FT4kyPoAl0</td>\n",
       "      <td>2017-05-31 20:04:45</td>\n",
       "      <td>Twitter Ads</td>\n",
       "      <td>Not a retweet</td>\n",
       "    </tr>\n",
       "    <tr>\n",
       "      <th>24</th>\n",
       "      <td>I will be announcing my decision on the Paris Accord over the next few days. MAKE AMERICA GREAT AGAIN!</td>\n",
       "      <td>2017-05-31 13:08:41</td>\n",
       "      <td>Twitter for iPhone</td>\n",
       "      <td>Not a retweet</td>\n",
       "    </tr>\n",
       "    <tr>\n",
       "      <th>25</th>\n",
       "      <td>Hopefully Republican Senators, good people all, can quickly get together and pass a new (repeal &amp;amp; replace) HEALTHCARE bill. Add saved $'s.</td>\n",
       "      <td>2017-05-31 13:05:14</td>\n",
       "      <td>Twitter for iPhone</td>\n",
       "      <td>Not a retweet</td>\n",
       "    </tr>\n",
       "    <tr>\n",
       "      <th>26</th>\n",
       "      <td>Kathy Griffin should be ashamed of herself. My children, especially my 11 year old son, Barron, are having a hard time with this. Sick!</td>\n",
       "      <td>2017-05-31 11:14:48</td>\n",
       "      <td>Twitter for iPhone</td>\n",
       "      <td>Not a retweet</td>\n",
       "    </tr>\n",
       "    <tr>\n",
       "      <th>27</th>\n",
       "      <td>...case against him &amp;amp; now wants to clear his name by showing \"the false or misleading testimony by James Comey, John Brennan...\" Witch Hunt!</td>\n",
       "      <td>2017-05-31 10:45:27</td>\n",
       "      <td>Twitter for iPhone</td>\n",
       "      <td>Not a retweet</td>\n",
       "    </tr>\n",
       "    <tr>\n",
       "      <th>28</th>\n",
       "      <td>So now it is reported that the Democrats, who have excoriated Carter Page about Russia, don't want him to testify. He blows away their....</td>\n",
       "      <td>2017-05-31 10:37:42</td>\n",
       "      <td>Twitter for iPhone</td>\n",
       "      <td>Not a retweet</td>\n",
       "    </tr>\n",
       "    <tr>\n",
       "      <th>29</th>\n",
       "      <td>Who can figure out the true meaning of \"covfefe\" ???  Enjoy!</td>\n",
       "      <td>2017-05-31 10:09:22</td>\n",
       "      <td>Twitter for iPhone</td>\n",
       "      <td>Not a retweet</td>\n",
       "    </tr>\n",
       "    <tr>\n",
       "      <th>...</th>\n",
       "      <td>...</td>\n",
       "      <td>...</td>\n",
       "      <td>...</td>\n",
       "      <td>...</td>\n",
       "    </tr>\n",
       "    <tr>\n",
       "      <th>3213</th>\n",
       "      <td>I hear @JoeNBC of rapidly fading @Morning_Joe is pushing hard for a third party candidate to run. This will guarantee a Crooked Hillary win.</td>\n",
       "      <td>2016-05-06 18:25:27</td>\n",
       "      <td>Twitter for iPhone</td>\n",
       "      <td>Not a retweet</td>\n",
       "    </tr>\n",
       "    <tr>\n",
       "      <th>3214</th>\n",
       "      <td>Joe Scarborough initially endorsed Jeb Bush and Jeb crashed, then John Kasich and that didn't work. Not much power or insight!</td>\n",
       "      <td>2016-05-06 18:03:34</td>\n",
       "      <td>Twitter for iPhone</td>\n",
       "      <td>Not a retweet</td>\n",
       "    </tr>\n",
       "    <tr>\n",
       "      <th>3215</th>\n",
       "      <td>Thank you to teachers across America! When I become POTUS we will make education a far more important component of our life than it is now.</td>\n",
       "      <td>2016-05-06 16:08:23</td>\n",
       "      <td>Twitter Web Client</td>\n",
       "      <td>Not a retweet</td>\n",
       "    </tr>\n",
       "    <tr>\n",
       "      <th>3216</th>\n",
       "      <td>Crooked Hillary has ZERO leadership ability. As Bernie Sanders says, she has bad judgement. Constantly playing the women's card - it is sad!</td>\n",
       "      <td>2016-05-06 12:38:38</td>\n",
       "      <td>Twitter for Android</td>\n",
       "      <td>Not a retweet</td>\n",
       "    </tr>\n",
       "    <tr>\n",
       "      <th>3217</th>\n",
       "      <td>Paul Ryan said that I inherited something very special, the Republican Party. Wrong, I didn't inherit it, I won it with millions of voters!</td>\n",
       "      <td>2016-05-06 12:08:37</td>\n",
       "      <td>Twitter for Android</td>\n",
       "      <td>Not a retweet</td>\n",
       "    </tr>\n",
       "    <tr>\n",
       "      <th>3218</th>\n",
       "      <td>\"@Ausbiz:  Many would say that you are the only talented person running for the top job this time! #MakeAmericaGreatAgain #TrumpTrain\"</td>\n",
       "      <td>2016-05-06 11:50:19</td>\n",
       "      <td>Twitter for Android</td>\n",
       "      <td>Trump retweet</td>\n",
       "    </tr>\n",
       "    <tr>\n",
       "      <th>3219</th>\n",
       "      <td>So many great endorsements yesterday, except for Paul Ryan! We must put America first and MAKE AMERICA GREAT AGAIN!</td>\n",
       "      <td>2016-05-06 10:26:43</td>\n",
       "      <td>Twitter for Android</td>\n",
       "      <td>Not a retweet</td>\n",
       "    </tr>\n",
       "    <tr>\n",
       "      <th>3220</th>\n",
       "      <td>Governor Rick Perry said \"Donald Trump is one of the most talented people running for the Presidency I've ever seen.\" Thank you Rick!</td>\n",
       "      <td>2016-05-06 10:19:08</td>\n",
       "      <td>Twitter for Android</td>\n",
       "      <td>Not a retweet</td>\n",
       "    </tr>\n",
       "    <tr>\n",
       "      <th>3221</th>\n",
       "      <td>Unlike crooked Hillary Clinton, who wants to destroy all miners, I want wages to go up in America. We will do so by bringing back jobs!</td>\n",
       "      <td>2016-05-06 10:14:56</td>\n",
       "      <td>Twitter for Android</td>\n",
       "      <td>Not a retweet</td>\n",
       "    </tr>\n",
       "    <tr>\n",
       "      <th>3222</th>\n",
       "      <td>Thank you West Virginia. Let's keep it going. Go out and vote on Tuesday - we will win big. #Trump2016</td>\n",
       "      <td>2016-05-06 03:19:09</td>\n",
       "      <td>Twitter for iPhone</td>\n",
       "      <td>Not a retweet</td>\n",
       "    </tr>\n",
       "    <tr>\n",
       "      <th>3223</th>\n",
       "      <td>Can you believe Crooked Hillary said, \"We are going to put a whole lot of coal miners&amp;amp;coal companies out of business.\" She then apologized.</td>\n",
       "      <td>2016-05-06 01:57:05</td>\n",
       "      <td>Twitter for iPhone</td>\n",
       "      <td>Not a retweet</td>\n",
       "    </tr>\n",
       "    <tr>\n",
       "      <th>3224</th>\n",
       "      <td>Join me tomorrow! #Trump2016 \\n#MakeAmericaGreatAgain \\n\\nOmaha, Nebraska:\\nhttps://t.co/2OWQIlNutu\\n\\nEugene, Oregon:\\nhttps://t.co/oroTbvsNdQ</td>\n",
       "      <td>2016-05-05 23:28:31</td>\n",
       "      <td>Twitter for iPhone</td>\n",
       "      <td>Not a retweet</td>\n",
       "    </tr>\n",
       "    <tr>\n",
       "      <th>3225</th>\n",
       "      <td>Bernie Sanders has been treated terribly by the Democrats—both with delegates &amp;amp; otherwise. He should show them, &amp;amp; run as an Independent.</td>\n",
       "      <td>2016-05-05 19:30:32</td>\n",
       "      <td>Twitter Web Client</td>\n",
       "      <td>Not a retweet</td>\n",
       "    </tr>\n",
       "    <tr>\n",
       "      <th>3226</th>\n",
       "      <td>Happy #CincoDeMayo! The best taco bowls are made in Trump Tower Grill. I love Hispanics! https://t.co/ufoTeQd8yA https://t.co/k01Mc6CuDI</td>\n",
       "      <td>2016-05-05 18:57:30</td>\n",
       "      <td>Twitter for iPhone</td>\n",
       "      <td>Not a retweet</td>\n",
       "    </tr>\n",
       "    <tr>\n",
       "      <th>3227</th>\n",
       "      <td>I will be interviewed by @BretBaier @SpecialReport at 6pm ET tonight @FoxNews</td>\n",
       "      <td>2016-05-05 18:37:47</td>\n",
       "      <td>Twitter Web Client</td>\n",
       "      <td>Not a retweet</td>\n",
       "    </tr>\n",
       "    <tr>\n",
       "      <th>3228</th>\n",
       "      <td>Many reports that I will be attending the Alvarez/Khan fight this weekend in Vegas. Totally untrue! Unfortunately I have other plans.</td>\n",
       "      <td>2016-05-05 14:29:40</td>\n",
       "      <td>Twitter Web Client</td>\n",
       "      <td>Not a retweet</td>\n",
       "    </tr>\n",
       "    <tr>\n",
       "      <th>3229</th>\n",
       "      <td>Join me in Charleston, WV - tomorrow! https://t.co/kv624y9UOm</td>\n",
       "      <td>2016-05-04 16:31:05</td>\n",
       "      <td>Twitter for iPhone</td>\n",
       "      <td>Not a retweet</td>\n",
       "    </tr>\n",
       "    <tr>\n",
       "      <th>3230</th>\n",
       "      <td>I will be interviewed on @foxandfriends at 7:30 A.M. Enjoy!</td>\n",
       "      <td>2016-05-04 10:12:54</td>\n",
       "      <td>Twitter for Android</td>\n",
       "      <td>Not a retweet</td>\n",
       "    </tr>\n",
       "    <tr>\n",
       "      <th>3231</th>\n",
       "      <td>I will be interviewed on @TODAYshow and Good Morning America at 7:00 A.M.</td>\n",
       "      <td>2016-05-04 10:09:36</td>\n",
       "      <td>Twitter for Android</td>\n",
       "      <td>Not a retweet</td>\n",
       "    </tr>\n",
       "    <tr>\n",
       "      <th>3232</th>\n",
       "      <td>I will be interviewed on @Morning_Joe at 6:15 A.M. Enjoy!</td>\n",
       "      <td>2016-05-04 10:04:23</td>\n",
       "      <td>Twitter for Android</td>\n",
       "      <td>Not a retweet</td>\n",
       "    </tr>\n",
       "    <tr>\n",
       "      <th>3233</th>\n",
       "      <td>I would rather run against Crooked Hillary Clinton than Bernie Sanders and that will happen because the books are cooked against Bernie!</td>\n",
       "      <td>2016-05-04 09:44:28</td>\n",
       "      <td>Twitter for Android</td>\n",
       "      <td>Not a retweet</td>\n",
       "    </tr>\n",
       "    <tr>\n",
       "      <th>3234</th>\n",
       "      <td>What a great evening we had. So interesting that Sanders beat Crooked Hillary. The dysfunctional system is totally rigged against him!</td>\n",
       "      <td>2016-05-04 09:25:10</td>\n",
       "      <td>Twitter for Android</td>\n",
       "      <td>Not a retweet</td>\n",
       "    </tr>\n",
       "    <tr>\n",
       "      <th>3235</th>\n",
       "      <td>.@oreillyfactor  Please correct, I WON Virginia!</td>\n",
       "      <td>2016-05-04 04:00:46</td>\n",
       "      <td>Twitter for Android</td>\n",
       "      <td>Not a retweet</td>\n",
       "    </tr>\n",
       "    <tr>\n",
       "      <th>3236</th>\n",
       "      <td>Thank you Indiana, we were just projected to be the winner. We have won in every category. You are very special people-I will never forget!</td>\n",
       "      <td>2016-05-03 23:38:34</td>\n",
       "      <td>Twitter for Android</td>\n",
       "      <td>Not a retweet</td>\n",
       "    </tr>\n",
       "    <tr>\n",
       "      <th>3237</th>\n",
       "      <td>Thank you Indiana! #Trump2016\\n#MakeAmericaGreatAgain https://t.co/G4JlShRA6I</td>\n",
       "      <td>2016-05-03 23:14:30</td>\n",
       "      <td>Twitter for iPhone</td>\n",
       "      <td>Not a retweet</td>\n",
       "    </tr>\n",
       "    <tr>\n",
       "      <th>3238</th>\n",
       "      <td>Lyin' Ted Cruz consistently said that he will, and must, win Indiana. If he doesn't he should drop out of the race-stop wasting time &amp;amp; money</td>\n",
       "      <td>2016-05-03 23:08:44</td>\n",
       "      <td>Twitter for Android</td>\n",
       "      <td>Not a retweet</td>\n",
       "    </tr>\n",
       "    <tr>\n",
       "      <th>3239</th>\n",
       "      <td>Wow, Lyin' Ted Cruz really went wacko today. Made all sorts of crazy charges. Can't function under pressure - not very presidential. Sad!</td>\n",
       "      <td>2016-05-03 23:02:55</td>\n",
       "      <td>Twitter for Android</td>\n",
       "      <td>Not a retweet</td>\n",
       "    </tr>\n",
       "    <tr>\n",
       "      <th>3240</th>\n",
       "      <td>MAKE AMERICA GREAT AGAIN!\\n#INPrimary #VoteTrump \\nhttps://t.co/TI27thMZEI</td>\n",
       "      <td>2016-05-03 18:29:03</td>\n",
       "      <td>Twitter for iPhone</td>\n",
       "      <td>Not a retweet</td>\n",
       "    </tr>\n",
       "    <tr>\n",
       "      <th>3241</th>\n",
       "      <td>Polls close at 6pm! #INPrimary #Trump2016 #VoteTrump \\nhttps://t.co/DT9WkYAGEK</td>\n",
       "      <td>2016-05-03 16:50:10</td>\n",
       "      <td>Twitter for iPhone</td>\n",
       "      <td>Not a retweet</td>\n",
       "    </tr>\n",
       "    <tr>\n",
       "      <th>3242</th>\n",
       "      <td>Thank you America! #Trump2016 \\nhttps://t.co/tiExz8YhFT https://t.co/Hkt3YNccb0</td>\n",
       "      <td>2016-05-03 15:31:51</td>\n",
       "      <td>Twitter for iPhone</td>\n",
       "      <td>Not a retweet</td>\n",
       "    </tr>\n",
       "  </tbody>\n",
       "</table>\n",
       "<p>3243 rows × 4 columns</p>\n",
       "</div>"
      ],
      "text/plain": [
       "                                                                                                                                                  text  \\\n",
       "0                                                 Do you notice we are not having a gun debate right now? That's because they used knives and a truck!   \n",
       "1                                         At least 7 dead and 48 wounded in terror attack and Mayor of London says there is \"no reason to be alarmed!\"   \n",
       "2         We must stop being politically correct and get down to the business of security for our people. If we don't get smart it will only get worse   \n",
       "3                                Whatever the United States can do to help out in London and the U. K., we will be there - WE ARE WITH YOU. GOD BLESS!   \n",
       "4          We need to be smart, vigilant and tough. We need the courts to give us back our rights. We need the Travel Ban as an extra level of safety!   \n",
       "5                                                    RT @DRUDGE_REPORT: Fears of new terror attack after van 'mows down 20 people' on London Bridge...   \n",
       "6                                                                                                             #WeeklyAddress🇺🇸 https://t.co/DNzRZiKxhd   \n",
       "7                                                                                                    #MakeAmericaGreatAgain🇺🇸\\nhttps://t.co/eJxeVZ3A1r   \n",
       "8                                                                                RT @EricTrump: #MakeAmericaGreatAgain!!! 🇺🇸🇺🇸 https://t.co/MStWl628xe   \n",
       "9                                                                   RT @HeyTammyBruce: Coming up at 720a ET on @foxandfriends! See you there! 🇺🇸 #maga   \n",
       "10         RT @LindseyGrahamSC: I support President Trump’s desire to re-enter the Paris Accord after the agreement becomes a better deal for America…   \n",
       "11    RT @Reince45: Promise kept. @POTUS exits flawed #ParisAccord to seek better deal for U.S. workers &amp; economy. This WH will always put #Ameri…   \n",
       "12        RT @GOPLeader: .@POTUS made the right call in leaving a deal that would have put an unnecessary burden on the United States. https://t.co/q…   \n",
       "13        RT @Jim_Jordan: President Trump did the right thing by withdrawing us from Paris treaty - it would hurt American companies and American wor…   \n",
       "14        RT @VP: Our President is choosing to put American jobs, American consumers, American energy, and American industry first. https://t.co/y2Op…   \n",
       "15                                      RT @foxandfriends: Wall Street hits record highs after Trump pulls out of Climate pact https://t.co/PDmwj13Lus   \n",
       "16                                                                                                                           MAKE AMERICA GREAT AGAIN!   \n",
       "17         My job as President is to do everything within my power to give America a level playing field. #AmericaFirst🇺🇸\\n➡️… https://t.co/hL7OwbWzyi   \n",
       "18                                                               Join me live at the @WhiteHouse.\\n\\n➡️https://t.co/9VOb99W42r https://t.co/sjb5VHLHYH   \n",
       "19                                        The big story is the \"unmasking and surveillance\" of people that took place during the Obama Administration.   \n",
       "20                    I will be announcing my decision on Paris Accord, Thursday at 3:00 P.M.  The White House Rose Garden.  MAKE AMERICA GREAT AGAIN!   \n",
       "21     Crooked Hillary Clinton now blames everybody but herself, refuses to say she was a terrible candidate. Hits Facebook &amp; even Dems &amp; DNC.   \n",
       "22               It was an honor to welcome the Prime Minister of Vietnam, Nguyễn Xuân Phúc to the @WhiteHouse this afternoon. https://t.co/6YbrIvJUCY   \n",
       "23                    We traveled the world to strengthen long-standing alliances, and to form new partnerships. See more at:… https://t.co/FT4kyPoAl0   \n",
       "24                                              I will be announcing my decision on the Paris Accord over the next few days. MAKE AMERICA GREAT AGAIN!   \n",
       "25      Hopefully Republican Senators, good people all, can quickly get together and pass a new (repeal &amp; replace) HEALTHCARE bill. Add saved $'s.   \n",
       "26             Kathy Griffin should be ashamed of herself. My children, especially my 11 year old son, Barron, are having a hard time with this. Sick!   \n",
       "27    ...case against him &amp; now wants to clear his name by showing \"the false or misleading testimony by James Comey, John Brennan...\" Witch Hunt!   \n",
       "28          So now it is reported that the Democrats, who have excoriated Carter Page about Russia, don't want him to testify. He blows away their....   \n",
       "29                                                                                        Who can figure out the true meaning of \"covfefe\" ???  Enjoy!   \n",
       "...                                                                                                                                                ...   \n",
       "3213      I hear @JoeNBC of rapidly fading @Morning_Joe is pushing hard for a third party candidate to run. This will guarantee a Crooked Hillary win.   \n",
       "3214                    Joe Scarborough initially endorsed Jeb Bush and Jeb crashed, then John Kasich and that didn't work. Not much power or insight!   \n",
       "3215       Thank you to teachers across America! When I become POTUS we will make education a far more important component of our life than it is now.   \n",
       "3216      Crooked Hillary has ZERO leadership ability. As Bernie Sanders says, she has bad judgement. Constantly playing the women's card - it is sad!   \n",
       "3217       Paul Ryan said that I inherited something very special, the Republican Party. Wrong, I didn't inherit it, I won it with millions of voters!   \n",
       "3218            \"@Ausbiz:  Many would say that you are the only talented person running for the top job this time! #MakeAmericaGreatAgain #TrumpTrain\"   \n",
       "3219                               So many great endorsements yesterday, except for Paul Ryan! We must put America first and MAKE AMERICA GREAT AGAIN!   \n",
       "3220             Governor Rick Perry said \"Donald Trump is one of the most talented people running for the Presidency I've ever seen.\" Thank you Rick!   \n",
       "3221           Unlike crooked Hillary Clinton, who wants to destroy all miners, I want wages to go up in America. We will do so by bringing back jobs!   \n",
       "3222                                            Thank you West Virginia. Let's keep it going. Go out and vote on Tuesday - we will win big. #Trump2016   \n",
       "3223   Can you believe Crooked Hillary said, \"We are going to put a whole lot of coal miners&amp;coal companies out of business.\" She then apologized.   \n",
       "3224   Join me tomorrow! #Trump2016 \\n#MakeAmericaGreatAgain \\n\\nOmaha, Nebraska:\\nhttps://t.co/2OWQIlNutu\\n\\nEugene, Oregon:\\nhttps://t.co/oroTbvsNdQ   \n",
       "3225  Bernie Sanders has been treated terribly by the Democrats—both with delegates &amp; otherwise. He should show them, &amp; run as an Independent.   \n",
       "3226          Happy #CincoDeMayo! The best taco bowls are made in Trump Tower Grill. I love Hispanics! https://t.co/ufoTeQd8yA https://t.co/k01Mc6CuDI   \n",
       "3227                                                                     I will be interviewed by @BretBaier @SpecialReport at 6pm ET tonight @FoxNews   \n",
       "3228             Many reports that I will be attending the Alvarez/Khan fight this weekend in Vegas. Totally untrue! Unfortunately I have other plans.   \n",
       "3229                                                                                     Join me in Charleston, WV - tomorrow! https://t.co/kv624y9UOm   \n",
       "3230                                                                                       I will be interviewed on @foxandfriends at 7:30 A.M. Enjoy!   \n",
       "3231                                                                         I will be interviewed on @TODAYshow and Good Morning America at 7:00 A.M.   \n",
       "3232                                                                                         I will be interviewed on @Morning_Joe at 6:15 A.M. Enjoy!   \n",
       "3233          I would rather run against Crooked Hillary Clinton than Bernie Sanders and that will happen because the books are cooked against Bernie!   \n",
       "3234            What a great evening we had. So interesting that Sanders beat Crooked Hillary. The dysfunctional system is totally rigged against him!   \n",
       "3235                                                                                                  .@oreillyfactor  Please correct, I WON Virginia!   \n",
       "3236       Thank you Indiana, we were just projected to be the winner. We have won in every category. You are very special people-I will never forget!   \n",
       "3237                                                                     Thank you Indiana! #Trump2016\\n#MakeAmericaGreatAgain https://t.co/G4JlShRA6I   \n",
       "3238  Lyin' Ted Cruz consistently said that he will, and must, win Indiana. If he doesn't he should drop out of the race-stop wasting time &amp; money   \n",
       "3239         Wow, Lyin' Ted Cruz really went wacko today. Made all sorts of crazy charges. Can't function under pressure - not very presidential. Sad!   \n",
       "3240                                                                        MAKE AMERICA GREAT AGAIN!\\n#INPrimary #VoteTrump \\nhttps://t.co/TI27thMZEI   \n",
       "3241                                                                    Polls close at 6pm! #INPrimary #Trump2016 #VoteTrump \\nhttps://t.co/DT9WkYAGEK   \n",
       "3242                                                                   Thank you America! #Trump2016 \\nhttps://t.co/tiExz8YhFT https://t.co/Hkt3YNccb0   \n",
       "\n",
       "              created_at               source     tweet_type  \n",
       "0    2017-06-04 11:43:30   Twitter for iPhone  Not a retweet  \n",
       "1    2017-06-04 11:31:00   Twitter for iPhone  Not a retweet  \n",
       "2    2017-06-04 11:19:47   Twitter for iPhone  Not a retweet  \n",
       "3    2017-06-03 23:24:45   Twitter for iPhone  Not a retweet  \n",
       "4    2017-06-03 23:17:13   Twitter for iPhone  Not a retweet  \n",
       "5    2017-06-03 23:01:54   Twitter for iPhone   Aide retweet  \n",
       "6    2017-06-03 19:35:33          Twitter Ads  Not a retweet  \n",
       "7    2017-06-02 18:30:41   Twitter for iPhone  Not a retweet  \n",
       "8    2017-06-02 10:40:22   Twitter for iPhone   Aide retweet  \n",
       "9    2017-06-02 10:35:32   Twitter for iPhone   Aide retweet  \n",
       "10   2017-06-02 10:34:42   Twitter for iPhone   Aide retweet  \n",
       "11   2017-06-02 10:33:37   Twitter for iPhone   Aide retweet  \n",
       "12   2017-06-02 10:32:39   Twitter for iPhone   Aide retweet  \n",
       "13   2017-06-02 10:32:10   Twitter for iPhone   Aide retweet  \n",
       "14   2017-06-02 10:31:03   Twitter for iPhone   Aide retweet  \n",
       "15   2017-06-02 10:08:24   Twitter for iPhone   Aide retweet  \n",
       "16   2017-06-02 01:00:35   Twitter for iPhone  Not a retweet  \n",
       "17   2017-06-01 22:50:29          Twitter Ads  Not a retweet  \n",
       "18   2017-06-01 19:03:10   Twitter for iPhone  Not a retweet  \n",
       "19   2017-06-01 11:05:21   Twitter for iPhone  Not a retweet  \n",
       "20   2017-06-01 01:05:17   Twitter for iPhone  Not a retweet  \n",
       "21   2017-06-01 00:40:01   Twitter for iPhone  Not a retweet  \n",
       "22   2017-05-31 21:52:54   Twitter for iPhone  Not a retweet  \n",
       "23   2017-05-31 20:04:45          Twitter Ads  Not a retweet  \n",
       "24   2017-05-31 13:08:41   Twitter for iPhone  Not a retweet  \n",
       "25   2017-05-31 13:05:14   Twitter for iPhone  Not a retweet  \n",
       "26   2017-05-31 11:14:48   Twitter for iPhone  Not a retweet  \n",
       "27   2017-05-31 10:45:27   Twitter for iPhone  Not a retweet  \n",
       "28   2017-05-31 10:37:42   Twitter for iPhone  Not a retweet  \n",
       "29   2017-05-31 10:09:22   Twitter for iPhone  Not a retweet  \n",
       "...                  ...                  ...            ...  \n",
       "3213 2016-05-06 18:25:27   Twitter for iPhone  Not a retweet  \n",
       "3214 2016-05-06 18:03:34   Twitter for iPhone  Not a retweet  \n",
       "3215 2016-05-06 16:08:23   Twitter Web Client  Not a retweet  \n",
       "3216 2016-05-06 12:38:38  Twitter for Android  Not a retweet  \n",
       "3217 2016-05-06 12:08:37  Twitter for Android  Not a retweet  \n",
       "3218 2016-05-06 11:50:19  Twitter for Android  Trump retweet  \n",
       "3219 2016-05-06 10:26:43  Twitter for Android  Not a retweet  \n",
       "3220 2016-05-06 10:19:08  Twitter for Android  Not a retweet  \n",
       "3221 2016-05-06 10:14:56  Twitter for Android  Not a retweet  \n",
       "3222 2016-05-06 03:19:09   Twitter for iPhone  Not a retweet  \n",
       "3223 2016-05-06 01:57:05   Twitter for iPhone  Not a retweet  \n",
       "3224 2016-05-05 23:28:31   Twitter for iPhone  Not a retweet  \n",
       "3225 2016-05-05 19:30:32   Twitter Web Client  Not a retweet  \n",
       "3226 2016-05-05 18:57:30   Twitter for iPhone  Not a retweet  \n",
       "3227 2016-05-05 18:37:47   Twitter Web Client  Not a retweet  \n",
       "3228 2016-05-05 14:29:40   Twitter Web Client  Not a retweet  \n",
       "3229 2016-05-04 16:31:05   Twitter for iPhone  Not a retweet  \n",
       "3230 2016-05-04 10:12:54  Twitter for Android  Not a retweet  \n",
       "3231 2016-05-04 10:09:36  Twitter for Android  Not a retweet  \n",
       "3232 2016-05-04 10:04:23  Twitter for Android  Not a retweet  \n",
       "3233 2016-05-04 09:44:28  Twitter for Android  Not a retweet  \n",
       "3234 2016-05-04 09:25:10  Twitter for Android  Not a retweet  \n",
       "3235 2016-05-04 04:00:46  Twitter for Android  Not a retweet  \n",
       "3236 2016-05-03 23:38:34  Twitter for Android  Not a retweet  \n",
       "3237 2016-05-03 23:14:30   Twitter for iPhone  Not a retweet  \n",
       "3238 2016-05-03 23:08:44  Twitter for Android  Not a retweet  \n",
       "3239 2016-05-03 23:02:55  Twitter for Android  Not a retweet  \n",
       "3240 2016-05-03 18:29:03   Twitter for iPhone  Not a retweet  \n",
       "3241 2016-05-03 16:50:10   Twitter for iPhone  Not a retweet  \n",
       "3242 2016-05-03 15:31:51   Twitter for iPhone  Not a retweet  \n",
       "\n",
       "[3243 rows x 4 columns]"
      ]
     },
     "execution_count": 28,
     "metadata": {},
     "output_type": "execute_result"
    }
   ],
   "source": [
    "trump_df"
   ]
  },
  {
   "cell_type": "code",
   "execution_count": 29,
   "metadata": {
    "collapsed": false
   },
   "outputs": [
    {
     "name": "stdout",
     "output_type": "stream",
     "text": [
      "~~~~~~~~~~~~~~~~~~~~~~~~~~~~~~~~~~~~~~~~~~~~~~~~~~~~~~~~~~~~~~~~~~~~~\n",
      "Running tests\n",
      "\n",
      "---------------------------------------------------------------------\n",
      "Test summary\n",
      "    Passed: 1\n",
      "    Failed: 0\n",
      "[ooooooooook] 100.0% passed\n",
      "\n"
     ]
    },
    {
     "data": {
      "application/javascript": [
       "IPython.notebook.save_checkpoint();"
      ],
      "text/plain": [
       "<IPython.core.display.Javascript object>"
      ]
     },
     "metadata": {},
     "output_type": "display_data"
    },
    {
     "data": {
      "application/javascript": [
       "IPython.notebook.save_notebook();"
      ],
      "text/plain": [
       "<IPython.core.display.Javascript object>"
      ]
     },
     "metadata": {},
     "output_type": "display_data"
    },
    {
     "name": "stdout",
     "output_type": "stream",
     "text": [
      "Saving notebook... Could not save your notebook. Make sure your notebook is saved before sending it to OK!\n",
      "Backup... 0.0% complete\r",
      "Backup... 100% complete\n",
      "Backup successful for user: doomsplayer@gmail.com\n",
      "\n"
     ]
    }
   ],
   "source": [
    "_ = ok.grade('q15')\n",
    "_ = ok.backup()"
   ]
  },
  {
   "cell_type": "markdown",
   "metadata": {},
   "source": [
    "#### Question 16\n",
    "Cross-classify @realDonaldTrump tweets by `source` and by `tweet_type` into a table called `trump_pivoted`.\n",
    "\n",
    "*Hint:* We did something very similar after question 7.  You don't need to write much new code for this."
   ]
  },
  {
   "cell_type": "code",
   "execution_count": 30,
   "metadata": {
    "collapsed": false
   },
   "outputs": [
    {
     "data": {
      "text/html": [
       "<div>\n",
       "<style>\n",
       "    .dataframe thead tr:only-child th {\n",
       "        text-align: right;\n",
       "    }\n",
       "\n",
       "    .dataframe thead th {\n",
       "        text-align: left;\n",
       "    }\n",
       "\n",
       "    .dataframe tbody tr th {\n",
       "        vertical-align: top;\n",
       "    }\n",
       "</style>\n",
       "<table border=\"1\" class=\"dataframe\">\n",
       "  <thead>\n",
       "    <tr style=\"text-align: right;\">\n",
       "      <th>tweet_type</th>\n",
       "      <th>Aide retweet</th>\n",
       "      <th>Not a retweet</th>\n",
       "      <th>Trump retweet</th>\n",
       "    </tr>\n",
       "    <tr>\n",
       "      <th>source</th>\n",
       "      <th></th>\n",
       "      <th></th>\n",
       "      <th></th>\n",
       "    </tr>\n",
       "  </thead>\n",
       "  <tbody>\n",
       "    <tr>\n",
       "      <th>Instagram</th>\n",
       "      <td>0</td>\n",
       "      <td>1</td>\n",
       "      <td>0</td>\n",
       "    </tr>\n",
       "    <tr>\n",
       "      <th>Media Studio</th>\n",
       "      <td>0</td>\n",
       "      <td>2</td>\n",
       "      <td>0</td>\n",
       "    </tr>\n",
       "    <tr>\n",
       "      <th>Periscope</th>\n",
       "      <td>0</td>\n",
       "      <td>1</td>\n",
       "      <td>0</td>\n",
       "    </tr>\n",
       "    <tr>\n",
       "      <th>Twitter Ads</th>\n",
       "      <td>0</td>\n",
       "      <td>27</td>\n",
       "      <td>0</td>\n",
       "    </tr>\n",
       "    <tr>\n",
       "      <th>Twitter Web Client</th>\n",
       "      <td>38</td>\n",
       "      <td>197</td>\n",
       "      <td>0</td>\n",
       "    </tr>\n",
       "    <tr>\n",
       "      <th>Twitter for Android</th>\n",
       "      <td>0</td>\n",
       "      <td>1043</td>\n",
       "      <td>222</td>\n",
       "    </tr>\n",
       "    <tr>\n",
       "      <th>Twitter for iPad</th>\n",
       "      <td>2</td>\n",
       "      <td>20</td>\n",
       "      <td>0</td>\n",
       "    </tr>\n",
       "    <tr>\n",
       "      <th>Twitter for iPhone</th>\n",
       "      <td>155</td>\n",
       "      <td>1531</td>\n",
       "      <td>4</td>\n",
       "    </tr>\n",
       "  </tbody>\n",
       "</table>\n",
       "</div>"
      ],
      "text/plain": [
       "tweet_type           Aide retweet  Not a retweet  Trump retweet\n",
       "source                                                         \n",
       "Instagram                       0              1              0\n",
       "Media Studio                    0              2              0\n",
       "Periscope                       0              1              0\n",
       "Twitter Ads                     0             27              0\n",
       "Twitter Web Client             38            197              0\n",
       "Twitter for Android             0           1043            222\n",
       "Twitter for iPad                2             20              0\n",
       "Twitter for iPhone            155           1531              4"
      ]
     },
     "execution_count": 30,
     "metadata": {},
     "output_type": "execute_result"
    }
   ],
   "source": [
    "trump_pivoted = pivot_count(trump_df, 'source', 'tweet_type') #SOLUTION\n",
    "trump_pivoted"
   ]
  },
  {
   "cell_type": "code",
   "execution_count": 31,
   "metadata": {
    "collapsed": false
   },
   "outputs": [
    {
     "name": "stdout",
     "output_type": "stream",
     "text": [
      "~~~~~~~~~~~~~~~~~~~~~~~~~~~~~~~~~~~~~~~~~~~~~~~~~~~~~~~~~~~~~~~~~~~~~\n",
      "Running tests\n",
      "\n",
      "---------------------------------------------------------------------\n",
      "Test summary\n",
      "    Passed: 1\n",
      "    Failed: 0\n",
      "[ooooooooook] 100.0% passed\n",
      "\n"
     ]
    },
    {
     "data": {
      "application/javascript": [
       "IPython.notebook.save_checkpoint();"
      ],
      "text/plain": [
       "<IPython.core.display.Javascript object>"
      ]
     },
     "metadata": {},
     "output_type": "display_data"
    },
    {
     "data": {
      "application/javascript": [
       "IPython.notebook.save_notebook();"
      ],
      "text/plain": [
       "<IPython.core.display.Javascript object>"
      ]
     },
     "metadata": {},
     "output_type": "display_data"
    },
    {
     "name": "stdout",
     "output_type": "stream",
     "text": [
      "Saving notebook... Could not save your notebook. Make sure your notebook is saved before sending it to OK!\n",
      "Backup... 0.0% complete\r",
      "Backup... 100% complete\n",
      "Backup successful for user: doomsplayer@gmail.com\n",
      "\n"
     ]
    }
   ],
   "source": [
    "_ = ok.grade('q16')\n",
    "_ = ok.backup()"
   ]
  },
  {
   "cell_type": "markdown",
   "metadata": {},
   "source": [
    "#### Question 17\n",
    "Does the cross-classified table show evidence against the hypothesis that Trump and his advisors tweet from roughly the same sources?  Again assuming you agree with Statistician Belinda, run an hypothesis test in the next cell to verify that there is a difference in the relevant distributions.  Then use the subsequent cell to describe your methodology and results.  Are there any important caveats?"
   ]
  },
  {
   "cell_type": "code",
   "execution_count": 32,
   "metadata": {
    "collapsed": false
   },
   "outputs": [
    {
     "data": {
      "text/plain": [
       "0.0"
      ]
     },
     "execution_count": 32,
     "metadata": {},
     "output_type": "execute_result"
    }
   ],
   "source": [
    "test_difference_in_distributions(trump_pivoted['Aide retweet'], trump_pivoted['Trump retweet'], 100000) #SOLUTION"
   ]
  },
  {
   "cell_type": "markdown",
   "metadata": {},
   "source": [
    "**SOLUTION:** We eliminated the non-retweets and performed a test for a difference in categorical distributions as we did for Clinton.  As should obvious from the table, there is a difference!  (We find a P-value of 0, though this is approximate, and the true P-value is merely extremely close to 0.)  One small caveat is that we are looking only at retweets.  It's plausible that people behave differently when retweeting - maybe they find one device or app more convenient for retweets.  A bigger caveat is that we don't just care about there being *any* difference, but that the difference is *large*.  This is obvious from looking at the table - Trump almost never retweets from an iPhone and his aides never retweet from an Android phone.  (Since we care about magnitudes, it would be useful to create confidence intervals for the chances of Trump and his aides tweeting from various devices.  With a dataset this large, they would be narrow.)"
   ]
  },
  {
   "cell_type": "markdown",
   "metadata": {},
   "source": [
    "We are really interested in knowing whether we can classify @realDonaldTrump tweets on the basis of the source.  Just knowing that there is a difference in source distributions isn't nearly enough.  Instead, we would like to claim something like this: \"@realDonaldTrump tweets from Twitter for Android are generally authored by Trump himself.  Other tweets are generally authored by his aides.\"\n",
    "\n",
    "#### Question 18\n",
    "If you use bootstrap methods to compute a confidence interval for the proportion of Trump aide retweets from Android phones in \"the population of all @realDonaldTrump retweets,\" you will find that the interval is [0, 0].  That's because there are no retweets from Android phones by Trump aides in our dataset.  Is it reasonable to conclude from this that Trump aides definitely never tweet from Android phones?"
   ]
  },
  {
   "cell_type": "markdown",
   "metadata": {},
   "source": [
    "**SOLUTION:** No, the bootstrap is misleading in this case.  If we'd seen 1 million retweets by Trump aides, it might be okay to make this conclusion.  But we have seen only 177, so the conclusion seems a bit premature."
   ]
  },
  {
   "cell_type": "markdown",
   "metadata": {},
   "source": [
    "# Submitting your assignment\n",
    "First, run the next cell to run all the tests at once."
   ]
  },
  {
   "cell_type": "code",
   "execution_count": null,
   "metadata": {
    "collapsed": false
   },
   "outputs": [
    {
     "name": "stdout",
     "output_type": "stream",
     "text": [
      "~~~~~~~~~~~~~~~~~~~~~~~~~~~~~~~~~~~~~~~~~~~~~~~~~~~~~~~~~~~~~~~~~~~~~\n",
      "Running tests\n",
      "\n",
      "---------------------------------------------------------------------\n",
      "Test summary\n",
      "    Passed: 2\n",
      "    Failed: 0\n",
      "[ooooooooook] 100.0% passed\n",
      "\n",
      "~~~~~~~~~~~~~~~~~~~~~~~~~~~~~~~~~~~~~~~~~~~~~~~~~~~~~~~~~~~~~~~~~~~~~\n",
      "Running tests\n",
      "\n",
      "---------------------------------------------------------------------\n",
      "Test summary\n",
      "    Passed: 1\n",
      "    Failed: 0\n",
      "[ooooooooook] 100.0% passed\n",
      "\n",
      "~~~~~~~~~~~~~~~~~~~~~~~~~~~~~~~~~~~~~~~~~~~~~~~~~~~~~~~~~~~~~~~~~~~~~\n",
      "Running tests\n",
      "\n",
      "---------------------------------------------------------------------\n",
      "Test summary\n",
      "    Passed: 1\n",
      "    Failed: 0\n",
      "[ooooooooook] 100.0% passed\n",
      "\n",
      "~~~~~~~~~~~~~~~~~~~~~~~~~~~~~~~~~~~~~~~~~~~~~~~~~~~~~~~~~~~~~~~~~~~~~\n",
      "Running tests\n",
      "\n",
      "---------------------------------------------------------------------\n",
      "Test summary\n",
      "    Passed: 1\n",
      "    Failed: 0\n",
      "[ooooooooook] 100.0% passed\n",
      "\n",
      "~~~~~~~~~~~~~~~~~~~~~~~~~~~~~~~~~~~~~~~~~~~~~~~~~~~~~~~~~~~~~~~~~~~~~\n",
      "Running tests\n",
      "\n",
      "---------------------------------------------------------------------\n",
      "Test summary\n",
      "    Passed: 1\n",
      "    Failed: 0\n",
      "[ooooooooook] 100.0% passed\n",
      "\n",
      "~~~~~~~~~~~~~~~~~~~~~~~~~~~~~~~~~~~~~~~~~~~~~~~~~~~~~~~~~~~~~~~~~~~~~\n",
      "Running tests\n",
      "\n",
      "---------------------------------------------------------------------\n",
      "Test summary\n",
      "    Passed: 1\n",
      "    Failed: 0\n",
      "[ooooooooook] 100.0% passed\n",
      "\n"
     ]
    }
   ],
   "source": [
    "_ = ok.grade_all()"
   ]
  },
  {
   "cell_type": "markdown",
   "metadata": {},
   "source": [
    "Now, run this code in your terminal to make a\n",
    "[git commit](https://www.atlassian.com/git/tutorials/saving-changes/git-commit)\n",
    "that saves a snapshot of your changes in `git`. The last line of the cell\n",
    "runs [git push](http://stackoverflow.com/questions/2745076/what-are-the-differences-between-git-commit-and-git-push), which will send your work to your personal Github repo.\n",
    "\n",
    "**Note:** Don't add and commit your `keys.json` file!  `git add -A` will do that, but the code we've written below won't.\n",
    "\n",
    "    # Tell git to commit your changes to this notebook\n",
    "    git add sp17/hw/hw2/hw2.ipynb\n",
    "    \n",
    "    # Tell git to make the commit\n",
    "    git commit -m \"hw2 finished\"\n",
    "    \n",
    "    # Send your updates to your personal private repo\n",
    "    git push origin master\n",
    "\n",
    "Finally, we'll submit the assignment to OkPy so that the staff will know to grade it. You can submit as many times as you want, and you can choose which submission you want us to grade by going to https://okpy.org/cal/data100/sp17/."
   ]
  },
  {
   "cell_type": "code",
   "execution_count": null,
   "metadata": {
    "collapsed": false
   },
   "outputs": [
    {
     "data": {
      "application/javascript": [
       "IPython.notebook.save_checkpoint();"
      ],
      "text/plain": [
       "<IPython.core.display.Javascript object>"
      ]
     },
     "metadata": {},
     "output_type": "display_data"
    },
    {
     "data": {
      "application/javascript": [
       "IPython.notebook.save_notebook();"
      ],
      "text/plain": [
       "<IPython.core.display.Javascript object>"
      ]
     },
     "metadata": {},
     "output_type": "display_data"
    },
    {
     "name": "stdout",
     "output_type": "stream",
     "text": [
      "Saving notebook... "
     ]
    }
   ],
   "source": [
    "# Now, we'll submit to okpy\n",
    "_ = ok.submit()"
   ]
  },
  {
   "cell_type": "markdown",
   "metadata": {},
   "source": [
    "Congratulations, you're done!\n",
    "\n",
    "We've only scratched the surface of this dataset.  Twitter is a rich source of data about language and social interaction, and not only for political figures.  Now you know how to access it!"
   ]
  },
  {
   "cell_type": "code",
   "execution_count": null,
   "metadata": {},
   "outputs": [],
   "source": []
  }
 ],
 "metadata": {
  "anaconda-cloud": {},
  "kernelspec": {
   "display_name": "Python 3",
   "language": "python",
   "name": "python3"
  },
  "language_info": {
   "codemirror_mode": {
    "name": "ipython",
    "version": 3
   },
   "file_extension": ".py",
   "mimetype": "text/x-python",
   "name": "python",
   "nbconvert_exporter": "python",
   "pygments_lexer": "ipython3",
   "version": "3.6.1"
  }
 },
 "nbformat": 4,
 "nbformat_minor": 2
}
